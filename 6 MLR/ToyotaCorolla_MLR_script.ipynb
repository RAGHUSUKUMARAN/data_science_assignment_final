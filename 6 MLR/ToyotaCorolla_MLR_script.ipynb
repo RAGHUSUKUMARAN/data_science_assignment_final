{
 "cells": [
  {
   "cell_type": "code",
   "execution_count": null,
   "id": "44834549",
   "metadata": {},
   "outputs": [],
   "source": [
    "# Toyota Corolla MLR script\n",
    "import warnings\n",
    "warnings.filterwarnings(\"ignore\")"
   ]
  },
  {
   "cell_type": "code",
   "execution_count": null,
   "id": "169dabf7",
   "metadata": {},
   "outputs": [],
   "source": [
    "import numpy as np, pandas as pd\n",
    "from sklearn.model_selection import train_test_split\n",
    "from sklearn.preprocessing import StandardScaler\n",
    "from sklearn.linear_model import RidgeCV, LassoCV\n",
    "from sklearn.metrics import mean_absolute_error, mean_squared_error, r2_score\n",
    "import statsmodels.api as sm"
   ]
  },
  {
   "cell_type": "code",
   "execution_count": null,
   "id": "22877278",
   "metadata": {},
   "outputs": [],
   "source": [
    "DATA_PATH = r\"/mnt/data/ToyotaCorolla - MLR.csv\"  # update to your local path if needed\n",
    "df = pd.read_csv(DATA_PATH)"
   ]
  },
  {
   "cell_type": "code",
   "execution_count": null,
   "id": "8d931f82",
   "metadata": {},
   "outputs": [],
   "source": [
    "# Preprocess\n",
    "df['Doors'] = pd.to_numeric(df.get('Doors', pd.Series()), errors='coerce')\n",
    "df['Automatic'] = df.get('Automatic').replace({'Yes':1,'No':0}).fillna(df.get('Automatic'))\n",
    "df = df.dropna(subset=['Price'])\n",
    "df['Automatic'] = pd.to_numeric(df['Automatic'], errors='coerce').fillna(0).astype(int)"
   ]
  },
  {
   "cell_type": "code",
   "execution_count": null,
   "id": "6f571868",
   "metadata": {},
   "outputs": [],
   "source": [
    "X = df[['Age','KM','HP','Automatic','CC','Doors','Weight','Quarterly_Tax']].copy()\n",
    "if 'FuelType' in df.columns:\n",
    "    X = pd.get_dummies(pd.concat([X, df[['FuelType']]], axis=1), columns=['FuelType'], drop_first=True)\n",
    "y = df['Price']"
   ]
  },
  {
   "cell_type": "code",
   "execution_count": null,
   "id": "dc590760",
   "metadata": {},
   "outputs": [],
   "source": [
    "X_train, X_test, y_train, y_test = train_test_split(X, y, test_size=0.2, random_state=42)"
   ]
  },
  {
   "cell_type": "code",
   "execution_count": null,
   "id": "58a9ab96",
   "metadata": {},
   "outputs": [],
   "source": [
    "# OLS\n",
    "X_train_sm = sm.add_constant(X_train)\n",
    "model_ols = sm.OLS(y_train, X_train_sm).fit()\n",
    "print(model_ols.summary())"
   ]
  },
  {
   "cell_type": "code",
   "execution_count": null,
   "id": "1101c492",
   "metadata": {},
   "outputs": [],
   "source": [
    "X_test_sm = sm.add_constant(X_test)\n",
    "y_pred = model_ols.predict(X_test_sm)\n",
    "print(\"MAE:\", mean_absolute_error(y_test, y_pred))\n",
    "print(\"RMSE:\", mean_squared_error(y_test, y_pred, squared=False))\n",
    "print(\"R2:\", r2_score(y_test, y_pred))"
   ]
  },
  {
   "cell_type": "code",
   "execution_count": null,
   "id": "038f5620",
   "metadata": {},
   "outputs": [],
   "source": [
    "# Ridge & Lasso\n",
    "scaler = StandardScaler()\n",
    "X_train_s = scaler.fit_transform(X_train)\n",
    "X_test_s = scaler.transform(X_test)"
   ]
  },
  {
   "cell_type": "code",
   "execution_count": null,
   "id": "0c98e3f9",
   "metadata": {},
   "outputs": [],
   "source": [
    "ridge = RidgeCV(alphas=np.logspace(-3,3,50), cv=5).fit(X_train_s, y_train)\n",
    "print(\"Ridge alpha:\", ridge.alpha_)\n",
    "y_ridge = ridge.predict(X_test_s)\n",
    "print(\"Ridge RMSE:\", mean_squared_error(y_test, y_ridge, squared=False))"
   ]
  },
  {
   "cell_type": "code",
   "execution_count": null,
   "id": "52c38f2c",
   "metadata": {},
   "outputs": [],
   "source": [
    "lasso = LassoCV(cv=5, random_state=42, max_iter=5000).fit(X_train_s, y_train)\n",
    "print(\"Lasso alpha:\", lasso.alpha_)\n",
    "y_lasso = lasso.predict(X_test_s)\n",
    "print(\"Lasso RMSE:\", mean_squared_error(y_test, y_lasso, squared=False))"
   ]
  }
 ],
 "metadata": {
  "jupytext": {
   "cell_metadata_filter": "-all",
   "main_language": "python",
   "notebook_metadata_filter": "-all"
  }
 },
 "nbformat": 4,
 "nbformat_minor": 5
}
