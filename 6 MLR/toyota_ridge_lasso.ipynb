{
 "cells": [
  {
   "cell_type": "markdown",
   "id": "cd76ce3f",
   "metadata": {},
   "source": [
    "toyota_ridge_lasso.py\n",
    "Apply RidgeCV and LassoCV to ToyotaCorolla dataset, evaluate and save coefficients/results.\n",
    "Save at: D:\\DATA SCIENCE\\ASSIGNMENTS\\6 MLR\\MLR\\toyota_ridge_lasso.py\n",
    "Requires: pandas, numpy, scikit-learn, statsmodels"
   ]
  },
  {
   "cell_type": "code",
   "execution_count": null,
   "id": "cd8d3bca",
   "metadata": {},
   "outputs": [],
   "source": [
    "import os\n",
    "from pathlib import Path\n",
    "import numpy as np\n",
    "import pandas as pd\n",
    "from sklearn.model_selection import train_test_split\n",
    "from sklearn.preprocessing import StandardScaler\n",
    "from sklearn.linear_model import RidgeCV, LassoCV\n",
    "from sklearn.metrics import mean_absolute_error, mean_squared_error, r2_score"
   ]
  },
  {
   "cell_type": "code",
   "execution_count": null,
   "id": "93e1e069",
   "metadata": {},
   "outputs": [],
   "source": [
    "DATA_PATH = r\"D:\\DATA SCIENCE\\ASSIGNMENTS\\6 MLR\\MLR\\ToyotaCorolla_MLR_cleaned.csv\"\n",
    "if not Path(DATA_PATH).exists():\n",
    "    DATA_PATH = r\"D:\\DATA SCIENCE\\ASSIGNMENTS\\6 MLR\\MLR\\ToyotaCorolla - MLR.csv\""
   ]
  },
  {
   "cell_type": "code",
   "execution_count": null,
   "id": "c5727e91",
   "metadata": {},
   "outputs": [],
   "source": [
    "df = pd.read_csv(DATA_PATH)\n",
    "if 'Price' not in df.columns:\n",
    "    raise SystemExit(\"Target column 'Price' not found in CSV.\")"
   ]
  },
  {
   "cell_type": "code",
   "execution_count": null,
   "id": "a8d84138",
   "metadata": {},
   "outputs": [],
   "source": [
    "# prepare X, y (drop helper columns if present)\n",
    "drop_cols = ['Price_pos', 'log_Price', 'KM_pos']\n",
    "X = df.drop(columns=[c for c in drop_cols if c in df.columns] + ['Price'], errors='ignore')\n",
    "y = pd.to_numeric(df['Price'], errors='coerce')\n",
    "X = X.apply(pd.to_numeric, errors='coerce')"
   ]
  },
  {
   "cell_type": "code",
   "execution_count": null,
   "id": "d065254e",
   "metadata": {},
   "outputs": [],
   "source": [
    "# align and drop NA rows\n",
    "mask = X.dropna().index.intersection(y.dropna().index)\n",
    "X = X.loc[mask].copy()\n",
    "y = y.loc[mask].copy()"
   ]
  },
  {
   "cell_type": "code",
   "execution_count": null,
   "id": "32009d61",
   "metadata": {},
   "outputs": [],
   "source": [
    "# train-test split\n",
    "X_train, X_test, y_train, y_test = train_test_split(X, y, test_size=0.20, random_state=42)"
   ]
  },
  {
   "cell_type": "code",
   "execution_count": null,
   "id": "72016c1e",
   "metadata": {},
   "outputs": [],
   "source": [
    "# scale numeric features\n",
    "scaler = StandardScaler()\n",
    "X_train_s = scaler.fit_transform(X_train)\n",
    "X_test_s = scaler.transform(X_test)"
   ]
  },
  {
   "cell_type": "code",
   "execution_count": null,
   "id": "359a06c0",
   "metadata": {},
   "outputs": [],
   "source": [
    "# common alpha grid\n",
    "alphas = np.logspace(-4, 4, 100)"
   ]
  },
  {
   "cell_type": "code",
   "execution_count": null,
   "id": "a5d3f60c",
   "metadata": {},
   "outputs": [],
   "source": [
    "# RidgeCV (with built-in CV)\n",
    "ridge_cv = RidgeCV(alphas=alphas, cv=5).fit(X_train_s, y_train)\n",
    "ridge_alpha = ridge_cv.alpha_\n",
    "ridge_coef = ridge_cv.coef_\n",
    "ridge_intercept = ridge_cv.intercept_\n",
    "y_pred_ridge = ridge_cv.predict(X_test_s)\n",
    "ridge_mae = mean_absolute_error(y_test, y_pred_ridge)\n",
    "ridge_rmse = np.sqrt(mean_squared_error(y_test, y_pred_ridge))\n",
    "ridge_r2 = r2_score(y_test, y_pred_ridge)"
   ]
  },
  {
   "cell_type": "code",
   "execution_count": null,
   "id": "60548afd",
   "metadata": {},
   "outputs": [],
   "source": [
    "# LassoCV (with built-in CV)\n",
    "lasso_cv = LassoCV(alphas=None, cv=5, max_iter=10000, random_state=42).fit(X_train_s, y_train)\n",
    "lasso_alpha = lasso_cv.alpha_\n",
    "lasso_coef = lasso_cv.coef_\n",
    "lasso_intercept = lasso_cv.intercept_\n",
    "y_pred_lasso = lasso_cv.predict(X_test_s)\n",
    "lasso_mae = mean_absolute_error(y_test, y_pred_lasso)\n",
    "lasso_rmse = np.sqrt(mean_squared_error(y_test, y_pred_lasso))\n",
    "lasso_r2 = r2_score(y_test, y_pred_lasso)"
   ]
  },
  {
   "cell_type": "code",
   "execution_count": null,
   "id": "13207d89",
   "metadata": {},
   "outputs": [],
   "source": [
    "# results DataFrame\n",
    "results = pd.DataFrame({\n",
    "    'model': ['RidgeCV', 'LassoCV'],\n",
    "    'alpha': [ridge_alpha, lasso_alpha],\n",
    "    'MAE': [round(ridge_mae,3), round(lasso_mae,3)],\n",
    "    'RMSE': [round(ridge_rmse,3), round(lasso_rmse,3)],\n",
    "    'R2': [round(ridge_r2,4), round(lasso_r2,4)]\n",
    "})"
   ]
  },
  {
   "cell_type": "code",
   "execution_count": null,
   "id": "51ba4457",
   "metadata": {},
   "outputs": [],
   "source": [
    "# coefficients table\n",
    "coef_df = pd.DataFrame({\n",
    "    'feature': X_train.columns,\n",
    "    'ridge_coef': np.round(ridge_coef, 6),\n",
    "    'lasso_coef': np.round(lasso_coef, 6)\n",
    "})"
   ]
  },
  {
   "cell_type": "code",
   "execution_count": null,
   "id": "9e104df1",
   "metadata": {},
   "outputs": [],
   "source": [
    "# save outputs\n",
    "out_dir = Path(r\"D:\\DATA SCIENCE\\ASSIGNMENTS\\6 MLR\\MLR\\ridge_lasso_results\")\n",
    "out_dir.mkdir(parents=True, exist_ok=True)\n",
    "results.to_csv(out_dir / \"ridge_lasso_metrics.csv\", index=False)\n",
    "coef_df.to_csv(out_dir / \"ridge_lasso_coefficients.csv\", index=False)"
   ]
  },
  {
   "cell_type": "code",
   "execution_count": null,
   "id": "5c69a207",
   "metadata": {},
   "outputs": [],
   "source": [
    "# print summary\n",
    "print(\"Ridge alpha:\", ridge_alpha)\n",
    "print(\"Lasso alpha:\", lasso_alpha)\n",
    "print(\"\\nEvaluation metrics:\")\n",
    "print(results.to_string(index=False))\n",
    "print(\"\\nTop coefficients (sorted by absolute Ridge coef):\")\n",
    "print(coef_df.assign(abs_ridge=lambda df: df.ridge_coef.abs()).sort_values('abs_ridge', ascending=False).head(20).to_string(index=False))"
   ]
  },
  {
   "cell_type": "code",
   "execution_count": null,
   "id": "9587566f",
   "metadata": {},
   "outputs": [],
   "source": [
    "# Save trained models (optional - requires joblib)\n",
    "try:\n",
    "    import joblib\n",
    "    joblib.dump(ridge_cv, out_dir / \"ridge_cv_model.joblib\")\n",
    "    joblib.dump(lasso_cv, out_dir / \"lasso_cv_model.joblib\")\n",
    "    print(\"\\nSaved models to:\", out_dir)\n",
    "except Exception:\n",
    "    print(\"\\njoblib not available — models not saved. Install joblib to save models.\")"
   ]
  },
  {
   "cell_type": "code",
   "execution_count": null,
   "id": "a461230a",
   "metadata": {},
   "outputs": [],
   "source": [
    "# Quick note: to inspect non-zero lasso features\n",
    "nonzero_lasso = coef_df[coef_df['lasso_coef'] != 0].sort_values('lasso_coef', key=lambda s: s.abs(), ascending=False)\n",
    "print(f\"\\nLasso selected {len(nonzero_lasso)} non-zero features. Top ones:\")\n",
    "print(nonzero_lasso.head(10).to_string(index=False))"
   ]
  }
 ],
 "metadata": {
  "jupytext": {
   "cell_metadata_filter": "-all",
   "main_language": "python",
   "notebook_metadata_filter": "-all"
  }
 },
 "nbformat": 4,
 "nbformat_minor": 5
}
