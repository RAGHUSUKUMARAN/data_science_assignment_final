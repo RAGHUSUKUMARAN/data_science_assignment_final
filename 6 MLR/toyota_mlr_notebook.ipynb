{
 "cells": [
  {
   "cell_type": "code",
   "execution_count": null,
   "id": "90aeb131",
   "metadata": {
    "lines_to_next_cell": 0
   },
   "outputs": [],
   "source": []
  },
  {
   "cell_type": "markdown",
   "id": "d547e51d",
   "metadata": {},
   "source": [
    "toyota_mlr_final_corrected.py\n",
    "Corrected Multiple Linear Regression script for Toyota Corolla dataset\n",
    "CSV expected at: D:\\DATA SCIENCE\\ASSIGNMENTS\\6 MLR\\MLR\\ToyotaCorolla - MLR.csv\n",
    "Requires: pandas, numpy, matplotlib, seaborn, scikit-learn, statsmodels"
   ]
  },
  {
   "cell_type": "code",
   "execution_count": 1,
   "id": "c1151ec3",
   "metadata": {},
   "outputs": [],
   "source": [
    "import warnings\n",
    "warnings.filterwarnings(\"ignore\")"
   ]
  },
  {
   "cell_type": "code",
   "execution_count": 2,
   "id": "f0105470",
   "metadata": {},
   "outputs": [],
   "source": [
    "import os\n",
    "import numpy as np\n",
    "import pandas as pd"
   ]
  },
  {
   "cell_type": "code",
   "execution_count": 3,
   "id": "b008ea9b",
   "metadata": {},
   "outputs": [],
   "source": [
    "from sklearn.model_selection import train_test_split\n",
    "from sklearn.preprocessing import StandardScaler\n",
    "from sklearn.linear_model import RidgeCV, LassoCV\n",
    "from sklearn.metrics import mean_absolute_error, mean_squared_error, r2_score\n",
    "import statsmodels.api as sm\n",
    "from statsmodels.stats.outliers_influence import variance_inflation_factor"
   ]
  },
  {
   "cell_type": "code",
   "execution_count": 1,
   "id": "1c3b64d8",
   "metadata": {},
   "outputs": [],
   "source": [
    "DATA_PATH = r\"D:\\DATA SCIENCE\\ASSIGNMENTS\\6 MLR\\MLR\\ToyotaCorolla - MLR.csv\""
   ]
  },
  {
   "cell_type": "code",
   "execution_count": 28,
   "id": "fcefc1e7",
   "metadata": {},
   "outputs": [
    {
     "ename": "FileNotFoundError",
     "evalue": "[Errno 2] No such file or directory: 'D:\\\\DATA SCIENCE\\\\ASSIGNMENTS\\\\6 MLR\\\\MLR\\\\toyota_mlr_models.csv'",
     "output_type": "error",
     "traceback": [
      "\u001b[31m---------------------------------------------------------------------------\u001b[39m",
      "\u001b[31mFileNotFoundError\u001b[39m                         Traceback (most recent call last)",
      "\u001b[36mCell\u001b[39m\u001b[36m \u001b[39m\u001b[32mIn[28]\u001b[39m\u001b[32m, line 1\u001b[39m\n\u001b[32m----> \u001b[39m\u001b[32m1\u001b[39m df = \u001b[43mpd\u001b[49m\u001b[43m.\u001b[49m\u001b[43mread_csv\u001b[49m\u001b[43m(\u001b[49m\u001b[43mDATA_PATH\u001b[49m\u001b[43m)\u001b[49m\n",
      "\u001b[36mFile \u001b[39m\u001b[32mD:\\DATA SCIENCE\\FINAL DATA SCIENCE ASSIGNMENTS\\.venv\\Lib\\site-packages\\pandas\\io\\parsers\\readers.py:1026\u001b[39m, in \u001b[36mread_csv\u001b[39m\u001b[34m(filepath_or_buffer, sep, delimiter, header, names, index_col, usecols, dtype, engine, converters, true_values, false_values, skipinitialspace, skiprows, skipfooter, nrows, na_values, keep_default_na, na_filter, verbose, skip_blank_lines, parse_dates, infer_datetime_format, keep_date_col, date_parser, date_format, dayfirst, cache_dates, iterator, chunksize, compression, thousands, decimal, lineterminator, quotechar, quoting, doublequote, escapechar, comment, encoding, encoding_errors, dialect, on_bad_lines, delim_whitespace, low_memory, memory_map, float_precision, storage_options, dtype_backend)\u001b[39m\n\u001b[32m   1013\u001b[39m kwds_defaults = _refine_defaults_read(\n\u001b[32m   1014\u001b[39m     dialect,\n\u001b[32m   1015\u001b[39m     delimiter,\n\u001b[32m   (...)\u001b[39m\u001b[32m   1022\u001b[39m     dtype_backend=dtype_backend,\n\u001b[32m   1023\u001b[39m )\n\u001b[32m   1024\u001b[39m kwds.update(kwds_defaults)\n\u001b[32m-> \u001b[39m\u001b[32m1026\u001b[39m \u001b[38;5;28;01mreturn\u001b[39;00m \u001b[43m_read\u001b[49m\u001b[43m(\u001b[49m\u001b[43mfilepath_or_buffer\u001b[49m\u001b[43m,\u001b[49m\u001b[43m \u001b[49m\u001b[43mkwds\u001b[49m\u001b[43m)\u001b[49m\n",
      "\u001b[36mFile \u001b[39m\u001b[32mD:\\DATA SCIENCE\\FINAL DATA SCIENCE ASSIGNMENTS\\.venv\\Lib\\site-packages\\pandas\\io\\parsers\\readers.py:620\u001b[39m, in \u001b[36m_read\u001b[39m\u001b[34m(filepath_or_buffer, kwds)\u001b[39m\n\u001b[32m    617\u001b[39m _validate_names(kwds.get(\u001b[33m\"\u001b[39m\u001b[33mnames\u001b[39m\u001b[33m\"\u001b[39m, \u001b[38;5;28;01mNone\u001b[39;00m))\n\u001b[32m    619\u001b[39m \u001b[38;5;66;03m# Create the parser.\u001b[39;00m\n\u001b[32m--> \u001b[39m\u001b[32m620\u001b[39m parser = \u001b[43mTextFileReader\u001b[49m\u001b[43m(\u001b[49m\u001b[43mfilepath_or_buffer\u001b[49m\u001b[43m,\u001b[49m\u001b[43m \u001b[49m\u001b[43m*\u001b[49m\u001b[43m*\u001b[49m\u001b[43mkwds\u001b[49m\u001b[43m)\u001b[49m\n\u001b[32m    622\u001b[39m \u001b[38;5;28;01mif\u001b[39;00m chunksize \u001b[38;5;129;01mor\u001b[39;00m iterator:\n\u001b[32m    623\u001b[39m     \u001b[38;5;28;01mreturn\u001b[39;00m parser\n",
      "\u001b[36mFile \u001b[39m\u001b[32mD:\\DATA SCIENCE\\FINAL DATA SCIENCE ASSIGNMENTS\\.venv\\Lib\\site-packages\\pandas\\io\\parsers\\readers.py:1620\u001b[39m, in \u001b[36mTextFileReader.__init__\u001b[39m\u001b[34m(self, f, engine, **kwds)\u001b[39m\n\u001b[32m   1617\u001b[39m     \u001b[38;5;28mself\u001b[39m.options[\u001b[33m\"\u001b[39m\u001b[33mhas_index_names\u001b[39m\u001b[33m\"\u001b[39m] = kwds[\u001b[33m\"\u001b[39m\u001b[33mhas_index_names\u001b[39m\u001b[33m\"\u001b[39m]\n\u001b[32m   1619\u001b[39m \u001b[38;5;28mself\u001b[39m.handles: IOHandles | \u001b[38;5;28;01mNone\u001b[39;00m = \u001b[38;5;28;01mNone\u001b[39;00m\n\u001b[32m-> \u001b[39m\u001b[32m1620\u001b[39m \u001b[38;5;28mself\u001b[39m._engine = \u001b[38;5;28;43mself\u001b[39;49m\u001b[43m.\u001b[49m\u001b[43m_make_engine\u001b[49m\u001b[43m(\u001b[49m\u001b[43mf\u001b[49m\u001b[43m,\u001b[49m\u001b[43m \u001b[49m\u001b[38;5;28;43mself\u001b[39;49m\u001b[43m.\u001b[49m\u001b[43mengine\u001b[49m\u001b[43m)\u001b[49m\n",
      "\u001b[36mFile \u001b[39m\u001b[32mD:\\DATA SCIENCE\\FINAL DATA SCIENCE ASSIGNMENTS\\.venv\\Lib\\site-packages\\pandas\\io\\parsers\\readers.py:1880\u001b[39m, in \u001b[36mTextFileReader._make_engine\u001b[39m\u001b[34m(self, f, engine)\u001b[39m\n\u001b[32m   1878\u001b[39m     \u001b[38;5;28;01mif\u001b[39;00m \u001b[33m\"\u001b[39m\u001b[33mb\u001b[39m\u001b[33m\"\u001b[39m \u001b[38;5;129;01mnot\u001b[39;00m \u001b[38;5;129;01min\u001b[39;00m mode:\n\u001b[32m   1879\u001b[39m         mode += \u001b[33m\"\u001b[39m\u001b[33mb\u001b[39m\u001b[33m\"\u001b[39m\n\u001b[32m-> \u001b[39m\u001b[32m1880\u001b[39m \u001b[38;5;28mself\u001b[39m.handles = \u001b[43mget_handle\u001b[49m\u001b[43m(\u001b[49m\n\u001b[32m   1881\u001b[39m \u001b[43m    \u001b[49m\u001b[43mf\u001b[49m\u001b[43m,\u001b[49m\n\u001b[32m   1882\u001b[39m \u001b[43m    \u001b[49m\u001b[43mmode\u001b[49m\u001b[43m,\u001b[49m\n\u001b[32m   1883\u001b[39m \u001b[43m    \u001b[49m\u001b[43mencoding\u001b[49m\u001b[43m=\u001b[49m\u001b[38;5;28;43mself\u001b[39;49m\u001b[43m.\u001b[49m\u001b[43moptions\u001b[49m\u001b[43m.\u001b[49m\u001b[43mget\u001b[49m\u001b[43m(\u001b[49m\u001b[33;43m\"\u001b[39;49m\u001b[33;43mencoding\u001b[39;49m\u001b[33;43m\"\u001b[39;49m\u001b[43m,\u001b[49m\u001b[43m \u001b[49m\u001b[38;5;28;43;01mNone\u001b[39;49;00m\u001b[43m)\u001b[49m\u001b[43m,\u001b[49m\n\u001b[32m   1884\u001b[39m \u001b[43m    \u001b[49m\u001b[43mcompression\u001b[49m\u001b[43m=\u001b[49m\u001b[38;5;28;43mself\u001b[39;49m\u001b[43m.\u001b[49m\u001b[43moptions\u001b[49m\u001b[43m.\u001b[49m\u001b[43mget\u001b[49m\u001b[43m(\u001b[49m\u001b[33;43m\"\u001b[39;49m\u001b[33;43mcompression\u001b[39;49m\u001b[33;43m\"\u001b[39;49m\u001b[43m,\u001b[49m\u001b[43m \u001b[49m\u001b[38;5;28;43;01mNone\u001b[39;49;00m\u001b[43m)\u001b[49m\u001b[43m,\u001b[49m\n\u001b[32m   1885\u001b[39m \u001b[43m    \u001b[49m\u001b[43mmemory_map\u001b[49m\u001b[43m=\u001b[49m\u001b[38;5;28;43mself\u001b[39;49m\u001b[43m.\u001b[49m\u001b[43moptions\u001b[49m\u001b[43m.\u001b[49m\u001b[43mget\u001b[49m\u001b[43m(\u001b[49m\u001b[33;43m\"\u001b[39;49m\u001b[33;43mmemory_map\u001b[39;49m\u001b[33;43m\"\u001b[39;49m\u001b[43m,\u001b[49m\u001b[43m \u001b[49m\u001b[38;5;28;43;01mFalse\u001b[39;49;00m\u001b[43m)\u001b[49m\u001b[43m,\u001b[49m\n\u001b[32m   1886\u001b[39m \u001b[43m    \u001b[49m\u001b[43mis_text\u001b[49m\u001b[43m=\u001b[49m\u001b[43mis_text\u001b[49m\u001b[43m,\u001b[49m\n\u001b[32m   1887\u001b[39m \u001b[43m    \u001b[49m\u001b[43merrors\u001b[49m\u001b[43m=\u001b[49m\u001b[38;5;28;43mself\u001b[39;49m\u001b[43m.\u001b[49m\u001b[43moptions\u001b[49m\u001b[43m.\u001b[49m\u001b[43mget\u001b[49m\u001b[43m(\u001b[49m\u001b[33;43m\"\u001b[39;49m\u001b[33;43mencoding_errors\u001b[39;49m\u001b[33;43m\"\u001b[39;49m\u001b[43m,\u001b[49m\u001b[43m \u001b[49m\u001b[33;43m\"\u001b[39;49m\u001b[33;43mstrict\u001b[39;49m\u001b[33;43m\"\u001b[39;49m\u001b[43m)\u001b[49m\u001b[43m,\u001b[49m\n\u001b[32m   1888\u001b[39m \u001b[43m    \u001b[49m\u001b[43mstorage_options\u001b[49m\u001b[43m=\u001b[49m\u001b[38;5;28;43mself\u001b[39;49m\u001b[43m.\u001b[49m\u001b[43moptions\u001b[49m\u001b[43m.\u001b[49m\u001b[43mget\u001b[49m\u001b[43m(\u001b[49m\u001b[33;43m\"\u001b[39;49m\u001b[33;43mstorage_options\u001b[39;49m\u001b[33;43m\"\u001b[39;49m\u001b[43m,\u001b[49m\u001b[43m \u001b[49m\u001b[38;5;28;43;01mNone\u001b[39;49;00m\u001b[43m)\u001b[49m\u001b[43m,\u001b[49m\n\u001b[32m   1889\u001b[39m \u001b[43m\u001b[49m\u001b[43m)\u001b[49m\n\u001b[32m   1890\u001b[39m \u001b[38;5;28;01massert\u001b[39;00m \u001b[38;5;28mself\u001b[39m.handles \u001b[38;5;129;01mis\u001b[39;00m \u001b[38;5;129;01mnot\u001b[39;00m \u001b[38;5;28;01mNone\u001b[39;00m\n\u001b[32m   1891\u001b[39m f = \u001b[38;5;28mself\u001b[39m.handles.handle\n",
      "\u001b[36mFile \u001b[39m\u001b[32mD:\\DATA SCIENCE\\FINAL DATA SCIENCE ASSIGNMENTS\\.venv\\Lib\\site-packages\\pandas\\io\\common.py:873\u001b[39m, in \u001b[36mget_handle\u001b[39m\u001b[34m(path_or_buf, mode, encoding, compression, memory_map, is_text, errors, storage_options)\u001b[39m\n\u001b[32m    868\u001b[39m \u001b[38;5;28;01melif\u001b[39;00m \u001b[38;5;28misinstance\u001b[39m(handle, \u001b[38;5;28mstr\u001b[39m):\n\u001b[32m    869\u001b[39m     \u001b[38;5;66;03m# Check whether the filename is to be opened in binary mode.\u001b[39;00m\n\u001b[32m    870\u001b[39m     \u001b[38;5;66;03m# Binary mode does not support 'encoding' and 'newline'.\u001b[39;00m\n\u001b[32m    871\u001b[39m     \u001b[38;5;28;01mif\u001b[39;00m ioargs.encoding \u001b[38;5;129;01mand\u001b[39;00m \u001b[33m\"\u001b[39m\u001b[33mb\u001b[39m\u001b[33m\"\u001b[39m \u001b[38;5;129;01mnot\u001b[39;00m \u001b[38;5;129;01min\u001b[39;00m ioargs.mode:\n\u001b[32m    872\u001b[39m         \u001b[38;5;66;03m# Encoding\u001b[39;00m\n\u001b[32m--> \u001b[39m\u001b[32m873\u001b[39m         handle = \u001b[38;5;28;43mopen\u001b[39;49m\u001b[43m(\u001b[49m\n\u001b[32m    874\u001b[39m \u001b[43m            \u001b[49m\u001b[43mhandle\u001b[49m\u001b[43m,\u001b[49m\n\u001b[32m    875\u001b[39m \u001b[43m            \u001b[49m\u001b[43mioargs\u001b[49m\u001b[43m.\u001b[49m\u001b[43mmode\u001b[49m\u001b[43m,\u001b[49m\n\u001b[32m    876\u001b[39m \u001b[43m            \u001b[49m\u001b[43mencoding\u001b[49m\u001b[43m=\u001b[49m\u001b[43mioargs\u001b[49m\u001b[43m.\u001b[49m\u001b[43mencoding\u001b[49m\u001b[43m,\u001b[49m\n\u001b[32m    877\u001b[39m \u001b[43m            \u001b[49m\u001b[43merrors\u001b[49m\u001b[43m=\u001b[49m\u001b[43merrors\u001b[49m\u001b[43m,\u001b[49m\n\u001b[32m    878\u001b[39m \u001b[43m            \u001b[49m\u001b[43mnewline\u001b[49m\u001b[43m=\u001b[49m\u001b[33;43m\"\u001b[39;49m\u001b[33;43m\"\u001b[39;49m\u001b[43m,\u001b[49m\n\u001b[32m    879\u001b[39m \u001b[43m        \u001b[49m\u001b[43m)\u001b[49m\n\u001b[32m    880\u001b[39m     \u001b[38;5;28;01melse\u001b[39;00m:\n\u001b[32m    881\u001b[39m         \u001b[38;5;66;03m# Binary mode\u001b[39;00m\n\u001b[32m    882\u001b[39m         handle = \u001b[38;5;28mopen\u001b[39m(handle, ioargs.mode)\n",
      "\u001b[31mFileNotFoundError\u001b[39m: [Errno 2] No such file or directory: 'D:\\\\DATA SCIENCE\\\\ASSIGNMENTS\\\\6 MLR\\\\MLR\\\\toyota_mlr_models.csv'"
     ]
    }
   ],
   "source": [
    "df = pd.read_csv(DATA_PATH)"
   ]
  },
  {
   "cell_type": "code",
   "execution_count": null,
   "id": "5d9e52b7",
   "metadata": {},
   "outputs": [],
   "source": [
    "# Normalize/rename common column variants\n",
    "for col in list(df.columns):\n",
    "    low = col.strip().lower()\n",
    "    if low in ('fuel type','fuel_type','fuel-type'):\n",
    "        df.rename(columns={col: 'Fuel_Type'}, inplace=True)\n",
    "    if low == 'age' and 'Age_08_04' not in df.columns:\n",
    "        df.rename(columns={col: 'Age_08_04'}, inplace=True)"
   ]
  },
  {
   "cell_type": "code",
   "execution_count": null,
   "id": "99012d7d",
   "metadata": {},
   "outputs": [],
   "source": [
    "# Coerce numeric-like columns (except Fuel_Type) to numeric\n",
    "for c in df.columns:\n",
    "    if c != 'Fuel_Type':\n",
    "        df[c] = pd.to_numeric(df[c], errors='coerce')"
   ]
  },
  {
   "cell_type": "code",
   "execution_count": null,
   "id": "260b84fd",
   "metadata": {},
   "outputs": [],
   "source": [
    "# Normalize Fuel_Type strings\n",
    "if 'Fuel_Type' in df.columns:\n",
    "    df['Fuel_Type'] = df['Fuel_Type'].astype(str).str.strip().replace({'nan': np.nan})"
   ]
  },
  {
   "cell_type": "code",
   "execution_count": null,
   "id": "80f1015a",
   "metadata": {},
   "outputs": [],
   "source": [
    "if 'Price' not in df.columns:\n",
    "    raise ValueError(\"Target column 'Price' not found.\")\n",
    "df['Price'] = pd.to_numeric(df['Price'], errors='coerce')\n",
    "df = df.dropna(subset=['Price'])"
   ]
  },
  {
   "cell_type": "code",
   "execution_count": null,
   "id": "5ecfcb7e",
   "metadata": {},
   "outputs": [],
   "source": [
    "# Impute numeric missing with median\n",
    "for c in df.select_dtypes(include=[np.number]).columns:\n",
    "    if df[c].isna().sum() > 0:\n",
    "        df[c].fillna(df[c].median(), inplace=True)"
   ]
  },
  {
   "cell_type": "code",
   "execution_count": null,
   "id": "54f8f1e8",
   "metadata": {},
   "outputs": [],
   "source": [
    "if 'Fuel_Type' in df.columns and df['Fuel_Type'].isna().sum() > 0:\n",
    "    df['Fuel_Type'].fillna(df['Fuel_Type'].mode().iloc[0], inplace=True)"
   ]
  },
  {
   "cell_type": "code",
   "execution_count": null,
   "id": "247448fe",
   "metadata": {},
   "outputs": [],
   "source": [
    "candidate_features = ['Age_08_04', 'KM', 'HP', 'Automatic', 'cc', 'Doors', 'Weight', 'Quarterly_Tax', 'Fuel_Type']\n",
    "FEATURES = [c for c in candidate_features if c in df.columns]\n",
    "TARGET = 'Price'"
   ]
  },
  {
   "cell_type": "code",
   "execution_count": 6,
   "id": "1a3dc5c6",
   "metadata": {},
   "outputs": [
    {
     "ename": "NameError",
     "evalue": "name 'df' is not defined",
     "output_type": "error",
     "traceback": [
      "\u001b[31m---------------------------------------------------------------------------\u001b[39m",
      "\u001b[31mNameError\u001b[39m                                 Traceback (most recent call last)",
      "\u001b[36mCell\u001b[39m\u001b[36m \u001b[39m\u001b[32mIn[6]\u001b[39m\u001b[32m, line 1\u001b[39m\n\u001b[32m----> \u001b[39m\u001b[32m1\u001b[39m X = \u001b[43mdf\u001b[49m[FEATURES].copy()\n\u001b[32m      2\u001b[39m y = df[TARGET].copy()\n",
      "\u001b[31mNameError\u001b[39m: name 'df' is not defined"
     ]
    }
   ],
   "source": [
    "X = df[FEATURES].copy()\n",
    "y = df[TARGET].copy()"
   ]
  },
  {
   "cell_type": "code",
   "execution_count": 7,
   "id": "f7e3b768",
   "metadata": {},
   "outputs": [
    {
     "ename": "NameError",
     "evalue": "name 'X' is not defined",
     "output_type": "error",
     "traceback": [
      "\u001b[31m---------------------------------------------------------------------------\u001b[39m",
      "\u001b[31mNameError\u001b[39m                                 Traceback (most recent call last)",
      "\u001b[36mCell\u001b[39m\u001b[36m \u001b[39m\u001b[32mIn[7]\u001b[39m\u001b[32m, line 1\u001b[39m\n\u001b[32m----> \u001b[39m\u001b[32m1\u001b[39m \u001b[38;5;28;01mif\u001b[39;00m \u001b[33m'\u001b[39m\u001b[33mAutomatic\u001b[39m\u001b[33m'\u001b[39m \u001b[38;5;129;01min\u001b[39;00m \u001b[43mX\u001b[49m.columns:\n\u001b[32m      2\u001b[39m     X[\u001b[33m'\u001b[39m\u001b[33mAutomatic\u001b[39m\u001b[33m'\u001b[39m] = X[\u001b[33m'\u001b[39m\u001b[33mAutomatic\u001b[39m\u001b[33m'\u001b[39m].replace({\u001b[33m'\u001b[39m\u001b[33mYes\u001b[39m\u001b[33m'\u001b[39m: \u001b[32m1\u001b[39m, \u001b[33m'\u001b[39m\u001b[33mNo\u001b[39m\u001b[33m'\u001b[39m: \u001b[32m0\u001b[39m})\n\u001b[32m      3\u001b[39m     X[\u001b[33m'\u001b[39m\u001b[33mAutomatic\u001b[39m\u001b[33m'\u001b[39m] = pd.to_numeric(X[\u001b[33m'\u001b[39m\u001b[33mAutomatic\u001b[39m\u001b[33m'\u001b[39m], errors=\u001b[33m'\u001b[39m\u001b[33mcoerce\u001b[39m\u001b[33m'\u001b[39m).fillna(\u001b[32m0\u001b[39m).astype(\u001b[38;5;28mint\u001b[39m)\n",
      "\u001b[31mNameError\u001b[39m: name 'X' is not defined"
     ]
    }
   ],
   "source": [
    "if 'Automatic' in X.columns:\n",
    "    X['Automatic'] = X['Automatic'].replace({'Yes': 1, 'No': 0})\n",
    "    X['Automatic'] = pd.to_numeric(X['Automatic'], errors='coerce').fillna(0).astype(int)"
   ]
  },
  {
   "cell_type": "code",
   "execution_count": 8,
   "id": "75e27108",
   "metadata": {},
   "outputs": [
    {
     "ename": "NameError",
     "evalue": "name 'X' is not defined",
     "output_type": "error",
     "traceback": [
      "\u001b[31m---------------------------------------------------------------------------\u001b[39m",
      "\u001b[31mNameError\u001b[39m                                 Traceback (most recent call last)",
      "\u001b[36mCell\u001b[39m\u001b[36m \u001b[39m\u001b[32mIn[8]\u001b[39m\u001b[32m, line 1\u001b[39m\n\u001b[32m----> \u001b[39m\u001b[32m1\u001b[39m \u001b[38;5;28;01mif\u001b[39;00m \u001b[33m'\u001b[39m\u001b[33mFuel_Type\u001b[39m\u001b[33m'\u001b[39m \u001b[38;5;129;01min\u001b[39;00m \u001b[43mX\u001b[49m.columns:\n\u001b[32m      2\u001b[39m     X[\u001b[33m'\u001b[39m\u001b[33mFuel_Type\u001b[39m\u001b[33m'\u001b[39m] = X[\u001b[33m'\u001b[39m\u001b[33mFuel_Type\u001b[39m\u001b[33m'\u001b[39m].astype(\u001b[38;5;28mstr\u001b[39m)\n\u001b[32m      3\u001b[39m     X = pd.get_dummies(X, columns=[\u001b[33m'\u001b[39m\u001b[33mFuel_Type\u001b[39m\u001b[33m'\u001b[39m], drop_first=\u001b[38;5;28;01mTrue\u001b[39;00m)\n",
      "\u001b[31mNameError\u001b[39m: name 'X' is not defined"
     ]
    }
   ],
   "source": [
    "if 'Fuel_Type' in X.columns:\n",
    "    X['Fuel_Type'] = X['Fuel_Type'].astype(str)\n",
    "    X = pd.get_dummies(X, columns=['Fuel_Type'], drop_first=True)"
   ]
  },
  {
   "cell_type": "code",
   "execution_count": 9,
   "id": "bbb77cef",
   "metadata": {},
   "outputs": [
    {
     "ename": "NameError",
     "evalue": "name 'X' is not defined",
     "output_type": "error",
     "traceback": [
      "\u001b[31m---------------------------------------------------------------------------\u001b[39m",
      "\u001b[31mNameError\u001b[39m                                 Traceback (most recent call last)",
      "\u001b[36mCell\u001b[39m\u001b[36m \u001b[39m\u001b[32mIn[9]\u001b[39m\u001b[32m, line 1\u001b[39m\n\u001b[32m----> \u001b[39m\u001b[32m1\u001b[39m X = \u001b[43mX\u001b[49m.apply(pd.to_numeric, errors=\u001b[33m'\u001b[39m\u001b[33mcoerce\u001b[39m\u001b[33m'\u001b[39m)\n\u001b[32m      2\u001b[39m y = pd.to_numeric(y, errors=\u001b[33m'\u001b[39m\u001b[33mcoerce\u001b[39m\u001b[33m'\u001b[39m)\n",
      "\u001b[31mNameError\u001b[39m: name 'X' is not defined"
     ]
    }
   ],
   "source": [
    "X = X.apply(pd.to_numeric, errors='coerce')\n",
    "y = pd.to_numeric(y, errors='coerce')"
   ]
  },
  {
   "cell_type": "code",
   "execution_count": 10,
   "id": "f889c1aa",
   "metadata": {},
   "outputs": [
    {
     "ename": "NameError",
     "evalue": "name 'X' is not defined",
     "output_type": "error",
     "traceback": [
      "\u001b[31m---------------------------------------------------------------------------\u001b[39m",
      "\u001b[31mNameError\u001b[39m                                 Traceback (most recent call last)",
      "\u001b[36mCell\u001b[39m\u001b[36m \u001b[39m\u001b[32mIn[10]\u001b[39m\u001b[32m, line 1\u001b[39m\n\u001b[32m----> \u001b[39m\u001b[32m1\u001b[39m good_idx = \u001b[43mX\u001b[49m.dropna().index.intersection(y.dropna().index)\n\u001b[32m      2\u001b[39m X = X.loc[good_idx].copy()\n\u001b[32m      3\u001b[39m y = y.loc[good_idx].copy()\n",
      "\u001b[31mNameError\u001b[39m: name 'X' is not defined"
     ]
    }
   ],
   "source": [
    "good_idx = X.dropna().index.intersection(y.dropna().index)\n",
    "X = X.loc[good_idx].copy()\n",
    "y = y.loc[good_idx].copy()"
   ]
  },
  {
   "cell_type": "code",
   "execution_count": 11,
   "id": "54fa67b9",
   "metadata": {},
   "outputs": [
    {
     "ename": "NameError",
     "evalue": "name 'X' is not defined",
     "output_type": "error",
     "traceback": [
      "\u001b[31m---------------------------------------------------------------------------\u001b[39m",
      "\u001b[31mNameError\u001b[39m                                 Traceback (most recent call last)",
      "\u001b[36mCell\u001b[39m\u001b[36m \u001b[39m\u001b[32mIn[11]\u001b[39m\u001b[32m, line 2\u001b[39m\n\u001b[32m      1\u001b[39m \u001b[38;5;66;03m# Drop zero-variance columns\u001b[39;00m\n\u001b[32m----> \u001b[39m\u001b[32m2\u001b[39m zero_var_cols = \u001b[43mX\u001b[49m.columns[X.std(axis=\u001b[32m0\u001b[39m, ddof=\u001b[32m0\u001b[39m) == \u001b[32m0\u001b[39m].tolist()\n\u001b[32m      3\u001b[39m \u001b[38;5;28;01mif\u001b[39;00m zero_var_cols:\n\u001b[32m      4\u001b[39m     X.drop(columns=zero_var_cols, inplace=\u001b[38;5;28;01mTrue\u001b[39;00m)\n",
      "\u001b[31mNameError\u001b[39m: name 'X' is not defined"
     ]
    }
   ],
   "source": [
    "# Drop zero-variance columns\n",
    "zero_var_cols = X.columns[X.std(axis=0, ddof=0) == 0].tolist()\n",
    "if zero_var_cols:\n",
    "    X.drop(columns=zero_var_cols, inplace=True)"
   ]
  },
  {
   "cell_type": "code",
   "execution_count": 12,
   "id": "3bbbdc31",
   "metadata": {
    "lines_to_next_cell": 1
   },
   "outputs": [
    {
     "ename": "NameError",
     "evalue": "name 'X' is not defined",
     "output_type": "error",
     "traceback": [
      "\u001b[31m---------------------------------------------------------------------------\u001b[39m",
      "\u001b[31mNameError\u001b[39m                                 Traceback (most recent call last)",
      "\u001b[36mCell\u001b[39m\u001b[36m \u001b[39m\u001b[32mIn[12]\u001b[39m\u001b[32m, line 1\u001b[39m\n\u001b[32m----> \u001b[39m\u001b[32m1\u001b[39m X_train, X_test, y_train, y_test = train_test_split(\u001b[43mX\u001b[49m, y, test_size=\u001b[32m0.20\u001b[39m, random_state=\u001b[32m42\u001b[39m)\n",
      "\u001b[31mNameError\u001b[39m: name 'X' is not defined"
     ]
    }
   ],
   "source": [
    "X_train, X_test, y_train, y_test = train_test_split(X, y, test_size=0.20, random_state=42)"
   ]
  },
  {
   "cell_type": "code",
   "execution_count": 13,
   "id": "7d35568b",
   "metadata": {
    "lines_to_next_cell": 1
   },
   "outputs": [],
   "source": [
    "def print_eval(y_true, y_pred, label=None):\n",
    "    mae = mean_absolute_error(y_true, y_pred)\n",
    "    rmse = np.sqrt(mean_squared_error(y_true, y_pred))\n",
    "    r2 = r2_score(y_true, y_pred)\n",
    "    prefix = f\"[{label}] \" if label else \"\"\n",
    "    print(f\"{prefix}MAE: {mae:.3f} | RMSE: {rmse:.3f} | R2: {r2:.3f}\")\n",
    "    return mae, rmse, r2"
   ]
  },
  {
   "cell_type": "code",
   "execution_count": 14,
   "id": "70fd78cc",
   "metadata": {
    "lines_to_next_cell": 1
   },
   "outputs": [],
   "source": [
    "def fit_sm_ols(Xt, yt, print_summary=True):\n",
    "    Xt = Xt.astype(float)\n",
    "    yt = yt.astype(float)\n",
    "    Xt_sm = sm.add_constant(Xt, has_constant='add')\n",
    "    model = sm.OLS(yt, Xt_sm).fit()\n",
    "    if print_summary:\n",
    "        print(model.summary())\n",
    "    return model"
   ]
  },
  {
   "cell_type": "code",
   "execution_count": 15,
   "id": "d4521c69",
   "metadata": {},
   "outputs": [
    {
     "ename": "NameError",
     "evalue": "name 'X_train' is not defined",
     "output_type": "error",
     "traceback": [
      "\u001b[31m---------------------------------------------------------------------------\u001b[39m",
      "\u001b[31mNameError\u001b[39m                                 Traceback (most recent call last)",
      "\u001b[36mCell\u001b[39m\u001b[36m \u001b[39m\u001b[32mIn[15]\u001b[39m\u001b[32m, line 2\u001b[39m\n\u001b[32m      1\u001b[39m \u001b[38;5;66;03m# Model A: Baseline OLS\u001b[39;00m\n\u001b[32m----> \u001b[39m\u001b[32m2\u001b[39m modelA = fit_sm_ols(\u001b[43mX_train\u001b[49m, y_train)\n\u001b[32m      3\u001b[39m y_pred_A = modelA.predict(sm.add_constant(X_test))\n\u001b[32m      4\u001b[39m print_eval(y_test, y_pred_A, label=\u001b[33m\"\u001b[39m\u001b[33mModel A (OLS)\u001b[39m\u001b[33m\"\u001b[39m)\n",
      "\u001b[31mNameError\u001b[39m: name 'X_train' is not defined"
     ]
    }
   ],
   "source": [
    "# Model A: Baseline OLS\n",
    "modelA = fit_sm_ols(X_train, y_train)\n",
    "y_pred_A = modelA.predict(sm.add_constant(X_test))\n",
    "print_eval(y_test, y_pred_A, label=\"Model A (OLS)\")"
   ]
  },
  {
   "cell_type": "code",
   "execution_count": 16,
   "id": "9ff36979",
   "metadata": {},
   "outputs": [
    {
     "ename": "NameError",
     "evalue": "name 'X_train' is not defined",
     "output_type": "error",
     "traceback": [
      "\u001b[31m---------------------------------------------------------------------------\u001b[39m",
      "\u001b[31mNameError\u001b[39m                                 Traceback (most recent call last)",
      "\u001b[36mCell\u001b[39m\u001b[36m \u001b[39m\u001b[32mIn[16]\u001b[39m\u001b[32m, line 2\u001b[39m\n\u001b[32m      1\u001b[39m \u001b[38;5;66;03m# VIF (robust)\u001b[39;00m\n\u001b[32m----> \u001b[39m\u001b[32m2\u001b[39m X_vif = \u001b[43mX_train\u001b[49m.copy().astype(\u001b[38;5;28mfloat\u001b[39m)\n\u001b[32m      3\u001b[39m small_var_cols = [c \u001b[38;5;28;01mfor\u001b[39;00m c \u001b[38;5;129;01min\u001b[39;00m X_vif.columns \u001b[38;5;28;01mif\u001b[39;00m X_vif[c].std() < \u001b[32m1e-8\u001b[39m]\n\u001b[32m      4\u001b[39m \u001b[38;5;28;01mif\u001b[39;00m small_var_cols:\n",
      "\u001b[31mNameError\u001b[39m: name 'X_train' is not defined"
     ]
    }
   ],
   "source": [
    "# VIF (robust)\n",
    "X_vif = X_train.copy().astype(float)\n",
    "small_var_cols = [c for c in X_vif.columns if X_vif[c].std() < 1e-8]\n",
    "if small_var_cols:\n",
    "    X_vif = X_vif.drop(columns=small_var_cols)\n",
    "vif_records = []\n",
    "for i, col in enumerate(X_vif.columns):\n",
    "    try:\n",
    "        vif_val = variance_inflation_factor(X_vif.values, i)\n",
    "        vif_records.append((col, float(vif_val)))\n",
    "    except Exception:\n",
    "        try:\n",
    "            exog = X_vif.drop(columns=[col])\n",
    "            endog = X_vif[col]\n",
    "            exog_sm = sm.add_constant(exog, has_constant='add')\n",
    "            r2 = sm.OLS(endog, exog_sm).fit().rsquared\n",
    "            vif_val = 1.0 / (1.0 - r2) if (1.0 - r2) > 1e-12 else np.inf\n",
    "            vif_records.append((col, float(vif_val)))\n",
    "        except Exception:\n",
    "            vif_records.append((col, np.nan))\n",
    "vif_df = pd.DataFrame(vif_records, columns=['feature', 'VIF']).sort_values('VIF', ascending=False)\n",
    "print(\"\\nVIF:\\n\", vif_df.to_string(index=False))"
   ]
  },
  {
   "cell_type": "code",
   "execution_count": 17,
   "id": "0d90111c",
   "metadata": {},
   "outputs": [
    {
     "ename": "NameError",
     "evalue": "name 'vif_df' is not defined",
     "output_type": "error",
     "traceback": [
      "\u001b[31m---------------------------------------------------------------------------\u001b[39m",
      "\u001b[31mNameError\u001b[39m                                 Traceback (most recent call last)",
      "\u001b[36mCell\u001b[39m\u001b[36m \u001b[39m\u001b[32mIn[17]\u001b[39m\u001b[32m, line 2\u001b[39m\n\u001b[32m      1\u001b[39m vif_threshold = \u001b[32m10.0\u001b[39m\n\u001b[32m----> \u001b[39m\u001b[32m2\u001b[39m low_vif_features = \u001b[43mvif_df\u001b[49m[vif_df[\u001b[33m'\u001b[39m\u001b[33mVIF\u001b[39m\u001b[33m'\u001b[39m] < vif_threshold][\u001b[33m'\u001b[39m\u001b[33mfeature\u001b[39m\u001b[33m'\u001b[39m].tolist()\n\u001b[32m      3\u001b[39m \u001b[38;5;28;01mif\u001b[39;00m \u001b[38;5;129;01mnot\u001b[39;00m low_vif_features:\n\u001b[32m      4\u001b[39m     low_vif_features = X_train.columns.tolist()\n",
      "\u001b[31mNameError\u001b[39m: name 'vif_df' is not defined"
     ]
    }
   ],
   "source": [
    "vif_threshold = 10.0\n",
    "low_vif_features = vif_df[vif_df['VIF'] < vif_threshold]['feature'].tolist()\n",
    "if not low_vif_features:\n",
    "    low_vif_features = X_train.columns.tolist()"
   ]
  },
  {
   "cell_type": "code",
   "execution_count": 18,
   "id": "00c9920b",
   "metadata": {},
   "outputs": [
    {
     "ename": "NameError",
     "evalue": "name 'X_train' is not defined",
     "output_type": "error",
     "traceback": [
      "\u001b[31m---------------------------------------------------------------------------\u001b[39m",
      "\u001b[31mNameError\u001b[39m                                 Traceback (most recent call last)",
      "\u001b[36mCell\u001b[39m\u001b[36m \u001b[39m\u001b[32mIn[18]\u001b[39m\u001b[32m, line 2\u001b[39m\n\u001b[32m      1\u001b[39m \u001b[38;5;66;03m# Model B: OLS on low-VIF features\u001b[39;00m\n\u001b[32m----> \u001b[39m\u001b[32m2\u001b[39m modelB = fit_sm_ols(\u001b[43mX_train\u001b[49m[low_vif_features], y_train)\n\u001b[32m      3\u001b[39m y_pred_B = modelB.predict(sm.add_constant(X_test[low_vif_features]))\n\u001b[32m      4\u001b[39m print_eval(y_test, y_pred_B, label=\u001b[33m\"\u001b[39m\u001b[33mModel B (OLS low-VIF)\u001b[39m\u001b[33m\"\u001b[39m)\n",
      "\u001b[31mNameError\u001b[39m: name 'X_train' is not defined"
     ]
    }
   ],
   "source": [
    "# Model B: OLS on low-VIF features\n",
    "modelB = fit_sm_ols(X_train[low_vif_features], y_train)\n",
    "y_pred_B = modelB.predict(sm.add_constant(X_test[low_vif_features]))\n",
    "print_eval(y_test, y_pred_B, label=\"Model B (OLS low-VIF)\")"
   ]
  },
  {
   "cell_type": "code",
   "execution_count": 19,
   "id": "60d8d06e",
   "metadata": {},
   "outputs": [
    {
     "ename": "NameError",
     "evalue": "name 'X_train' is not defined",
     "output_type": "error",
     "traceback": [
      "\u001b[31m---------------------------------------------------------------------------\u001b[39m",
      "\u001b[31mNameError\u001b[39m                                 Traceback (most recent call last)",
      "\u001b[36mCell\u001b[39m\u001b[36m \u001b[39m\u001b[32mIn[19]\u001b[39m\u001b[32m, line 2\u001b[39m\n\u001b[32m      1\u001b[39m \u001b[38;5;66;03m# Model C: log(target) with scaled KM and KM^2 to avoid numerical issues\u001b[39;00m\n\u001b[32m----> \u001b[39m\u001b[32m2\u001b[39m X_train_c = \u001b[43mX_train\u001b[49m.copy()\n\u001b[32m      3\u001b[39m X_test_c = X_test.copy()\n\u001b[32m      4\u001b[39m \u001b[38;5;28;01mif\u001b[39;00m \u001b[33m'\u001b[39m\u001b[33mKM\u001b[39m\u001b[33m'\u001b[39m \u001b[38;5;129;01min\u001b[39;00m X_train_c.columns:\n",
      "\u001b[31mNameError\u001b[39m: name 'X_train' is not defined"
     ]
    }
   ],
   "source": [
    "# Model C: log(target) with scaled KM and KM^2 to avoid numerical issues\n",
    "X_train_c = X_train.copy()\n",
    "X_test_c = X_test.copy()\n",
    "if 'KM' in X_train_c.columns:\n",
    "    X_train_c['KM_k'] = X_train_c['KM'] / 1000.0\n",
    "    X_test_c['KM_k'] = X_test_c['KM'] / 1000.0\n",
    "    X_train_c['KM_k_sq'] = X_train_c['KM_k'] ** 2\n",
    "    X_test_c['KM_k_sq'] = X_test_c['KM_k'] ** 2"
   ]
  },
  {
   "cell_type": "code",
   "execution_count": 20,
   "id": "5a883acd",
   "metadata": {},
   "outputs": [
    {
     "ename": "NameError",
     "evalue": "name 'y_train' is not defined",
     "output_type": "error",
     "traceback": [
      "\u001b[31m---------------------------------------------------------------------------\u001b[39m",
      "\u001b[31mNameError\u001b[39m                                 Traceback (most recent call last)",
      "\u001b[36mCell\u001b[39m\u001b[36m \u001b[39m\u001b[32mIn[20]\u001b[39m\u001b[32m, line 1\u001b[39m\n\u001b[32m----> \u001b[39m\u001b[32m1\u001b[39m y_train_log = np.log(\u001b[43my_train\u001b[49m.clip(lower=\u001b[32m1\u001b[39m))\n\u001b[32m      2\u001b[39m modelC = fit_sm_ols(X_train_c, y_train_log)\n\u001b[32m      3\u001b[39m y_pred_log = modelC.predict(sm.add_constant(X_test_c))\n",
      "\u001b[31mNameError\u001b[39m: name 'y_train' is not defined"
     ]
    }
   ],
   "source": [
    "y_train_log = np.log(y_train.clip(lower=1))\n",
    "modelC = fit_sm_ols(X_train_c, y_train_log)\n",
    "y_pred_log = modelC.predict(sm.add_constant(X_test_c))"
   ]
  },
  {
   "cell_type": "code",
   "execution_count": 21,
   "id": "aa44192d",
   "metadata": {},
   "outputs": [
    {
     "ename": "NameError",
     "evalue": "name 'y_pred_log' is not defined",
     "output_type": "error",
     "traceback": [
      "\u001b[31m---------------------------------------------------------------------------\u001b[39m",
      "\u001b[31mNameError\u001b[39m                                 Traceback (most recent call last)",
      "\u001b[36mCell\u001b[39m\u001b[36m \u001b[39m\u001b[32mIn[21]\u001b[39m\u001b[32m, line 2\u001b[39m\n\u001b[32m      1\u001b[39m \u001b[38;5;66;03m# ensure numeric array before exp (fixes earlier TypeError)\u001b[39;00m\n\u001b[32m----> \u001b[39m\u001b[32m2\u001b[39m y_pred_log_arr = np.asarray(\u001b[43my_pred_log\u001b[49m, dtype=\u001b[38;5;28mfloat\u001b[39m)\n\u001b[32m      3\u001b[39m y_pred_C = np.exp(y_pred_log_arr)\n\u001b[32m      4\u001b[39m print_eval(y_test, y_pred_C, label=\u001b[33m\"\u001b[39m\u001b[33mModel C (log-target)\u001b[39m\u001b[33m\"\u001b[39m)\n",
      "\u001b[31mNameError\u001b[39m: name 'y_pred_log' is not defined"
     ]
    }
   ],
   "source": [
    "# ensure numeric array before exp (fixes earlier TypeError)\n",
    "y_pred_log_arr = np.asarray(y_pred_log, dtype=float)\n",
    "y_pred_C = np.exp(y_pred_log_arr)\n",
    "print_eval(y_test, y_pred_C, label=\"Model C (log-target)\")"
   ]
  },
  {
   "cell_type": "code",
   "execution_count": 22,
   "id": "efd424bf",
   "metadata": {},
   "outputs": [
    {
     "ename": "NameError",
     "evalue": "name 'X_train' is not defined",
     "output_type": "error",
     "traceback": [
      "\u001b[31m---------------------------------------------------------------------------\u001b[39m",
      "\u001b[31mNameError\u001b[39m                                 Traceback (most recent call last)",
      "\u001b[36mCell\u001b[39m\u001b[36m \u001b[39m\u001b[32mIn[22]\u001b[39m\u001b[32m, line 3\u001b[39m\n\u001b[32m      1\u001b[39m \u001b[38;5;66;03m# Regularization: RidgeCV & LassoCV\u001b[39;00m\n\u001b[32m      2\u001b[39m scaler = StandardScaler()\n\u001b[32m----> \u001b[39m\u001b[32m3\u001b[39m X_train_s = scaler.fit_transform(\u001b[43mX_train\u001b[49m)\n\u001b[32m      4\u001b[39m X_test_s = scaler.transform(X_test)\n",
      "\u001b[31mNameError\u001b[39m: name 'X_train' is not defined"
     ]
    }
   ],
   "source": [
    "# Regularization: RidgeCV & LassoCV\n",
    "scaler = StandardScaler()\n",
    "X_train_s = scaler.fit_transform(X_train)\n",
    "X_test_s = scaler.transform(X_test)"
   ]
  },
  {
   "cell_type": "code",
   "execution_count": 23,
   "id": "32cf4d20",
   "metadata": {},
   "outputs": [
    {
     "ename": "NameError",
     "evalue": "name 'X_train_s' is not defined",
     "output_type": "error",
     "traceback": [
      "\u001b[31m---------------------------------------------------------------------------\u001b[39m",
      "\u001b[31mNameError\u001b[39m                                 Traceback (most recent call last)",
      "\u001b[36mCell\u001b[39m\u001b[36m \u001b[39m\u001b[32mIn[23]\u001b[39m\u001b[32m, line 1\u001b[39m\n\u001b[32m----> \u001b[39m\u001b[32m1\u001b[39m ridge_cv = RidgeCV(alphas=np.logspace(-\u001b[32m3\u001b[39m, \u001b[32m3\u001b[39m, \u001b[32m50\u001b[39m), cv=\u001b[32m5\u001b[39m).fit(\u001b[43mX_train_s\u001b[49m, y_train)\n\u001b[32m      2\u001b[39m y_pred_ridge = ridge_cv.predict(X_test_s)\n\u001b[32m      3\u001b[39m \u001b[38;5;28mprint\u001b[39m(\u001b[33m\"\u001b[39m\u001b[33mRidge alpha:\u001b[39m\u001b[33m\"\u001b[39m, ridge_cv.alpha_)\n",
      "\u001b[31mNameError\u001b[39m: name 'X_train_s' is not defined"
     ]
    }
   ],
   "source": [
    "ridge_cv = RidgeCV(alphas=np.logspace(-3, 3, 50), cv=5).fit(X_train_s, y_train)\n",
    "y_pred_ridge = ridge_cv.predict(X_test_s)\n",
    "print(\"Ridge alpha:\", ridge_cv.alpha_)\n",
    "print_eval(y_test, y_pred_ridge, label=\"RidgeCV\")"
   ]
  },
  {
   "cell_type": "code",
   "execution_count": 24,
   "id": "83a015f1",
   "metadata": {},
   "outputs": [
    {
     "ename": "NameError",
     "evalue": "name 'X_train_s' is not defined",
     "output_type": "error",
     "traceback": [
      "\u001b[31m---------------------------------------------------------------------------\u001b[39m",
      "\u001b[31mNameError\u001b[39m                                 Traceback (most recent call last)",
      "\u001b[36mCell\u001b[39m\u001b[36m \u001b[39m\u001b[32mIn[24]\u001b[39m\u001b[32m, line 1\u001b[39m\n\u001b[32m----> \u001b[39m\u001b[32m1\u001b[39m lasso_cv = LassoCV(cv=\u001b[32m5\u001b[39m, max_iter=\u001b[32m5000\u001b[39m, random_state=\u001b[32m42\u001b[39m).fit(\u001b[43mX_train_s\u001b[49m, y_train)\n\u001b[32m      2\u001b[39m y_pred_lasso = lasso_cv.predict(X_test_s)\n\u001b[32m      3\u001b[39m \u001b[38;5;28mprint\u001b[39m(\u001b[33m\"\u001b[39m\u001b[33mLasso alpha:\u001b[39m\u001b[33m\"\u001b[39m, lasso_cv.alpha_)\n",
      "\u001b[31mNameError\u001b[39m: name 'X_train_s' is not defined"
     ]
    }
   ],
   "source": [
    "lasso_cv = LassoCV(cv=5, max_iter=5000, random_state=42).fit(X_train_s, y_train)\n",
    "y_pred_lasso = lasso_cv.predict(X_test_s)\n",
    "print(\"Lasso alpha:\", lasso_cv.alpha_)\n",
    "print_eval(y_test, y_pred_lasso, label=\"LassoCV\")"
   ]
  },
  {
   "cell_type": "code",
   "execution_count": 25,
   "id": "48c48844",
   "metadata": {},
   "outputs": [
    {
     "ename": "NameError",
     "evalue": "name 'X_train' is not defined",
     "output_type": "error",
     "traceback": [
      "\u001b[31m---------------------------------------------------------------------------\u001b[39m",
      "\u001b[31mNameError\u001b[39m                                 Traceback (most recent call last)",
      "\u001b[36mCell\u001b[39m\u001b[36m \u001b[39m\u001b[32mIn[25]\u001b[39m\u001b[32m, line 2\u001b[39m\n\u001b[32m      1\u001b[39m coef_df = pd.DataFrame({\n\u001b[32m----> \u001b[39m\u001b[32m2\u001b[39m     \u001b[33m'\u001b[39m\u001b[33mfeature\u001b[39m\u001b[33m'\u001b[39m: \u001b[43mX_train\u001b[49m.columns,\n\u001b[32m      3\u001b[39m     \u001b[33m'\u001b[39m\u001b[33mridge_coef\u001b[39m\u001b[33m'\u001b[39m: ridge_cv.coef_,\n\u001b[32m      4\u001b[39m     \u001b[33m'\u001b[39m\u001b[33mlasso_coef\u001b[39m\u001b[33m'\u001b[39m: lasso_cv.coef_\n\u001b[32m      5\u001b[39m })\n\u001b[32m      6\u001b[39m \u001b[38;5;28mprint\u001b[39m(\u001b[33m\"\u001b[39m\u001b[38;5;130;01m\\n\u001b[39;00m\u001b[33mRidge/Lasso coefficients:\u001b[39m\u001b[38;5;130;01m\\n\u001b[39;00m\u001b[33m\"\u001b[39m, coef_df.to_string(index=\u001b[38;5;28;01mFalse\u001b[39;00m))\n",
      "\u001b[31mNameError\u001b[39m: name 'X_train' is not defined"
     ]
    }
   ],
   "source": [
    "coef_df = pd.DataFrame({\n",
    "    'feature': X_train.columns,\n",
    "    'ridge_coef': ridge_cv.coef_,\n",
    "    'lasso_coef': lasso_cv.coef_\n",
    "})\n",
    "print(\"\\nRidge/Lasso coefficients:\\n\", coef_df.to_string(index=False))"
   ]
  },
  {
   "cell_type": "code",
   "execution_count": 26,
   "id": "e1fec899",
   "metadata": {},
   "outputs": [
    {
     "ename": "NameError",
     "evalue": "name 'X' is not defined",
     "output_type": "error",
     "traceback": [
      "\u001b[31m---------------------------------------------------------------------------\u001b[39m",
      "\u001b[31mNameError\u001b[39m                                 Traceback (most recent call last)",
      "\u001b[36mCell\u001b[39m\u001b[36m \u001b[39m\u001b[32mIn[26]\u001b[39m\u001b[32m, line 2\u001b[39m\n\u001b[32m      1\u001b[39m out_clean = os.path.join(os.path.dirname(DATA_PATH), \u001b[33m\"\u001b[39m\u001b[33mToyotaCorolla_MLR_cleaned.csv\u001b[39m\u001b[33m\"\u001b[39m)\n\u001b[32m----> \u001b[39m\u001b[32m2\u001b[39m pd.concat([\u001b[43mX\u001b[49m, y], axis=\u001b[32m1\u001b[39m).to_csv(out_clean, index=\u001b[38;5;28;01mFalse\u001b[39;00m)\n\u001b[32m      3\u001b[39m \u001b[38;5;28mprint\u001b[39m(\u001b[33m\"\u001b[39m\u001b[38;5;130;01m\\n\u001b[39;00m\u001b[33mSaved cleaned dataset to:\u001b[39m\u001b[33m\"\u001b[39m, out_clean)\n",
      "\u001b[31mNameError\u001b[39m: name 'X' is not defined"
     ]
    }
   ],
   "source": [
    "out_clean = os.path.join(os.path.dirname(DATA_PATH), \"ToyotaCorolla_MLR_cleaned.csv\")\n",
    "pd.concat([X, y], axis=1).to_csv(out_clean, index=False)\n",
    "print(\"\\nSaved cleaned dataset to:\", out_clean)"
   ]
  },
  {
   "cell_type": "code",
   "execution_count": null,
   "id": "eb6b6dcc-3311-477c-a8b6-aa609298e9db",
   "metadata": {},
   "outputs": [],
   "source": []
  }
 ],
 "metadata": {
  "jupytext": {
   "cell_metadata_filter": "-all",
   "main_language": "python",
   "notebook_metadata_filter": "-all"
  },
  "kernelspec": {
   "display_name": "EDA1 (.venv)",
   "language": "python",
   "name": "eda1-venv"
  },
  "language_info": {
   "codemirror_mode": {
    "name": "ipython",
    "version": 3
   },
   "file_extension": ".py",
   "mimetype": "text/x-python",
   "name": "python",
   "nbconvert_exporter": "python",
   "pygments_lexer": "ipython3",
   "version": "3.12.6"
  }
 },
 "nbformat": 4,
 "nbformat_minor": 5
}
