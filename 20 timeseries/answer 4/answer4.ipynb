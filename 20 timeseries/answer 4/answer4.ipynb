{
 "cells": [
  {
   "cell_type": "code",
   "execution_count": null,
   "id": "e7a1b44d",
   "metadata": {},
   "outputs": [],
   "source": [
    "\"\"\"\n",
    "Part 4: Model Evaluation and Comparison\n",
    "---------------------------------------\n",
    "Compares ARIMA and Exponential Smoothing forecasts using MAE, RMSE, and MAPE.\n",
    "\"\"\""
   ]
  },
  {
   "cell_type": "code",
   "execution_count": null,
   "id": "67fd9c4d",
   "metadata": {},
   "outputs": [],
   "source": [
    "import numpy as np\n",
    "import pandas as pd\n",
    "import matplotlib.pyplot as plt\n",
    "from sklearn.metrics import mean_absolute_error, mean_squared_error"
   ]
  },
  {
   "cell_type": "code",
   "execution_count": null,
   "id": "e90e8334",
   "metadata": {
    "lines_to_next_cell": 1
   },
   "outputs": [],
   "source": [
    "# --- Example setup: replace with your actual fitted models and series ---\n",
    "# Suppose 'test' is your test set, 'forecast_hw' and 'forecast_arima' are their forecasts.\n",
    "# For demonstration, we’ll fake some data:\n",
    "np.random.seed(42)\n",
    "test = pd.Series(np.random.uniform(80, 85, 12), name='Actual')  # actual exchange rate\n",
    "forecast_hw = test + np.random.normal(0, 0.3, 12)               # Holt-Winters forecast\n",
    "forecast_arima = test + np.random.normal(0, 0.5, 12)            # ARIMA forecast"
   ]
  },
  {
   "cell_type": "code",
   "execution_count": null,
   "id": "3e4ea652",
   "metadata": {
    "lines_to_next_cell": 1
   },
   "outputs": [],
   "source": [
    "# --- Define evaluation functions ---\n",
    "def mean_absolute_percentage_error(y_true, y_pred):\n",
    "    y_true, y_pred = np.array(y_true), np.array(y_pred)\n",
    "    return np.mean(np.abs((y_true - y_pred) / y_true)) * 100"
   ]
  },
  {
   "cell_type": "code",
   "execution_count": null,
   "id": "cb2f5468",
   "metadata": {
    "lines_to_next_cell": 1
   },
   "outputs": [],
   "source": [
    "def evaluate_model(y_true, y_pred, model_name):\n",
    "    mae = mean_absolute_error(y_true, y_pred)\n",
    "    rmse = np.sqrt(mean_squared_error(y_true, y_pred))\n",
    "    mape = mean_absolute_percentage_error(y_true, y_pred)\n",
    "    return pd.Series({'MAE': mae, 'RMSE': rmse, 'MAPE': mape}, name=model_name)"
   ]
  },
  {
   "cell_type": "code",
   "execution_count": null,
   "id": "6ae847cd",
   "metadata": {},
   "outputs": [],
   "source": [
    "# --- Compute metrics for both models ---\n",
    "results_hw = evaluate_model(test, forecast_hw, 'Holt-Winters')\n",
    "results_arima = evaluate_model(test, forecast_arima, 'ARIMA')"
   ]
  },
  {
   "cell_type": "code",
   "execution_count": null,
   "id": "5eb2cdcd",
   "metadata": {},
   "outputs": [],
   "source": [
    "results_df = pd.concat([results_hw, results_arima], axis=1).T\n",
    "print(\"\\n🔹 Forecast Error Metrics Comparison:\\n\")\n",
    "print(results_df)"
   ]
  },
  {
   "cell_type": "code",
   "execution_count": null,
   "id": "8edfea0a",
   "metadata": {},
   "outputs": [],
   "source": [
    "# --- Visual comparison ---\n",
    "plt.figure(figsize=(10,6))\n",
    "plt.plot(test.values, label='Actual', color='black', marker='o')\n",
    "plt.plot(forecast_hw.values, label='Holt-Winters Forecast', linestyle='--', marker='x')\n",
    "plt.plot(forecast_arima.values, label='ARIMA Forecast', linestyle='-.', marker='s')\n",
    "plt.title(\"Exchange Rate Forecast Comparison\")\n",
    "plt.xlabel(\"Time Steps (Test Periods)\")\n",
    "plt.ylabel(\"Exchange Rate\")\n",
    "plt.legend()\n",
    "plt.grid(True)\n",
    "plt.show()"
   ]
  },
  {
   "cell_type": "code",
   "execution_count": null,
   "id": "ae54fc50",
   "metadata": {},
   "outputs": [],
   "source": [
    "# --- Identify best model ---\n",
    "best_model = results_df['RMSE'].idxmin()\n",
    "print(f\"\\n🏆 Best model based on RMSE: {best_model}\\n\")"
   ]
  },
  {
   "cell_type": "code",
   "execution_count": null,
   "id": "b97d0454",
   "metadata": {},
   "outputs": [],
   "source": [
    "# --- Optional: difference plot for error visualization ---\n",
    "plt.figure(figsize=(8,4))\n",
    "plt.bar(['Holt-Winters', 'ARIMA'], results_df['RMSE'], color=['#66c2a5', '#fc8d62'])\n",
    "plt.title(\"Model RMSE Comparison\")\n",
    "plt.ylabel(\"RMSE\")\n",
    "plt.show()"
   ]
  }
 ],
 "metadata": {
  "jupytext": {
   "cell_metadata_filter": "-all",
   "main_language": "python",
   "notebook_metadata_filter": "-all"
  }
 },
 "nbformat": 4,
 "nbformat_minor": 5
}
