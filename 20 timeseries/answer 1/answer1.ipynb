{
 "cells": [
  {
   "cell_type": "code",
   "execution_count": null,
   "id": "25d5c106",
   "metadata": {},
   "outputs": [],
   "source": [
    "import pandas as pd\n",
    "import matplotlib.pyplot as plt"
   ]
  },
  {
   "cell_type": "code",
   "execution_count": null,
   "id": "d38ebf64",
   "metadata": {},
   "outputs": [],
   "source": [
    "# Load dataset from your directory\n",
    "file_path = r\"D:\\DATA SCIENCE\\ASSIGNMENTS\\20 timeseries\\Timeseries\\exchange_rate.csv\"\n",
    "exchange_df = pd.read_csv(file_path, parse_dates=[0])"
   ]
  },
  {
   "cell_type": "code",
   "execution_count": null,
   "id": "6bce382c",
   "metadata": {},
   "outputs": [],
   "source": [
    "# Display a quick preview\n",
    "print(exchange_df.head())"
   ]
  },
  {
   "cell_type": "code",
   "execution_count": null,
   "id": "32ecedfe",
   "metadata": {},
   "outputs": [],
   "source": [
    "# Plot the time series\n",
    "plt.figure(figsize=(12,6))\n",
    "plt.plot(exchange_df['date'], exchange_df['Ex_rate'], label='USD to AUD Exchange Rate')\n",
    "plt.title('Exchange Rate Over Time (USD → AUD)')\n",
    "plt.xlabel('Date')\n",
    "plt.ylabel('Exchange Rate')\n",
    "plt.legend()\n",
    "plt.grid(True)\n",
    "plt.show()"
   ]
  }
 ],
 "metadata": {
  "jupytext": {
   "cell_metadata_filter": "-all",
   "main_language": "python",
   "notebook_metadata_filter": "-all"
  }
 },
 "nbformat": 4,
 "nbformat_minor": 5
}
