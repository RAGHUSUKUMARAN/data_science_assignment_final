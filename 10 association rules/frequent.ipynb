{
 "cells": [
  {
   "cell_type": "markdown",
   "id": "071b4017",
   "metadata": {},
   "source": [
    "Step 2: Frequent Itemsets (single items) — support >= 5%\n",
    "Works with either:\n",
    " - transactions (list of lists) from preprocessing, OR\n",
    " - one-hot CSV saved from preprocessing"
   ]
  },
  {
   "cell_type": "code",
   "execution_count": null,
   "id": "aadb6820",
   "metadata": {},
   "outputs": [],
   "source": [
    "import pandas as pd\n",
    "from collections import Counter\n",
    "from typing import List"
   ]
  },
  {
   "cell_type": "code",
   "execution_count": null,
   "id": "ee54c93d",
   "metadata": {},
   "outputs": [],
   "source": [
    "# ---------- Config ----------\n",
    "MIN_SUPPORT = 0.05          # 5%\n",
    "total_transactions = None  # filled later\n",
    "# Input paths (change if needed)\n",
    "one_hot_csv_path = r\"D:\\DATA SCIENCE\\ASSIGNMENTS\\10 association rules\\Association Rules\\basket_one_hot.csv\"\n",
    "# If you have the transactions list in memory (from preprocessing), set it here:\n",
    "# transactions = [...]   # list of lists, each inner list = items (lowercased)\n",
    "# ----------------------------"
   ]
  },
  {
   "cell_type": "code",
   "execution_count": null,
   "id": "78aa4a1b",
   "metadata": {
    "lines_to_next_cell": 1
   },
   "outputs": [],
   "source": [
    "def frequent_items_from_transactions(transactions: List[List[str]], min_support: float):\n",
    "    \"\"\"\n",
    "    Count single-item supports from a list-of-lists transactions and return items >= min_support.\n",
    "    Returns a DataFrame: item | support | count\n",
    "    \"\"\"\n",
    "    n = len(transactions)\n",
    "    total_transactions_local = n\n",
    "    # Count occurrences (in how many transactions each item appears)\n",
    "    counter = Counter()\n",
    "    for tx in transactions:\n",
    "        unique_items = set(tx)  # ensure a transaction counts an item only once\n",
    "        counter.update(unique_items)\n",
    "    rows = []\n",
    "    for item, count in counter.items():\n",
    "        support = count / total_transactions_local\n",
    "        rows.append((item, support, count))\n",
    "    df = pd.DataFrame(rows, columns=[\"item\", \"support\", \"count\"]).sort_values(\"support\", ascending=False).reset_index(drop=True)\n",
    "    df = df[df[\"support\"] >= min_support]\n",
    "    return df, total_transactions_local"
   ]
  },
  {
   "cell_type": "code",
   "execution_count": null,
   "id": "97f2d2f6",
   "metadata": {
    "lines_to_next_cell": 1
   },
   "outputs": [],
   "source": [
    "def frequent_items_from_onehot(one_hot_df: pd.DataFrame, min_support: float):\n",
    "    \"\"\"\n",
    "    Compute supports directly from one-hot DataFrame where rows = transactions, cols = items (0/1).\n",
    "    \"\"\"\n",
    "    n = one_hot_df.shape[0]\n",
    "    support_series = one_hot_df.sum(axis=0) / n\n",
    "    counts = (one_hot_df.sum(axis=0)).astype(int)\n",
    "    df = pd.DataFrame({\n",
    "        \"item\": support_series.index,\n",
    "        \"support\": support_series.values,\n",
    "        \"count\": counts.values\n",
    "    }).sort_values(\"support\", ascending=False).reset_index(drop=True)\n",
    "    df = df[df[\"support\"] >= min_support]\n",
    "    return df, n"
   ]
  },
  {
   "cell_type": "code",
   "execution_count": null,
   "id": "e495d2f6",
   "metadata": {},
   "outputs": [],
   "source": [
    "# -------------------------\n",
    "# Try to read one-hot CSV first; fallback to transactions variable if not available\n",
    "# -------------------------\n",
    "import os"
   ]
  },
  {
   "cell_type": "code",
   "execution_count": null,
   "id": "b5621320",
   "metadata": {},
   "outputs": [],
   "source": [
    "if os.path.exists(one_hot_csv_path):\n",
    "    print(\"Loading one-hot CSV from:\", one_hot_csv_path)\n",
    "    onehot = pd.read_csv(one_hot_csv_path, index_col=False)  # columns are items\n",
    "    # If your CSV saved with an index column, you may need index_col=0 — adjust if necessary.\n",
    "    # Ensure values are 0/1:\n",
    "    onehot = onehot.fillna(0).astype(int)\n",
    "    freq_df, total_transactions = frequent_items_from_onehot(onehot, MIN_SUPPORT)\n",
    "else:\n",
    "    print(\"One-hot CSV not found at the path. Looking for 'transactions' variable in memory...\")\n",
    "    try:\n",
    "        # Use the transactions list produced earlier in preprocessing step\n",
    "        transactions  # type: ignore\n",
    "        freq_df, total_transactions = frequent_items_from_transactions(transactions, MIN_SUPPORT)  # type: ignore\n",
    "    except NameError:\n",
    "        raise RuntimeError(\"No input found: place 'transactions' variable in memory or save one-hot CSV at one_hot_csv_path.\")"
   ]
  },
  {
   "cell_type": "code",
   "execution_count": null,
   "id": "f02f2732",
   "metadata": {},
   "outputs": [],
   "source": [
    "# Pretty print top results\n",
    "print(f\"\\nTotal transactions used: {total_transactions}\")\n",
    "print(f\"Items with support >= {MIN_SUPPORT*100:.1f}% (count >= {int(MIN_SUPPORT*total_transactions)}):\\n\")\n",
    "pd.set_option(\"display.max_rows\", None)\n",
    "print(freq_df.to_string(index=False))"
   ]
  },
  {
   "cell_type": "code",
   "execution_count": null,
   "id": "40664f03",
   "metadata": {},
   "outputs": [],
   "source": [
    "# Save the frequent single-item list to CSV for embedding in your assignment\n",
    "out_csv = r\"D:\\DATA SCIENCE\\ASSIGNMENTS\\10 association rules\\Association Rules\\frequent_items_single.csv\"\n",
    "freq_df.to_csv(out_csv, index=False)\n",
    "print(f\"\\nSaved frequent single-item list to: {out_csv}\")"
   ]
  },
  {
   "cell_type": "markdown",
   "id": "8ad56a1b",
   "metadata": {},
   "source": [
    "Quick tips:\n",
    "- If you want the top-k items only, do freq_df.head(k)\n",
    "- To change threshold, modify MIN_SUPPORT variable at the top"
   ]
  }
 ],
 "metadata": {
  "jupytext": {
   "cell_metadata_filter": "-all",
   "main_language": "python",
   "notebook_metadata_filter": "-all"
  }
 },
 "nbformat": 4,
 "nbformat_minor": 5
}
