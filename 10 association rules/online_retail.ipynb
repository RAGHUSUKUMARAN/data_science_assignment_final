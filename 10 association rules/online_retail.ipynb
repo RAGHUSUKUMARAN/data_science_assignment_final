{
 "cells": [
  {
   "cell_type": "markdown",
   "id": "f7e1ed0a",
   "metadata": {},
   "source": [
    "Step 1: Data Preprocessing for Association Rule Mining"
   ]
  },
  {
   "cell_type": "code",
   "execution_count": null,
   "id": "991ce155",
   "metadata": {
    "lines_to_next_cell": 1
   },
   "outputs": [],
   "source": [
    "import pandas as pd"
   ]
  },
  {
   "cell_type": "code",
   "execution_count": null,
   "id": "f3e7cd09",
   "metadata": {
    "lines_to_next_cell": 1
   },
   "outputs": [],
   "source": [
    "def load_transactions_from_file(path: str, col_index: int = 0):\n",
    "    \"\"\"\n",
    "    Load Excel/CSV file and return a list of transactions (list of lists).\n",
    "    Each transaction = list of items.\n",
    "    \"\"\"\n",
    "    if path.lower().endswith(('.xls', '.xlsx')):\n",
    "        df = pd.read_excel(path, engine=\"openpyxl\")\n",
    "    else:\n",
    "        df = pd.read_csv(path)\n",
    "    \n",
    "    raw_col = df.iloc[:, col_index].astype(str)\n",
    "\n",
    "    transactions = []\n",
    "    for basket_str in raw_col:\n",
    "        # Split by comma, strip spaces, lowercase\n",
    "        items = [itm.strip().lower() for itm in basket_str.split(',') if itm.strip()]\n",
    "        # Remove duplicates inside a basket\n",
    "        items = list(dict.fromkeys(items))  \n",
    "        transactions.append(items)\n",
    "\n",
    "    return transactions"
   ]
  },
  {
   "cell_type": "code",
   "execution_count": null,
   "id": "05baa384",
   "metadata": {
    "lines_to_next_cell": 1
   },
   "outputs": [],
   "source": [
    "def transactions_to_ohe(transactions):\n",
    "    \"\"\"\n",
    "    Convert list-of-lists (transactions) to one-hot encoded DataFrame.\n",
    "    \"\"\"\n",
    "    tx_df = pd.DataFrame({'tid': range(len(transactions)), 'items': transactions})\n",
    "    tx_exploded = tx_df.explode('items').dropna(subset=['items'])\n",
    "    ohe = pd.crosstab(tx_exploded['tid'], tx_exploded['items'])\n",
    "    ohe = ohe.reindex(range(len(transactions)), fill_value=0)  # keep all transactions\n",
    "    return ohe"
   ]
  },
  {
   "cell_type": "code",
   "execution_count": null,
   "id": "cb0cc20d",
   "metadata": {},
   "outputs": [],
   "source": [
    "# -------------------------\n",
    "# Run preprocessing\n",
    "# -------------------------\n",
    "filepath = r\"D:\\DATA SCIENCE\\ASSIGNMENTS\\10 association rules\\Association Rules\\Online Retail.xlsx\""
   ]
  },
  {
   "cell_type": "code",
   "execution_count": null,
   "id": "e4129831",
   "metadata": {},
   "outputs": [],
   "source": [
    "transactions = load_transactions_from_file(filepath)\n",
    "print(f\"Total transactions loaded: {len(transactions)}\")"
   ]
  },
  {
   "cell_type": "code",
   "execution_count": null,
   "id": "f73c7fd9",
   "metadata": {},
   "outputs": [],
   "source": [
    "# Quick peek at first 5 transactions\n",
    "for i, t in enumerate(transactions[:5]):\n",
    "    print(f\"{i}: {t}\")"
   ]
  },
  {
   "cell_type": "code",
   "execution_count": null,
   "id": "816a4239",
   "metadata": {},
   "outputs": [],
   "source": [
    "basket_ohe = transactions_to_ohe(transactions)\n",
    "print(\"\\nOne-hot encoded basket shape:\", basket_ohe.shape)\n",
    "print(\"\\nFirst 5 rows:\")\n",
    "print(basket_ohe.head())"
   ]
  },
  {
   "cell_type": "code",
   "execution_count": null,
   "id": "5b8b30bd",
   "metadata": {},
   "outputs": [],
   "source": [
    "# Save the one-hot encoded dataset if needed\n",
    "basket_ohe.to_csv(r\"D:\\DATA SCIENCE\\ASSIGNMENTS\\10 association rules\\Association Rules\\basket_one_hot.csv\", index=False)\n",
    "print(\"\\nSaved one-hot file to basket_one_hot.csv\")"
   ]
  }
 ],
 "metadata": {
  "jupytext": {
   "cell_metadata_filter": "-all",
   "main_language": "python",
   "notebook_metadata_filter": "-all"
  }
 },
 "nbformat": 4,
 "nbformat_minor": 5
}
