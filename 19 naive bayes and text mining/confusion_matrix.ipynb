{
 "cells": [
  {
   "cell_type": "code",
   "execution_count": null,
   "id": "fe8d641a",
   "metadata": {
    "lines_to_next_cell": 2
   },
   "outputs": [],
   "source": [
    "import matplotlib.pyplot as plt\n",
    "plt.figure(figsize=(10,8))\n",
    "plt.imshow(cm, interpolation=\"nearest\")\n",
    "plt.title(\"Confusion matrix — Naive Bayes\")\n",
    "plt.colorbar()\n",
    "plt.xticks(range(len(classes)), classes, rotation=90)\n",
    "plt.yticks(range(len(classes)), classes)\n",
    "plt.xlabel(\"Predicted\")\n",
    "plt.ylabel(\"True\")\n",
    "plt.tight_layout()\n",
    "plt.savefig(\"nb_confusion_matrix.png\")\n",
    "plt.close()"
   ]
  },
  {
   "cell_type": "code",
   "execution_count": null,
   "id": "f2f248b5",
   "metadata": {},
   "outputs": [],
   "source": [
    "# baseline_metrics and tuned_metrics are dicts like the 'summary' above\n",
    "comp_df = pd.DataFrame([\n",
    "    {\"model\":\"baseline\", **baseline_metrics},\n",
    "    {\"model\":\"tuned\", **tuned_metrics}\n",
    "])\n",
    "comp_df.to_csv(\"baseline_vs_tuned_metrics.csv\", index=False)"
   ]
  }
 ],
 "metadata": {
  "jupytext": {
   "cell_metadata_filter": "-all",
   "main_language": "python",
   "notebook_metadata_filter": "-all"
  }
 },
 "nbformat": 4,
 "nbformat_minor": 5
}
