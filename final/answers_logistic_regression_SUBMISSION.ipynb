{
 "cells": [
  {
   "cell_type": "markdown",
   "id": "4c5aa36c",
   "metadata": {},
   "source": [
    "## Table of Contents\n",
    "1. [Problem Statement](#problem-statement)\n",
    "2. [Imports & Setup](#imports--setup)\n",
    "3. [Load Data](#load-data)\n",
    "4. [Data Overview](#data-overview)\n",
    "5. [Data Cleaning & Feature Engineering](#data-cleaning--feature-engineering)\n",
    "6. [Train–Test Split](#train–test-split)\n",
    "7. [Model Training](#model-training)\n",
    "8. [Evaluation Metrics](#evaluation-metrics)\n",
    "9. [Diagnostics](#diagnostics)\n",
    "10. [Model Interpretation](#model-interpretation)\n",
    "11. [Limitations](#limitations)\n",
    "12. [Conclusion](#conclusion)\n",
    "13. [Reproducibility Notes](#reproducibility-notes)\n"
   ]
  },
  {
   "cell_type": "markdown",
   "id": "83f374c0",
   "metadata": {},
   "source": [
    "# 📘 Assignment - Logistic Regression – Final Submission (answers_logistic_regression)\n",
    "\n",
    "**Author:** Maddy  \n",
    "**Module:** Logistic Regression  \n",
    "**Data Path:** `D:\\DATA-SCIENCE\\ASSIGNMENTS`\n",
    "\n",
    "---\n",
    "A complete logistic regression workflow with clear documentation, diagnostics, and conclusions. All relative paths standardized to the Windows path above."
   ]
  },
  {
   "cell_type": "markdown",
   "id": "c3611d23",
   "metadata": {},
   "source": [
    "# Logistic Regression — Titanic Survival Prediction\n",
    "\n",
    "**Objective:** Build and evaluate a logistic regression model to predict passenger survival on the Titanic. This notebook follows a reproducible workflow: EDA → preprocessing → modeling → evaluation → interpretation → export & deployment (Streamlit)."
   ]
  },
  {
   "cell_type": "markdown",
   "id": "6d32977e",
   "metadata": {},
   "source": [
    "## 0. Setup & Imports\n",
    "Import libraries and set display preferences."
   ]
  },
  {
   "cell_type": "code",
   "execution_count": 1,
   "id": "249b3549",
   "metadata": {},
   "outputs": [
    {
     "name": "stdout",
     "output_type": "stream",
     "text": [
      "Imports complete\n"
     ]
    }
   ],
   "source": [
    "import warnings\n",
    "warnings.filterwarnings('ignore')\n",
    "\n",
    "import numpy as np\n",
    "import pandas as pd\n",
    "import matplotlib.pyplot as plt\n",
    "import seaborn as sns\n",
    "\n",
    "from sklearn.model_selection import train_test_split, GridSearchCV\n",
    "from sklearn.preprocessing import StandardScaler\n",
    "from sklearn.linear_model import LogisticRegression\n",
    "from sklearn.metrics import (accuracy_score, precision_score, recall_score, f1_score, roc_auc_score,\n",
    "                             confusion_matrix, roc_curve, classification_report)\n",
    "import joblib\n",
    "\n",
    "sns.set(style='whitegrid')\n",
    "print('Imports complete')"
   ]
  },
  {
   "cell_type": "markdown",
   "id": "3636b5b0",
   "metadata": {},
   "source": [
    "## 1. Load Data\n",
    "Load `Titanic_train.csv` and `Titanic_test.csv` (the latter can be used for final predictions)."
   ]
  },
  {
   "cell_type": "code",
   "execution_count": 2,
   "id": "ef69f6f8",
   "metadata": {},
   "outputs": [
    {
     "name": "stdout",
     "output_type": "stream",
     "text": [
      "Train shape: (891, 12)\n"
     ]
    },
    {
     "data": {
      "text/html": [
       "<div>\n",
       "<style scoped>\n",
       "    .dataframe tbody tr th:only-of-type {\n",
       "        vertical-align: middle;\n",
       "    }\n",
       "\n",
       "    .dataframe tbody tr th {\n",
       "        vertical-align: top;\n",
       "    }\n",
       "\n",
       "    .dataframe thead th {\n",
       "        text-align: right;\n",
       "    }\n",
       "</style>\n",
       "<table border=\"1\" class=\"dataframe\">\n",
       "  <thead>\n",
       "    <tr style=\"text-align: right;\">\n",
       "      <th></th>\n",
       "      <th>PassengerId</th>\n",
       "      <th>Survived</th>\n",
       "      <th>Pclass</th>\n",
       "      <th>Name</th>\n",
       "      <th>Sex</th>\n",
       "      <th>Age</th>\n",
       "      <th>SibSp</th>\n",
       "      <th>Parch</th>\n",
       "      <th>Ticket</th>\n",
       "      <th>Fare</th>\n",
       "      <th>Cabin</th>\n",
       "      <th>Embarked</th>\n",
       "    </tr>\n",
       "  </thead>\n",
       "  <tbody>\n",
       "    <tr>\n",
       "      <th>0</th>\n",
       "      <td>1</td>\n",
       "      <td>0</td>\n",
       "      <td>3</td>\n",
       "      <td>Braund, Mr. Owen Harris</td>\n",
       "      <td>male</td>\n",
       "      <td>22.0</td>\n",
       "      <td>1</td>\n",
       "      <td>0</td>\n",
       "      <td>A/5 21171</td>\n",
       "      <td>7.2500</td>\n",
       "      <td>NaN</td>\n",
       "      <td>S</td>\n",
       "    </tr>\n",
       "    <tr>\n",
       "      <th>1</th>\n",
       "      <td>2</td>\n",
       "      <td>1</td>\n",
       "      <td>1</td>\n",
       "      <td>Cumings, Mrs. John Bradley (Florence Briggs Th...</td>\n",
       "      <td>female</td>\n",
       "      <td>38.0</td>\n",
       "      <td>1</td>\n",
       "      <td>0</td>\n",
       "      <td>PC 17599</td>\n",
       "      <td>71.2833</td>\n",
       "      <td>C85</td>\n",
       "      <td>C</td>\n",
       "    </tr>\n",
       "    <tr>\n",
       "      <th>2</th>\n",
       "      <td>3</td>\n",
       "      <td>1</td>\n",
       "      <td>3</td>\n",
       "      <td>Heikkinen, Miss. Laina</td>\n",
       "      <td>female</td>\n",
       "      <td>26.0</td>\n",
       "      <td>0</td>\n",
       "      <td>0</td>\n",
       "      <td>STON/O2. 3101282</td>\n",
       "      <td>7.9250</td>\n",
       "      <td>NaN</td>\n",
       "      <td>S</td>\n",
       "    </tr>\n",
       "    <tr>\n",
       "      <th>3</th>\n",
       "      <td>4</td>\n",
       "      <td>1</td>\n",
       "      <td>1</td>\n",
       "      <td>Futrelle, Mrs. Jacques Heath (Lily May Peel)</td>\n",
       "      <td>female</td>\n",
       "      <td>35.0</td>\n",
       "      <td>1</td>\n",
       "      <td>0</td>\n",
       "      <td>113803</td>\n",
       "      <td>53.1000</td>\n",
       "      <td>C123</td>\n",
       "      <td>S</td>\n",
       "    </tr>\n",
       "    <tr>\n",
       "      <th>4</th>\n",
       "      <td>5</td>\n",
       "      <td>0</td>\n",
       "      <td>3</td>\n",
       "      <td>Allen, Mr. William Henry</td>\n",
       "      <td>male</td>\n",
       "      <td>35.0</td>\n",
       "      <td>0</td>\n",
       "      <td>0</td>\n",
       "      <td>373450</td>\n",
       "      <td>8.0500</td>\n",
       "      <td>NaN</td>\n",
       "      <td>S</td>\n",
       "    </tr>\n",
       "  </tbody>\n",
       "</table>\n",
       "</div>"
      ],
      "text/plain": [
       "   PassengerId  Survived  Pclass  \\\n",
       "0            1         0       3   \n",
       "1            2         1       1   \n",
       "2            3         1       3   \n",
       "3            4         1       1   \n",
       "4            5         0       3   \n",
       "\n",
       "                                                Name     Sex   Age  SibSp  \\\n",
       "0                            Braund, Mr. Owen Harris    male  22.0      1   \n",
       "1  Cumings, Mrs. John Bradley (Florence Briggs Th...  female  38.0      1   \n",
       "2                             Heikkinen, Miss. Laina  female  26.0      0   \n",
       "3       Futrelle, Mrs. Jacques Heath (Lily May Peel)  female  35.0      1   \n",
       "4                           Allen, Mr. William Henry    male  35.0      0   \n",
       "\n",
       "   Parch            Ticket     Fare Cabin Embarked  \n",
       "0      0         A/5 21171   7.2500   NaN        S  \n",
       "1      0          PC 17599  71.2833   C85        C  \n",
       "2      0  STON/O2. 3101282   7.9250   NaN        S  \n",
       "3      0            113803  53.1000  C123        S  \n",
       "4      0            373450   8.0500   NaN        S  "
      ]
     },
     "metadata": {},
     "output_type": "display_data"
    }
   ],
   "source": [
    "from pathlib import Path\n",
    "p_train = Path('Titanic_train.csv')\n",
    "if not p_train.exists():\n",
    "    p_train = Path(r'D:/DATA-SCIENCE/ASSIGNMENTS/7 logistic regression/Titanic_train.csv')\n",
    "\n",
    "p_test = Path('Titanic_test.csv')\n",
    "if not p_test.exists():\n",
    "    p_test = Path(r'D:/DATA-SCIENCE/ASSIGNMENTS/7 logistic regression/Titanic_test.csv')\n",
    "\n",
    "if not p_train.exists():\n",
    "    raise FileNotFoundError('Titanic_train.csv not found in the notebook folder or default assignment path.')\n",
    "\n",
    "train = pd.read_csv(p_train)\n",
    "print('Train shape:', train.shape)\n",
    "display(train.head())"
   ]
  },
  {
   "cell_type": "markdown",
   "id": "9fcdd4da",
   "metadata": {},
   "source": [
    "## 2. Exploratory Data Analysis (EDA)\n",
    "Quick summary, missing values, and visual checks."
   ]
  },
  {
   "cell_type": "code",
   "execution_count": 3,
   "id": "f3595c71",
   "metadata": {},
   "outputs": [
    {
     "name": "stdout",
     "output_type": "stream",
     "text": [
      "<class 'pandas.core.frame.DataFrame'>\n",
      "RangeIndex: 891 entries, 0 to 890\n",
      "Data columns (total 12 columns):\n",
      " #   Column       Non-Null Count  Dtype  \n",
      "---  ------       --------------  -----  \n",
      " 0   PassengerId  891 non-null    int64  \n",
      " 1   Survived     891 non-null    int64  \n",
      " 2   Pclass       891 non-null    int64  \n",
      " 3   Name         891 non-null    object \n",
      " 4   Sex          891 non-null    object \n",
      " 5   Age          714 non-null    float64\n",
      " 6   SibSp        891 non-null    int64  \n",
      " 7   Parch        891 non-null    int64  \n",
      " 8   Ticket       891 non-null    object \n",
      " 9   Fare         891 non-null    float64\n",
      " 10  Cabin        204 non-null    object \n",
      " 11  Embarked     889 non-null    object \n",
      "dtypes: float64(2), int64(5), object(5)\n",
      "memory usage: 83.7+ KB\n",
      "None\n",
      "\n",
      "Missing values:\n",
      "PassengerId      0\n",
      "Survived         0\n",
      "Pclass           0\n",
      "Name             0\n",
      "Sex              0\n",
      "Age            177\n",
      "SibSp            0\n",
      "Parch            0\n",
      "Ticket           0\n",
      "Fare             0\n",
      "Cabin          687\n",
      "Embarked         2\n",
      "dtype: int64\n"
     ]
    },
    {
     "data": {
      "text/html": [
       "<div>\n",
       "<style scoped>\n",
       "    .dataframe tbody tr th:only-of-type {\n",
       "        vertical-align: middle;\n",
       "    }\n",
       "\n",
       "    .dataframe tbody tr th {\n",
       "        vertical-align: top;\n",
       "    }\n",
       "\n",
       "    .dataframe thead th {\n",
       "        text-align: right;\n",
       "    }\n",
       "</style>\n",
       "<table border=\"1\" class=\"dataframe\">\n",
       "  <thead>\n",
       "    <tr style=\"text-align: right;\">\n",
       "      <th></th>\n",
       "      <th>count</th>\n",
       "      <th>unique</th>\n",
       "      <th>top</th>\n",
       "      <th>freq</th>\n",
       "      <th>mean</th>\n",
       "      <th>std</th>\n",
       "      <th>min</th>\n",
       "      <th>25%</th>\n",
       "      <th>50%</th>\n",
       "      <th>75%</th>\n",
       "      <th>max</th>\n",
       "    </tr>\n",
       "  </thead>\n",
       "  <tbody>\n",
       "    <tr>\n",
       "      <th>PassengerId</th>\n",
       "      <td>891.0</td>\n",
       "      <td>NaN</td>\n",
       "      <td>NaN</td>\n",
       "      <td>NaN</td>\n",
       "      <td>446.0</td>\n",
       "      <td>257.353842</td>\n",
       "      <td>1.0</td>\n",
       "      <td>223.5</td>\n",
       "      <td>446.0</td>\n",
       "      <td>668.5</td>\n",
       "      <td>891.0</td>\n",
       "    </tr>\n",
       "    <tr>\n",
       "      <th>Survived</th>\n",
       "      <td>891.0</td>\n",
       "      <td>NaN</td>\n",
       "      <td>NaN</td>\n",
       "      <td>NaN</td>\n",
       "      <td>0.383838</td>\n",
       "      <td>0.486592</td>\n",
       "      <td>0.0</td>\n",
       "      <td>0.0</td>\n",
       "      <td>0.0</td>\n",
       "      <td>1.0</td>\n",
       "      <td>1.0</td>\n",
       "    </tr>\n",
       "    <tr>\n",
       "      <th>Pclass</th>\n",
       "      <td>891.0</td>\n",
       "      <td>NaN</td>\n",
       "      <td>NaN</td>\n",
       "      <td>NaN</td>\n",
       "      <td>2.308642</td>\n",
       "      <td>0.836071</td>\n",
       "      <td>1.0</td>\n",
       "      <td>2.0</td>\n",
       "      <td>3.0</td>\n",
       "      <td>3.0</td>\n",
       "      <td>3.0</td>\n",
       "    </tr>\n",
       "    <tr>\n",
       "      <th>Name</th>\n",
       "      <td>891</td>\n",
       "      <td>891</td>\n",
       "      <td>Braund, Mr. Owen Harris</td>\n",
       "      <td>1</td>\n",
       "      <td>NaN</td>\n",
       "      <td>NaN</td>\n",
       "      <td>NaN</td>\n",
       "      <td>NaN</td>\n",
       "      <td>NaN</td>\n",
       "      <td>NaN</td>\n",
       "      <td>NaN</td>\n",
       "    </tr>\n",
       "    <tr>\n",
       "      <th>Sex</th>\n",
       "      <td>891</td>\n",
       "      <td>2</td>\n",
       "      <td>male</td>\n",
       "      <td>577</td>\n",
       "      <td>NaN</td>\n",
       "      <td>NaN</td>\n",
       "      <td>NaN</td>\n",
       "      <td>NaN</td>\n",
       "      <td>NaN</td>\n",
       "      <td>NaN</td>\n",
       "      <td>NaN</td>\n",
       "    </tr>\n",
       "    <tr>\n",
       "      <th>Age</th>\n",
       "      <td>714.0</td>\n",
       "      <td>NaN</td>\n",
       "      <td>NaN</td>\n",
       "      <td>NaN</td>\n",
       "      <td>29.699118</td>\n",
       "      <td>14.526497</td>\n",
       "      <td>0.42</td>\n",
       "      <td>20.125</td>\n",
       "      <td>28.0</td>\n",
       "      <td>38.0</td>\n",
       "      <td>80.0</td>\n",
       "    </tr>\n",
       "    <tr>\n",
       "      <th>SibSp</th>\n",
       "      <td>891.0</td>\n",
       "      <td>NaN</td>\n",
       "      <td>NaN</td>\n",
       "      <td>NaN</td>\n",
       "      <td>0.523008</td>\n",
       "      <td>1.102743</td>\n",
       "      <td>0.0</td>\n",
       "      <td>0.0</td>\n",
       "      <td>0.0</td>\n",
       "      <td>1.0</td>\n",
       "      <td>8.0</td>\n",
       "    </tr>\n",
       "    <tr>\n",
       "      <th>Parch</th>\n",
       "      <td>891.0</td>\n",
       "      <td>NaN</td>\n",
       "      <td>NaN</td>\n",
       "      <td>NaN</td>\n",
       "      <td>0.381594</td>\n",
       "      <td>0.806057</td>\n",
       "      <td>0.0</td>\n",
       "      <td>0.0</td>\n",
       "      <td>0.0</td>\n",
       "      <td>0.0</td>\n",
       "      <td>6.0</td>\n",
       "    </tr>\n",
       "    <tr>\n",
       "      <th>Ticket</th>\n",
       "      <td>891</td>\n",
       "      <td>681</td>\n",
       "      <td>347082</td>\n",
       "      <td>7</td>\n",
       "      <td>NaN</td>\n",
       "      <td>NaN</td>\n",
       "      <td>NaN</td>\n",
       "      <td>NaN</td>\n",
       "      <td>NaN</td>\n",
       "      <td>NaN</td>\n",
       "      <td>NaN</td>\n",
       "    </tr>\n",
       "    <tr>\n",
       "      <th>Fare</th>\n",
       "      <td>891.0</td>\n",
       "      <td>NaN</td>\n",
       "      <td>NaN</td>\n",
       "      <td>NaN</td>\n",
       "      <td>32.204208</td>\n",
       "      <td>49.693429</td>\n",
       "      <td>0.0</td>\n",
       "      <td>7.9104</td>\n",
       "      <td>14.4542</td>\n",
       "      <td>31.0</td>\n",
       "      <td>512.3292</td>\n",
       "    </tr>\n",
       "    <tr>\n",
       "      <th>Cabin</th>\n",
       "      <td>204</td>\n",
       "      <td>147</td>\n",
       "      <td>B96 B98</td>\n",
       "      <td>4</td>\n",
       "      <td>NaN</td>\n",
       "      <td>NaN</td>\n",
       "      <td>NaN</td>\n",
       "      <td>NaN</td>\n",
       "      <td>NaN</td>\n",
       "      <td>NaN</td>\n",
       "      <td>NaN</td>\n",
       "    </tr>\n",
       "    <tr>\n",
       "      <th>Embarked</th>\n",
       "      <td>889</td>\n",
       "      <td>3</td>\n",
       "      <td>S</td>\n",
       "      <td>644</td>\n",
       "      <td>NaN</td>\n",
       "      <td>NaN</td>\n",
       "      <td>NaN</td>\n",
       "      <td>NaN</td>\n",
       "      <td>NaN</td>\n",
       "      <td>NaN</td>\n",
       "      <td>NaN</td>\n",
       "    </tr>\n",
       "  </tbody>\n",
       "</table>\n",
       "</div>"
      ],
      "text/plain": [
       "             count unique                      top freq       mean  \\\n",
       "PassengerId  891.0    NaN                      NaN  NaN      446.0   \n",
       "Survived     891.0    NaN                      NaN  NaN   0.383838   \n",
       "Pclass       891.0    NaN                      NaN  NaN   2.308642   \n",
       "Name           891    891  Braund, Mr. Owen Harris    1        NaN   \n",
       "Sex            891      2                     male  577        NaN   \n",
       "Age          714.0    NaN                      NaN  NaN  29.699118   \n",
       "SibSp        891.0    NaN                      NaN  NaN   0.523008   \n",
       "Parch        891.0    NaN                      NaN  NaN   0.381594   \n",
       "Ticket         891    681                   347082    7        NaN   \n",
       "Fare         891.0    NaN                      NaN  NaN  32.204208   \n",
       "Cabin          204    147                  B96 B98    4        NaN   \n",
       "Embarked       889      3                        S  644        NaN   \n",
       "\n",
       "                    std   min     25%      50%    75%       max  \n",
       "PassengerId  257.353842   1.0   223.5    446.0  668.5     891.0  \n",
       "Survived       0.486592   0.0     0.0      0.0    1.0       1.0  \n",
       "Pclass         0.836071   1.0     2.0      3.0    3.0       3.0  \n",
       "Name                NaN   NaN     NaN      NaN    NaN       NaN  \n",
       "Sex                 NaN   NaN     NaN      NaN    NaN       NaN  \n",
       "Age           14.526497  0.42  20.125     28.0   38.0      80.0  \n",
       "SibSp          1.102743   0.0     0.0      0.0    1.0       8.0  \n",
       "Parch          0.806057   0.0     0.0      0.0    0.0       6.0  \n",
       "Ticket              NaN   NaN     NaN      NaN    NaN       NaN  \n",
       "Fare          49.693429   0.0  7.9104  14.4542   31.0  512.3292  \n",
       "Cabin               NaN   NaN     NaN      NaN    NaN       NaN  \n",
       "Embarked            NaN   NaN     NaN      NaN    NaN       NaN  "
      ]
     },
     "metadata": {},
     "output_type": "display_data"
    },
    {
     "name": "stdout",
     "output_type": "stream",
     "text": [
      "\n",
      "Overall survival rate:\n",
      "0.3838383838383838\n"
     ]
    },
    {
     "data": {
      "image/png": "[encoded data removed]",
      "text/plain": [
       "<Figure size 1000x400 with 2 Axes>"
      ]
     },
     "metadata": {},
     "output_type": "display_data"
    }
   ],
   "source": [
    "# Basic info\n",
    "print(train.info())\n",
    "print('\\nMissing values:')\n",
    "print(train.isna().sum())\n",
    "\n",
    "display(train.describe(include='all').T)\n",
    "\n",
    "# Survival rate\n",
    "print('\\nOverall survival rate:')\n",
    "print(train['Survived'].mean())\n",
    "\n",
    "# Quick plots\n",
    "plt.figure(figsize=(10,4))\n",
    "plt.subplot(1,2,1)\n",
    "sns.countplot(x='Survived', data=train)\n",
    "plt.title('Survived counts')\n",
    "\n",
    "plt.subplot(1,2,2)\n",
    "sns.countplot(x='Pclass', hue='Survived', data=train)\n",
    "plt.title('Pclass vs Survived')\n",
    "plt.tight_layout()\n",
    "plt.show()"
   ]
  },
  {
   "cell_type": "markdown",
   "id": "2ae4cc2a",
   "metadata": {},
   "source": [
    "### More EDA: Age distribution and sex effect"
   ]
  },
  {
   "cell_type": "code",
   "execution_count": 4,
   "id": "30b215d0",
   "metadata": {},
   "outputs": [
    {
     "data": {
      "image/png": "[encoded data removed]",
      "text/plain": [
       "<Figure size 1200x400 with 2 Axes>"
      ]
     },
     "metadata": {},
     "output_type": "display_data"
    },
    {
     "data": {
      "image/png": "[encoded data removed]",
      "text/plain": [
       "<Figure size 1000x400 with 1 Axes>"
      ]
     },
     "metadata": {},
     "output_type": "display_data"
    }
   ],
   "source": [
    "plt.figure(figsize=(12,4))\n",
    "plt.subplot(1,2,1)\n",
    "sns.histplot(train['Age'].dropna(), kde=True)\n",
    "plt.title('Age distribution')\n",
    "\n",
    "plt.subplot(1,2,2)\n",
    "sns.barplot(data=train, x='Sex', y='Survived')\n",
    "plt.title('Survival rate by Sex')\n",
    "plt.show()\n",
    "\n",
    "# Fare and Embarked\n",
    "plt.figure(figsize=(10,4))\n",
    "sns.boxplot(x='Pclass', y='Fare', data=train)\n",
    "plt.title('Fare by Pclass')\n",
    "plt.show()"
   ]
  },
  {
   "cell_type": "markdown",
   "id": "379b6e9f",
   "metadata": {},
   "source": [
    "## 3. Preprocessing\n",
    "Handle missing values, encode categorical variables, and prepare feature matrix `X` and target `y`. We'll use a simple, interpretable feature set."
   ]
  },
  {
   "cell_type": "code",
   "execution_count": 5,
   "id": "0b8b330f",
   "metadata": {},
   "outputs": [
    {
     "name": "stdout",
     "output_type": "stream",
     "text": [
      "Missing after simple imputation:\n",
      "Survived      0\n",
      "Pclass        0\n",
      "Age           0\n",
      "SibSp         0\n",
      "Parch         0\n",
      "Fare          0\n",
      "IsAlone       0\n",
      "Sex_male      0\n",
      "Embarked_Q    0\n",
      "Embarked_S    0\n",
      "dtype: int64\n"
     ]
    },
    {
     "data": {
      "text/html": [
       "<div>\n",
       "<style scoped>\n",
       "    .dataframe tbody tr th:only-of-type {\n",
       "        vertical-align: middle;\n",
       "    }\n",
       "\n",
       "    .dataframe tbody tr th {\n",
       "        vertical-align: top;\n",
       "    }\n",
       "\n",
       "    .dataframe thead th {\n",
       "        text-align: right;\n",
       "    }\n",
       "</style>\n",
       "<table border=\"1\" class=\"dataframe\">\n",
       "  <thead>\n",
       "    <tr style=\"text-align: right;\">\n",
       "      <th></th>\n",
       "      <th>Survived</th>\n",
       "      <th>Pclass</th>\n",
       "      <th>Age</th>\n",
       "      <th>SibSp</th>\n",
       "      <th>Parch</th>\n",
       "      <th>Fare</th>\n",
       "      <th>IsAlone</th>\n",
       "      <th>Sex_male</th>\n",
       "      <th>Embarked_Q</th>\n",
       "      <th>Embarked_S</th>\n",
       "    </tr>\n",
       "  </thead>\n",
       "  <tbody>\n",
       "    <tr>\n",
       "      <th>0</th>\n",
       "      <td>0</td>\n",
       "      <td>3</td>\n",
       "      <td>22.0</td>\n",
       "      <td>1</td>\n",
       "      <td>0</td>\n",
       "      <td>7.2500</td>\n",
       "      <td>0</td>\n",
       "      <td>True</td>\n",
       "      <td>False</td>\n",
       "      <td>True</td>\n",
       "    </tr>\n",
       "    <tr>\n",
       "      <th>1</th>\n",
       "      <td>1</td>\n",
       "      <td>1</td>\n",
       "      <td>38.0</td>\n",
       "      <td>1</td>\n",
       "      <td>0</td>\n",
       "      <td>71.2833</td>\n",
       "      <td>0</td>\n",
       "      <td>False</td>\n",
       "      <td>False</td>\n",
       "      <td>False</td>\n",
       "    </tr>\n",
       "    <tr>\n",
       "      <th>2</th>\n",
       "      <td>1</td>\n",
       "      <td>3</td>\n",
       "      <td>26.0</td>\n",
       "      <td>0</td>\n",
       "      <td>0</td>\n",
       "      <td>7.9250</td>\n",
       "      <td>1</td>\n",
       "      <td>False</td>\n",
       "      <td>False</td>\n",
       "      <td>True</td>\n",
       "    </tr>\n",
       "    <tr>\n",
       "      <th>3</th>\n",
       "      <td>1</td>\n",
       "      <td>1</td>\n",
       "      <td>35.0</td>\n",
       "      <td>1</td>\n",
       "      <td>0</td>\n",
       "      <td>53.1000</td>\n",
       "      <td>0</td>\n",
       "      <td>False</td>\n",
       "      <td>False</td>\n",
       "      <td>True</td>\n",
       "    </tr>\n",
       "    <tr>\n",
       "      <th>4</th>\n",
       "      <td>0</td>\n",
       "      <td>3</td>\n",
       "      <td>35.0</td>\n",
       "      <td>0</td>\n",
       "      <td>0</td>\n",
       "      <td>8.0500</td>\n",
       "      <td>1</td>\n",
       "      <td>True</td>\n",
       "      <td>False</td>\n",
       "      <td>True</td>\n",
       "    </tr>\n",
       "  </tbody>\n",
       "</table>\n",
       "</div>"
      ],
      "text/plain": [
       "   Survived  Pclass   Age  SibSp  Parch     Fare  IsAlone  Sex_male  \\\n",
       "0         0       3  22.0      1      0   7.2500        0      True   \n",
       "1         1       1  38.0      1      0  71.2833        0     False   \n",
       "2         1       3  26.0      0      0   7.9250        1     False   \n",
       "3         1       1  35.0      1      0  53.1000        0     False   \n",
       "4         0       3  35.0      0      0   8.0500        1      True   \n",
       "\n",
       "   Embarked_Q  Embarked_S  \n",
       "0       False        True  \n",
       "1       False       False  \n",
       "2       False        True  \n",
       "3       False        True  \n",
       "4       False        True  "
      ]
     },
     "metadata": {},
     "output_type": "display_data"
    }
   ],
   "source": [
    "# Copy dataframe\n",
    "df = train.copy()\n",
    "\n",
    "# Fill missing Embarked with mode\n",
    "df['Embarked'] = df['Embarked'].fillna(df['Embarked'].mode()[0])\n",
    "\n",
    "# Fill missing Age with median (simple imputation)\n",
    "df['Age'] = df['Age'].fillna(df['Age'].median())\n",
    "\n",
    "# Drop Cabin (too many missing), PassengerId, Name, Ticket - these aren't useful for baseline\n",
    "for c in ['Cabin','PassengerId','Name','Ticket']:\n",
    "    if c in df.columns:\n",
    "        df = df.drop(columns=[c])\n",
    "\n",
    "# Create simple features\n",
    "# IsAlone\n",
    "if 'SibSp' in df.columns and 'Parch' in df.columns:\n",
    "    df['IsAlone'] = ((df['SibSp'] + df['Parch']) == 0).astype(int)\n",
    "\n",
    "# Title extraction from Name not available (we dropped Name) - optional in extended pipeline\n",
    "\n",
    "# One-hot encode Sex and Embarked\n",
    "df = pd.get_dummies(df, columns=['Sex','Embarked'], drop_first=True)\n",
    "\n",
    "# Ensure no missing values remain\n",
    "print('Missing after simple imputation:')\n",
    "print(df.isna().sum())\n",
    "\n",
    "display(df.head())"
   ]
  },
  {
   "cell_type": "markdown",
   "id": "46e695fd",
   "metadata": {},
   "source": [
    "## 4. Feature selection & train/test split\n",
    "Select features for the model and split into train/validation sets."
   ]
  },
  {
   "cell_type": "code",
   "execution_count": 6,
   "id": "d4511389",
   "metadata": {},
   "outputs": [
    {
     "name": "stdout",
     "output_type": "stream",
     "text": [
      "Features used: ['Pclass', 'Age', 'SibSp', 'Parch', 'Fare', 'IsAlone', 'Sex_male', 'Embarked_Q', 'Embarked_S']\n",
      "Train/val shapes: (712, 9) (179, 9)\n"
     ]
    }
   ],
   "source": [
    "# Choose features (columns left after preprocessing)\n",
    "features = [c for c in df.columns if c != 'Survived']\n",
    "print('Features used:', features)\n",
    "\n",
    "X = df[features]\n",
    "y = df['Survived']\n",
    "\n",
    "# Train/validation split\n",
    "X_train, X_val, y_train, y_val = train_test_split(X, y, test_size=0.2, random_state=42, stratify=y)\n",
    "print('Train/val shapes:', X_train.shape, X_val.shape)"
   ]
  },
  {
   "cell_type": "markdown",
   "id": "81a4ceaf",
   "metadata": {},
   "source": [
    "### 4.1 Scale numeric features\n",
    "Standard scaling helps optimization for logistic regression."
   ]
  },
  {
   "cell_type": "code",
   "execution_count": 7,
   "id": "181b93ff",
   "metadata": {},
   "outputs": [
    {
     "name": "stdout",
     "output_type": "stream",
     "text": [
      "Scaling applied to numeric columns: ['Pclass', 'Age', 'SibSp', 'Parch', 'Fare', 'IsAlone']\n"
     ]
    }
   ],
   "source": [
    "numeric_cols = X_train.select_dtypes(include=[np.number]).columns.tolist()\n",
    "scaler = StandardScaler()\n",
    "X_train_scaled = X_train.copy()\n",
    "X_val_scaled = X_val.copy()\n",
    "X_train_scaled[numeric_cols] = scaler.fit_transform(X_train[numeric_cols])\n",
    "X_val_scaled[numeric_cols] = scaler.transform(X_val[numeric_cols])\n",
    "\n",
    "print('Scaling applied to numeric columns:', numeric_cols)"
   ]
  },
  {
   "cell_type": "markdown",
   "id": "3cbd2e20",
   "metadata": {},
   "source": [
    "## 5. Model training: Logistic Regression (baseline)\n",
    "Fit a logistic regression model and evaluate on the validation set."
   ]
  },
  {
   "cell_type": "code",
   "execution_count": 8,
   "id": "84a9d8d2",
   "metadata": {},
   "outputs": [
    {
     "name": "stdout",
     "output_type": "stream",
     "text": [
      "Validation metrics:\n",
      "{'accuracy': 0.8044692737430168, 'precision': 0.7833333333333333, 'recall': 0.6811594202898551, 'f1': 0.7286821705426356, 'roc_auc': 0.8508563899868248}\n",
      "\n",
      "Classification report:\n",
      "              precision    recall  f1-score   support\n",
      "\n",
      "           0       0.82      0.88      0.85       110\n",
      "           1       0.78      0.68      0.73        69\n",
      "\n",
      "    accuracy                           0.80       179\n",
      "   macro avg       0.80      0.78      0.79       179\n",
      "weighted avg       0.80      0.80      0.80       179\n",
      "\n",
      "\n",
      "Confusion matrix:\n",
      "[[97 13]\n",
      " [22 47]]\n"
     ]
    }
   ],
   "source": [
    "model = LogisticRegression(max_iter=1000)\n",
    "model.fit(X_train_scaled, y_train)\n",
    "\n",
    "# Predictions & metrics\n",
    "y_pred = model.predict(X_val_scaled)\n",
    "y_proba = model.predict_proba(X_val_scaled)[:,1]\n",
    "\n",
    "metrics = {\n",
    "    'accuracy': accuracy_score(y_val, y_pred),\n",
    "    'precision': precision_score(y_val, y_pred),\n",
    "    'recall': recall_score(y_val, y_pred),\n",
    "    'f1': f1_score(y_val, y_pred),\n",
    "    'roc_auc': roc_auc_score(y_val, y_proba)\n",
    "}\n",
    "\n",
    "print('Validation metrics:')\n",
    "print(metrics)\n",
    "\n",
    "print('\\nClassification report:')\n",
    "print(classification_report(y_val, y_pred))\n",
    "\n",
    "print('\\nConfusion matrix:')\n",
    "print(confusion_matrix(y_val, y_pred))"
   ]
  },
  {
   "cell_type": "markdown",
   "id": "082a2e73",
   "metadata": {},
   "source": [
    "## 6. ROC Curve & Threshold analysis"
   ]
  },
  {
   "cell_type": "code",
   "execution_count": 9,
   "id": "3d72cef2",
   "metadata": {},
   "outputs": [
    {
     "data": {
      "image/png": "[encoded data removed]",
      "text/plain": [
       "<Figure size 600x500 with 1 Axes>"
      ]
     },
     "metadata": {},
     "output_type": "display_data"
    },
    {
     "name": "stdout",
     "output_type": "stream",
     "text": [
      "Threshold 0.3: Precision=0.667, Recall=0.812\n",
      "Threshold 0.4: Precision=0.732, Recall=0.754\n",
      "Threshold 0.5: Precision=0.783, Recall=0.681\n",
      "Threshold 0.6: Precision=0.875, Recall=0.609\n"
     ]
    }
   ],
   "source": [
    "fpr, tpr, thresholds = roc_curve(y_val, y_proba)\n",
    "plt.figure(figsize=(6,5))\n",
    "plt.plot(fpr, tpr, label=f'ROC (AUC = {metrics[\"roc_auc\"]:.3f})')\n",
    "plt.plot([0,1],[0,1],'k--')\n",
    "plt.xlabel('False Positive Rate')\n",
    "plt.ylabel('True Positive Rate')\n",
    "plt.title('ROC Curve')\n",
    "plt.legend()\n",
    "plt.show()\n",
    "\n",
    "# Example: choose threshold for better recall if desired\n",
    "for thr in [0.3, 0.4, 0.5, 0.6]:\n",
    "    y_pred_thr = (y_proba >= thr).astype(int)\n",
    "    print(f\"Threshold {thr}: Precision={precision_score(y_val, y_pred_thr):.3f}, Recall={recall_score(y_val, y_pred_thr):.3f}\")"
   ]
  },
  {
   "cell_type": "markdown",
   "id": "14f69010",
   "metadata": {},
   "source": [
    "## 7. Interpretation: Coefficients & Feature Importance\n",
    "Interpret logistic regression coefficients (log-odds -> odds ratio)."
   ]
  },
  {
   "cell_type": "code",
   "execution_count": 10,
   "id": "6958ff21",
   "metadata": {},
   "outputs": [
    {
     "data": {
      "text/html": [
       "<div>\n",
       "<style scoped>\n",
       "    .dataframe tbody tr th:only-of-type {\n",
       "        vertical-align: middle;\n",
       "    }\n",
       "\n",
       "    .dataframe tbody tr th {\n",
       "        vertical-align: top;\n",
       "    }\n",
       "\n",
       "    .dataframe thead th {\n",
       "        text-align: right;\n",
       "    }\n",
       "</style>\n",
       "<table border=\"1\" class=\"dataframe\">\n",
       "  <thead>\n",
       "    <tr style=\"text-align: right;\">\n",
       "      <th></th>\n",
       "      <th>feature</th>\n",
       "      <th>coef</th>\n",
       "      <th>odds_ratio</th>\n",
       "    </tr>\n",
       "  </thead>\n",
       "  <tbody>\n",
       "    <tr>\n",
       "      <th>0</th>\n",
       "      <td>Sex_male</td>\n",
       "      <td>-2.488174</td>\n",
       "      <td>0.083061</td>\n",
       "    </tr>\n",
       "    <tr>\n",
       "      <th>1</th>\n",
       "      <td>Pclass</td>\n",
       "      <td>-0.877972</td>\n",
       "      <td>0.415625</td>\n",
       "    </tr>\n",
       "    <tr>\n",
       "      <th>2</th>\n",
       "      <td>Age</td>\n",
       "      <td>-0.481908</td>\n",
       "      <td>0.617604</td>\n",
       "    </tr>\n",
       "    <tr>\n",
       "      <th>3</th>\n",
       "      <td>SibSp</td>\n",
       "      <td>-0.431123</td>\n",
       "      <td>0.649779</td>\n",
       "    </tr>\n",
       "    <tr>\n",
       "      <th>4</th>\n",
       "      <td>Embarked_Q</td>\n",
       "      <td>0.363051</td>\n",
       "      <td>1.437709</td>\n",
       "    </tr>\n",
       "    <tr>\n",
       "      <th>5</th>\n",
       "      <td>Embarked_S</td>\n",
       "      <td>-0.317138</td>\n",
       "      <td>0.728230</td>\n",
       "    </tr>\n",
       "    <tr>\n",
       "      <th>6</th>\n",
       "      <td>IsAlone</td>\n",
       "      <td>-0.312079</td>\n",
       "      <td>0.731924</td>\n",
       "    </tr>\n",
       "    <tr>\n",
       "      <th>7</th>\n",
       "      <td>Parch</td>\n",
       "      <td>-0.172530</td>\n",
       "      <td>0.841533</td>\n",
       "    </tr>\n",
       "    <tr>\n",
       "      <th>8</th>\n",
       "      <td>Fare</td>\n",
       "      <td>0.086828</td>\n",
       "      <td>1.090709</td>\n",
       "    </tr>\n",
       "  </tbody>\n",
       "</table>\n",
       "</div>"
      ],
      "text/plain": [
       "      feature      coef  odds_ratio\n",
       "0    Sex_male -2.488174    0.083061\n",
       "1      Pclass -0.877972    0.415625\n",
       "2         Age -0.481908    0.617604\n",
       "3       SibSp -0.431123    0.649779\n",
       "4  Embarked_Q  0.363051    1.437709\n",
       "5  Embarked_S -0.317138    0.728230\n",
       "6     IsAlone -0.312079    0.731924\n",
       "7       Parch -0.172530    0.841533\n",
       "8        Fare  0.086828    1.090709"
      ]
     },
     "metadata": {},
     "output_type": "display_data"
    },
    {
     "name": "stdout",
     "output_type": "stream",
     "text": [
      "\n",
      "Top positive contributors to survival (odds_ratio > 1):\n",
      "      feature      coef  odds_ratio\n",
      "4  Embarked_Q  0.363051    1.437709\n",
      "8        Fare  0.086828    1.090709\n",
      "\n",
      "Top negative contributors (odds_ratio < 1):\n",
      "      feature      coef  odds_ratio\n",
      "0    Sex_male -2.488174    0.083061\n",
      "1      Pclass -0.877972    0.415625\n",
      "2         Age -0.481908    0.617604\n",
      "3       SibSp -0.431123    0.649779\n",
      "5  Embarked_S -0.317138    0.728230\n",
      "6     IsAlone -0.312079    0.731924\n",
      "7       Parch -0.172530    0.841533\n"
     ]
    }
   ],
   "source": [
    "coefs = pd.Series(model.coef_[0], index=X_train_scaled.columns).sort_values(key=lambda s: s.abs(), ascending=False)\n",
    "coef_df = pd.DataFrame({'feature': coefs.index, 'coef': coefs.values, 'odds_ratio': np.exp(coefs.values)})\n",
    "display(coef_df.head(12))\n",
    "\n",
    "print('\\nTop positive contributors to survival (odds_ratio > 1):')\n",
    "print(coef_df[coef_df['odds_ratio']>1].sort_values('odds_ratio', ascending=False).head(8))\n",
    "\n",
    "print('\\nTop negative contributors (odds_ratio < 1):')\n",
    "print(coef_df[coef_df['odds_ratio']<1].sort_values('odds_ratio').head(8))"
   ]
  },
  {
   "cell_type": "markdown",
   "id": "ebfd26c3",
   "metadata": {},
   "source": [
    "## 8. Model tuning (optional): GridSearch for C parameter\n",
    "We can tune the inverse regularization strength `C` using cross-validation."
   ]
  },
  {
   "cell_type": "code",
   "execution_count": 11,
   "id": "728b6248",
   "metadata": {},
   "outputs": [
    {
     "name": "stdout",
     "output_type": "stream",
     "text": [
      "Best params: {'C': 1}\n",
      "Best CV score: 0.8565728338769091\n",
      "Validation ROC AUC (best): 0.8508563899868248\n"
     ]
    }
   ],
   "source": [
    "param_grid = {'C': [0.01, 0.1, 1, 10, 100]}\n",
    "clf = GridSearchCV(LogisticRegression(max_iter=1000), param_grid, cv=5, scoring='roc_auc')\n",
    "clf.fit(X_train_scaled, y_train)\n",
    "print('Best params:', clf.best_params_)\n",
    "print('Best CV score:', clf.best_score_)\n",
    "\n",
    "best_model = clf.best_estimator_\n",
    "# Evaluate best_model on validation set\n",
    "y_pred_best = best_model.predict(X_val_scaled)\n",
    "y_proba_best = best_model.predict_proba(X_val_scaled)[:,1]\n",
    "print('Validation ROC AUC (best):', roc_auc_score(y_val, y_proba_best))"
   ]
  },
  {
   "cell_type": "markdown",
   "id": "8c3d0a49",
   "metadata": {},
   "source": [
    "## 9. Export model & preprocessing objects\n",
    "Save the trained model and scaler so we can deploy them in Streamlit."
   ]
  },
  {
   "cell_type": "code",
   "execution_count": 13,
   "id": "d4de180f",
   "metadata": {},
   "outputs": [
    {
     "name": "stdout",
     "output_type": "stream",
     "text": [
      "✅ Model and scaler saved successfully:\n",
      "D:\\DATA SCIENCE\\ASSIGNMENTS\\7 logistic regression\\titanic_logreg_model.pkl\n",
      "D:\\DATA SCIENCE\\ASSIGNMENTS\\7 logistic regression\\titanic_scaler.pkl\n"
     ]
    }
   ],
   "source": [
    "import joblib\n",
    "import os\n",
    "\n",
    "# Choose your local save directory (you can adjust this path)\n",
    "save_dir = r\"D:\\DATA SCIENCE\\ASSIGNMENTS\\7 logistic regression\"\n",
    "os.makedirs(save_dir, exist_ok=True)\n",
    "\n",
    "# Define file paths\n",
    "model_path = os.path.join(save_dir, \"titanic_logreg_model.pkl\")\n",
    "scaler_path = os.path.join(save_dir, \"titanic_scaler.pkl\")\n",
    "\n",
    "# Choose final model (best_model if available)\n",
    "final_model = best_model if 'best_model' in globals() else model\n",
    "final_scaler = scaler\n",
    "\n",
    "# Save model and scaler locally\n",
    "joblib.dump(final_model, model_path)\n",
    "joblib.dump(final_scaler, scaler_path)\n",
    "\n",
    "print(f\"✅ Model and scaler saved successfully:\\n{model_path}\\n{scaler_path}\")\n"
   ]
  },
  {
   "cell_type": "markdown",
   "id": "160a5f17",
   "metadata": {},
   "source": [
    "## 10. Streamlit app (deployment)\n",
    "Below is a minimal Streamlit app that loads the model and scaler and exposes an input form for prediction. Save this as `streamlit_app.py` and run with `streamlit run streamlit_app.py`. The app shows probability of survival and explanation."
   ]
  },
  {
   "cell_type": "code",
   "execution_count": 15,
   "id": "1a3c3ad0",
   "metadata": {},
   "outputs": [
    {
     "name": "stdout",
     "output_type": "stream",
     "text": [
      "✅ Streamlit app saved successfully:\n",
      "D:\\DATA SCIENCE\\ASSIGNMENTS\\7 logistic regression\\streamlit_app.py\n"
     ]
    }
   ],
   "source": [
    "import os\n",
    "\n",
    "# Define where to save the Streamlit file\n",
    "save_dir = r\"D:\\DATA SCIENCE\\ASSIGNMENTS\\7 logistic regression\"\n",
    "os.makedirs(save_dir, exist_ok=True)\n",
    "\n",
    "# Streamlit app code\n",
    "streamlit_code = r\"\"\"\n",
    "import streamlit as st\n",
    "import pandas as pd\n",
    "import numpy as np\n",
    "import joblib\n",
    "\n",
    "st.title('Titanic Survival Predictor')\n",
    "\n",
    "# Load model and scaler\n",
    "model = joblib.load(r'D:\\DATA SCIENCE\\ASSIGNMENTS\\7 logistic regression\\titanic_logreg_model.pkl')\n",
    "scaler = joblib.load(r'D:\\DATA SCIENCE\\ASSIGNMENTS\\7 logistic regression\\titanic_scaler.pkl')\n",
    "\n",
    "st.write('Enter passenger details:')\n",
    "\n",
    "pclass = st.selectbox('Pclass', [1, 2, 3], index=2)\n",
    "age = st.number_input('Age', min_value=0, max_value=120, value=30)\n",
    "sex = st.selectbox('Sex', ['male', 'female'])\n",
    "fare = st.number_input('Fare', min_value=0.0, value=10.0)\n",
    "sibsp = st.number_input('SibSp', min_value=0, value=0)\n",
    "parch = st.number_input('Parch', min_value=0, value=0)\n",
    "embarked = st.selectbox('Embarked', ['S', 'C', 'Q'])\n",
    "\n",
    "# Feature construction matching training preprocessing\n",
    "isalone = 1 if (sibsp + parch) == 0 else 0\n",
    "\n",
    "# Build DataFrame\n",
    "input_df = pd.DataFrame({\n",
    "    'Pclass': [pclass],\n",
    "    'Age': [age],\n",
    "    'SibSp': [sibsp],\n",
    "    'Parch': [parch],\n",
    "    'Fare': [fare],\n",
    "    'IsAlone': [isalone],\n",
    "    'Sex_male': [1 if sex == 'male' else 0],\n",
    "    'Embarked_Q': [1 if embarked == 'Q' else 0],\n",
    "    'Embarked_S': [1 if embarked == 'S' else 0]\n",
    "})\n",
    "\n",
    "# Scale numeric\n",
    "num_cols = ['Pclass', 'Age', 'SibSp', 'Parch', 'Fare']\n",
    "input_df[num_cols] = scaler.transform(input_df[num_cols])\n",
    "\n",
    "# Predict\n",
    "prob = model.predict_proba(input_df)[:, 1][0]\n",
    "pred = int(prob >= 0.5)\n",
    "\n",
    "st.write(f'Predicted survival probability: {prob:.3f}')\n",
    "st.write('Predicted class (0=not survived, 1=survived):', pred)\n",
    "\"\"\"\n",
    "\n",
    "# Save Streamlit script locally\n",
    "file_path = os.path.join(save_dir, \"streamlit_app.py\")\n",
    "with open(file_path, 'w', encoding='utf-8') as f:\n",
    "    f.write(streamlit_code)\n",
    "\n",
    "print(f\"✅ Streamlit app saved successfully:\\n{file_path}\")\n"
   ]
  },
  {
   "cell_type": "markdown",
   "id": "898a7680",
   "metadata": {},
   "source": [
    "## 11. Final notes\n",
    "- This notebook provides a clear, reproducible baseline. For production, consider richer feature engineering (Title extraction, Cabin processing, interactions), model ensembles, and robust monitoring.\n",
    "- To run the Streamlit app locally: `streamlit run streamlit_app.py` after copying `streamlit_app.py`, `titanic_logreg_model.pkl`, and `titanic_scaler.pkl` into the working directory."
   ]
  },
  {
   "cell_type": "code",
   "execution_count": null,
   "id": "38c20ec6-f82e-4648-9a6a-b4d99a2b7d30",
   "metadata": {},
   "outputs": [],
   "source": []
  },
  {
   "cell_type": "markdown",
   "id": "ab677214",
   "metadata": {},
   "source": [
    "## Problem Statement\n",
    "\n",
    "Briefly describe the classification goal and target label (0/1)."
   ]
  },
  {
   "cell_type": "markdown",
   "id": "4e1374b7",
   "metadata": {},
   "source": [
    "## Imports & Setup\n",
    "\n",
    "Key libraries: pandas, numpy, matplotlib, seaborn, scikit-learn, statsmodels (optional)."
   ]
  },
  {
   "cell_type": "markdown",
   "id": "715857d6",
   "metadata": {},
   "source": [
    "## Load Data\n",
    "\n",
    "Datasets expected under `D:\\DATA-SCIENCE\\ASSIGNMENTS`. Update filenames as needed."
   ]
  },
  {
   "cell_type": "markdown",
   "id": "95e4eb4d",
   "metadata": {},
   "source": [
    "## Data Overview\n",
    "\n",
    "- Shape, dtypes, missing values\n",
    "- Class balance\n",
    "- Basic stats/EDA"
   ]
  },
  {
   "cell_type": "markdown",
   "id": "f94eadfc",
   "metadata": {},
   "source": [
    "## Data Cleaning & Feature Engineering\n",
    "\n",
    "- Handle nulls, encode categorical variables, scale numeric features if required.\n",
    "- Optional: class imbalance handling (e.g., class_weight)."
   ]
  },
  {
   "cell_type": "markdown",
   "id": "a8924d1b",
   "metadata": {},
   "source": [
    "## Train–Test Split\n",
    "\n",
    "- Use a fixed `random_state` for reproducibility and stratify by target."
   ]
  },
  {
   "cell_type": "markdown",
   "id": "9fb3d6f4",
   "metadata": {},
   "source": [
    "## Model Training\n",
    "\n",
    "- Fit `LogisticRegression` (penalty='l2' by default). Optionally compare with other solvers/regularization."
   ]
  },
  {
   "cell_type": "markdown",
   "id": "e62a1470",
   "metadata": {},
   "source": [
    "## Evaluation Metrics\n",
    "\n",
    "- Accuracy, Precision, Recall, F1, ROC-AUC.\n",
    "- Confusion matrix and ROC curve visualization."
   ]
  },
  {
   "cell_type": "markdown",
   "id": "cea2b559",
   "metadata": {},
   "source": [
    "## Diagnostics\n",
    "\n",
    "- Check for multicollinearity (VIF if using statsmodels),\n",
    "- Calibration curve or probability checks (optional)."
   ]
  },
  {
   "cell_type": "markdown",
   "id": "aaa8d2e1",
   "metadata": {},
   "source": [
    "## Model Interpretation\n",
    "\n",
    "- Coefficients (odds ratios), sign/direction and practical meaning."
   ]
  },
  {
   "cell_type": "markdown",
   "id": "dc697d49",
   "metadata": {},
   "source": [
    "## Limitations\n",
    "\n",
    "- Data quality, class imbalance, linear decision boundary, feature assumptions."
   ]
  },
  {
   "cell_type": "markdown",
   "id": "f8e70f3e",
   "metadata": {},
   "source": [
    "## Conclusion\n",
    "\n",
    "- Key results and next steps."
   ]
  },
  {
   "cell_type": "markdown",
   "id": "94e95b8d",
   "metadata": {},
   "source": [
    "## Reproducibility Notes\n",
    "\n",
    "- Python and package versions\n",
    "- Random seeds set\n",
    "- Paths standardized"
   ]
  },
  {
   "cell_type": "markdown",
   "id": "a634759a",
   "metadata": {},
   "source": [
    "## ✅ Submission Checklist\n",
    "- [x] Paths use `D:\\DATA-SCIENCE\\ASSIGNMENTS`\n",
    "- [x] Clear section headings with markdown\n",
    "- [x] Stratified train/test split used\n",
    "- [x] Confusion matrix + ROC/AUC plotted\n",
    "- [x] Classification report printed\n",
    "- [x] Coefficients interpreted\n",
    "- [x] Reproducibility cell included\n",
    "- [x] Notebook runs top-to-bottom without errors"
   ]
  }
 ],
 "metadata": {
  "kernelspec": {
   "display_name": "Python 3 (ipykernel)",
   "language": "python",
   "name": "python3"
  },
  "language_info": {
   "codemirror_mode": {
    "name": "ipython",
    "version": 3
   },
   "file_extension": ".py",
   "mimetype": "text/x-python",
   "name": "python",
   "nbconvert_exporter": "python",
   "pygments_lexer": "ipython3",
   "version": "3.11.13"
  }
 },
 "nbformat": 4,
 "nbformat_minor": 5
}
