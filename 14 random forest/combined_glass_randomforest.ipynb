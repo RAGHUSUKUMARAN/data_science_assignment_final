{
 "cells": [
  {
   "cell_type": "code",
   "execution_count": null,
   "id": "ed2d384e",
   "metadata": {},
   "outputs": [],
   "source": [
    "# data_visualization_glass.py\n",
    "import pandas as pd\n",
    "import matplotlib.pyplot as plt\n",
    "import seaborn as sns\n",
    "import os"
   ]
  },
  {
   "cell_type": "code",
   "execution_count": null,
   "id": "14d410b4",
   "metadata": {},
   "outputs": [],
   "source": [
    "# === PATH SETUP ===\n",
    "base_path = r\"D:\\DATA SCIENCE\\ASSIGNMENTS\\14 random forest\\Random Forest\"\n",
    "file_path = os.path.join(base_path, \"glass.xlsx\")"
   ]
  },
  {
   "cell_type": "code",
   "execution_count": null,
   "id": "fed19112",
   "metadata": {},
   "outputs": [],
   "source": [
    "# === LOAD DATA ===\n",
    "df = pd.read_excel(file_path, sheet_name=\"glass\")"
   ]
  },
  {
   "cell_type": "code",
   "execution_count": null,
   "id": "6877335c",
   "metadata": {},
   "outputs": [],
   "source": [
    "# === BASIC INFO ===\n",
    "print(\"Shape of dataset:\", df.shape)\n",
    "print(\"Columns:\", list(df.columns))\n",
    "print(\"\\nGlass Types:\", df['Type'].unique())"
   ]
  },
  {
   "cell_type": "code",
   "execution_count": null,
   "id": "d8c893db",
   "metadata": {},
   "outputs": [],
   "source": [
    "# Separate features and target\n",
    "features = df.columns[:-1]\n",
    "target = 'Type'"
   ]
  },
  {
   "cell_type": "code",
   "execution_count": null,
   "id": "fdf63d5b",
   "metadata": {},
   "outputs": [],
   "source": [
    "# === HISTOGRAMS ===\n",
    "plt.figure(figsize=(12, 8))\n",
    "df[features].hist(bins=15, figsize=(12, 8), color='skyblue', edgecolor='black')\n",
    "plt.suptitle(\"Feature Distributions - Glass Dataset\", fontsize=14)\n",
    "plt.tight_layout()\n",
    "plt.savefig(os.path.join(base_path, \"histograms.png\"))\n",
    "plt.close()"
   ]
  },
  {
   "cell_type": "code",
   "execution_count": null,
   "id": "2bd4d540",
   "metadata": {},
   "outputs": [],
   "source": [
    "# === BOXPLOTS ===\n",
    "plt.figure(figsize=(15, 10))\n",
    "for i, col in enumerate(features, 1):\n",
    "    plt.subplot(3, 3, i)\n",
    "    sns.boxplot(y=df[col], color='lightcoral')\n",
    "    plt.title(col, fontsize=10)\n",
    "plt.tight_layout()\n",
    "plt.savefig(os.path.join(base_path, \"boxplots.png\"))\n",
    "plt.close()"
   ]
  },
  {
   "cell_type": "code",
   "execution_count": null,
   "id": "69c42089",
   "metadata": {},
   "outputs": [],
   "source": [
    "# === PAIRPLOT (Visualizing Feature Relationships by Glass Type) ===\n",
    "sns.pairplot(df, hue='Type', palette='husl', diag_kind='hist')\n",
    "plt.suptitle(\"Pairplot - Relationships Between Features and Glass Type\", y=1.02, fontsize=14)\n",
    "plt.savefig(os.path.join(base_path, \"pairplot.png\"))\n",
    "plt.close()"
   ]
  },
  {
   "cell_type": "code",
   "execution_count": null,
   "id": "e1db47ff",
   "metadata": {},
   "outputs": [],
   "source": [
    "# === CORRELATION HEATMAP ===\n",
    "plt.figure(figsize=(10, 8))\n",
    "corr = df[features].corr()\n",
    "sns.heatmap(corr, annot=True, cmap='coolwarm', fmt=\".2f\", linewidths=0.5)\n",
    "plt.title(\"Correlation Heatmap - Glass Dataset\", fontsize=14)\n",
    "plt.tight_layout()\n",
    "plt.savefig(os.path.join(base_path, \"correlation_heatmap.png\"))\n",
    "plt.close()"
   ]
  },
  {
   "cell_type": "code",
   "execution_count": null,
   "id": "ed3029df",
   "metadata": {},
   "outputs": [],
   "source": [
    "print(\"\\n✅ Data Visualization Completed.\")\n",
    "print(\"Visual files saved in:\", base_path)\n",
    "print(\" - histograms.png\")\n",
    "print(\" - boxplots.png\")\n",
    "print(\" - pairplot.png\")\n",
    "print(\" - correlation_heatmap.png\")"
   ]
  },
  {
   "cell_type": "code",
   "execution_count": null,
   "id": "4e903943",
   "metadata": {},
   "outputs": [],
   "source": [
    "# === BASIC INSIGHTS ===\n",
    "print(\"\\n--- ANALYSIS INSIGHTS ---\")\n",
    "print(\"1. Some features like 'K', 'Ba', and 'Fe' have strong skew (many zeros).\")\n",
    "print(\"2. 'RI', 'Na', 'Mg', and 'Ca' show wider variation across glass types.\")\n",
    "print(\"3. Pairplot reveals partial separation between certain glass types using 'Mg' and 'Al'.\")\n",
    "print(\"4. Correlation heatmap shows:\")\n",
    "print(\"   - 'Al' and 'Mg' are negatively correlated.\")\n",
    "print(\"   - 'RI' and 'Si' show mild inverse relationship.\")\n",
    "print(\"   - 'Ca' correlates positively with 'RI' and negatively with 'Al'.\")\n",
    "print(\"\\nThese patterns will help Random Forest identify which elements drive glass classification.\")"
   ]
  },
  {
   "cell_type": "code",
   "execution_count": null,
   "id": "5cfaf03a",
   "metadata": {},
   "outputs": [],
   "source": [
    "# preprocessing_glass_randomforest_safe.py\n",
    "import pandas as pd\n",
    "import numpy as np\n",
    "from sklearn.preprocessing import StandardScaler\n",
    "import os\n",
    "import warnings"
   ]
  },
  {
   "cell_type": "code",
   "execution_count": null,
   "id": "e7e7c12b",
   "metadata": {},
   "outputs": [],
   "source": [
    "# === PATH SETUP ===\n",
    "base_path = r\"D:\\DATA SCIENCE\\ASSIGNMENTS\\14 random forest\\Random Forest\"\n",
    "file_path = os.path.join(base_path, \"glass.xlsx\")\n",
    "processed_path = os.path.join(base_path, \"glass_processed.csv\")"
   ]
  },
  {
   "cell_type": "code",
   "execution_count": null,
   "id": "47edc336",
   "metadata": {},
   "outputs": [],
   "source": [
    "# === LOAD DATA ===\n",
    "df = pd.read_excel(file_path, sheet_name=\"glass\")"
   ]
  },
  {
   "cell_type": "code",
   "execution_count": null,
   "id": "fe34412f",
   "metadata": {},
   "outputs": [],
   "source": [
    "print(\"✅ Dataset loaded successfully.\")\n",
    "print(\"Shape:\", df.shape)\n",
    "print(\"\\n--- Missing Values Check ---\")\n",
    "print(df.isnull().sum())"
   ]
  },
  {
   "cell_type": "code",
   "execution_count": null,
   "id": "b2cdcddb",
   "metadata": {},
   "outputs": [],
   "source": [
    "# =========================================================\n",
    "# 1️⃣ HANDLE MISSING VALUES\n",
    "# =========================================================\n",
    "if df.isnull().sum().sum() == 0:\n",
    "    print(\"\\nNo missing values found — no imputation needed.\")\n",
    "else:\n",
    "    print(\"\\nMissing values detected. Applying median imputation.\")\n",
    "    df = df.fillna(df.median())"
   ]
  },
  {
   "cell_type": "code",
   "execution_count": null,
   "id": "108e3697",
   "metadata": {},
   "outputs": [],
   "source": [
    "# =========================================================\n",
    "# 2️⃣ ENCODE CATEGORICAL VARIABLES\n",
    "# =========================================================\n",
    "cat_cols = df.select_dtypes(include=['object']).columns\n",
    "if len(cat_cols) > 0:\n",
    "    print(\"\\nCategorical columns found:\", list(cat_cols))\n",
    "    df = pd.get_dummies(df, columns=cat_cols, drop_first=True)\n",
    "else:\n",
    "    print(\"\\nNo categorical columns — encoding not required.\")"
   ]
  },
  {
   "cell_type": "code",
   "execution_count": null,
   "id": "b47732e4",
   "metadata": {},
   "outputs": [],
   "source": [
    "# =========================================================\n",
    "# 3️⃣ FEATURE SCALING\n",
    "# =========================================================\n",
    "X = df.drop(columns=['Type'])\n",
    "y = df['Type']"
   ]
  },
  {
   "cell_type": "code",
   "execution_count": null,
   "id": "d868b21d",
   "metadata": {},
   "outputs": [],
   "source": [
    "scaler = StandardScaler()\n",
    "X_scaled = pd.DataFrame(scaler.fit_transform(X), columns=X.columns)"
   ]
  },
  {
   "cell_type": "code",
   "execution_count": null,
   "id": "8bc7b0f1",
   "metadata": {},
   "outputs": [],
   "source": [
    "print(\"\\nFeature scaling (Standardization) applied successfully.\")\n",
    "print(\"Mean of scaled features (approx):\\n\", X_scaled.mean().round(3))\n",
    "print(\"Std dev of scaled features (approx):\\n\", X_scaled.std().round(3))"
   ]
  },
  {
   "cell_type": "code",
   "execution_count": null,
   "id": "656fb2b9",
   "metadata": {},
   "outputs": [],
   "source": [
    "# =========================================================\n",
    "# 4️⃣ HANDLE IMBALANCED DATA (try SMOTE, else fallback)\n",
    "# =========================================================\n",
    "print(\"\\n--- Target Distribution Before Balancing ---\")\n",
    "print(y.value_counts())"
   ]
  },
  {
   "cell_type": "code",
   "execution_count": null,
   "id": "cf1c8b61",
   "metadata": {},
   "outputs": [],
   "source": [
    "use_smote = False\n",
    "try:\n",
    "    from imblearn.over_sampling import SMOTE\n",
    "    use_smote = True\n",
    "except Exception as e:\n",
    "    print(\"\\nNote: imbalanced-learn / SMOTE not available or failed to import.\")\n",
    "    print(\"Reason:\", str(e))\n",
    "    print(\"Proceeding without SMOTE (data will remain unbalanced).\")"
   ]
  },
  {
   "cell_type": "code",
   "execution_count": null,
   "id": "57c10c83",
   "metadata": {},
   "outputs": [],
   "source": [
    "if use_smote:\n",
    "    # Try SMOTE, but protect against runtime errors (e.g., too few samples for k_neighbors)\n",
    "    try:\n",
    "        # For small classes, set k_neighbors to min(3, n_min_class-1)\n",
    "        from collections import Counter\n",
    "        class_counts = Counter(y)\n",
    "        n_min = min(class_counts.values())\n",
    "        k_neighbors = 3\n",
    "        if n_min <= 3:\n",
    "            k_neighbors = max(1, n_min - 1)  # SMOTE requires k_neighbors < n_min, adjust down safely\n",
    "        smote = SMOTE(random_state=42, k_neighbors=k_neighbors)\n",
    "        X_bal, y_bal = smote.fit_resample(X_scaled, y)\n",
    "        print(\"\\nSMOTE applied successfully.\")\n",
    "        print(\"--- Target Distribution After SMOTE Balancing ---\")\n",
    "        print(pd.Series(y_bal).value_counts())\n",
    "        final_X, final_y = X_bal, y_bal\n",
    "    except Exception as e:\n",
    "        warnings.warn(f\"SMOTE failed at fit_resample: {e}. Proceeding without SMOTE.\")\n",
    "        final_X, final_y = X_scaled, y\n",
    "else:\n",
    "    final_X, final_y = X_scaled, y"
   ]
  },
  {
   "cell_type": "code",
   "execution_count": null,
   "id": "a5570372",
   "metadata": {},
   "outputs": [],
   "source": [
    "# =========================================================\n",
    "# SAVE PROCESSED DATA\n",
    "# =========================================================\n",
    "processed_df = pd.concat([pd.DataFrame(final_X, columns=X.columns), pd.Series(final_y, name=\"Type\")], axis=1)\n",
    "processed_df.to_csv(processed_path, index=False)"
   ]
  },
  {
   "cell_type": "code",
   "execution_count": null,
   "id": "a8f83453",
   "metadata": {},
   "outputs": [],
   "source": [
    "print(f\"\\n✅ Data Preprocessing Completed Successfully.\")\n",
    "print(\"Processed file saved as:\", processed_path)\n",
    "print(\"Final shape:\", processed_df.shape)"
   ]
  },
  {
   "cell_type": "code",
   "execution_count": null,
   "id": "55a121f6",
   "metadata": {},
   "outputs": [],
   "source": [
    "# eda_glass_randomforest.py\n",
    "import pandas as pd\n",
    "import matplotlib.pyplot as plt\n",
    "import seaborn as sns\n",
    "import os"
   ]
  },
  {
   "cell_type": "code",
   "execution_count": null,
   "id": "682eb931",
   "metadata": {},
   "outputs": [],
   "source": [
    "# === PATH SETUP ===\n",
    "base_path = r\"D:\\DATA SCIENCE\\ASSIGNMENTS\\14 random forest\\Random Forest\"\n",
    "file_path = os.path.join(base_path, \"glass.xlsx\")"
   ]
  },
  {
   "cell_type": "code",
   "execution_count": null,
   "id": "67323a2c",
   "metadata": {},
   "outputs": [],
   "source": [
    "# === LOAD DATA ===\n",
    "df = pd.read_excel(file_path, sheet_name=\"glass\")"
   ]
  },
  {
   "cell_type": "code",
   "execution_count": null,
   "id": "729e6208",
   "metadata": {},
   "outputs": [],
   "source": [
    "# === BASIC STRUCTURE ===\n",
    "print(\"Shape of dataset:\", df.shape)\n",
    "print(\"\\n--- Dataset Info ---\")\n",
    "print(df.info())"
   ]
  },
  {
   "cell_type": "code",
   "execution_count": null,
   "id": "2aeb28cd",
   "metadata": {},
   "outputs": [],
   "source": [
    "# === CHECK FOR MISSING VALUES ===\n",
    "print(\"\\n--- Missing Values ---\")\n",
    "print(df.isnull().sum())"
   ]
  },
  {
   "cell_type": "code",
   "execution_count": null,
   "id": "b475beea",
   "metadata": {},
   "outputs": [],
   "source": [
    "# === CHECK FOR DUPLICATES ===\n",
    "print(\"\\nDuplicate rows:\", df.duplicated().sum())"
   ]
  },
  {
   "cell_type": "code",
   "execution_count": null,
   "id": "a65311c7",
   "metadata": {},
   "outputs": [],
   "source": [
    "# === DESCRIPTIVE STATISTICS ===\n",
    "print(\"\\n--- Summary Statistics ---\")\n",
    "print(df.describe().T)"
   ]
  },
  {
   "cell_type": "code",
   "execution_count": null,
   "id": "743de2cd",
   "metadata": {},
   "outputs": [],
   "source": [
    "# === TARGET DISTRIBUTION ===\n",
    "print(\"\\n--- Target Value Counts (Type) ---\")\n",
    "print(df['Type'].value_counts())"
   ]
  },
  {
   "cell_type": "code",
   "execution_count": null,
   "id": "444d5aa3",
   "metadata": {},
   "outputs": [],
   "source": [
    "# === HISTOGRAMS ===\n",
    "num_cols = df.columns[:-1]  # all features except target\n",
    "df[num_cols].hist(bins=15, figsize=(12, 8))\n",
    "plt.suptitle(\"Feature Distributions - Glass Dataset\", fontsize=14)\n",
    "plt.savefig(os.path.join(base_path, \"histograms.png\"))\n",
    "plt.close()"
   ]
  },
  {
   "cell_type": "code",
   "execution_count": null,
   "id": "19ac673a",
   "metadata": {},
   "outputs": [],
   "source": [
    "# === BOXPLOTS FOR OUTLIERS ===\n",
    "plt.figure(figsize=(14, 8))\n",
    "for i, col in enumerate(num_cols, 1):\n",
    "    plt.subplot(3, 3, i)\n",
    "    sns.boxplot(y=df[col], color='skyblue')\n",
    "    plt.title(col)\n",
    "plt.tight_layout()\n",
    "plt.savefig(os.path.join(base_path, \"boxplots.png\"))\n",
    "plt.close()"
   ]
  },
  {
   "cell_type": "code",
   "execution_count": null,
   "id": "be46567b",
   "metadata": {},
   "outputs": [],
   "source": [
    "# === CORRELATION MATRIX ===\n",
    "corr = df[num_cols].corr()\n",
    "plt.figure(figsize=(10, 8))\n",
    "sns.heatmap(corr, annot=True, cmap='coolwarm', fmt=\".2f\")\n",
    "plt.title(\"Correlation Matrix - Glass Dataset\")\n",
    "plt.savefig(os.path.join(base_path, \"correlation_matrix.png\"))\n",
    "plt.close()"
   ]
  },
  {
   "cell_type": "markdown",
   "id": "2a7941e8",
   "metadata": {},
   "source": [
    "=== PAIRPLOT (OPTIONAL - for visual patterns) ===\n",
    "sns.pairplot(df, hue='Type')\n",
    "plt.savefig(os.path.join(base_path, \"pairplot.png\"))\n",
    "plt.close()"
   ]
  },
  {
   "cell_type": "code",
   "execution_count": null,
   "id": "a6552736",
   "metadata": {},
   "outputs": [],
   "source": [
    "print(\"\\nEDA completed successfully.\")\n",
    "print(\"Plots saved in:\", base_path)\n",
    "print(\"Files created:\")\n",
    "print(\" - histograms.png\")\n",
    "print(\" - boxplots.png\")\n",
    "print(\" - correlation_matrix.png\")\n",
    "# print(\" - pairplot.png (optional, uncomment if needed)\")"
   ]
  }
 ],
 "metadata": {},
 "nbformat": 4,
 "nbformat_minor": 5
}
