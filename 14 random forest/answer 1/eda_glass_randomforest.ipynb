{
 "cells": [
  {
   "cell_type": "code",
   "execution_count": null,
   "id": "55a121f6",
   "metadata": {},
   "outputs": [],
   "source": [
    "# eda_glass_randomforest.py\n",
    "import pandas as pd\n",
    "import matplotlib.pyplot as plt\n",
    "import seaborn as sns\n",
    "import os"
   ]
  },
  {
   "cell_type": "code",
   "execution_count": null,
   "id": "682eb931",
   "metadata": {},
   "outputs": [],
   "source": [
    "# === PATH SETUP ===\n",
    "base_path = r\"D:\\DATA SCIENCE\\ASSIGNMENTS\\14 random forest\\Random Forest\"\n",
    "file_path = os.path.join(base_path, \"glass.xlsx\")"
   ]
  },
  {
   "cell_type": "code",
   "execution_count": null,
   "id": "67323a2c",
   "metadata": {},
   "outputs": [],
   "source": [
    "# === LOAD DATA ===\n",
    "df = pd.read_excel(file_path, sheet_name=\"glass\")"
   ]
  },
  {
   "cell_type": "code",
   "execution_count": null,
   "id": "729e6208",
   "metadata": {},
   "outputs": [],
   "source": [
    "# === BASIC STRUCTURE ===\n",
    "print(\"Shape of dataset:\", df.shape)\n",
    "print(\"\\n--- Dataset Info ---\")\n",
    "print(df.info())"
   ]
  },
  {
   "cell_type": "code",
   "execution_count": null,
   "id": "2aeb28cd",
   "metadata": {},
   "outputs": [],
   "source": [
    "# === CHECK FOR MISSING VALUES ===\n",
    "print(\"\\n--- Missing Values ---\")\n",
    "print(df.isnull().sum())"
   ]
  },
  {
   "cell_type": "code",
   "execution_count": null,
   "id": "b475beea",
   "metadata": {},
   "outputs": [],
   "source": [
    "# === CHECK FOR DUPLICATES ===\n",
    "print(\"\\nDuplicate rows:\", df.duplicated().sum())"
   ]
  },
  {
   "cell_type": "code",
   "execution_count": null,
   "id": "a65311c7",
   "metadata": {},
   "outputs": [],
   "source": [
    "# === DESCRIPTIVE STATISTICS ===\n",
    "print(\"\\n--- Summary Statistics ---\")\n",
    "print(df.describe().T)"
   ]
  },
  {
   "cell_type": "code",
   "execution_count": null,
   "id": "743de2cd",
   "metadata": {},
   "outputs": [],
   "source": [
    "# === TARGET DISTRIBUTION ===\n",
    "print(\"\\n--- Target Value Counts (Type) ---\")\n",
    "print(df['Type'].value_counts())"
   ]
  },
  {
   "cell_type": "code",
   "execution_count": null,
   "id": "444d5aa3",
   "metadata": {},
   "outputs": [],
   "source": [
    "# === HISTOGRAMS ===\n",
    "num_cols = df.columns[:-1]  # all features except target\n",
    "df[num_cols].hist(bins=15, figsize=(12, 8))\n",
    "plt.suptitle(\"Feature Distributions - Glass Dataset\", fontsize=14)\n",
    "plt.savefig(os.path.join(base_path, \"histograms.png\"))\n",
    "plt.close()"
   ]
  },
  {
   "cell_type": "code",
   "execution_count": null,
   "id": "19ac673a",
   "metadata": {},
   "outputs": [],
   "source": [
    "# === BOXPLOTS FOR OUTLIERS ===\n",
    "plt.figure(figsize=(14, 8))\n",
    "for i, col in enumerate(num_cols, 1):\n",
    "    plt.subplot(3, 3, i)\n",
    "    sns.boxplot(y=df[col], color='skyblue')\n",
    "    plt.title(col)\n",
    "plt.tight_layout()\n",
    "plt.savefig(os.path.join(base_path, \"boxplots.png\"))\n",
    "plt.close()"
   ]
  },
  {
   "cell_type": "code",
   "execution_count": null,
   "id": "be46567b",
   "metadata": {},
   "outputs": [],
   "source": [
    "# === CORRELATION MATRIX ===\n",
    "corr = df[num_cols].corr()\n",
    "plt.figure(figsize=(10, 8))\n",
    "sns.heatmap(corr, annot=True, cmap='coolwarm', fmt=\".2f\")\n",
    "plt.title(\"Correlation Matrix - Glass Dataset\")\n",
    "plt.savefig(os.path.join(base_path, \"correlation_matrix.png\"))\n",
    "plt.close()"
   ]
  },
  {
   "cell_type": "markdown",
   "id": "2a7941e8",
   "metadata": {},
   "source": [
    "=== PAIRPLOT (OPTIONAL - for visual patterns) ===\n",
    "sns.pairplot(df, hue='Type')\n",
    "plt.savefig(os.path.join(base_path, \"pairplot.png\"))\n",
    "plt.close()"
   ]
  },
  {
   "cell_type": "code",
   "execution_count": null,
   "id": "a6552736",
   "metadata": {},
   "outputs": [],
   "source": [
    "print(\"\\nEDA completed successfully.\")\n",
    "print(\"Plots saved in:\", base_path)\n",
    "print(\"Files created:\")\n",
    "print(\" - histograms.png\")\n",
    "print(\" - boxplots.png\")\n",
    "print(\" - correlation_matrix.png\")\n",
    "# print(\" - pairplot.png (optional, uncomment if needed)\")"
   ]
  }
 ],
 "metadata": {
  "jupytext": {
   "cell_metadata_filter": "-all",
   "main_language": "python",
   "notebook_metadata_filter": "-all"
  }
 },
 "nbformat": 4,
 "nbformat_minor": 5
}
