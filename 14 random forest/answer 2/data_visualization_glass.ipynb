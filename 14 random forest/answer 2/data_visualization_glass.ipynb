{
 "cells": [
  {
   "cell_type": "code",
   "execution_count": null,
   "id": "ed2d384e",
   "metadata": {},
   "outputs": [],
   "source": [
    "# data_visualization_glass.py\n",
    "import pandas as pd\n",
    "import matplotlib.pyplot as plt\n",
    "import seaborn as sns\n",
    "import os"
   ]
  },
  {
   "cell_type": "code",
   "execution_count": null,
   "id": "14d410b4",
   "metadata": {},
   "outputs": [],
   "source": [
    "# === PATH SETUP ===\n",
    "base_path = r\"D:\\DATA SCIENCE\\ASSIGNMENTS\\14 random forest\\Random Forest\"\n",
    "file_path = os.path.join(base_path, \"glass.xlsx\")"
   ]
  },
  {
   "cell_type": "code",
   "execution_count": null,
   "id": "fed19112",
   "metadata": {},
   "outputs": [],
   "source": [
    "# === LOAD DATA ===\n",
    "df = pd.read_excel(file_path, sheet_name=\"glass\")"
   ]
  },
  {
   "cell_type": "code",
   "execution_count": null,
   "id": "6877335c",
   "metadata": {},
   "outputs": [],
   "source": [
    "# === BASIC INFO ===\n",
    "print(\"Shape of dataset:\", df.shape)\n",
    "print(\"Columns:\", list(df.columns))\n",
    "print(\"\\nGlass Types:\", df['Type'].unique())"
   ]
  },
  {
   "cell_type": "code",
   "execution_count": null,
   "id": "d8c893db",
   "metadata": {},
   "outputs": [],
   "source": [
    "# Separate features and target\n",
    "features = df.columns[:-1]\n",
    "target = 'Type'"
   ]
  },
  {
   "cell_type": "code",
   "execution_count": null,
   "id": "fdf63d5b",
   "metadata": {},
   "outputs": [],
   "source": [
    "# === HISTOGRAMS ===\n",
    "plt.figure(figsize=(12, 8))\n",
    "df[features].hist(bins=15, figsize=(12, 8), color='skyblue', edgecolor='black')\n",
    "plt.suptitle(\"Feature Distributions - Glass Dataset\", fontsize=14)\n",
    "plt.tight_layout()\n",
    "plt.savefig(os.path.join(base_path, \"histograms.png\"))\n",
    "plt.close()"
   ]
  },
  {
   "cell_type": "code",
   "execution_count": null,
   "id": "2bd4d540",
   "metadata": {},
   "outputs": [],
   "source": [
    "# === BOXPLOTS ===\n",
    "plt.figure(figsize=(15, 10))\n",
    "for i, col in enumerate(features, 1):\n",
    "    plt.subplot(3, 3, i)\n",
    "    sns.boxplot(y=df[col], color='lightcoral')\n",
    "    plt.title(col, fontsize=10)\n",
    "plt.tight_layout()\n",
    "plt.savefig(os.path.join(base_path, \"boxplots.png\"))\n",
    "plt.close()"
   ]
  },
  {
   "cell_type": "code",
   "execution_count": null,
   "id": "69c42089",
   "metadata": {},
   "outputs": [],
   "source": [
    "# === PAIRPLOT (Visualizing Feature Relationships by Glass Type) ===\n",
    "sns.pairplot(df, hue='Type', palette='husl', diag_kind='hist')\n",
    "plt.suptitle(\"Pairplot - Relationships Between Features and Glass Type\", y=1.02, fontsize=14)\n",
    "plt.savefig(os.path.join(base_path, \"pairplot.png\"))\n",
    "plt.close()"
   ]
  },
  {
   "cell_type": "code",
   "execution_count": null,
   "id": "e1db47ff",
   "metadata": {},
   "outputs": [],
   "source": [
    "# === CORRELATION HEATMAP ===\n",
    "plt.figure(figsize=(10, 8))\n",
    "corr = df[features].corr()\n",
    "sns.heatmap(corr, annot=True, cmap='coolwarm', fmt=\".2f\", linewidths=0.5)\n",
    "plt.title(\"Correlation Heatmap - Glass Dataset\", fontsize=14)\n",
    "plt.tight_layout()\n",
    "plt.savefig(os.path.join(base_path, \"correlation_heatmap.png\"))\n",
    "plt.close()"
   ]
  },
  {
   "cell_type": "code",
   "execution_count": null,
   "id": "ed3029df",
   "metadata": {},
   "outputs": [],
   "source": [
    "print(\"\\n✅ Data Visualization Completed.\")\n",
    "print(\"Visual files saved in:\", base_path)\n",
    "print(\" - histograms.png\")\n",
    "print(\" - boxplots.png\")\n",
    "print(\" - pairplot.png\")\n",
    "print(\" - correlation_heatmap.png\")"
   ]
  },
  {
   "cell_type": "code",
   "execution_count": null,
   "id": "4e903943",
   "metadata": {},
   "outputs": [],
   "source": [
    "# === BASIC INSIGHTS ===\n",
    "print(\"\\n--- ANALYSIS INSIGHTS ---\")\n",
    "print(\"1. Some features like 'K', 'Ba', and 'Fe' have strong skew (many zeros).\")\n",
    "print(\"2. 'RI', 'Na', 'Mg', and 'Ca' show wider variation across glass types.\")\n",
    "print(\"3. Pairplot reveals partial separation between certain glass types using 'Mg' and 'Al'.\")\n",
    "print(\"4. Correlation heatmap shows:\")\n",
    "print(\"   - 'Al' and 'Mg' are negatively correlated.\")\n",
    "print(\"   - 'RI' and 'Si' show mild inverse relationship.\")\n",
    "print(\"   - 'Ca' correlates positively with 'RI' and negatively with 'Al'.\")\n",
    "print(\"\\nThese patterns will help Random Forest identify which elements drive glass classification.\")"
   ]
  }
 ],
 "metadata": {
  "jupytext": {
   "cell_metadata_filter": "-all",
   "main_language": "python",
   "notebook_metadata_filter": "-all"
  }
 },
 "nbformat": 4,
 "nbformat_minor": 5
}
