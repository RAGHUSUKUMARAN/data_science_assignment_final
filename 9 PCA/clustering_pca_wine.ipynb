{
 "cells": [
  {
   "cell_type": "code",
   "execution_count": null,
   "id": "3020ef21",
   "metadata": {},
   "outputs": [],
   "source": [
    "import pandas as pd\n",
    "import matplotlib.pyplot as plt\n",
    "import seaborn as sns\n",
    "from sklearn.preprocessing import StandardScaler\n",
    "from sklearn.decomposition import PCA\n",
    "from sklearn.cluster import KMeans\n",
    "from sklearn.metrics import silhouette_score, davies_bouldin_score"
   ]
  },
  {
   "cell_type": "code",
   "execution_count": null,
   "id": "f0305e2f",
   "metadata": {},
   "outputs": [],
   "source": [
    "# Load dataset\n",
    "file_path = r\"D:\\DATA SCIENCE\\ASSIGNMENTS\\9 PCA\\PCA\\wine.csv\"\n",
    "df = pd.read_csv(file_path)"
   ]
  },
  {
   "cell_type": "code",
   "execution_count": null,
   "id": "95159e55",
   "metadata": {},
   "outputs": [],
   "source": [
    "# Separate features and target\n",
    "X = df.drop(columns=['Type'])\n",
    "y = df['Type']"
   ]
  },
  {
   "cell_type": "code",
   "execution_count": null,
   "id": "b98cae47",
   "metadata": {},
   "outputs": [],
   "source": [
    "# Standardize\n",
    "scaler = StandardScaler()\n",
    "X_scaled = scaler.fit_transform(X)"
   ]
  },
  {
   "cell_type": "code",
   "execution_count": null,
   "id": "a0b513d6",
   "metadata": {},
   "outputs": [],
   "source": [
    "# PCA (reduce to 2 components for visualization)\n",
    "pca = PCA(n_components=2)\n",
    "X_pca = pca.fit_transform(X_scaled)"
   ]
  },
  {
   "cell_type": "code",
   "execution_count": null,
   "id": "32e3deda",
   "metadata": {},
   "outputs": [],
   "source": [
    "# Try different k values on PCA data\n",
    "inertia = []\n",
    "sil_scores = []\n",
    "K = range(2, 10)"
   ]
  },
  {
   "cell_type": "code",
   "execution_count": null,
   "id": "61d91c22",
   "metadata": {},
   "outputs": [],
   "source": [
    "for k in K:\n",
    "    km = KMeans(n_clusters=k, random_state=42, n_init=10)\n",
    "    labels = km.fit_predict(X_pca)\n",
    "    inertia.append(km.inertia_)\n",
    "    sil_scores.append(silhouette_score(X_pca, labels))"
   ]
  },
  {
   "cell_type": "code",
   "execution_count": null,
   "id": "eb9cfb22",
   "metadata": {},
   "outputs": [],
   "source": [
    "# Elbow & Silhouette plots\n",
    "plt.figure(figsize=(12,5))\n",
    "plt.subplot(1,2,1)\n",
    "plt.plot(K, inertia, marker='o')\n",
    "plt.title(\"Elbow Method (PCA data)\")\n",
    "plt.xlabel(\"Number of clusters\")\n",
    "plt.ylabel(\"Inertia\")"
   ]
  },
  {
   "cell_type": "code",
   "execution_count": null,
   "id": "d0028316",
   "metadata": {},
   "outputs": [],
   "source": [
    "plt.subplot(1,2,2)\n",
    "plt.plot(K, sil_scores, marker='o')\n",
    "plt.title(\"Silhouette Score vs k (PCA data)\")\n",
    "plt.xlabel(\"Number of clusters\")\n",
    "plt.ylabel(\"Silhouette Score\")\n",
    "plt.tight_layout()\n",
    "plt.show()"
   ]
  },
  {
   "cell_type": "code",
   "execution_count": null,
   "id": "1b582d1f",
   "metadata": {},
   "outputs": [],
   "source": [
    "# Final KMeans with k=3\n",
    "kmeans_pca = KMeans(n_clusters=3, random_state=42, n_init=10)\n",
    "labels_pca = kmeans_pca.fit_predict(X_pca)"
   ]
  },
  {
   "cell_type": "code",
   "execution_count": null,
   "id": "229c705d",
   "metadata": {},
   "outputs": [],
   "source": [
    "# Scatter plot in PCA space\n",
    "plt.figure(figsize=(8,6))\n",
    "sns.scatterplot(x=X_pca[:,0], y=X_pca[:,1], hue=labels_pca, palette=\"Set2\", alpha=0.8)\n",
    "plt.xlabel(\"PC1\")\n",
    "plt.ylabel(\"PC2\")\n",
    "plt.title(\"K-Means Clusters (k=3) on PCA-reduced data\")\n",
    "plt.legend(title=\"Cluster\")\n",
    "plt.show()"
   ]
  },
  {
   "cell_type": "code",
   "execution_count": null,
   "id": "32861dc1",
   "metadata": {},
   "outputs": [],
   "source": [
    "# Evaluate clustering\n",
    "sil_pca = silhouette_score(X_pca, labels_pca)\n",
    "dbi_pca = davies_bouldin_score(X_pca, labels_pca)\n",
    "print(f\"Silhouette Score (k=3, PCA data): {sil_pca:.3f}\")\n",
    "print(f\"Davies-Bouldin Index (k=3, PCA data): {dbi_pca:.3f}\")"
   ]
  }
 ],
 "metadata": {
  "jupytext": {
   "cell_metadata_filter": "-all",
   "main_language": "python",
   "notebook_metadata_filter": "-all"
  }
 },
 "nbformat": 4,
 "nbformat_minor": 5
}
