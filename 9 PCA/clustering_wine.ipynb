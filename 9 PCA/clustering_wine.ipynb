{
 "cells": [
  {
   "cell_type": "code",
   "execution_count": null,
   "id": "f4be6b46",
   "metadata": {},
   "outputs": [],
   "source": [
    "import pandas as pd\n",
    "import matplotlib.pyplot as plt\n",
    "import seaborn as sns\n",
    "from sklearn.preprocessing import StandardScaler\n",
    "from sklearn.decomposition import PCA\n",
    "from sklearn.cluster import KMeans\n",
    "from sklearn.metrics import silhouette_score, davies_bouldin_score"
   ]
  },
  {
   "cell_type": "code",
   "execution_count": null,
   "id": "689f3758",
   "metadata": {},
   "outputs": [],
   "source": [
    "# Load dataset\n",
    "file_path = r\"D:\\DATA SCIENCE\\ASSIGNMENTS\\9 PCA\\PCA\\wine.csv\"\n",
    "df = pd.read_csv(file_path)"
   ]
  },
  {
   "cell_type": "code",
   "execution_count": null,
   "id": "1eeeee70",
   "metadata": {},
   "outputs": [],
   "source": [
    "# Separate features and target\n",
    "X = df.drop(columns=['Type'])\n",
    "y = df['Type']"
   ]
  },
  {
   "cell_type": "code",
   "execution_count": null,
   "id": "5853f748",
   "metadata": {},
   "outputs": [],
   "source": [
    "# Standardize features\n",
    "scaler = StandardScaler()\n",
    "X_scaled = scaler.fit_transform(X)"
   ]
  },
  {
   "cell_type": "code",
   "execution_count": null,
   "id": "8eacd572",
   "metadata": {},
   "outputs": [],
   "source": [
    "# Try different K values\n",
    "inertia = []\n",
    "silhouette_scores = []\n",
    "dbi_scores = []\n",
    "K = range(2, 10)"
   ]
  },
  {
   "cell_type": "code",
   "execution_count": null,
   "id": "b9e9a2c9",
   "metadata": {},
   "outputs": [],
   "source": [
    "for k in K:\n",
    "    kmeans = KMeans(n_clusters=k, random_state=42, n_init=10)\n",
    "    labels = kmeans.fit_predict(X_scaled)\n",
    "    inertia.append(kmeans.inertia_)\n",
    "    silhouette_scores.append(silhouette_score(X_scaled, labels))\n",
    "    dbi_scores.append(davies_bouldin_score(X_scaled, labels))"
   ]
  },
  {
   "cell_type": "code",
   "execution_count": null,
   "id": "3dba2853",
   "metadata": {},
   "outputs": [],
   "source": [
    "# Plot Elbow & Silhouette\n",
    "plt.figure(figsize=(12,5))\n",
    "plt.subplot(1,2,1)\n",
    "plt.plot(K, inertia, marker='o')\n",
    "plt.title(\"Elbow Method (Inertia)\")\n",
    "plt.xlabel(\"Number of clusters (k)\")\n",
    "plt.ylabel(\"Inertia\")"
   ]
  },
  {
   "cell_type": "code",
   "execution_count": null,
   "id": "ba0d61f4",
   "metadata": {},
   "outputs": [],
   "source": [
    "plt.subplot(1,2,2)\n",
    "plt.plot(K, silhouette_scores, marker='o')\n",
    "plt.title(\"Silhouette Score vs k\")\n",
    "plt.xlabel(\"Number of clusters (k)\")\n",
    "plt.ylabel(\"Silhouette Score\")\n",
    "plt.tight_layout()\n",
    "plt.show()"
   ]
  },
  {
   "cell_type": "code",
   "execution_count": null,
   "id": "29884ad4",
   "metadata": {},
   "outputs": [],
   "source": [
    "# Choose k=3 (based on evaluation)\n",
    "kmeans = KMeans(n_clusters=3, random_state=42, n_init=10)\n",
    "labels = kmeans.fit_predict(X_scaled)"
   ]
  },
  {
   "cell_type": "code",
   "execution_count": null,
   "id": "b4934eaa",
   "metadata": {},
   "outputs": [],
   "source": [
    "# PCA for 2D visualization\n",
    "pca = PCA(n_components=2)\n",
    "X_pca = pca.fit_transform(X_scaled)"
   ]
  },
  {
   "cell_type": "code",
   "execution_count": null,
   "id": "07c4ef9b",
   "metadata": {},
   "outputs": [],
   "source": [
    "plt.figure(figsize=(8,6))\n",
    "sns.scatterplot(x=X_pca[:,0], y=X_pca[:,1], hue=labels, palette=\"Set2\", alpha=0.8)\n",
    "plt.xlabel(\"PC1\")\n",
    "plt.ylabel(\"PC2\")\n",
    "plt.title(\"K-Means Clusters (k=3) visualized on PCA-reduced space\")\n",
    "plt.legend(title=\"Cluster\")\n",
    "plt.show()"
   ]
  },
  {
   "cell_type": "code",
   "execution_count": null,
   "id": "622a5a2a",
   "metadata": {},
   "outputs": [],
   "source": [
    "# Evaluate clustering\n",
    "sil_score = silhouette_score(X_scaled, labels)\n",
    "dbi_score = davies_bouldin_score(X_scaled, labels)\n",
    "print(f\"Silhouette Score (k=3): {sil_score:.3f}\")\n",
    "print(f\"Davies-Bouldin Index (k=3): {dbi_score:.3f}\")"
   ]
  }
 ],
 "metadata": {
  "jupytext": {
   "cell_metadata_filter": "-all",
   "main_language": "python",
   "notebook_metadata_filter": "-all"
  }
 },
 "nbformat": 4,
 "nbformat_minor": 5
}
