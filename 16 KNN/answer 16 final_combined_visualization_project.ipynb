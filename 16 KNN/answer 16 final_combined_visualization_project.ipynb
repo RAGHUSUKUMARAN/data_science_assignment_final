{
 "cells": [
  {
   "cell_type": "code",
   "execution_count": 1,
   "id": "d520652c",
   "metadata": {},
   "outputs": [],
   "source": [
    "import pandas as pd\n",
    "import matplotlib.pyplot as plt\n",
    "import seaborn as sns"
   ]
  },
  {
   "cell_type": "code",
   "execution_count": 4,
   "id": "528ffb7b",
   "metadata": {},
   "outputs": [],
   "source": [
    "# Load the dataset\n",
    "file_path = r\"D:\\DATA-SCIENCE\\ASSIGNMENTS\\16 KNN\\zoo.csv\"\n",
    "zoo_df = pd.read_csv(file_path)"
   ]
  },
  {
   "cell_type": "code",
   "execution_count": 5,
   "id": "09377214-4926-4590-b516-45e0a19b60e2",
   "metadata": {},
   "outputs": [
    {
     "name": "stdout",
     "output_type": "stream",
     "text": [
      "  animal name  hair  feathers  eggs  milk  airborne  aquatic  predator  \\\n",
      "0    aardvark     1         0     0     1         0        0         1   \n",
      "1    antelope     1         0     0     1         0        0         0   \n",
      "2        bass     0         0     1     0         0        1         1   \n",
      "3        bear     1         0     0     1         0        0         1   \n",
      "4        boar     1         0     0     1         0        0         1   \n",
      "\n",
      "   toothed  backbone  breathes  venomous  fins  legs  tail  domestic  catsize  \\\n",
      "0        1         1         1         0     0     4     0         0        1   \n",
      "1        1         1         1         0     0     4     1         0        1   \n",
      "2        1         1         0         0     1     0     1         0        0   \n",
      "3        1         1         1         0     0     4     0         0        1   \n",
      "4        1         1         1         0     0     4     1         0        1   \n",
      "\n",
      "   type  \n",
      "0     1  \n",
      "1     1  \n",
      "2     4  \n",
      "3     1  \n",
      "4     1  \n",
      "<class 'pandas.core.frame.DataFrame'>\n",
      "RangeIndex: 101 entries, 0 to 100\n",
      "Data columns (total 18 columns):\n",
      " #   Column       Non-Null Count  Dtype \n",
      "---  ------       --------------  ----- \n",
      " 0   animal name  101 non-null    object\n",
      " 1   hair         101 non-null    int64 \n",
      " 2   feathers     101 non-null    int64 \n",
      " 3   eggs         101 non-null    int64 \n",
      " 4   milk         101 non-null    int64 \n",
      " 5   airborne     101 non-null    int64 \n",
      " 6   aquatic      101 non-null    int64 \n",
      " 7   predator     101 non-null    int64 \n",
      " 8   toothed      101 non-null    int64 \n",
      " 9   backbone     101 non-null    int64 \n",
      " 10  breathes     101 non-null    int64 \n",
      " 11  venomous     101 non-null    int64 \n",
      " 12  fins         101 non-null    int64 \n",
      " 13  legs         101 non-null    int64 \n",
      " 14  tail         101 non-null    int64 \n",
      " 15  domestic     101 non-null    int64 \n",
      " 16  catsize      101 non-null    int64 \n",
      " 17  type         101 non-null    int64 \n",
      "dtypes: int64(17), object(1)\n",
      "memory usage: 14.3+ KB\n",
      "None\n"
     ]
    }
   ],
   "source": [
    "import pandas as pd\n",
    "\n",
    "df = pd.read_csv(\"Zoo.csv\")\n",
    "print(df.head())\n",
    "print(df.info())\n"
   ]
  },
  {
   "cell_type": "code",
   "execution_count": null,
   "id": "9bd8f6d6",
   "metadata": {},
   "outputs": [],
   "source": [
    "# Drop non-numeric column\n",
    "zoo_df = zoo_df.drop(columns=[\"animal name\"])"
   ]
  },
  {
   "cell_type": "code",
   "execution_count": null,
   "id": "348836be",
   "metadata": {},
   "outputs": [],
   "source": [
    "# 1. Correlation heatmap\n",
    "plt.figure(figsize=(12, 8))\n",
    "sns.heatmap(zoo_df.corr(numeric_only=True), cmap=\"coolwarm\", annot=False)\n",
    "plt.title(\"Feature Correlation Heatmap\")\n",
    "plt.show()"
   ]
  },
  {
   "cell_type": "code",
   "execution_count": null,
   "id": "828e624e",
   "metadata": {},
   "outputs": [],
   "source": [
    "# 2. Pairplot (simplified to avoid overload)\n",
    "selected_features = ['hair', 'feathers', 'eggs', 'milk', 'aquatic', 'legs', 'type']\n",
    "sns.pairplot(zoo_df[selected_features], hue='type', diag_kind=\"hist\", palette='viridis')\n",
    "plt.suptitle(\"Pairwise Relationships Between Key Features\", y=1.02)\n",
    "plt.show()"
   ]
  },
  {
   "cell_type": "code",
   "execution_count": null,
   "id": "1c31022d",
   "metadata": {},
   "outputs": [],
   "source": [
    "# 3. Distribution of 'legs'\n",
    "plt.figure(figsize=(8, 5))\n",
    "sns.countplot(x='legs', data=zoo_df, palette='magma')\n",
    "plt.title('Distribution of Number of Legs')\n",
    "plt.xlabel('Legs')\n",
    "plt.ylabel('Count')\n",
    "plt.show()"
   ]
  },
  {
   "cell_type": "code",
   "execution_count": null,
   "id": "e5ccd830",
   "metadata": {},
   "outputs": [],
   "source": [
    "# 4. Presence of hair across animal types\n",
    "plt.figure(figsize=(8, 5))\n",
    "sns.countplot(x='type', hue='hair', data=zoo_df, palette='Set2')\n",
    "plt.title('Presence of Hair Across Animal Types')\n",
    "plt.xlabel('Animal Type')\n",
    "plt.ylabel('Count')\n",
    "plt.legend(title='Hair')\n",
    "plt.show()"
   ]
  },
  {
   "cell_type": "markdown",
   "id": "c1595476",
   "metadata": {},
   "source": [
    "Step 2: Data Preprocessing"
   ]
  },
  {
   "cell_type": "code",
   "execution_count": null,
   "id": "0086cb69",
   "metadata": {},
   "outputs": [],
   "source": [
    "import pandas as pd\n",
    "from sklearn.model_selection import train_test_split\n",
    "from sklearn.preprocessing import StandardScaler\n",
    "import matplotlib.pyplot as plt\n",
    "import seaborn as sns"
   ]
  },
  {
   "cell_type": "code",
   "execution_count": null,
   "id": "2d15ce3f",
   "metadata": {},
   "outputs": [],
   "source": [
    "# Load the dataset\n",
    "file_path = r\"D:\\DATA SCIENCE\\ASSIGNMENTS\\16 KNN\\KNN\\Zoo.csv\"\n",
    "zoo_df = pd.read_csv(file_path)"
   ]
  },
  {
   "cell_type": "code",
   "execution_count": null,
   "id": "f9a9a40e",
   "metadata": {},
   "outputs": [],
   "source": [
    "# Drop non-numeric / irrelevant column\n",
    "zoo_df = zoo_df.drop(columns=[\"animal name\"])"
   ]
  },
  {
   "cell_type": "code",
   "execution_count": null,
   "id": "ddb5e8fe",
   "metadata": {},
   "outputs": [],
   "source": [
    "# Check for outliers (mainly in 'legs')\n",
    "plt.figure(figsize=(6,4))\n",
    "sns.boxplot(x=zoo_df[\"legs\"])\n",
    "plt.title(\"Outlier Check — Legs Feature\")\n",
    "plt.show()"
   ]
  },
  {
   "cell_type": "code",
   "execution_count": null,
   "id": "5a2a0014",
   "metadata": {},
   "outputs": [],
   "source": [
    "# Split features and target\n",
    "X = zoo_df.drop(columns=[\"type\"])\n",
    "y = zoo_df[\"type\"]"
   ]
  },
  {
   "cell_type": "code",
   "execution_count": null,
   "id": "44add4b9",
   "metadata": {},
   "outputs": [],
   "source": [
    "# Scale features (important for KNN)\n",
    "scaler = StandardScaler()\n",
    "X_scaled = scaler.fit_transform(X)"
   ]
  },
  {
   "cell_type": "code",
   "execution_count": null,
   "id": "d9ee8668",
   "metadata": {},
   "outputs": [],
   "source": [
    "# Split into training and test sets (80-20)\n",
    "X_train, X_test, y_train, y_test = train_test_split(X_scaled, y, test_size=0.2, random_state=42, stratify=y)"
   ]
  },
  {
   "cell_type": "code",
   "execution_count": null,
   "id": "1b01ab72",
   "metadata": {},
   "outputs": [],
   "source": [
    "print(\"Training set size:\", X_train.shape)\n",
    "print(\"Testing set size:\", X_test.shape)"
   ]
  },
  {
   "cell_type": "markdown",
   "id": "165db017",
   "metadata": {},
   "source": [
    "Step 3: Splitting the dataset into training and testing sets (80–20)"
   ]
  },
  {
   "cell_type": "code",
   "execution_count": null,
   "id": "0200c724",
   "metadata": {},
   "outputs": [],
   "source": [
    "import pandas as pd\n",
    "from sklearn.model_selection import train_test_split\n",
    "from sklearn.preprocessing import StandardScaler"
   ]
  },
  {
   "cell_type": "code",
   "execution_count": null,
   "id": "67f88e40",
   "metadata": {},
   "outputs": [],
   "source": [
    "# Load the dataset\n",
    "file_path = r\"D:\\DATA SCIENCE\\ASSIGNMENTS\\16 KNN\\KNN\\Zoo.csv\"\n",
    "zoo_df = pd.read_csv(file_path)"
   ]
  },
  {
   "cell_type": "code",
   "execution_count": null,
   "id": "352748a6",
   "metadata": {},
   "outputs": [],
   "source": [
    "# Drop irrelevant column\n",
    "zoo_df = zoo_df.drop(columns=[\"animal name\"])"
   ]
  },
  {
   "cell_type": "code",
   "execution_count": null,
   "id": "711ddef8",
   "metadata": {},
   "outputs": [],
   "source": [
    "# Split features and target\n",
    "X = zoo_df.drop(columns=[\"type\"])\n",
    "y = zoo_df[\"type\"]"
   ]
  },
  {
   "cell_type": "code",
   "execution_count": null,
   "id": "aea6da95",
   "metadata": {},
   "outputs": [],
   "source": [
    "# Standardize features (important for KNN)\n",
    "scaler = StandardScaler()\n",
    "X_scaled = scaler.fit_transform(X)"
   ]
  },
  {
   "cell_type": "code",
   "execution_count": null,
   "id": "a0fbe90e",
   "metadata": {},
   "outputs": [],
   "source": [
    "# Split dataset — 80% train, 20% test with stratified sampling\n",
    "X_train, X_test, y_train, y_test = train_test_split(\n",
    "    X_scaled, y, test_size=0.2, random_state=42, stratify=y\n",
    ")"
   ]
  },
  {
   "cell_type": "code",
   "execution_count": null,
   "id": "b7497c97",
   "metadata": {},
   "outputs": [],
   "source": [
    "print(\"Training set size:\", X_train.shape)\n",
    "print(\"Testing set size:\", X_test.shape)\n",
    "print(\"\\nClass distribution in Training set:\\n\", y_train.value_counts(normalize=True).round(2))\n",
    "print(\"\\nClass distribution in Testing set:\\n\", y_test.value_counts(normalize=True).round(2))"
   ]
  },
  {
   "cell_type": "code",
   "execution_count": null,
   "id": "2a681eeb",
   "metadata": {},
   "outputs": [],
   "source": [
    "import pandas as pd\n",
    "import matplotlib.pyplot as plt\n",
    "import seaborn as sns"
   ]
  },
  {
   "cell_type": "code",
   "execution_count": null,
   "id": "3cd7cb8a",
   "metadata": {},
   "outputs": [],
   "source": [
    "# Load the dataset\n",
    "file_path = r\"D:\\DATA SCIENCE\\ASSIGNMENTS\\16 KNN\\KNN\\Zoo.csv\"\n",
    "zoo_df = pd.read_csv(file_path)"
   ]
  },
  {
   "cell_type": "code",
   "execution_count": null,
   "id": "2e2826ba",
   "metadata": {},
   "outputs": [],
   "source": [
    "# Display first few rows, structure, and basic info\n",
    "zoo_head = zoo_df.head()\n",
    "zoo_info = zoo_df.info()\n",
    "zoo_description = zoo_df.describe()"
   ]
  },
  {
   "cell_type": "code",
   "execution_count": null,
   "id": "169c64b9",
   "metadata": {},
   "outputs": [],
   "source": [
    "# Class distribution plot\n",
    "plt.figure(figsize=(8, 5))\n",
    "sns.countplot(x='type', data=zoo_df, palette='viridis')\n",
    "plt.title('Distribution of Animal Types')\n",
    "plt.xlabel('Animal Type')\n",
    "plt.ylabel('Count')\n",
    "plt.show()"
   ]
  },
  {
   "cell_type": "code",
   "execution_count": null,
   "id": "37082031",
   "metadata": {},
   "outputs": [],
   "source": [
    "zoo_head, zoo_description"
   ]
  },
  {
   "cell_type": "markdown",
   "id": "ce8da985",
   "metadata": {},
   "source": [
    "Step 2: Data Preprocessing for Zoo dataset\n",
    "- Handles missing values check\n",
    "- Visualizes possible outliers (legs)\n",
    "- Drops irrelevant columns\n",
    "- Scales features for KNN\n",
    "- Splits data (80% train / 20% test) with stratification"
   ]
  },
  {
   "cell_type": "code",
   "execution_count": null,
   "id": "53d47e50",
   "metadata": {},
   "outputs": [],
   "source": [
    "import os\n",
    "import pandas as pd\n",
    "import matplotlib.pyplot as plt\n",
    "import seaborn as sns\n",
    "from sklearn.preprocessing import StandardScaler\n",
    "from sklearn.model_selection import train_test_split\n",
    "import joblib   # optional: to save the scaler"
   ]
  },
  {
   "cell_type": "code",
   "execution_count": null,
   "id": "1c7dc359",
   "metadata": {},
   "outputs": [],
   "source": [
    "# -------------------------\n",
    "# 1. Load dataset (try user path, fallback to /mnt/data)\n",
    "# -------------------------\n",
    "user_path = r\"D:\\DATA SCIENCE\\ASSIGNMENTS\\16 KNN\\KNN\\Zoo.csv\"\n",
    "fallback_path = \"/mnt/data/Zoo.csv\""
   ]
  },
  {
   "cell_type": "code",
   "execution_count": null,
   "id": "4485effe",
   "metadata": {},
   "outputs": [],
   "source": [
    "if os.path.exists(user_path):\n",
    "    file_path = user_path\n",
    "elif os.path.exists(fallback_path):\n",
    "    file_path = fallback_path\n",
    "else:\n",
    "    raise FileNotFoundError(\n",
    "        f\"Zoo.csv not found at either '{user_path}' or '{fallback_path}'. \"\n",
    "        \"Put the file in one of these paths or update file_path variable.\"\n",
    "    )"
   ]
  },
  {
   "cell_type": "code",
   "execution_count": null,
   "id": "76aa6227",
   "metadata": {},
   "outputs": [],
   "source": [
    "df = pd.read_csv(file_path)\n",
    "print(f\"Loaded file: {file_path}\")\n",
    "print(\"Shape:\", df.shape)\n",
    "print(\"\\nColumns:\", list(df.columns))\n",
    "print(\"\\nFirst 5 rows:\\n\", df.head())"
   ]
  },
  {
   "cell_type": "code",
   "execution_count": null,
   "id": "e77dac2b",
   "metadata": {},
   "outputs": [],
   "source": [
    "# -------------------------\n",
    "# 2. Missing values check\n",
    "# -------------------------\n",
    "print(\"\\nMissing values per column:\")\n",
    "print(df.isnull().sum())"
   ]
  },
  {
   "cell_type": "code",
   "execution_count": null,
   "id": "c2eb4079",
   "metadata": {},
   "outputs": [],
   "source": [
    "# -------------------------\n",
    "# 3. Drop irrelevant columns\n",
    "# -------------------------\n",
    "if \"animal name\" in df.columns:\n",
    "    df = df.drop(columns=[\"animal name\"])\n",
    "    print(\"\\nDropped column: 'animal name'\")"
   ]
  },
  {
   "cell_type": "code",
   "execution_count": null,
   "id": "a9683115",
   "metadata": {},
   "outputs": [],
   "source": [
    "# -------------------------\n",
    "# 4. Quick stats & outlier check for 'legs'\n",
    "# -------------------------\n",
    "print(\"\\nSummary statistics for numeric features:\\n\", df.describe())"
   ]
  },
  {
   "cell_type": "code",
   "execution_count": null,
   "id": "9f69f1a9",
   "metadata": {},
   "outputs": [],
   "source": [
    "plt.figure(figsize=(6, 3))\n",
    "sns.boxplot(x=df[\"legs\"])\n",
    "plt.title(\"Boxplot — legs\")\n",
    "plt.xlabel(\"Number of legs\")\n",
    "plt.tight_layout()\n",
    "plt.show()"
   ]
  },
  {
   "cell_type": "code",
   "execution_count": null,
   "id": "acb8990d",
   "metadata": {},
   "outputs": [],
   "source": [
    "plt.figure(figsize=(8,4))\n",
    "sns.countplot(x=\"legs\", data=df)\n",
    "plt.title(\"Countplot — legs distribution\")\n",
    "plt.xlabel(\"Legs\")\n",
    "plt.ylabel(\"Count\")\n",
    "plt.tight_layout()\n",
    "plt.show()"
   ]
  },
  {
   "cell_type": "markdown",
   "id": "bc48bdfa",
   "metadata": {},
   "source": [
    "NOTE: legs values like 0 and 8 are biologically valid (snakes, arachnids), so we keep them."
   ]
  },
  {
   "cell_type": "code",
   "execution_count": null,
   "id": "62790252",
   "metadata": {},
   "outputs": [],
   "source": [
    "# -------------------------\n",
    "# 5. Split features and target\n",
    "# -------------------------\n",
    "if \"type\" not in df.columns:\n",
    "    raise KeyError(\"'type' column (target) not found in dataset. Make sure file contains target column named 'type'.\")"
   ]
  },
  {
   "cell_type": "code",
   "execution_count": null,
   "id": "b2b600ff",
   "metadata": {},
   "outputs": [],
   "source": [
    "X = df.drop(columns=[\"type\"])\n",
    "y = df[\"type\"]"
   ]
  },
  {
   "cell_type": "code",
   "execution_count": null,
   "id": "e3c3aa1d",
   "metadata": {},
   "outputs": [],
   "source": [
    "print(\"\\nFeature matrix shape:\", X.shape)\n",
    "print(\"Target vector shape:\", y.shape)\n",
    "print(\"\\nTarget class distribution:\\n\", y.value_counts().sort_index())"
   ]
  },
  {
   "cell_type": "code",
   "execution_count": null,
   "id": "97b7d51f",
   "metadata": {},
   "outputs": [],
   "source": [
    "# -------------------------\n",
    "# 6. Feature scaling (StandardScaler)\n",
    "# -------------------------\n",
    "scaler = StandardScaler()\n",
    "X_scaled = scaler.fit_transform(X)   # X is mostly binary + 'legs', so standardization is appropriate"
   ]
  },
  {
   "cell_type": "code",
   "execution_count": null,
   "id": "9186db71",
   "metadata": {},
   "outputs": [],
   "source": [
    "# Optional: save scaler for later (useful when deploying)\n",
    "scaler_outpath = os.path.join(os.path.dirname(file_path), \"zoo_scaler.joblib\")\n",
    "joblib.dump(scaler, scaler_outpath)\n",
    "print(f\"\\nStandardScaler saved to: {scaler_outpath}\")"
   ]
  },
  {
   "cell_type": "code",
   "execution_count": null,
   "id": "f50a2a8d",
   "metadata": {},
   "outputs": [],
   "source": [
    "# -------------------------\n",
    "# 7. Train-test split (80% train, 20% test) with stratification\n",
    "# -------------------------\n",
    "X_train, X_test, y_train, y_test = train_test_split(\n",
    "    X_scaled, y, test_size=0.2, random_state=42, stratify=y\n",
    ")"
   ]
  },
  {
   "cell_type": "code",
   "execution_count": null,
   "id": "18c7359c",
   "metadata": {},
   "outputs": [],
   "source": [
    "print(\"\\nAfter splitting:\")\n",
    "print(\"X_train:\", X_train.shape, \"X_test:\", X_test.shape)\n",
    "print(\"y_train distribution:\\n\", pd.Series(y_train).value_counts().sort_index())\n",
    "print(\"y_test distribution:\\n\", pd.Series(y_test).value_counts().sort_index())"
   ]
  },
  {
   "cell_type": "code",
   "execution_count": null,
   "id": "423675f9",
   "metadata": {},
   "outputs": [],
   "source": [
    "# -------------------------\n",
    "# 8. (Optional) Save train/test as .npz or .csv for next steps\n",
    "# -------------------------\n",
    "out_dir = os.path.dirname(file_path)\n",
    "import numpy as np\n",
    "np.savez_compressed(os.path.join(out_dir, \"zoo_knn_data.npz\"),\n",
    "                    X_train=X_train, X_test=X_test, y_train=y_train.values, y_test=y_test.values)\n",
    "print(f\"\\nSaved processed arrays to: {os.path.join(out_dir, 'zoo_knn_data.npz')}\")"
   ]
  },
  {
   "cell_type": "markdown",
   "id": "b211ce79",
   "metadata": {},
   "source": [
    "End of Step 2 preprocessing script"
   ]
  },
  {
   "cell_type": "markdown",
   "id": "99fa3874",
   "metadata": {},
   "source": [
    "Step 5: Choosing an appropriate distance metric and value for K"
   ]
  },
  {
   "cell_type": "code",
   "execution_count": null,
   "id": "f93afdfe",
   "metadata": {},
   "outputs": [],
   "source": [
    "import os\n",
    "import pandas as pd\n",
    "import numpy as np\n",
    "import matplotlib.pyplot as plt\n",
    "from sklearn.model_selection import GridSearchCV, train_test_split\n",
    "from sklearn.preprocessing import StandardScaler\n",
    "from sklearn.pipeline import Pipeline\n",
    "from sklearn.neighbors import KNeighborsClassifier\n",
    "from sklearn.metrics import accuracy_score"
   ]
  },
  {
   "cell_type": "code",
   "execution_count": null,
   "id": "177da882",
   "metadata": {},
   "outputs": [],
   "source": [
    "# Load and preprocess data\n",
    "file_path = r\"D:\\DATA SCIENCE\\ASSIGNMENTS\\16 KNN\\KNN\\Zoo.csv\"\n",
    "df = pd.read_csv(file_path)\n",
    "df = df.drop(columns=[\"animal name\"])\n",
    "X = df.drop(columns=[\"type\"])\n",
    "y = df[\"type\"]"
   ]
  },
  {
   "cell_type": "code",
   "execution_count": null,
   "id": "d71018af",
   "metadata": {},
   "outputs": [],
   "source": [
    "# Split dataset\n",
    "X_train, X_test, y_train, y_test = train_test_split(X, y, test_size=0.2, stratify=y, random_state=42)"
   ]
  },
  {
   "cell_type": "code",
   "execution_count": null,
   "id": "18e4b09a",
   "metadata": {},
   "outputs": [],
   "source": [
    "# Pipeline: scaling + KNN\n",
    "pipe = Pipeline([\n",
    "    (\"scaler\", StandardScaler()),\n",
    "    (\"knn\", KNeighborsClassifier())\n",
    "])"
   ]
  },
  {
   "cell_type": "code",
   "execution_count": null,
   "id": "27ff4c3c",
   "metadata": {},
   "outputs": [],
   "source": [
    "# Define parameter grid for grid search\n",
    "param_grid = {\n",
    "    \"knn__n_neighbors\": list(range(1, 21)),  # K = 1 to 20\n",
    "    \"knn__p\": [1, 2],                        # Manhattan (1) and Euclidean (2)\n",
    "    \"knn__weights\": [\"uniform\", \"distance\"]  # test both weighting schemes\n",
    "}"
   ]
  },
  {
   "cell_type": "code",
   "execution_count": null,
   "id": "d3c10c17",
   "metadata": {},
   "outputs": [],
   "source": [
    "# Perform grid search\n",
    "grid = GridSearchCV(pipe, param_grid, cv=5, scoring=\"accuracy\", n_jobs=-1)\n",
    "grid.fit(X_train, y_train)"
   ]
  },
  {
   "cell_type": "code",
   "execution_count": null,
   "id": "9b98a478",
   "metadata": {},
   "outputs": [],
   "source": [
    "# Display best results\n",
    "print(\"Best parameters:\", grid.best_params_)\n",
    "print(\"Best cross-validation accuracy: {:.4f}\".format(grid.best_score_))"
   ]
  },
  {
   "cell_type": "code",
   "execution_count": null,
   "id": "4d2eca07",
   "metadata": {},
   "outputs": [],
   "source": [
    "# Evaluate on test set\n",
    "best_model = grid.best_estimator_\n",
    "y_pred = best_model.predict(X_test)\n",
    "test_acc = accuracy_score(y_test, y_pred)\n",
    "print(\"Test set accuracy: {:.4f}\".format(test_acc))"
   ]
  },
  {
   "cell_type": "code",
   "execution_count": null,
   "id": "f82a752d",
   "metadata": {},
   "outputs": [],
   "source": [
    "# Visualize K vs accuracy for each distance metric\n",
    "results = pd.DataFrame(grid.cv_results_)\n",
    "plt.figure(figsize=(8, 5))\n",
    "for p_val, label in zip([1, 2], ['Manhattan (p=1)', 'Euclidean (p=2)']):\n",
    "    subset = results[results['param_knn__p'] == p_val]\n",
    "    plt.plot(subset['param_knn__n_neighbors'], subset['mean_test_score'], marker='o', label=label)\n",
    "plt.xlabel(\"Number of Neighbours (K)\")\n",
    "plt.ylabel(\"Mean CV Accuracy\")\n",
    "plt.title(\"KNN Performance across K values and Distance Metrics\")\n",
    "plt.legend()\n",
    "plt.grid(alpha=0.3)\n",
    "plt.show()"
   ]
  },
  {
   "cell_type": "markdown",
   "id": "0bb4a486",
   "metadata": {},
   "source": [
    "Step 6: Evaluate the KNN Classifier’s Performance"
   ]
  },
  {
   "cell_type": "code",
   "execution_count": null,
   "id": "b76040ac",
   "metadata": {},
   "outputs": [],
   "source": [
    "import os\n",
    "import pandas as pd\n",
    "import numpy as np\n",
    "import matplotlib.pyplot as plt\n",
    "import seaborn as sns\n",
    "from sklearn.metrics import accuracy_score, precision_score, recall_score, f1_score, classification_report, confusion_matrix\n",
    "from sklearn.pipeline import Pipeline\n",
    "from sklearn.preprocessing import StandardScaler\n",
    "from sklearn.neighbors import KNeighborsClassifier\n",
    "from sklearn.model_selection import train_test_split\n",
    "import joblib"
   ]
  },
  {
   "cell_type": "code",
   "execution_count": null,
   "id": "9c1984dd",
   "metadata": {},
   "outputs": [],
   "source": [
    "# Load the dataset again (for continuity)\n",
    "file_path = r\"D:\\DATA SCIENCE\\ASSIGNMENTS\\16 KNN\\KNN\\Zoo.csv\"\n",
    "df = pd.read_csv(file_path)\n",
    "df = df.drop(columns=[\"animal name\"])"
   ]
  },
  {
   "cell_type": "code",
   "execution_count": null,
   "id": "910d4cde",
   "metadata": {},
   "outputs": [],
   "source": [
    "# Split features & target\n",
    "X = df.drop(columns=[\"type\"])\n",
    "y = df[\"type\"]"
   ]
  },
  {
   "cell_type": "code",
   "execution_count": null,
   "id": "f979d24a",
   "metadata": {},
   "outputs": [],
   "source": [
    "# Train-test split\n",
    "X_train, X_test, y_train, y_test = train_test_split(X, y, test_size=0.2, stratify=y, random_state=42)"
   ]
  },
  {
   "cell_type": "code",
   "execution_count": null,
   "id": "81e88329",
   "metadata": {},
   "outputs": [],
   "source": [
    "# Best model parameters (from previous step)\n",
    "scaler = StandardScaler()\n",
    "X_train_scaled = scaler.fit_transform(X_train)\n",
    "X_test_scaled = scaler.transform(X_test)\n",
    "knn = KNeighborsClassifier(n_neighbors=5, p=2, weights='distance')\n",
    "knn.fit(X_train_scaled, y_train)"
   ]
  },
  {
   "cell_type": "code",
   "execution_count": null,
   "id": "6cb1099f",
   "metadata": {},
   "outputs": [],
   "source": [
    "# Predict on test set\n",
    "y_pred = knn.predict(X_test_scaled)"
   ]
  },
  {
   "cell_type": "code",
   "execution_count": null,
   "id": "62ac12f1",
   "metadata": {},
   "outputs": [],
   "source": [
    "# Compute metrics\n",
    "accuracy = accuracy_score(y_test, y_pred)\n",
    "precision = precision_score(y_test, y_pred, average='weighted', zero_division=0)\n",
    "recall = recall_score(y_test, y_pred, average='weighted', zero_division=0)\n",
    "f1 = f1_score(y_test, y_pred, average='weighted', zero_division=0)"
   ]
  },
  {
   "cell_type": "code",
   "execution_count": null,
   "id": "fe6d9668",
   "metadata": {},
   "outputs": [],
   "source": [
    "# Print evaluation metrics\n",
    "print(f\"Accuracy : {accuracy:.4f}\")\n",
    "print(f\"Precision: {precision:.4f}\")\n",
    "print(f\"Recall   : {recall:.4f}\")\n",
    "print(f\"F1-Score : {f1:.4f}\\n\")"
   ]
  },
  {
   "cell_type": "code",
   "execution_count": null,
   "id": "a59dbbce",
   "metadata": {},
   "outputs": [],
   "source": [
    "print(\"Detailed Classification Report:\")\n",
    "print(classification_report(y_test, y_pred, zero_division=0))"
   ]
  },
  {
   "cell_type": "code",
   "execution_count": null,
   "id": "be9c527f",
   "metadata": {},
   "outputs": [],
   "source": [
    "# Confusion matrix\n",
    "cm = confusion_matrix(y_test, y_pred)\n",
    "plt.figure(figsize=(8,6))\n",
    "sns.heatmap(cm, annot=True, fmt='d', cmap='Greens', xticklabels=np.unique(y), yticklabels=np.unique(y))\n",
    "plt.title(\"Confusion Matrix — KNN Classifier on Zoo Dataset\")\n",
    "plt.xlabel(\"Predicted Label\")\n",
    "plt.ylabel(\"True Label\")\n",
    "plt.show()"
   ]
  },
  {
   "cell_type": "markdown",
   "id": "f4e2ecde",
   "metadata": {},
   "source": [
    "Step 7: Visualize decision boundaries using PCA (2D projection)"
   ]
  },
  {
   "cell_type": "code",
   "execution_count": null,
   "id": "5e1d6287",
   "metadata": {},
   "outputs": [],
   "source": [
    "import pandas as pd\n",
    "import numpy as np\n",
    "import matplotlib.pyplot as plt\n",
    "import seaborn as sns\n",
    "from sklearn.preprocessing import StandardScaler\n",
    "from sklearn.decomposition import PCA\n",
    "from sklearn.neighbors import KNeighborsClassifier\n",
    "from sklearn.model_selection import train_test_split"
   ]
  },
  {
   "cell_type": "code",
   "execution_count": null,
   "id": "6e91fe3d",
   "metadata": {},
   "outputs": [],
   "source": [
    "# Load and preprocess\n",
    "file_path = r\"D:\\DATA SCIENCE\\ASSIGNMENTS\\16 KNN\\KNN\\Zoo.csv\"\n",
    "df = pd.read_csv(file_path)\n",
    "df = df.drop(columns=[\"animal name\"])"
   ]
  },
  {
   "cell_type": "code",
   "execution_count": null,
   "id": "e5e59271",
   "metadata": {},
   "outputs": [],
   "source": [
    "X = df.drop(columns=[\"type\"])\n",
    "y = df[\"type\"]"
   ]
  },
  {
   "cell_type": "code",
   "execution_count": null,
   "id": "41b55263",
   "metadata": {},
   "outputs": [],
   "source": [
    "# Split into train and test sets\n",
    "X_train, X_test, y_train, y_test = train_test_split(X, y, stratify=y, test_size=0.2, random_state=42)"
   ]
  },
  {
   "cell_type": "code",
   "execution_count": null,
   "id": "f256fb25",
   "metadata": {},
   "outputs": [],
   "source": [
    "# Standardize\n",
    "scaler = StandardScaler()\n",
    "X_scaled = scaler.fit_transform(X)"
   ]
  },
  {
   "cell_type": "code",
   "execution_count": null,
   "id": "7b5f77b5",
   "metadata": {},
   "outputs": [],
   "source": [
    "# Reduce dimensions to 2 using PCA for visualization\n",
    "pca = PCA(n_components=2)\n",
    "X_pca = pca.fit_transform(X_scaled)"
   ]
  },
  {
   "cell_type": "code",
   "execution_count": null,
   "id": "0fddccf3",
   "metadata": {},
   "outputs": [],
   "source": [
    "# Train KNN with best parameters\n",
    "knn = KNeighborsClassifier(n_neighbors=5, p=2, weights='distance')\n",
    "knn.fit(X_pca, y)"
   ]
  },
  {
   "cell_type": "code",
   "execution_count": null,
   "id": "0abd84ef",
   "metadata": {},
   "outputs": [],
   "source": [
    "# Create mesh grid over the 2D PCA space\n",
    "x_min, x_max = X_pca[:, 0].min() - 1, X_pca[:, 0].max() + 1\n",
    "y_min, y_max = X_pca[:, 1].min() - 1, X_pca[:, 1].max() + 1\n",
    "xx, yy = np.meshgrid(np.linspace(x_min, x_max, 400), np.linspace(y_min, y_max, 400))"
   ]
  },
  {
   "cell_type": "code",
   "execution_count": null,
   "id": "715cfd7f",
   "metadata": {},
   "outputs": [],
   "source": [
    "# Predict class for each grid point\n",
    "Z = knn.predict(np.c_[xx.ravel(), yy.ravel()])\n",
    "Z = Z.reshape(xx.shape)"
   ]
  },
  {
   "cell_type": "code",
   "execution_count": null,
   "id": "ac054493",
   "metadata": {},
   "outputs": [],
   "source": [
    "# Plot decision boundaries\n",
    "plt.figure(figsize=(10, 7))\n",
    "plt.contourf(xx, yy, Z, alpha=0.3, cmap='tab10')\n",
    "sns.scatterplot(x=X_pca[:, 0], y=X_pca[:, 1], hue=y, palette='tab10', edgecolor='k', s=60)\n",
    "plt.title(\"Decision Boundaries of KNN Classifier (PCA 2D Projection)\")\n",
    "plt.xlabel(\"Principal Component 1\")\n",
    "plt.ylabel(\"Principal Component 2\")\n",
    "plt.legend(title=\"Animal Type\", loc='best', bbox_to_anchor=(1.05, 1))\n",
    "plt.tight_layout()\n",
    "plt.show()"
   ]
  }
 ],
 "metadata": {
  "kernelspec": {
   "display_name": "Python 3 (ipykernel)",
   "language": "python",
   "name": "python3"
  },
  "language_info": {
   "codemirror_mode": {
    "name": "ipython",
    "version": 3
   },
   "file_extension": ".py",
   "mimetype": "text/x-python",
   "name": "python",
   "nbconvert_exporter": "python",
   "pygments_lexer": "ipython3",
   "version": "3.11.13"
  }
 },
 "nbformat": 4,
 "nbformat_minor": 5
}
