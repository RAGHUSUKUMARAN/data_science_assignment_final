{
 "cells": [
  {
   "cell_type": "markdown",
   "id": "ce8da985",
   "metadata": {},
   "source": [
    "Step 2: Data Preprocessing for Zoo dataset\n",
    "- Handles missing values check\n",
    "- Visualizes possible outliers (legs)\n",
    "- Drops irrelevant columns\n",
    "- Scales features for KNN\n",
    "- Splits data (80% train / 20% test) with stratification"
   ]
  },
  {
   "cell_type": "code",
   "execution_count": null,
   "id": "53d47e50",
   "metadata": {},
   "outputs": [],
   "source": [
    "import os\n",
    "import pandas as pd\n",
    "import matplotlib.pyplot as plt\n",
    "import seaborn as sns\n",
    "from sklearn.preprocessing import StandardScaler\n",
    "from sklearn.model_selection import train_test_split\n",
    "import joblib   # optional: to save the scaler"
   ]
  },
  {
   "cell_type": "code",
   "execution_count": null,
   "id": "1c7dc359",
   "metadata": {},
   "outputs": [],
   "source": [
    "# -------------------------\n",
    "# 1. Load dataset (try user path, fallback to /mnt/data)\n",
    "# -------------------------\n",
    "user_path = r\"D:\\DATA SCIENCE\\ASSIGNMENTS\\16 KNN\\KNN\\Zoo.csv\"\n",
    "fallback_path = \"/mnt/data/Zoo.csv\""
   ]
  },
  {
   "cell_type": "code",
   "execution_count": null,
   "id": "4485effe",
   "metadata": {},
   "outputs": [],
   "source": [
    "if os.path.exists(user_path):\n",
    "    file_path = user_path\n",
    "elif os.path.exists(fallback_path):\n",
    "    file_path = fallback_path\n",
    "else:\n",
    "    raise FileNotFoundError(\n",
    "        f\"Zoo.csv not found at either '{user_path}' or '{fallback_path}'. \"\n",
    "        \"Put the file in one of these paths or update file_path variable.\"\n",
    "    )"
   ]
  },
  {
   "cell_type": "code",
   "execution_count": null,
   "id": "76aa6227",
   "metadata": {},
   "outputs": [],
   "source": [
    "df = pd.read_csv(file_path)\n",
    "print(f\"Loaded file: {file_path}\")\n",
    "print(\"Shape:\", df.shape)\n",
    "print(\"\\nColumns:\", list(df.columns))\n",
    "print(\"\\nFirst 5 rows:\\n\", df.head())"
   ]
  },
  {
   "cell_type": "code",
   "execution_count": null,
   "id": "e77dac2b",
   "metadata": {},
   "outputs": [],
   "source": [
    "# -------------------------\n",
    "# 2. Missing values check\n",
    "# -------------------------\n",
    "print(\"\\nMissing values per column:\")\n",
    "print(df.isnull().sum())"
   ]
  },
  {
   "cell_type": "code",
   "execution_count": null,
   "id": "c2eb4079",
   "metadata": {},
   "outputs": [],
   "source": [
    "# -------------------------\n",
    "# 3. Drop irrelevant columns\n",
    "# -------------------------\n",
    "if \"animal name\" in df.columns:\n",
    "    df = df.drop(columns=[\"animal name\"])\n",
    "    print(\"\\nDropped column: 'animal name'\")"
   ]
  },
  {
   "cell_type": "code",
   "execution_count": null,
   "id": "a9683115",
   "metadata": {},
   "outputs": [],
   "source": [
    "# -------------------------\n",
    "# 4. Quick stats & outlier check for 'legs'\n",
    "# -------------------------\n",
    "print(\"\\nSummary statistics for numeric features:\\n\", df.describe())"
   ]
  },
  {
   "cell_type": "code",
   "execution_count": null,
   "id": "9f69f1a9",
   "metadata": {},
   "outputs": [],
   "source": [
    "plt.figure(figsize=(6, 3))\n",
    "sns.boxplot(x=df[\"legs\"])\n",
    "plt.title(\"Boxplot — legs\")\n",
    "plt.xlabel(\"Number of legs\")\n",
    "plt.tight_layout()\n",
    "plt.show()"
   ]
  },
  {
   "cell_type": "code",
   "execution_count": null,
   "id": "acb8990d",
   "metadata": {},
   "outputs": [],
   "source": [
    "plt.figure(figsize=(8,4))\n",
    "sns.countplot(x=\"legs\", data=df)\n",
    "plt.title(\"Countplot — legs distribution\")\n",
    "plt.xlabel(\"Legs\")\n",
    "plt.ylabel(\"Count\")\n",
    "plt.tight_layout()\n",
    "plt.show()"
   ]
  },
  {
   "cell_type": "markdown",
   "id": "bc48bdfa",
   "metadata": {},
   "source": [
    "NOTE: legs values like 0 and 8 are biologically valid (snakes, arachnids), so we keep them."
   ]
  },
  {
   "cell_type": "code",
   "execution_count": null,
   "id": "62790252",
   "metadata": {},
   "outputs": [],
   "source": [
    "# -------------------------\n",
    "# 5. Split features and target\n",
    "# -------------------------\n",
    "if \"type\" not in df.columns:\n",
    "    raise KeyError(\"'type' column (target) not found in dataset. Make sure file contains target column named 'type'.\")"
   ]
  },
  {
   "cell_type": "code",
   "execution_count": null,
   "id": "b2b600ff",
   "metadata": {},
   "outputs": [],
   "source": [
    "X = df.drop(columns=[\"type\"])\n",
    "y = df[\"type\"]"
   ]
  },
  {
   "cell_type": "code",
   "execution_count": null,
   "id": "e3c3aa1d",
   "metadata": {},
   "outputs": [],
   "source": [
    "print(\"\\nFeature matrix shape:\", X.shape)\n",
    "print(\"Target vector shape:\", y.shape)\n",
    "print(\"\\nTarget class distribution:\\n\", y.value_counts().sort_index())"
   ]
  },
  {
   "cell_type": "code",
   "execution_count": null,
   "id": "97b7d51f",
   "metadata": {},
   "outputs": [],
   "source": [
    "# -------------------------\n",
    "# 6. Feature scaling (StandardScaler)\n",
    "# -------------------------\n",
    "scaler = StandardScaler()\n",
    "X_scaled = scaler.fit_transform(X)   # X is mostly binary + 'legs', so standardization is appropriate"
   ]
  },
  {
   "cell_type": "code",
   "execution_count": null,
   "id": "9186db71",
   "metadata": {},
   "outputs": [],
   "source": [
    "# Optional: save scaler for later (useful when deploying)\n",
    "scaler_outpath = os.path.join(os.path.dirname(file_path), \"zoo_scaler.joblib\")\n",
    "joblib.dump(scaler, scaler_outpath)\n",
    "print(f\"\\nStandardScaler saved to: {scaler_outpath}\")"
   ]
  },
  {
   "cell_type": "code",
   "execution_count": null,
   "id": "f50a2a8d",
   "metadata": {},
   "outputs": [],
   "source": [
    "# -------------------------\n",
    "# 7. Train-test split (80% train, 20% test) with stratification\n",
    "# -------------------------\n",
    "X_train, X_test, y_train, y_test = train_test_split(\n",
    "    X_scaled, y, test_size=0.2, random_state=42, stratify=y\n",
    ")"
   ]
  },
  {
   "cell_type": "code",
   "execution_count": null,
   "id": "18c7359c",
   "metadata": {},
   "outputs": [],
   "source": [
    "print(\"\\nAfter splitting:\")\n",
    "print(\"X_train:\", X_train.shape, \"X_test:\", X_test.shape)\n",
    "print(\"y_train distribution:\\n\", pd.Series(y_train).value_counts().sort_index())\n",
    "print(\"y_test distribution:\\n\", pd.Series(y_test).value_counts().sort_index())"
   ]
  },
  {
   "cell_type": "code",
   "execution_count": null,
   "id": "423675f9",
   "metadata": {},
   "outputs": [],
   "source": [
    "# -------------------------\n",
    "# 8. (Optional) Save train/test as .npz or .csv for next steps\n",
    "# -------------------------\n",
    "out_dir = os.path.dirname(file_path)\n",
    "import numpy as np\n",
    "np.savez_compressed(os.path.join(out_dir, \"zoo_knn_data.npz\"),\n",
    "                    X_train=X_train, X_test=X_test, y_train=y_train.values, y_test=y_test.values)\n",
    "print(f\"\\nSaved processed arrays to: {os.path.join(out_dir, 'zoo_knn_data.npz')}\")"
   ]
  },
  {
   "cell_type": "markdown",
   "id": "b211ce79",
   "metadata": {},
   "source": [
    "End of Step 2 preprocessing script"
   ]
  }
 ],
 "metadata": {
  "jupytext": {
   "cell_metadata_filter": "-all",
   "main_language": "python",
   "notebook_metadata_filter": "-all"
  }
 },
 "nbformat": 4,
 "nbformat_minor": 5
}
