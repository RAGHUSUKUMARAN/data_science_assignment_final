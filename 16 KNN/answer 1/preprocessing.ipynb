{
 "cells": [
  {
   "cell_type": "markdown",
   "id": "c1595476",
   "metadata": {},
   "source": [
    "Step 2: Data Preprocessing"
   ]
  },
  {
   "cell_type": "code",
   "execution_count": null,
   "id": "0086cb69",
   "metadata": {},
   "outputs": [],
   "source": [
    "import pandas as pd\n",
    "from sklearn.model_selection import train_test_split\n",
    "from sklearn.preprocessing import StandardScaler\n",
    "import matplotlib.pyplot as plt\n",
    "import seaborn as sns"
   ]
  },
  {
   "cell_type": "code",
   "execution_count": null,
   "id": "2d15ce3f",
   "metadata": {},
   "outputs": [],
   "source": [
    "# Load the dataset\n",
    "file_path = r\"D:\\DATA SCIENCE\\ASSIGNMENTS\\16 KNN\\KNN\\Zoo.csv\"\n",
    "zoo_df = pd.read_csv(file_path)"
   ]
  },
  {
   "cell_type": "code",
   "execution_count": null,
   "id": "f9a9a40e",
   "metadata": {},
   "outputs": [],
   "source": [
    "# Drop non-numeric / irrelevant column\n",
    "zoo_df = zoo_df.drop(columns=[\"animal name\"])"
   ]
  },
  {
   "cell_type": "code",
   "execution_count": null,
   "id": "ddb5e8fe",
   "metadata": {},
   "outputs": [],
   "source": [
    "# Check for outliers (mainly in 'legs')\n",
    "plt.figure(figsize=(6,4))\n",
    "sns.boxplot(x=zoo_df[\"legs\"])\n",
    "plt.title(\"Outlier Check — Legs Feature\")\n",
    "plt.show()"
   ]
  },
  {
   "cell_type": "code",
   "execution_count": null,
   "id": "5a2a0014",
   "metadata": {},
   "outputs": [],
   "source": [
    "# Split features and target\n",
    "X = zoo_df.drop(columns=[\"type\"])\n",
    "y = zoo_df[\"type\"]"
   ]
  },
  {
   "cell_type": "code",
   "execution_count": null,
   "id": "44add4b9",
   "metadata": {},
   "outputs": [],
   "source": [
    "# Scale features (important for KNN)\n",
    "scaler = StandardScaler()\n",
    "X_scaled = scaler.fit_transform(X)"
   ]
  },
  {
   "cell_type": "code",
   "execution_count": null,
   "id": "d9ee8668",
   "metadata": {},
   "outputs": [],
   "source": [
    "# Split into training and test sets (80-20)\n",
    "X_train, X_test, y_train, y_test = train_test_split(X_scaled, y, test_size=0.2, random_state=42, stratify=y)"
   ]
  },
  {
   "cell_type": "code",
   "execution_count": null,
   "id": "1b01ab72",
   "metadata": {},
   "outputs": [],
   "source": [
    "print(\"Training set size:\", X_train.shape)\n",
    "print(\"Testing set size:\", X_test.shape)"
   ]
  }
 ],
 "metadata": {
  "jupytext": {
   "cell_metadata_filter": "-all",
   "main_language": "python",
   "notebook_metadata_filter": "-all"
  }
 },
 "nbformat": 4,
 "nbformat_minor": 5
}
