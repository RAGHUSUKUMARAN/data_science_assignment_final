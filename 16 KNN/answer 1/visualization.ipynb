{
 "cells": [
  {
   "cell_type": "code",
   "execution_count": null,
   "id": "d520652c",
   "metadata": {},
   "outputs": [],
   "source": [
    "import pandas as pd\n",
    "import matplotlib.pyplot as plt\n",
    "import seaborn as sns"
   ]
  },
  {
   "cell_type": "code",
   "execution_count": null,
   "id": "528ffb7b",
   "metadata": {},
   "outputs": [],
   "source": [
    "# Load the dataset\n",
    "file_path = r\"D:\\DATA SCIENCE\\ASSIGNMENTS\\16 KNN\\KNN\\Zoo.csv\"\n",
    "zoo_df = pd.read_csv(file_path)"
   ]
  },
  {
   "cell_type": "code",
   "execution_count": null,
   "id": "9bd8f6d6",
   "metadata": {},
   "outputs": [],
   "source": [
    "# Drop non-numeric column\n",
    "zoo_df = zoo_df.drop(columns=[\"animal name\"])"
   ]
  },
  {
   "cell_type": "code",
   "execution_count": null,
   "id": "348836be",
   "metadata": {},
   "outputs": [],
   "source": [
    "# 1. Correlation heatmap\n",
    "plt.figure(figsize=(12, 8))\n",
    "sns.heatmap(zoo_df.corr(numeric_only=True), cmap=\"coolwarm\", annot=False)\n",
    "plt.title(\"Feature Correlation Heatmap\")\n",
    "plt.show()"
   ]
  },
  {
   "cell_type": "code",
   "execution_count": null,
   "id": "828e624e",
   "metadata": {},
   "outputs": [],
   "source": [
    "# 2. Pairplot (simplified to avoid overload)\n",
    "selected_features = ['hair', 'feathers', 'eggs', 'milk', 'aquatic', 'legs', 'type']\n",
    "sns.pairplot(zoo_df[selected_features], hue='type', diag_kind=\"hist\", palette='viridis')\n",
    "plt.suptitle(\"Pairwise Relationships Between Key Features\", y=1.02)\n",
    "plt.show()"
   ]
  },
  {
   "cell_type": "code",
   "execution_count": null,
   "id": "1c31022d",
   "metadata": {},
   "outputs": [],
   "source": [
    "# 3. Distribution of 'legs'\n",
    "plt.figure(figsize=(8, 5))\n",
    "sns.countplot(x='legs', data=zoo_df, palette='magma')\n",
    "plt.title('Distribution of Number of Legs')\n",
    "plt.xlabel('Legs')\n",
    "plt.ylabel('Count')\n",
    "plt.show()"
   ]
  },
  {
   "cell_type": "code",
   "execution_count": null,
   "id": "e5ccd830",
   "metadata": {},
   "outputs": [],
   "source": [
    "# 4. Presence of hair across animal types\n",
    "plt.figure(figsize=(8, 5))\n",
    "sns.countplot(x='type', hue='hair', data=zoo_df, palette='Set2')\n",
    "plt.title('Presence of Hair Across Animal Types')\n",
    "plt.xlabel('Animal Type')\n",
    "plt.ylabel('Count')\n",
    "plt.legend(title='Hair')\n",
    "plt.show()"
   ]
  }
 ],
 "metadata": {
  "jupytext": {
   "cell_metadata_filter": "-all",
   "main_language": "python",
   "notebook_metadata_filter": "-all"
  }
 },
 "nbformat": 4,
 "nbformat_minor": 5
}
