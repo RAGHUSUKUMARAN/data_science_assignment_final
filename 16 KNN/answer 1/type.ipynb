{
 "cells": [
  {
   "cell_type": "code",
   "execution_count": null,
   "id": "2a681eeb",
   "metadata": {},
   "outputs": [],
   "source": [
    "import pandas as pd\n",
    "import matplotlib.pyplot as plt\n",
    "import seaborn as sns"
   ]
  },
  {
   "cell_type": "code",
   "execution_count": null,
   "id": "3cd7cb8a",
   "metadata": {},
   "outputs": [],
   "source": [
    "# Load the dataset\n",
    "file_path = r\"D:\\DATA SCIENCE\\ASSIGNMENTS\\16 KNN\\KNN\\Zoo.csv\"\n",
    "zoo_df = pd.read_csv(file_path)"
   ]
  },
  {
   "cell_type": "code",
   "execution_count": null,
   "id": "2e2826ba",
   "metadata": {},
   "outputs": [],
   "source": [
    "# Display first few rows, structure, and basic info\n",
    "zoo_head = zoo_df.head()\n",
    "zoo_info = zoo_df.info()\n",
    "zoo_description = zoo_df.describe()"
   ]
  },
  {
   "cell_type": "code",
   "execution_count": null,
   "id": "169c64b9",
   "metadata": {},
   "outputs": [],
   "source": [
    "# Class distribution plot\n",
    "plt.figure(figsize=(8, 5))\n",
    "sns.countplot(x='type', data=zoo_df, palette='viridis')\n",
    "plt.title('Distribution of Animal Types')\n",
    "plt.xlabel('Animal Type')\n",
    "plt.ylabel('Count')\n",
    "plt.show()"
   ]
  },
  {
   "cell_type": "code",
   "execution_count": null,
   "id": "37082031",
   "metadata": {},
   "outputs": [],
   "source": [
    "zoo_head, zoo_description"
   ]
  }
 ],
 "metadata": {
  "jupytext": {
   "cell_metadata_filter": "-all",
   "main_language": "python",
   "notebook_metadata_filter": "-all"
  }
 },
 "nbformat": 4,
 "nbformat_minor": 5
}
