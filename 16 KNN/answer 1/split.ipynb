{
 "cells": [
  {
   "cell_type": "markdown",
   "id": "165db017",
   "metadata": {},
   "source": [
    "Step 3: Splitting the dataset into training and testing sets (80–20)"
   ]
  },
  {
   "cell_type": "code",
   "execution_count": null,
   "id": "0200c724",
   "metadata": {},
   "outputs": [],
   "source": [
    "import pandas as pd\n",
    "from sklearn.model_selection import train_test_split\n",
    "from sklearn.preprocessing import StandardScaler"
   ]
  },
  {
   "cell_type": "code",
   "execution_count": null,
   "id": "67f88e40",
   "metadata": {},
   "outputs": [],
   "source": [
    "# Load the dataset\n",
    "file_path = r\"D:\\DATA SCIENCE\\ASSIGNMENTS\\16 KNN\\KNN\\Zoo.csv\"\n",
    "zoo_df = pd.read_csv(file_path)"
   ]
  },
  {
   "cell_type": "code",
   "execution_count": null,
   "id": "352748a6",
   "metadata": {},
   "outputs": [],
   "source": [
    "# Drop irrelevant column\n",
    "zoo_df = zoo_df.drop(columns=[\"animal name\"])"
   ]
  },
  {
   "cell_type": "code",
   "execution_count": null,
   "id": "711ddef8",
   "metadata": {},
   "outputs": [],
   "source": [
    "# Split features and target\n",
    "X = zoo_df.drop(columns=[\"type\"])\n",
    "y = zoo_df[\"type\"]"
   ]
  },
  {
   "cell_type": "code",
   "execution_count": null,
   "id": "aea6da95",
   "metadata": {},
   "outputs": [],
   "source": [
    "# Standardize features (important for KNN)\n",
    "scaler = StandardScaler()\n",
    "X_scaled = scaler.fit_transform(X)"
   ]
  },
  {
   "cell_type": "code",
   "execution_count": null,
   "id": "a0fbe90e",
   "metadata": {},
   "outputs": [],
   "source": [
    "# Split dataset — 80% train, 20% test with stratified sampling\n",
    "X_train, X_test, y_train, y_test = train_test_split(\n",
    "    X_scaled, y, test_size=0.2, random_state=42, stratify=y\n",
    ")"
   ]
  },
  {
   "cell_type": "code",
   "execution_count": null,
   "id": "b7497c97",
   "metadata": {},
   "outputs": [],
   "source": [
    "print(\"Training set size:\", X_train.shape)\n",
    "print(\"Testing set size:\", X_test.shape)\n",
    "print(\"\\nClass distribution in Training set:\\n\", y_train.value_counts(normalize=True).round(2))\n",
    "print(\"\\nClass distribution in Testing set:\\n\", y_test.value_counts(normalize=True).round(2))"
   ]
  }
 ],
 "metadata": {
  "jupytext": {
   "cell_metadata_filter": "-all",
   "main_language": "python",
   "notebook_metadata_filter": "-all"
  }
 },
 "nbformat": 4,
 "nbformat_minor": 5
}
