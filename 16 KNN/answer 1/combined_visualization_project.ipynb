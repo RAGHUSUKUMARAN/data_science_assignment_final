{
 "cells": [
  {
   "cell_type": "code",
   "execution_count": null,
   "id": "d520652c",
   "metadata": {},
   "outputs": [],
   "source": [
    "import pandas as pd\n",
    "import matplotlib.pyplot as plt\n",
    "import seaborn as sns"
   ]
  },
  {
   "cell_type": "code",
   "execution_count": null,
   "id": "528ffb7b",
   "metadata": {},
   "outputs": [],
   "source": [
    "# Load the dataset\n",
    "file_path = r\"D:\\DATA SCIENCE\\ASSIGNMENTS\\16 KNN\\KNN\\Zoo.csv\"\n",
    "zoo_df = pd.read_csv(file_path)"
   ]
  },
  {
   "cell_type": "code",
   "execution_count": null,
   "id": "9bd8f6d6",
   "metadata": {},
   "outputs": [],
   "source": [
    "# Drop non-numeric column\n",
    "zoo_df = zoo_df.drop(columns=[\"animal name\"])"
   ]
  },
  {
   "cell_type": "code",
   "execution_count": null,
   "id": "348836be",
   "metadata": {},
   "outputs": [],
   "source": [
    "# 1. Correlation heatmap\n",
    "plt.figure(figsize=(12, 8))\n",
    "sns.heatmap(zoo_df.corr(numeric_only=True), cmap=\"coolwarm\", annot=False)\n",
    "plt.title(\"Feature Correlation Heatmap\")\n",
    "plt.show()"
   ]
  },
  {
   "cell_type": "code",
   "execution_count": null,
   "id": "828e624e",
   "metadata": {},
   "outputs": [],
   "source": [
    "# 2. Pairplot (simplified to avoid overload)\n",
    "selected_features = ['hair', 'feathers', 'eggs', 'milk', 'aquatic', 'legs', 'type']\n",
    "sns.pairplot(zoo_df[selected_features], hue='type', diag_kind=\"hist\", palette='viridis')\n",
    "plt.suptitle(\"Pairwise Relationships Between Key Features\", y=1.02)\n",
    "plt.show()"
   ]
  },
  {
   "cell_type": "code",
   "execution_count": null,
   "id": "1c31022d",
   "metadata": {},
   "outputs": [],
   "source": [
    "# 3. Distribution of 'legs'\n",
    "plt.figure(figsize=(8, 5))\n",
    "sns.countplot(x='legs', data=zoo_df, palette='magma')\n",
    "plt.title('Distribution of Number of Legs')\n",
    "plt.xlabel('Legs')\n",
    "plt.ylabel('Count')\n",
    "plt.show()"
   ]
  },
  {
   "cell_type": "code",
   "execution_count": null,
   "id": "e5ccd830",
   "metadata": {},
   "outputs": [],
   "source": [
    "# 4. Presence of hair across animal types\n",
    "plt.figure(figsize=(8, 5))\n",
    "sns.countplot(x='type', hue='hair', data=zoo_df, palette='Set2')\n",
    "plt.title('Presence of Hair Across Animal Types')\n",
    "plt.xlabel('Animal Type')\n",
    "plt.ylabel('Count')\n",
    "plt.legend(title='Hair')\n",
    "plt.show()"
   ]
  },
  {
   "cell_type": "markdown",
   "id": "c1595476",
   "metadata": {},
   "source": [
    "Step 2: Data Preprocessing"
   ]
  },
  {
   "cell_type": "code",
   "execution_count": null,
   "id": "0086cb69",
   "metadata": {},
   "outputs": [],
   "source": [
    "import pandas as pd\n",
    "from sklearn.model_selection import train_test_split\n",
    "from sklearn.preprocessing import StandardScaler\n",
    "import matplotlib.pyplot as plt\n",
    "import seaborn as sns"
   ]
  },
  {
   "cell_type": "code",
   "execution_count": null,
   "id": "2d15ce3f",
   "metadata": {},
   "outputs": [],
   "source": [
    "# Load the dataset\n",
    "file_path = r\"D:\\DATA SCIENCE\\ASSIGNMENTS\\16 KNN\\KNN\\Zoo.csv\"\n",
    "zoo_df = pd.read_csv(file_path)"
   ]
  },
  {
   "cell_type": "code",
   "execution_count": null,
   "id": "f9a9a40e",
   "metadata": {},
   "outputs": [],
   "source": [
    "# Drop non-numeric / irrelevant column\n",
    "zoo_df = zoo_df.drop(columns=[\"animal name\"])"
   ]
  },
  {
   "cell_type": "code",
   "execution_count": null,
   "id": "ddb5e8fe",
   "metadata": {},
   "outputs": [],
   "source": [
    "# Check for outliers (mainly in 'legs')\n",
    "plt.figure(figsize=(6,4))\n",
    "sns.boxplot(x=zoo_df[\"legs\"])\n",
    "plt.title(\"Outlier Check — Legs Feature\")\n",
    "plt.show()"
   ]
  },
  {
   "cell_type": "code",
   "execution_count": null,
   "id": "5a2a0014",
   "metadata": {},
   "outputs": [],
   "source": [
    "# Split features and target\n",
    "X = zoo_df.drop(columns=[\"type\"])\n",
    "y = zoo_df[\"type\"]"
   ]
  },
  {
   "cell_type": "code",
   "execution_count": null,
   "id": "44add4b9",
   "metadata": {},
   "outputs": [],
   "source": [
    "# Scale features (important for KNN)\n",
    "scaler = StandardScaler()\n",
    "X_scaled = scaler.fit_transform(X)"
   ]
  },
  {
   "cell_type": "code",
   "execution_count": null,
   "id": "d9ee8668",
   "metadata": {},
   "outputs": [],
   "source": [
    "# Split into training and test sets (80-20)\n",
    "X_train, X_test, y_train, y_test = train_test_split(X_scaled, y, test_size=0.2, random_state=42, stratify=y)"
   ]
  },
  {
   "cell_type": "code",
   "execution_count": null,
   "id": "1b01ab72",
   "metadata": {},
   "outputs": [],
   "source": [
    "print(\"Training set size:\", X_train.shape)\n",
    "print(\"Testing set size:\", X_test.shape)"
   ]
  },
  {
   "cell_type": "markdown",
   "id": "165db017",
   "metadata": {},
   "source": [
    "Step 3: Splitting the dataset into training and testing sets (80–20)"
   ]
  },
  {
   "cell_type": "code",
   "execution_count": null,
   "id": "0200c724",
   "metadata": {},
   "outputs": [],
   "source": [
    "import pandas as pd\n",
    "from sklearn.model_selection import train_test_split\n",
    "from sklearn.preprocessing import StandardScaler"
   ]
  },
  {
   "cell_type": "code",
   "execution_count": null,
   "id": "67f88e40",
   "metadata": {},
   "outputs": [],
   "source": [
    "# Load the dataset\n",
    "file_path = r\"D:\\DATA SCIENCE\\ASSIGNMENTS\\16 KNN\\KNN\\Zoo.csv\"\n",
    "zoo_df = pd.read_csv(file_path)"
   ]
  },
  {
   "cell_type": "code",
   "execution_count": null,
   "id": "352748a6",
   "metadata": {},
   "outputs": [],
   "source": [
    "# Drop irrelevant column\n",
    "zoo_df = zoo_df.drop(columns=[\"animal name\"])"
   ]
  },
  {
   "cell_type": "code",
   "execution_count": null,
   "id": "711ddef8",
   "metadata": {},
   "outputs": [],
   "source": [
    "# Split features and target\n",
    "X = zoo_df.drop(columns=[\"type\"])\n",
    "y = zoo_df[\"type\"]"
   ]
  },
  {
   "cell_type": "code",
   "execution_count": null,
   "id": "aea6da95",
   "metadata": {},
   "outputs": [],
   "source": [
    "# Standardize features (important for KNN)\n",
    "scaler = StandardScaler()\n",
    "X_scaled = scaler.fit_transform(X)"
   ]
  },
  {
   "cell_type": "code",
   "execution_count": null,
   "id": "a0fbe90e",
   "metadata": {},
   "outputs": [],
   "source": [
    "# Split dataset — 80% train, 20% test with stratified sampling\n",
    "X_train, X_test, y_train, y_test = train_test_split(\n",
    "    X_scaled, y, test_size=0.2, random_state=42, stratify=y\n",
    ")"
   ]
  },
  {
   "cell_type": "code",
   "execution_count": null,
   "id": "b7497c97",
   "metadata": {},
   "outputs": [],
   "source": [
    "print(\"Training set size:\", X_train.shape)\n",
    "print(\"Testing set size:\", X_test.shape)\n",
    "print(\"\\nClass distribution in Training set:\\n\", y_train.value_counts(normalize=True).round(2))\n",
    "print(\"\\nClass distribution in Testing set:\\n\", y_test.value_counts(normalize=True).round(2))"
   ]
  },
  {
   "cell_type": "code",
   "execution_count": null,
   "id": "2a681eeb",
   "metadata": {},
   "outputs": [],
   "source": [
    "import pandas as pd\n",
    "import matplotlib.pyplot as plt\n",
    "import seaborn as sns"
   ]
  },
  {
   "cell_type": "code",
   "execution_count": null,
   "id": "3cd7cb8a",
   "metadata": {},
   "outputs": [],
   "source": [
    "# Load the dataset\n",
    "file_path = r\"D:\\DATA SCIENCE\\ASSIGNMENTS\\16 KNN\\KNN\\Zoo.csv\"\n",
    "zoo_df = pd.read_csv(file_path)"
   ]
  },
  {
   "cell_type": "code",
   "execution_count": null,
   "id": "2e2826ba",
   "metadata": {},
   "outputs": [],
   "source": [
    "# Display first few rows, structure, and basic info\n",
    "zoo_head = zoo_df.head()\n",
    "zoo_info = zoo_df.info()\n",
    "zoo_description = zoo_df.describe()"
   ]
  },
  {
   "cell_type": "code",
   "execution_count": null,
   "id": "169c64b9",
   "metadata": {},
   "outputs": [],
   "source": [
    "# Class distribution plot\n",
    "plt.figure(figsize=(8, 5))\n",
    "sns.countplot(x='type', data=zoo_df, palette='viridis')\n",
    "plt.title('Distribution of Animal Types')\n",
    "plt.xlabel('Animal Type')\n",
    "plt.ylabel('Count')\n",
    "plt.show()"
   ]
  },
  {
   "cell_type": "code",
   "execution_count": null,
   "id": "37082031",
   "metadata": {},
   "outputs": [],
   "source": [
    "zoo_head, zoo_description"
   ]
  }
 ],
 "metadata": {},
 "nbformat": 4,
 "nbformat_minor": 5
}
