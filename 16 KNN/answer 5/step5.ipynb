{
 "cells": [
  {
   "cell_type": "markdown",
   "id": "99fa3874",
   "metadata": {},
   "source": [
    "Step 5: Choosing an appropriate distance metric and value for K"
   ]
  },
  {
   "cell_type": "code",
   "execution_count": null,
   "id": "f93afdfe",
   "metadata": {},
   "outputs": [],
   "source": [
    "import os\n",
    "import pandas as pd\n",
    "import numpy as np\n",
    "import matplotlib.pyplot as plt\n",
    "from sklearn.model_selection import GridSearchCV, train_test_split\n",
    "from sklearn.preprocessing import StandardScaler\n",
    "from sklearn.pipeline import Pipeline\n",
    "from sklearn.neighbors import KNeighborsClassifier\n",
    "from sklearn.metrics import accuracy_score"
   ]
  },
  {
   "cell_type": "code",
   "execution_count": null,
   "id": "177da882",
   "metadata": {},
   "outputs": [],
   "source": [
    "# Load and preprocess data\n",
    "file_path = r\"D:\\DATA SCIENCE\\ASSIGNMENTS\\16 KNN\\KNN\\Zoo.csv\"\n",
    "df = pd.read_csv(file_path)\n",
    "df = df.drop(columns=[\"animal name\"])\n",
    "X = df.drop(columns=[\"type\"])\n",
    "y = df[\"type\"]"
   ]
  },
  {
   "cell_type": "code",
   "execution_count": null,
   "id": "d71018af",
   "metadata": {},
   "outputs": [],
   "source": [
    "# Split dataset\n",
    "X_train, X_test, y_train, y_test = train_test_split(X, y, test_size=0.2, stratify=y, random_state=42)"
   ]
  },
  {
   "cell_type": "code",
   "execution_count": null,
   "id": "18e4b09a",
   "metadata": {},
   "outputs": [],
   "source": [
    "# Pipeline: scaling + KNN\n",
    "pipe = Pipeline([\n",
    "    (\"scaler\", StandardScaler()),\n",
    "    (\"knn\", KNeighborsClassifier())\n",
    "])"
   ]
  },
  {
   "cell_type": "code",
   "execution_count": null,
   "id": "27ff4c3c",
   "metadata": {},
   "outputs": [],
   "source": [
    "# Define parameter grid for grid search\n",
    "param_grid = {\n",
    "    \"knn__n_neighbors\": list(range(1, 21)),  # K = 1 to 20\n",
    "    \"knn__p\": [1, 2],                        # Manhattan (1) and Euclidean (2)\n",
    "    \"knn__weights\": [\"uniform\", \"distance\"]  # test both weighting schemes\n",
    "}"
   ]
  },
  {
   "cell_type": "code",
   "execution_count": null,
   "id": "d3c10c17",
   "metadata": {},
   "outputs": [],
   "source": [
    "# Perform grid search\n",
    "grid = GridSearchCV(pipe, param_grid, cv=5, scoring=\"accuracy\", n_jobs=-1)\n",
    "grid.fit(X_train, y_train)"
   ]
  },
  {
   "cell_type": "code",
   "execution_count": null,
   "id": "9b98a478",
   "metadata": {},
   "outputs": [],
   "source": [
    "# Display best results\n",
    "print(\"Best parameters:\", grid.best_params_)\n",
    "print(\"Best cross-validation accuracy: {:.4f}\".format(grid.best_score_))"
   ]
  },
  {
   "cell_type": "code",
   "execution_count": null,
   "id": "4d2eca07",
   "metadata": {},
   "outputs": [],
   "source": [
    "# Evaluate on test set\n",
    "best_model = grid.best_estimator_\n",
    "y_pred = best_model.predict(X_test)\n",
    "test_acc = accuracy_score(y_test, y_pred)\n",
    "print(\"Test set accuracy: {:.4f}\".format(test_acc))"
   ]
  },
  {
   "cell_type": "code",
   "execution_count": null,
   "id": "f82a752d",
   "metadata": {},
   "outputs": [],
   "source": [
    "# Visualize K vs accuracy for each distance metric\n",
    "results = pd.DataFrame(grid.cv_results_)\n",
    "plt.figure(figsize=(8, 5))\n",
    "for p_val, label in zip([1, 2], ['Manhattan (p=1)', 'Euclidean (p=2)']):\n",
    "    subset = results[results['param_knn__p'] == p_val]\n",
    "    plt.plot(subset['param_knn__n_neighbors'], subset['mean_test_score'], marker='o', label=label)\n",
    "plt.xlabel(\"Number of Neighbours (K)\")\n",
    "plt.ylabel(\"Mean CV Accuracy\")\n",
    "plt.title(\"KNN Performance across K values and Distance Metrics\")\n",
    "plt.legend()\n",
    "plt.grid(alpha=0.3)\n",
    "plt.show()"
   ]
  }
 ],
 "metadata": {
  "jupytext": {
   "cell_metadata_filter": "-all",
   "main_language": "python",
   "notebook_metadata_filter": "-all"
  }
 },
 "nbformat": 4,
 "nbformat_minor": 5
}
