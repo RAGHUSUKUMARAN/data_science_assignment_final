{
 "cells": [
  {
   "cell_type": "markdown",
   "id": "f4e2ecde",
   "metadata": {},
   "source": [
    "Step 7: Visualize decision boundaries using PCA (2D projection)"
   ]
  },
  {
   "cell_type": "code",
   "execution_count": null,
   "id": "5e1d6287",
   "metadata": {},
   "outputs": [],
   "source": [
    "import pandas as pd\n",
    "import numpy as np\n",
    "import matplotlib.pyplot as plt\n",
    "import seaborn as sns\n",
    "from sklearn.preprocessing import StandardScaler\n",
    "from sklearn.decomposition import PCA\n",
    "from sklearn.neighbors import KNeighborsClassifier\n",
    "from sklearn.model_selection import train_test_split"
   ]
  },
  {
   "cell_type": "code",
   "execution_count": null,
   "id": "6e91fe3d",
   "metadata": {},
   "outputs": [],
   "source": [
    "# Load and preprocess\n",
    "file_path = r\"D:\\DATA SCIENCE\\ASSIGNMENTS\\16 KNN\\KNN\\Zoo.csv\"\n",
    "df = pd.read_csv(file_path)\n",
    "df = df.drop(columns=[\"animal name\"])"
   ]
  },
  {
   "cell_type": "code",
   "execution_count": null,
   "id": "e5e59271",
   "metadata": {},
   "outputs": [],
   "source": [
    "X = df.drop(columns=[\"type\"])\n",
    "y = df[\"type\"]"
   ]
  },
  {
   "cell_type": "code",
   "execution_count": null,
   "id": "41b55263",
   "metadata": {},
   "outputs": [],
   "source": [
    "# Split into train and test sets\n",
    "X_train, X_test, y_train, y_test = train_test_split(X, y, stratify=y, test_size=0.2, random_state=42)"
   ]
  },
  {
   "cell_type": "code",
   "execution_count": null,
   "id": "f256fb25",
   "metadata": {},
   "outputs": [],
   "source": [
    "# Standardize\n",
    "scaler = StandardScaler()\n",
    "X_scaled = scaler.fit_transform(X)"
   ]
  },
  {
   "cell_type": "code",
   "execution_count": null,
   "id": "7b5f77b5",
   "metadata": {},
   "outputs": [],
   "source": [
    "# Reduce dimensions to 2 using PCA for visualization\n",
    "pca = PCA(n_components=2)\n",
    "X_pca = pca.fit_transform(X_scaled)"
   ]
  },
  {
   "cell_type": "code",
   "execution_count": null,
   "id": "0fddccf3",
   "metadata": {},
   "outputs": [],
   "source": [
    "# Train KNN with best parameters\n",
    "knn = KNeighborsClassifier(n_neighbors=5, p=2, weights='distance')\n",
    "knn.fit(X_pca, y)"
   ]
  },
  {
   "cell_type": "code",
   "execution_count": null,
   "id": "0abd84ef",
   "metadata": {},
   "outputs": [],
   "source": [
    "# Create mesh grid over the 2D PCA space\n",
    "x_min, x_max = X_pca[:, 0].min() - 1, X_pca[:, 0].max() + 1\n",
    "y_min, y_max = X_pca[:, 1].min() - 1, X_pca[:, 1].max() + 1\n",
    "xx, yy = np.meshgrid(np.linspace(x_min, x_max, 400), np.linspace(y_min, y_max, 400))"
   ]
  },
  {
   "cell_type": "code",
   "execution_count": null,
   "id": "715cfd7f",
   "metadata": {},
   "outputs": [],
   "source": [
    "# Predict class for each grid point\n",
    "Z = knn.predict(np.c_[xx.ravel(), yy.ravel()])\n",
    "Z = Z.reshape(xx.shape)"
   ]
  },
  {
   "cell_type": "code",
   "execution_count": null,
   "id": "ac054493",
   "metadata": {},
   "outputs": [],
   "source": [
    "# Plot decision boundaries\n",
    "plt.figure(figsize=(10, 7))\n",
    "plt.contourf(xx, yy, Z, alpha=0.3, cmap='tab10')\n",
    "sns.scatterplot(x=X_pca[:, 0], y=X_pca[:, 1], hue=y, palette='tab10', edgecolor='k', s=60)\n",
    "plt.title(\"Decision Boundaries of KNN Classifier (PCA 2D Projection)\")\n",
    "plt.xlabel(\"Principal Component 1\")\n",
    "plt.ylabel(\"Principal Component 2\")\n",
    "plt.legend(title=\"Animal Type\", loc='best', bbox_to_anchor=(1.05, 1))\n",
    "plt.tight_layout()\n",
    "plt.show()"
   ]
  }
 ],
 "metadata": {
  "jupytext": {
   "cell_metadata_filter": "-all",
   "main_language": "python",
   "notebook_metadata_filter": "-all"
  }
 },
 "nbformat": 4,
 "nbformat_minor": 5
}
