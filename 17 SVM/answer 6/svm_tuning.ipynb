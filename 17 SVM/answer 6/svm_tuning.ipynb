{
 "cells": [
  {
   "cell_type": "code",
   "execution_count": null,
   "id": "a9a120ac",
   "metadata": {},
   "outputs": [],
   "source": [
    "# svm_tuning.py\n",
    "\"\"\"\n",
    "SVM hyperparameter tuning and evaluation script.\n",
    "\n",
    "Assumptions:\n",
    "- You have X (features) and y (labels). If not, uncomment the example using sklearn's iris dataset.\n",
    "- Recommended: run inside a virtualenv with scikit-learn installed (>=0.24).\n",
    "\"\"\""
   ]
  },
  {
   "cell_type": "code",
   "execution_count": null,
   "id": "b957641f",
   "metadata": {},
   "outputs": [],
   "source": [
    "import numpy as np\n",
    "import matplotlib.pyplot as plt\n",
    "from sklearn.svm import SVC\n",
    "from sklearn.pipeline import Pipeline\n",
    "from sklearn.preprocessing import StandardScaler\n",
    "from sklearn.model_selection import (\n",
    "    train_test_split, StratifiedKFold,\n",
    "    GridSearchCV, RandomizedSearchCV\n",
    ")\n",
    "from sklearn.metrics import classification_report, confusion_matrix, ConfusionMatrixDisplay\n",
    "import joblib\n",
    "import time"
   ]
  },
  {
   "cell_type": "markdown",
   "id": "96c5da21",
   "metadata": {},
   "source": [
    "---------- USER DATA LOADING ----------\n",
    "Option A: if you already have X,y (numpy arrays or pandas)\n",
    "from your_data_module import X, y"
   ]
  },
  {
   "cell_type": "code",
   "execution_count": null,
   "id": "30880df9",
   "metadata": {},
   "outputs": [],
   "source": [
    "# Option B: quick example dataset (uncomment to test script immediately)\n",
    "from sklearn import datasets\n",
    "iris = datasets.load_iris()\n",
    "X = iris.data\n",
    "y = iris.target"
   ]
  },
  {
   "cell_type": "code",
   "execution_count": null,
   "id": "af466ad6",
   "metadata": {},
   "outputs": [],
   "source": [
    "# ---------- TRAIN/TEST SPLIT ----------\n",
    "X_train, X_test, y_train, y_test = train_test_split(\n",
    "    X, y, test_size=0.2, stratify=y, random_state=42\n",
    ")"
   ]
  },
  {
   "cell_type": "code",
   "execution_count": null,
   "id": "854efe0d",
   "metadata": {},
   "outputs": [],
   "source": [
    "# ---------- COMMON PIPELINE ----------\n",
    "pipe = Pipeline([\n",
    "    (\"scaler\", StandardScaler()),\n",
    "    (\"svc\", SVC(probability=False))\n",
    "])"
   ]
  },
  {
   "cell_type": "code",
   "execution_count": null,
   "id": "be64b81b",
   "metadata": {},
   "outputs": [],
   "source": [
    "# ---------- CROSS-VALIDATION SETUP ----------\n",
    "cv = StratifiedKFold(n_splits=5, shuffle=True, random_state=42)"
   ]
  },
  {
   "cell_type": "code",
   "execution_count": null,
   "id": "ccf743f0",
   "metadata": {},
   "outputs": [],
   "source": [
    "# ---------- PARAM GRID FOR GRIDSEARCH ----------\n",
    "# We separate grids by kernel to keep combinatorial explosion manageable.\n",
    "param_grid = [\n",
    "    {\n",
    "        \"svc__kernel\": [\"linear\"],\n",
    "        \"svc__C\": [0.01, 0.1, 1, 10, 100],\n",
    "        \"svc__class_weight\": [None, \"balanced\"],\n",
    "    },\n",
    "    {\n",
    "        \"svc__kernel\": [\"rbf\"],\n",
    "        \"svc__C\": [0.1, 1, 10, 100],\n",
    "        \"svc__gamma\": [\"scale\", \"auto\", 0.001, 0.01, 0.1, 1],\n",
    "        \"svc__class_weight\": [None, \"balanced\"],\n",
    "    },\n",
    "    {\n",
    "        \"svc__kernel\": [\"poly\"],\n",
    "        \"svc__C\": [0.1, 1, 10],\n",
    "        \"svc__degree\": [2, 3, 4],\n",
    "        \"svc__gamma\": [\"scale\", \"auto\"],\n",
    "        \"svc__coef0\": [0.0, 0.1, 0.5],\n",
    "        \"svc__class_weight\": [None],\n",
    "    },\n",
    "    {\n",
    "        \"svc__kernel\": [\"sigmoid\"],\n",
    "        \"svc__C\": [0.1, 1, 10],\n",
    "        \"svc__gamma\": [\"scale\", \"auto\", 0.01, 0.1],\n",
    "        \"svc__coef0\": [0.0, 0.1, 0.5],\n",
    "        \"svc__class_weight\": [None],\n",
    "    }\n",
    "]"
   ]
  },
  {
   "cell_type": "code",
   "execution_count": null,
   "id": "eef4a55e",
   "metadata": {},
   "outputs": [],
   "source": [
    "# ---------- RANDOMIZED GRID (broader search) ----------\n",
    "# If you have many features / dataset large, randomized search is faster.\n",
    "param_dist = {\n",
    "    \"svc__kernel\": [\"rbf\", \"linear\", \"poly\", \"sigmoid\"],\n",
    "    \"svc__C\": [10**k for k in np.linspace(-3, 3, 11)],      # 1e-3 .. 1e3\n",
    "    \"svc__gamma\": [\"scale\", \"auto\"]+ [10**k for k in np.linspace(-4, 0, 5)], # mix\n",
    "    \"svc__degree\": [2, 3, 4],    # only relevant for poly\n",
    "    \"svc__coef0\": [0.0, 0.1, 0.5],\n",
    "    \"svc__class_weight\": [None, \"balanced\"],\n",
    "}"
   ]
  },
  {
   "cell_type": "markdown",
   "id": "2fecfec3",
   "metadata": {
    "lines_to_next_cell": 2
   },
   "source": [
    "Note: We defined param_dist above but RandomizedSearchCV will ignore keys that\n",
    "don't apply to a kernel (e.g., degree for non-poly). That's okay."
   ]
  },
  {
   "cell_type": "code",
   "execution_count": null,
   "id": "065c043d",
   "metadata": {
    "lines_to_next_cell": 1
   },
   "outputs": [],
   "source": [
    "# ---------- FUNCTIONS FOR TUNING & EVAL ----------\n",
    "def run_grid_search(pipe, param_grid, X_train, y_train, cv, scoring=\"f1_macro\", n_jobs=-1):\n",
    "    print(\"Starting GridSearchCV...\")\n",
    "    t0 = time.time()\n",
    "    grid = GridSearchCV(\n",
    "        pipe, param_grid, cv=cv, scoring=scoring,\n",
    "        verbose=2, n_jobs=n_jobs, refit=True\n",
    "    )\n",
    "    grid.fit(X_train, y_train)\n",
    "    elapsed = time.time() - t0\n",
    "    print(f\"Grid search done in {elapsed:.1f} s\")\n",
    "    print(\"Best score (CV):\", grid.best_score_)\n",
    "    print(\"Best params:\", grid.best_params_)\n",
    "    return grid"
   ]
  },
  {
   "cell_type": "code",
   "execution_count": null,
   "id": "bc3d4595",
   "metadata": {
    "lines_to_next_cell": 1
   },
   "outputs": [],
   "source": [
    "def run_random_search(pipe, param_dist, X_train, y_train, cv, n_iter=40, scoring=\"f1_macro\", n_jobs=-1):\n",
    "    print(\"Starting RandomizedSearchCV...\")\n",
    "    t0 = time.time()\n",
    "    rand = RandomizedSearchCV(\n",
    "        pipe, param_dist, n_iter=n_iter, cv=cv, scoring=scoring,\n",
    "        verbose=2, n_jobs=n_jobs, random_state=42, refit=True\n",
    "    )\n",
    "    rand.fit(X_train, y_train)\n",
    "    elapsed = time.time() - t0\n",
    "    print(f\"Randomized search done in {elapsed:.1f} s\")\n",
    "    print(\"Best score (CV):\", rand.best_score_)\n",
    "    print(\"Best params:\", rand.best_params_)\n",
    "    return rand"
   ]
  },
  {
   "cell_type": "code",
   "execution_count": null,
   "id": "fe571ac1",
   "metadata": {
    "lines_to_next_cell": 1
   },
   "outputs": [],
   "source": [
    "def evaluate_model(model, X_test, y_test, target_names=None, save_cm_fig=True, cm_filename=\"confusion_matrix.png\"):\n",
    "    print(\"\\n--- Test set evaluation ---\")\n",
    "    y_pred = model.predict(X_test)\n",
    "    print(classification_report(y_test, y_pred, target_names=target_names))\n",
    "    cm = confusion_matrix(y_test, y_pred)\n",
    "    disp = ConfusionMatrixDisplay(confusion_matrix=cm, display_labels=target_names)\n",
    "    fig, ax = plt.subplots(figsize=(6, 6))\n",
    "    disp.plot(ax=ax, cmap=plt.cm.Blues, colorbar=False)\n",
    "    plt.title(\"Confusion Matrix (test set)\")\n",
    "    if save_cm_fig:\n",
    "        plt.savefig(cm_filename, bbox_inches=\"tight\")\n",
    "        print(f\"Saved confusion matrix to {cm_filename}\")\n",
    "    plt.show()"
   ]
  },
  {
   "cell_type": "code",
   "execution_count": null,
   "id": "b63153c8",
   "metadata": {},
   "outputs": [],
   "source": [
    "# ---------- RUN TUNING (pick one or both) ----------\n",
    "if __name__ == \"__main__\":\n",
    "    # 1) Quick Randomized Search (broad)\n",
    "    try:\n",
    "        rand_search = run_random_search(\n",
    "            pipe,\n",
    "            param_dist,\n",
    "            X_train, y_train,\n",
    "            cv=cv,\n",
    "            n_iter=30,      # reduce/increase based on compute budget\n",
    "            scoring=\"f1_macro\",\n",
    "            n_jobs=-1\n",
    "        )\n",
    "    except Exception as e:\n",
    "        print(\"Randomized search failed (likely due to param_dist construction).\")\n",
    "        print(e)\n",
    "        rand_search = None\n",
    "\n",
    "    # 2) More exhaustive Grid Search (fine-tuning)\n",
    "    grid_search = run_grid_search(\n",
    "        pipe,\n",
    "        param_grid,\n",
    "        X_train, y_train,\n",
    "        cv=cv,\n",
    "        scoring=\"f1_macro\",\n",
    "        n_jobs=-1\n",
    "    )\n",
    "\n",
    "    # Pick best model (prefer grid_search best if available)\n",
    "    best_model = None\n",
    "    if grid_search is not None:\n",
    "        best_model = grid_search.best_estimator_\n",
    "        print(\"\\nSelected model from GridSearch.\")\n",
    "    elif rand_search is not None:\n",
    "        best_model = rand_search.best_estimator_\n",
    "        print(\"\\nSelected model from RandomizedSearch.\")\n",
    "    else:\n",
    "        raise RuntimeError(\"No tuned model available. Both searches failed.\")\n",
    "\n",
    "    # Evaluate on test set\n",
    "    class_names = [str(c) for c in np.unique(y)]\n",
    "    evaluate_model(best_model, X_test, y_test, target_names=class_names)\n",
    "\n",
    "    # Save best model\n",
    "    joblib.dump(best_model, \"best_svm_model.joblib\")\n",
    "    print(\"Saved best model to best_svm_model.joblib\")"
   ]
  }
 ],
 "metadata": {
  "jupytext": {
   "cell_metadata_filter": "-all",
   "main_language": "python",
   "notebook_metadata_filter": "-all"
  }
 },
 "nbformat": 4,
 "nbformat_minor": 5
}
