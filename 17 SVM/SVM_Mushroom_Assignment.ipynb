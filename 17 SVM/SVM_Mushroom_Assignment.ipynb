{
 "cells": [
  {
   "cell_type": "markdown",
   "id": "01469454",
   "metadata": {},
   "source": [
    "# 🍄 Support Vector Machine (SVM) — Mushroom Dataset\n",
    "---\n",
    "**Objective:** Classify mushrooms as edible vs poisonous using SVM.\n",
    "\n",
    "**Includes:** EDA, preprocessing, class balance, kernels (linear/RBF/poly), GridSearchCV tuning, metrics, confusion matrix, and PCA-based decision boundary visualization."
   ]
  },
  {
   "cell_type": "markdown",
   "id": "239266d4",
   "metadata": {},
   "source": [
    "## 1) Setup & Imports"
   ]
  },
  {
   "cell_type": "code",
   "execution_count": null,
   "id": "59ced8dc",
   "metadata": {},
   "outputs": [],
   "source": [
    "\n",
    "import pandas as pd\n",
    "import numpy as np\n",
    "import matplotlib.pyplot as plt\n",
    "\n",
    "from sklearn.model_selection import train_test_split, StratifiedKFold, RepeatedStratifiedKFold, GridSearchCV\n",
    "from sklearn.compose import ColumnTransformer\n",
    "from sklearn.preprocessing import OneHotEncoder, StandardScaler\n",
    "from sklearn.pipeline import Pipeline\n",
    "from sklearn.svm import SVC\n",
    "from sklearn.metrics import accuracy_score, precision_score, recall_score, f1_score, confusion_matrix, ConfusionMatrixDisplay, classification_report\n",
    "from sklearn.decomposition import PCA\n",
    "\n",
    "RANDOM_STATE = 42\n",
    "np.random.seed(RANDOM_STATE)\n",
    "pd.set_option('display.max_columns', None)\n"
   ]
  },
  {
   "cell_type": "markdown",
   "id": "8cb829b6",
   "metadata": {},
   "source": [
    "## 2) Load Data"
   ]
  },
  {
   "cell_type": "code",
   "execution_count": 3,
   "id": "05cc1623",
   "metadata": {},
   "outputs": [
    {
     "name": "stdout",
     "output_type": "stream",
     "text": [
      "(2000, 26)\n"
     ]
    },
    {
     "data": {
      "text/html": [
       "<div>\n",
       "<style scoped>\n",
       "    .dataframe tbody tr th:only-of-type {\n",
       "        vertical-align: middle;\n",
       "    }\n",
       "\n",
       "    .dataframe tbody tr th {\n",
       "        vertical-align: top;\n",
       "    }\n",
       "\n",
       "    .dataframe thead th {\n",
       "        text-align: right;\n",
       "    }\n",
       "</style>\n",
       "<table border=\"1\" class=\"dataframe\">\n",
       "  <thead>\n",
       "    <tr style=\"text-align: right;\">\n",
       "      <th></th>\n",
       "      <th>Unnamed: 0</th>\n",
       "      <th>cap_shape</th>\n",
       "      <th>cap_surface</th>\n",
       "      <th>cap_color</th>\n",
       "      <th>bruises</th>\n",
       "      <th>odor</th>\n",
       "      <th>gill_attachment</th>\n",
       "      <th>gill_spacing</th>\n",
       "      <th>gill_size</th>\n",
       "      <th>gill_color</th>\n",
       "      <th>...</th>\n",
       "      <th>veil_type</th>\n",
       "      <th>veil_color</th>\n",
       "      <th>ring_number</th>\n",
       "      <th>ring_type</th>\n",
       "      <th>spore_print_color</th>\n",
       "      <th>population</th>\n",
       "      <th>habitat</th>\n",
       "      <th>class</th>\n",
       "      <th>stalk_height</th>\n",
       "      <th>cap_diameter</th>\n",
       "    </tr>\n",
       "  </thead>\n",
       "  <tbody>\n",
       "    <tr>\n",
       "      <th>0</th>\n",
       "      <td>1167</td>\n",
       "      <td>sunken</td>\n",
       "      <td>scaly</td>\n",
       "      <td>white</td>\n",
       "      <td>no</td>\n",
       "      <td>anise</td>\n",
       "      <td>descending</td>\n",
       "      <td>distant</td>\n",
       "      <td>broad</td>\n",
       "      <td>pink</td>\n",
       "      <td>...</td>\n",
       "      <td>partial</td>\n",
       "      <td>brown</td>\n",
       "      <td>two</td>\n",
       "      <td>sheathing</td>\n",
       "      <td>chocolate</td>\n",
       "      <td>clustered</td>\n",
       "      <td>waste</td>\n",
       "      <td>poisonous</td>\n",
       "      <td>14.276173</td>\n",
       "      <td>5.054983</td>\n",
       "    </tr>\n",
       "    <tr>\n",
       "      <th>1</th>\n",
       "      <td>1037</td>\n",
       "      <td>sunken</td>\n",
       "      <td>fibrous</td>\n",
       "      <td>red</td>\n",
       "      <td>no</td>\n",
       "      <td>anise</td>\n",
       "      <td>notched</td>\n",
       "      <td>crowded</td>\n",
       "      <td>narrow</td>\n",
       "      <td>chocolate</td>\n",
       "      <td>...</td>\n",
       "      <td>universal</td>\n",
       "      <td>brown</td>\n",
       "      <td>two</td>\n",
       "      <td>sheathing</td>\n",
       "      <td>brown</td>\n",
       "      <td>numerous</td>\n",
       "      <td>waste</td>\n",
       "      <td>edible</td>\n",
       "      <td>3.952715</td>\n",
       "      <td>19.068319</td>\n",
       "    </tr>\n",
       "    <tr>\n",
       "      <th>2</th>\n",
       "      <td>309</td>\n",
       "      <td>flat</td>\n",
       "      <td>grooves</td>\n",
       "      <td>purple</td>\n",
       "      <td>yes</td>\n",
       "      <td>foul</td>\n",
       "      <td>descending</td>\n",
       "      <td>crowded</td>\n",
       "      <td>broad</td>\n",
       "      <td>purple</td>\n",
       "      <td>...</td>\n",
       "      <td>universal</td>\n",
       "      <td>yellow</td>\n",
       "      <td>two</td>\n",
       "      <td>sheathing</td>\n",
       "      <td>purple</td>\n",
       "      <td>abundant</td>\n",
       "      <td>waste</td>\n",
       "      <td>poisonous</td>\n",
       "      <td>9.054265</td>\n",
       "      <td>7.205884</td>\n",
       "    </tr>\n",
       "    <tr>\n",
       "      <th>3</th>\n",
       "      <td>282</td>\n",
       "      <td>bell</td>\n",
       "      <td>scaly</td>\n",
       "      <td>pink</td>\n",
       "      <td>yes</td>\n",
       "      <td>fishy</td>\n",
       "      <td>notched</td>\n",
       "      <td>close</td>\n",
       "      <td>broad</td>\n",
       "      <td>orange</td>\n",
       "      <td>...</td>\n",
       "      <td>partial</td>\n",
       "      <td>yellow</td>\n",
       "      <td>two</td>\n",
       "      <td>cobwebby</td>\n",
       "      <td>green</td>\n",
       "      <td>clustered</td>\n",
       "      <td>grasses</td>\n",
       "      <td>poisonous</td>\n",
       "      <td>5.226499</td>\n",
       "      <td>20.932692</td>\n",
       "    </tr>\n",
       "    <tr>\n",
       "      <th>4</th>\n",
       "      <td>820</td>\n",
       "      <td>flat</td>\n",
       "      <td>smooth</td>\n",
       "      <td>yellow</td>\n",
       "      <td>yes</td>\n",
       "      <td>musty</td>\n",
       "      <td>free</td>\n",
       "      <td>crowded</td>\n",
       "      <td>narrow</td>\n",
       "      <td>orange</td>\n",
       "      <td>...</td>\n",
       "      <td>universal</td>\n",
       "      <td>white</td>\n",
       "      <td>none</td>\n",
       "      <td>none</td>\n",
       "      <td>yellow</td>\n",
       "      <td>clustered</td>\n",
       "      <td>urban</td>\n",
       "      <td>poisonous</td>\n",
       "      <td>14.037532</td>\n",
       "      <td>12.545245</td>\n",
       "    </tr>\n",
       "  </tbody>\n",
       "</table>\n",
       "<p>5 rows × 26 columns</p>\n",
       "</div>"
      ],
      "text/plain": [
       "   Unnamed: 0 cap_shape cap_surface cap_color bruises   odor gill_attachment  \\\n",
       "0        1167    sunken       scaly     white      no  anise      descending   \n",
       "1        1037    sunken     fibrous       red      no  anise         notched   \n",
       "2         309      flat     grooves    purple     yes   foul      descending   \n",
       "3         282      bell       scaly      pink     yes  fishy         notched   \n",
       "4         820      flat      smooth    yellow     yes  musty            free   \n",
       "\n",
       "  gill_spacing gill_size gill_color  ...  veil_type veil_color ring_number  \\\n",
       "0      distant     broad       pink  ...    partial      brown         two   \n",
       "1      crowded    narrow  chocolate  ...  universal      brown         two   \n",
       "2      crowded     broad     purple  ...  universal     yellow         two   \n",
       "3        close     broad     orange  ...    partial     yellow         two   \n",
       "4      crowded    narrow     orange  ...  universal      white        none   \n",
       "\n",
       "   ring_type spore_print_color population  habitat      class stalk_height  \\\n",
       "0  sheathing         chocolate  clustered    waste  poisonous    14.276173   \n",
       "1  sheathing             brown   numerous    waste     edible     3.952715   \n",
       "2  sheathing            purple   abundant    waste  poisonous     9.054265   \n",
       "3   cobwebby             green  clustered  grasses  poisonous     5.226499   \n",
       "4       none            yellow  clustered    urban  poisonous    14.037532   \n",
       "\n",
       "  cap_diameter  \n",
       "0     5.054983  \n",
       "1    19.068319  \n",
       "2     7.205884  \n",
       "3    20.932692  \n",
       "4    12.545245  \n",
       "\n",
       "[5 rows x 26 columns]"
      ]
     },
     "execution_count": 3,
     "metadata": {},
     "output_type": "execute_result"
    }
   ],
   "source": [
    "import pandas as pd\n",
    "\n",
    "df = pd.read_csv(r\"D:\\DATA-SCIENCE\\ASSIGNMENTS\\17 SVM\\mushroom.csv\")\n",
    "print(df.shape)\n",
    "df.head()\n"
   ]
  },
  {
   "cell_type": "markdown",
   "id": "8e91468d",
   "metadata": {},
   "source": [
    "## 3) Exploratory Data Analysis (EDA)"
   ]
  },
  {
   "cell_type": "code",
   "execution_count": 4,
   "id": "03a8847f",
   "metadata": {},
   "outputs": [
    {
     "name": "stdout",
     "output_type": "stream",
     "text": [
      "Info:\n",
      "<class 'pandas.core.frame.DataFrame'>\n",
      "RangeIndex: 2000 entries, 0 to 1999\n",
      "Data columns (total 26 columns):\n",
      " #   Column                    Non-Null Count  Dtype  \n",
      "---  ------                    --------------  -----  \n",
      " 0   Unnamed: 0                2000 non-null   int64  \n",
      " 1   cap_shape                 2000 non-null   object \n",
      " 2   cap_surface               2000 non-null   object \n",
      " 3   cap_color                 2000 non-null   object \n",
      " 4   bruises                   2000 non-null   object \n",
      " 5   odor                      2000 non-null   object \n",
      " 6   gill_attachment           2000 non-null   object \n",
      " 7   gill_spacing              2000 non-null   object \n",
      " 8   gill_size                 2000 non-null   object \n",
      " 9   gill_color                2000 non-null   object \n",
      " 10  stalk_shape               2000 non-null   object \n",
      " 11  stalk_root                2000 non-null   object \n",
      " 12  stalk_surface_above_ring  2000 non-null   object \n",
      " 13  stalk_surface_below_ring  2000 non-null   object \n",
      " 14  stalk_color_above_ring    2000 non-null   object \n",
      " 15  stalk_color_below_ring    2000 non-null   object \n",
      " 16  veil_type                 2000 non-null   object \n",
      " 17  veil_color                2000 non-null   object \n",
      " 18  ring_number               2000 non-null   object \n",
      " 19  ring_type                 2000 non-null   object \n",
      " 20  spore_print_color         2000 non-null   object \n",
      " 21  population                2000 non-null   object \n",
      " 22  habitat                   2000 non-null   object \n",
      " 23  class                     2000 non-null   object \n",
      " 24  stalk_height              2000 non-null   float64\n",
      " 25  cap_diameter              2000 non-null   float64\n",
      "dtypes: float64(2), int64(1), object(23)\n",
      "memory usage: 406.4+ KB\n",
      "None\n",
      "\n",
      "Missing-value-like tokens ('?') count per column:\n",
      "Series([], dtype: int64)\n"
     ]
    }
   ],
   "source": [
    "\n",
    "print(\"Info:\")\n",
    "print(df.info())\n",
    "print(\"\\nMissing-value-like tokens ('?') count per column:\")\n",
    "missing_like = (df == '?').sum().sort_values(ascending=False)\n",
    "print(missing_like[missing_like > 0])\n"
   ]
  },
  {
   "cell_type": "code",
   "execution_count": 6,
   "id": "63a1d2c3",
   "metadata": {},
   "outputs": [
    {
     "name": "stdout",
     "output_type": "stream",
     "text": [
      "\n",
      "Class distribution (raw counts):\n",
      " class\n",
      "poisonous    1400\n",
      "edible        600\n",
      "Name: count, dtype: int64\n"
     ]
    },
    {
     "data": {
      "image/png": "[encoded data removed]",
      "text/plain": [
       "<Figure size 600x400 with 1 Axes>"
      ]
     },
     "metadata": {},
     "output_type": "display_data"
    }
   ],
   "source": [
    "import matplotlib.pyplot as plt\n",
    "\n",
    "# Class distribution\n",
    "cls_counts = df['class'].value_counts()\n",
    "print(\"\\nClass distribution (raw counts):\\n\", cls_counts)\n",
    "\n",
    "plt.figure(figsize=(6,4))\n",
    "plt.bar(cls_counts.index.astype(str), cls_counts.values)\n",
    "plt.title(\"Class Distribution — 'class' (e=edible, p=poisonous)\")\n",
    "plt.xlabel(\"class\")\n",
    "plt.ylabel(\"count\")\n",
    "plt.show()\n"
   ]
  },
  {
   "cell_type": "markdown",
   "id": "d3c596fc",
   "metadata": {},
   "source": [
    "## 4) Preprocessing\n",
    "- Replace '?' with a dedicated 'missing' category.\n",
    "- One-hot encode all feature columns.\n",
    "- Standardize features (without centering to preserve sparsity)."
   ]
  },
  {
   "cell_type": "code",
   "execution_count": 15,
   "id": "dbe43915",
   "metadata": {},
   "outputs": [
    {
     "name": "stdout",
     "output_type": "stream",
     "text": [
      "Feature columns: 25\n",
      "X shape before encoding: (2000, 25)\n",
      "y shape: (2000,)\n"
     ]
    }
   ],
   "source": [
    "\n",
    "# Target and features\n",
    "from sklearn.compose import ColumnTransformer\n",
    "from sklearn.preprocessing import OneHotEncoder, StandardScaler\n",
    "\n",
    "TARGET_COL = 'class'\n",
    "y = df[TARGET_COL].copy()\n",
    "X = df.drop(columns=[TARGET_COL]).copy()\n",
    "\n",
    "# Treat '?' as a valid 'missing' category\n",
    "X = X.replace('?', 'missing')\n",
    "\n",
    "# Identify categorical columns (should be all in mushroom dataset)\n",
    "cat_cols = X.columns.tolist()\n",
    "\n",
    "# Preprocessor: OneHotEncoder + StandardScaler(with_mean=False) for sparse matrices\n",
    "preprocess = ColumnTransformer(\n",
    "    transformers=[\n",
    "        ('cat', OneHotEncoder(handle_unknown='ignore'), cat_cols)\n",
    "    ],\n",
    "    remainder='drop'\n",
    ")\n",
    "\n",
    "scaler = StandardScaler(with_mean=False)  # safe for sparse\n",
    "print(\"Feature columns:\", len(cat_cols))\n",
    "print(\"X shape before encoding:\", X.shape)\n",
    "print(\"y shape:\", y.shape)\n",
    "\n"
   ]
  },
  {
   "cell_type": "markdown",
   "id": "75b9ebdb",
   "metadata": {},
   "source": [
    "## 5) Train / Test Split"
   ]
  },
  {
   "cell_type": "code",
   "execution_count": 23,
   "id": "f2d56aea",
   "metadata": {},
   "outputs": [
    {
     "name": "stdout",
     "output_type": "stream",
     "text": [
      "Train size: (1600, 25)  Test size: (400, 25)\n",
      "Train class balance:\n",
      " class\n",
      "poisonous    0.7\n",
      "edible       0.3\n",
      "Name: proportion, dtype: float64\n"
     ]
    }
   ],
   "source": [
    "from sklearn.model_selection import train_test_split\n",
    "RANDOM_STATE = 42\n",
    "\n",
    "X_train, X_test, y_train, y_test = train_test_split(\n",
    "    X, y, test_size=0.2, random_state=RANDOM_STATE, stratify=y\n",
    ")\n",
    "\n",
    "print(\"Train size:\", X_train.shape, \" Test size:\", X_test.shape)\n",
    "print(\"Train class balance:\\n\", y_train.value_counts(normalize=True))\n"
   ]
  },
  {
   "cell_type": "markdown",
   "id": "383fc436",
   "metadata": {},
   "source": [
    "## 6) Baseline SVM Models (Linear / RBF / Poly)\n",
    "Pipelines include OneHotEncoder → StandardScaler → SVC."
   ]
  },
  {
   "cell_type": "code",
   "execution_count": 27,
   "id": "31470be9",
   "metadata": {},
   "outputs": [
    {
     "data": {
      "text/html": [
       "<div>\n",
       "<style scoped>\n",
       "    .dataframe tbody tr th:only-of-type {\n",
       "        vertical-align: middle;\n",
       "    }\n",
       "\n",
       "    .dataframe tbody tr th {\n",
       "        vertical-align: top;\n",
       "    }\n",
       "\n",
       "    .dataframe thead th {\n",
       "        text-align: right;\n",
       "    }\n",
       "</style>\n",
       "<table border=\"1\" class=\"dataframe\">\n",
       "  <thead>\n",
       "    <tr style=\"text-align: right;\">\n",
       "      <th></th>\n",
       "      <th>acc</th>\n",
       "      <th>prec</th>\n",
       "      <th>rec</th>\n",
       "      <th>f1</th>\n",
       "    </tr>\n",
       "  </thead>\n",
       "  <tbody>\n",
       "    <tr>\n",
       "      <th>linear</th>\n",
       "      <td>0.8575</td>\n",
       "      <td>0.830861</td>\n",
       "      <td>1.0</td>\n",
       "      <td>0.907618</td>\n",
       "    </tr>\n",
       "    <tr>\n",
       "      <th>rbf</th>\n",
       "      <td>0.8575</td>\n",
       "      <td>0.830861</td>\n",
       "      <td>1.0</td>\n",
       "      <td>0.907618</td>\n",
       "    </tr>\n",
       "    <tr>\n",
       "      <th>poly</th>\n",
       "      <td>0.8550</td>\n",
       "      <td>0.828402</td>\n",
       "      <td>1.0</td>\n",
       "      <td>0.906149</td>\n",
       "    </tr>\n",
       "  </tbody>\n",
       "</table>\n",
       "</div>"
      ],
      "text/plain": [
       "           acc      prec  rec        f1\n",
       "linear  0.8575  0.830861  1.0  0.907618\n",
       "rbf     0.8575  0.830861  1.0  0.907618\n",
       "poly    0.8550  0.828402  1.0  0.906149"
      ]
     },
     "execution_count": 27,
     "metadata": {},
     "output_type": "execute_result"
    }
   ],
   "source": [
    "from sklearn.pipeline import Pipeline\n",
    "from sklearn.svm import SVC\n",
    "from sklearn.metrics import accuracy_score, precision_score, recall_score, f1_score\n",
    "import pandas as pd\n",
    "\n",
    "def make_pipeline_svc(kernel='linear', C=1.0, gamma='scale', degree=3):\n",
    "    svc = SVC(kernel=kernel, C=C, gamma=gamma, degree=degree, random_state=RANDOM_STATE)\n",
    "    return Pipeline([('prep', preprocess), ('scale', scaler), ('svc', svc)])\n",
    "\n",
    "models = {\n",
    "    'linear': make_pipeline_svc(kernel='linear'),\n",
    "    'rbf':    make_pipeline_svc(kernel='rbf'),\n",
    "    'poly':   make_pipeline_svc(kernel='poly', degree=3)\n",
    "}\n",
    "\n",
    "baseline_results = {}\n",
    "for name, pipe in models.items():\n",
    "    pipe.fit(X_train, y_train)\n",
    "    y_pred = pipe.predict(X_test)\n",
    "    baseline_results[name] = {\n",
    "        'acc': accuracy_score(y_test, y_pred),\n",
    "        'prec': precision_score(y_test, y_pred, pos_label='poisonous'),\n",
    "'rec': recall_score(y_test, y_pred, pos_label='poisonous'),\n",
    "'f1': f1_score(y_test, y_pred, pos_label='poisonous')\n",
    "\n",
    "    }\n",
    "\n",
    "pd.DataFrame(baseline_results).T\n"
   ]
  },
  {
   "cell_type": "markdown",
   "id": "4256003c",
   "metadata": {},
   "source": [
    "## 7) Hyperparameter Tuning — GridSearchCV"
   ]
  },
  {
   "cell_type": "code",
   "execution_count": 31,
   "id": "eedae182",
   "metadata": {},
   "outputs": [
    {
     "name": "stdout",
     "output_type": "stream",
     "text": [
      "Fitting tiny grid…\n",
      "Fitting 5 folds for each of 2 candidates, totalling 10 fits\n",
      "Done tiny grid in 5.81s\n",
      "Best params (tiny): {'svc__C': 1, 'svc__kernel': 'linear'}\n",
      "Best CV acc (tiny): 0.874375\n",
      "\n",
      "=== Test Metrics (Tiny Best) ===\n",
      "Accuracy : 0.8575\n",
      "Precision: 0.8308605341246291\n",
      "Recall   : 1.0\n",
      "F1-score : 0.9076175040518638\n",
      "\n",
      "Classification Report:\n",
      "               precision    recall  f1-score   support\n",
      "\n",
      "      edible       1.00      0.53      0.69       120\n",
      "   poisonous       0.83      1.00      0.91       280\n",
      "\n",
      "    accuracy                           0.86       400\n",
      "   macro avg       0.92      0.76      0.80       400\n",
      "weighted avg       0.88      0.86      0.84       400\n",
      "\n"
     ]
    }
   ],
   "source": [
    "from time import perf_counter\n",
    "from sklearn.model_selection import StratifiedKFold, GridSearchCV\n",
    "from sklearn.svm import SVC\n",
    "from sklearn.pipeline import Pipeline\n",
    "\n",
    "start = perf_counter()\n",
    "\n",
    "cv = StratifiedKFold(n_splits=5, shuffle=True, random_state=RANDOM_STATE)\n",
    "\n",
    "pipe = Pipeline([\n",
    "    ('prep', preprocess),\n",
    "    ('scale', scaler),\n",
    "    ('svc', SVC(random_state=RANDOM_STATE))\n",
    "])\n",
    "\n",
    "# Tiny grid to confirm flow\n",
    "param_grid_small = [\n",
    "    {'svc__kernel': ['linear'], 'svc__C': [1]},\n",
    "    {'svc__kernel': ['rbf'],    'svc__C': [1], 'svc__gamma': ['scale']}\n",
    "]\n",
    "\n",
    "gs = GridSearchCV(\n",
    "    pipe,\n",
    "    param_grid=param_grid_small,\n",
    "    scoring='accuracy',\n",
    "    cv=cv,\n",
    "    n_jobs=-1,           # use all cores\n",
    "    verbose=2            # show progress\n",
    ")\n",
    "\n",
    "print(\"Fitting tiny grid…\")\n",
    "gs.fit(X_train, y_train)\n",
    "print(\"Done tiny grid in {:.2f}s\".format(perf_counter() - start))\n",
    "\n",
    "print(\"Best params (tiny):\", gs.best_params_)\n",
    "print(\"Best CV acc (tiny):\", gs.best_score_)\n",
    "\n",
    "best_model = gs.best_estimator_\n",
    "y_pred_best = best_model.predict(X_test)\n",
    "\n",
    "from sklearn.metrics import accuracy_score, precision_score, recall_score, f1_score, classification_report\n",
    "print(\"\\n=== Test Metrics (Tiny Best) ===\")\n",
    "print(\"Accuracy :\", accuracy_score(y_test, y_pred_best))\n",
    "print(\"Precision:\", precision_score(y_test, y_pred_best, pos_label='poisonous'))\n",
    "print(\"Recall   :\", recall_score(y_test, y_pred_best, pos_label='poisonous'))\n",
    "print(\"F1-score :\", f1_score(y_test, y_pred_best, pos_label='poisonous'))\n",
    "print(\"\\nClassification Report:\\n\", classification_report(y_test, y_pred_best, zero_division=0))\n"
   ]
  },
  {
   "cell_type": "markdown",
   "id": "f7e394d6",
   "metadata": {},
   "source": [
    "## 8) Confusion Matrix — Best Model"
   ]
  },
  {
   "cell_type": "code",
   "execution_count": 35,
   "id": "f39f96f7",
   "metadata": {},
   "outputs": [
    {
     "data": {
      "image/png": "[encoded data removed]",
      "text/plain": [
       "<Figure size 640x480 with 2 Axes>"
      ]
     },
     "metadata": {},
     "output_type": "display_data"
    }
   ],
   "source": [
    "from sklearn.metrics import confusion_matrix, ConfusionMatrixDisplay\n",
    "import matplotlib.pyplot as plt\n",
    "\n",
    "cm = confusion_matrix(y_test, y_pred_best, labels=['edible', 'poisonous'])\n",
    "disp = ConfusionMatrixDisplay(cm, display_labels=['edible','poisonous'])\n",
    "disp.plot(cmap=\"Blues\")\n",
    "plt.title(\"Confusion Matrix — SVM (Best Model)\")\n",
    "plt.show()\n"
   ]
  },
  {
   "cell_type": "markdown",
   "id": "6cf22aee",
   "metadata": {},
   "source": [
    "## 9) PCA-Based Decision Boundary (2D)\n",
    "We project features to 2 principal components on the **training set**, then train an SVM on the 2D space for visualization."
   ]
  },
  {
   "cell_type": "code",
   "execution_count": 40,
   "id": "8fcc2b7e",
   "metadata": {},
   "outputs": [
    {
     "data": {
      "image/png": "[encoded data removed]",
      "text/plain": [
       "<Figure size 700x600 with 1 Axes>"
      ]
     },
     "metadata": {},
     "output_type": "display_data"
    }
   ],
   "source": [
    "import numpy as np\n",
    "\n",
    "from sklearn.decomposition import PCA\n",
    "import matplotlib.pyplot as plt\n",
    "from sklearn.svm import SVC\n",
    "from sklearn.metrics import accuracy_score\n",
    "\n",
    "\n",
    "# Predict class labels on the mesh\n",
    "Z = svc_pca.predict(np.c_[xx.ravel(), yy.ravel()])\n",
    "\n",
    "# Map string labels to ints for contourf\n",
    "label_map = {'edible': 0, 'poisonous': 1}\n",
    "Z_num = np.vectorize(label_map.get)(Z).astype(float).reshape(xx.shape)\n",
    "\n",
    "plt.figure(figsize=(7,6))\n",
    "# Choose levels that split the two classes: (-0.5, 0.5, 1.5)\n",
    "plt.contourf(xx, yy, Z_num, levels=[-0.5, 0.5, 1.5], alpha=0.3)\n",
    "\n",
    "# Plot training points with the same mapping\n",
    "labels = np.unique(y_train)\n",
    "for lbl in labels:\n",
    "    idx = (y_train.values == lbl)\n",
    "    plt.scatter(X_train_pca[idx,0], X_train_pca[idx,1], s=20, label=str(lbl))\n",
    "\n",
    "plt.title(\"SVM Decision Boundary on PCA(2D) Space\")\n",
    "plt.xlabel(\"PC1\")\n",
    "plt.ylabel(\"PC2\")\n",
    "plt.legend()\n",
    "plt.show()\n"
   ]
  },
  {
   "cell_type": "markdown",
   "id": "d42f55a5",
   "metadata": {},
   "source": [
    "## 10) Kernel Comparison — Summary Table"
   ]
  },
  {
   "cell_type": "code",
   "execution_count": 42,
   "id": "3edf7ccb",
   "metadata": {},
   "outputs": [
    {
     "data": {
      "text/html": [
       "<div>\n",
       "<style scoped>\n",
       "    .dataframe tbody tr th:only-of-type {\n",
       "        vertical-align: middle;\n",
       "    }\n",
       "\n",
       "    .dataframe tbody tr th {\n",
       "        vertical-align: top;\n",
       "    }\n",
       "\n",
       "    .dataframe thead th {\n",
       "        text-align: right;\n",
       "    }\n",
       "</style>\n",
       "<table border=\"1\" class=\"dataframe\">\n",
       "  <thead>\n",
       "    <tr style=\"text-align: right;\">\n",
       "      <th></th>\n",
       "      <th>kernel</th>\n",
       "      <th>accuracy</th>\n",
       "      <th>precision_p</th>\n",
       "      <th>recall_p</th>\n",
       "      <th>f1_p</th>\n",
       "    </tr>\n",
       "  </thead>\n",
       "  <tbody>\n",
       "    <tr>\n",
       "      <th>0</th>\n",
       "      <td>linear</td>\n",
       "      <td>0.8575</td>\n",
       "      <td>0.830861</td>\n",
       "      <td>1.0</td>\n",
       "      <td>0.907618</td>\n",
       "    </tr>\n",
       "    <tr>\n",
       "      <th>1</th>\n",
       "      <td>rbf</td>\n",
       "      <td>0.8575</td>\n",
       "      <td>0.830861</td>\n",
       "      <td>1.0</td>\n",
       "      <td>0.907618</td>\n",
       "    </tr>\n",
       "    <tr>\n",
       "      <th>2</th>\n",
       "      <td>poly</td>\n",
       "      <td>0.8550</td>\n",
       "      <td>0.828402</td>\n",
       "      <td>1.0</td>\n",
       "      <td>0.906149</td>\n",
       "    </tr>\n",
       "  </tbody>\n",
       "</table>\n",
       "</div>"
      ],
      "text/plain": [
       "   kernel  accuracy  precision_p  recall_p      f1_p\n",
       "0  linear    0.8575     0.830861       1.0  0.907618\n",
       "1     rbf    0.8575     0.830861       1.0  0.907618\n",
       "2    poly    0.8550     0.828402       1.0  0.906149"
      ]
     },
     "execution_count": 42,
     "metadata": {},
     "output_type": "execute_result"
    }
   ],
   "source": [
    "summary_rows = []\n",
    "for name, pipe in models.items():\n",
    "    pipe.fit(X_train, y_train)\n",
    "    y_hat = pipe.predict(X_test)\n",
    "    summary_rows.append({\n",
    "        'kernel': name,\n",
    "        'accuracy': accuracy_score(y_test, y_hat),\n",
    "        'precision_p': precision_score(y_test, y_hat, pos_label='poisonous'),\n",
    "        'recall_p':    recall_score(y_test, y_hat, pos_label='poisonous'),\n",
    "        'f1_p':        f1_score(y_test, y_hat, pos_label='poisonous'),\n",
    "    })\n",
    "\n",
    "summary_df = pd.DataFrame(summary_rows).sort_values(by='accuracy', ascending=False)\n",
    "summary_df\n"
   ]
  },
  {
   "cell_type": "markdown",
   "id": "71d4159a",
   "metadata": {},
   "source": [
    "## 11) Interview Questions — Quick Answers\n",
    "**Q) Key SVM hyperparameters?**\n",
    "- `C` (regularization strength)\n",
    "- `kernel` (e.g., 'linear', 'rbf', 'poly', 'sigmoid')\n",
    "- `gamma` (RBF/poly width)\n",
    "- `degree` (for polynomial)\n",
    "- `class_weight` (handle imbalance)\n",
    "\n",
    "**Q) When to use which kernel?**\n",
    "- **Linear**: many features, roughly linearly separable\n",
    "- **RBF**: default workhorse for non-linear boundaries\n",
    "- **Poly**: interactions of degree `d`; can overfit\n",
    "\n",
    "**Q) Why scale features for SVM?**\n",
    "- Because margin & kernel computations depend on distances; unscaled features distort them.\n"
   ]
  }
 ],
 "metadata": {
  "kernelspec": {
   "display_name": "Python 3 (ipykernel)",
   "language": "python",
   "name": "python3"
  },
  "language_info": {
   "codemirror_mode": {
    "name": "ipython",
    "version": 3
   },
   "file_extension": ".py",
   "mimetype": "text/x-python",
   "name": "python",
   "nbconvert_exporter": "python",
   "pygments_lexer": "ipython3",
   "version": "3.11.13"
  }
 },
 "nbformat": 4,
 "nbformat_minor": 5
}
