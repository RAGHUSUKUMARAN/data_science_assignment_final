{
 "cells": [
  {
   "cell_type": "code",
   "execution_count": null,
   "id": "5cea74a4",
   "metadata": {},
   "outputs": [],
   "source": [
    "# step3_visualization.py\n",
    "import pandas as pd\n",
    "import matplotlib.pyplot as plt\n",
    "import seaborn as sns"
   ]
  },
  {
   "cell_type": "code",
   "execution_count": null,
   "id": "590f0d27",
   "metadata": {},
   "outputs": [],
   "source": [
    "# Load dataset\n",
    "file_path = r\"D:\\DATA SCIENCE\\ASSIGNMENTS\\17 SVM\\SVM\\mushroom.csv\"\n",
    "mushroom_df = pd.read_csv(file_path)"
   ]
  },
  {
   "cell_type": "code",
   "execution_count": null,
   "id": "af41ad77",
   "metadata": {},
   "outputs": [],
   "source": [
    "sns.set(style=\"whitegrid\", palette=\"Set2\")"
   ]
  },
  {
   "cell_type": "markdown",
   "id": "85775fe5",
   "metadata": {},
   "source": [
    "--- Step 1: Feature Distributions and Relationships ---"
   ]
  },
  {
   "cell_type": "code",
   "execution_count": null,
   "id": "e3b57e35",
   "metadata": {},
   "outputs": [],
   "source": [
    "# Correct column names for UCI Mushroom dataset\n",
    "selected_features = ['odor', 'spore_print_color', 'gill_color', 'cap_color', 'habitat']"
   ]
  },
  {
   "cell_type": "code",
   "execution_count": null,
   "id": "555f2552",
   "metadata": {},
   "outputs": [],
   "source": [
    "# Sanity check for columns\n",
    "print(\"Columns in dataset:\", mushroom_df.columns.tolist())\n",
    "for feature in selected_features:\n",
    "    if feature not in mushroom_df.columns:\n",
    "        print(f\"⚠️ Warning: Column '{feature}' not found in dataset!\")"
   ]
  },
  {
   "cell_type": "code",
   "execution_count": null,
   "id": "c28f1cd9",
   "metadata": {},
   "outputs": [],
   "source": [
    "plt.figure(figsize=(14, 10))\n",
    "for i, feature in enumerate(selected_features, 1):\n",
    "    plt.subplot(2, 3, i)\n",
    "    sns.countplot(x=feature, hue='class', data=mushroom_df)\n",
    "    plt.title(f\"Distribution of {feature} by Class\")\n",
    "    plt.xticks(rotation=45)\n",
    "plt.tight_layout()\n",
    "plt.savefig(r\"D:\\DATA SCIENCE\\ASSIGNMENTS\\17 SVM\\SVM\\feature_distributions.png\", dpi=150)\n",
    "plt.show()"
   ]
  },
  {
   "cell_type": "code",
   "execution_count": null,
   "id": "38dbb6d0",
   "metadata": {},
   "outputs": [],
   "source": [
    "# --- Step 2: Class Distribution Visualization ---\n",
    "plt.figure(figsize=(6, 5))\n",
    "sns.countplot(x='class', data=mushroom_df, palette='Set1')\n",
    "plt.title(\"Class Distribution (Edible vs. Poisonous)\")\n",
    "plt.xlabel(\"Class\")\n",
    "plt.ylabel(\"Count\")\n",
    "plt.savefig(r\"D:\\DATA SCIENCE\\ASSIGNMENTS\\17 SVM\\SVM\\class_distribution.png\", dpi=150)\n",
    "plt.show()"
   ]
  }
 ],
 "metadata": {
  "jupytext": {
   "cell_metadata_filter": "-all",
   "main_language": "python",
   "notebook_metadata_filter": "-all"
  }
 },
 "nbformat": 4,
 "nbformat_minor": 5
}
