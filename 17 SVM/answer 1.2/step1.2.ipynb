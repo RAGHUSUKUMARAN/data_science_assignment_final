{
 "cells": [
  {
   "cell_type": "markdown",
   "id": "2c5d0ac9",
   "metadata": {},
   "source": [
    "Step 2: Visualizing Feature Distributions"
   ]
  },
  {
   "cell_type": "code",
   "execution_count": null,
   "id": "a57ed917",
   "metadata": {},
   "outputs": [],
   "source": [
    "import matplotlib.pyplot as plt\n",
    "import seaborn as sns"
   ]
  },
  {
   "cell_type": "code",
   "execution_count": null,
   "id": "d4e82f66",
   "metadata": {},
   "outputs": [],
   "source": [
    "# --- Categorical Features ---\n",
    "cat_features = ['cap_shape', 'cap_surface', 'cap_color', 'odor', 'habitat', 'class']\n",
    "plt.figure(figsize=(15, 10))\n",
    "for i, feature in enumerate(cat_features, 1):\n",
    "    plt.subplot(2, 3, i)\n",
    "    sns.countplot(x=feature, data=mushroom_df, palette='viridis')\n",
    "    plt.title(f'Distribution of {feature}')\n",
    "    plt.xticks(rotation=45)\n",
    "plt.tight_layout()\n",
    "plt.show()"
   ]
  },
  {
   "cell_type": "code",
   "execution_count": null,
   "id": "e0bff90a",
   "metadata": {},
   "outputs": [],
   "source": [
    "# --- Numerical Features ---\n",
    "num_features = ['stalk_height', 'cap_diameter']"
   ]
  },
  {
   "cell_type": "code",
   "execution_count": null,
   "id": "6e15d28d",
   "metadata": {},
   "outputs": [],
   "source": [
    "# Histograms\n",
    "plt.figure(figsize=(12, 5))\n",
    "for i, feature in enumerate(num_features, 1):\n",
    "    plt.subplot(1, 2, i)\n",
    "    sns.histplot(mushroom_df[feature], kde=True, color='teal')\n",
    "    plt.title(f'{feature} Distribution')\n",
    "plt.tight_layout()\n",
    "plt.show()"
   ]
  },
  {
   "cell_type": "code",
   "execution_count": null,
   "id": "f6e3264f",
   "metadata": {},
   "outputs": [],
   "source": [
    "# Boxplots\n",
    "plt.figure(figsize=(12, 5))\n",
    "for i, feature in enumerate(num_features, 1):\n",
    "    plt.subplot(1, 2, i)\n",
    "    sns.boxplot(x=mushroom_df[feature], color='orange')\n",
    "    plt.title(f'Boxplot of {feature}')\n",
    "plt.tight_layout()\n",
    "plt.show()"
   ]
  }
 ],
 "metadata": {
  "jupytext": {
   "cell_metadata_filter": "-all",
   "main_language": "python",
   "notebook_metadata_filter": "-all"
  }
 },
 "nbformat": 4,
 "nbformat_minor": 5
}
