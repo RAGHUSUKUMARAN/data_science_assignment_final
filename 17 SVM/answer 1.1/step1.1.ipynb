{
 "cells": [
  {
   "cell_type": "markdown",
   "id": "553425dc",
   "metadata": {},
   "source": [
    "Step 1: Load and Explore the Mushroom Dataset"
   ]
  },
  {
   "cell_type": "code",
   "execution_count": null,
   "id": "68ac93ca",
   "metadata": {},
   "outputs": [],
   "source": [
    "import pandas as pd"
   ]
  },
  {
   "cell_type": "code",
   "execution_count": null,
   "id": "169fbea7",
   "metadata": {},
   "outputs": [],
   "source": [
    "# Load dataset\n",
    "file_path = r\"D:\\DATA SCIENCE\\ASSIGNMENTS\\17 SVM\\SVM\\mushroom.csv\"\n",
    "mushroom_df = pd.read_csv(file_path)"
   ]
  },
  {
   "cell_type": "code",
   "execution_count": null,
   "id": "4aed0722",
   "metadata": {},
   "outputs": [],
   "source": [
    "# Basic exploration\n",
    "print(\"Dataset shape:\", mushroom_df.shape)\n",
    "print(\"\\nColumn names:\\n\", list(mushroom_df.columns))\n",
    "print(\"\\nData types:\\n\", mushroom_df.dtypes)\n",
    "print(\"\\nMissing values per column:\\n\", mushroom_df.isnull().sum())"
   ]
  },
  {
   "cell_type": "code",
   "execution_count": null,
   "id": "d1d6974d",
   "metadata": {},
   "outputs": [],
   "source": [
    "# Preview dataset\n",
    "print(\"\\nFirst 5 rows:\\n\", mushroom_df.head())"
   ]
  },
  {
   "cell_type": "code",
   "execution_count": null,
   "id": "bea026cb",
   "metadata": {},
   "outputs": [],
   "source": [
    "# Descriptive summary (includes both numeric and categorical)\n",
    "print(\"\\nSummary statistics:\\n\", mushroom_df.describe(include='all'))"
   ]
  }
 ],
 "metadata": {
  "jupytext": {
   "cell_metadata_filter": "-all",
   "main_language": "python",
   "notebook_metadata_filter": "-all"
  }
 },
 "nbformat": 4,
 "nbformat_minor": 5
}
