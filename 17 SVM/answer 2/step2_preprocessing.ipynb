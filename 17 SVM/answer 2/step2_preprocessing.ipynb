{
 "cells": [
  {
   "cell_type": "code",
   "execution_count": null,
   "id": "63d3e0a7",
   "metadata": {},
   "outputs": [],
   "source": [
    "# step2_preprocessing.py\n",
    "import pandas as pd\n",
    "from sklearn.model_selection import train_test_split\n",
    "from sklearn.preprocessing import LabelEncoder"
   ]
  },
  {
   "cell_type": "code",
   "execution_count": null,
   "id": "79093ebf",
   "metadata": {},
   "outputs": [],
   "source": [
    "# Load the encoded dataset\n",
    "file_path = r\"D:\\DATA SCIENCE\\ASSIGNMENTS\\17 SVM\\SVM\\mushroom.csv\"\n",
    "mushroom_df = pd.read_csv(file_path)"
   ]
  },
  {
   "cell_type": "code",
   "execution_count": null,
   "id": "19798cbd",
   "metadata": {},
   "outputs": [],
   "source": [
    "# Display shape and first few rows\n",
    "print(\"Initial dataset shape:\", mushroom_df.shape)\n",
    "print(mushroom_df.head())"
   ]
  },
  {
   "cell_type": "markdown",
   "id": "1733ae54",
   "metadata": {},
   "source": [
    "--- Step 1: Encode Categorical Variables ---"
   ]
  },
  {
   "cell_type": "code",
   "execution_count": null,
   "id": "463eb974",
   "metadata": {},
   "outputs": [],
   "source": [
    "# Separate features and target\n",
    "X = mushroom_df.drop('class', axis=1)\n",
    "y = mushroom_df['class']"
   ]
  },
  {
   "cell_type": "code",
   "execution_count": null,
   "id": "88237a04",
   "metadata": {},
   "outputs": [],
   "source": [
    "# Encode target label (edible/poisonous)\n",
    "label_encoder = LabelEncoder()\n",
    "y_encoded = label_encoder.fit_transform(y)"
   ]
  },
  {
   "cell_type": "code",
   "execution_count": null,
   "id": "4ec29523",
   "metadata": {},
   "outputs": [],
   "source": [
    "# Perform one-hot encoding for categorical predictors\n",
    "X_encoded = pd.get_dummies(X, drop_first=True)"
   ]
  },
  {
   "cell_type": "code",
   "execution_count": null,
   "id": "71eff406",
   "metadata": {},
   "outputs": [],
   "source": [
    "print(\"After encoding:\")\n",
    "print(\"Feature matrix shape:\", X_encoded.shape)\n",
    "print(\"Target vector shape:\", y_encoded.shape)"
   ]
  },
  {
   "cell_type": "markdown",
   "id": "59b263b6",
   "metadata": {},
   "source": [
    "--- Step 2: Split Dataset ---"
   ]
  },
  {
   "cell_type": "code",
   "execution_count": null,
   "id": "c4255289",
   "metadata": {},
   "outputs": [],
   "source": [
    "X_train, X_test, y_train, y_test = train_test_split(\n",
    "    X_encoded, y_encoded, test_size=0.2, random_state=42, stratify=y_encoded\n",
    ")"
   ]
  },
  {
   "cell_type": "code",
   "execution_count": null,
   "id": "c4a5fc3a",
   "metadata": {},
   "outputs": [],
   "source": [
    "print(\"Training set shape:\", X_train.shape)\n",
    "print(\"Testing set shape:\", X_test.shape)"
   ]
  },
  {
   "cell_type": "code",
   "execution_count": null,
   "id": "527e8b5c",
   "metadata": {},
   "outputs": [],
   "source": [
    "# --- Save preprocessed data ---\n",
    "X_train.to_csv(r\"D:\\DATA SCIENCE\\ASSIGNMENTS\\17 SVM\\SVM\\X_train.csv\", index=False)\n",
    "X_test.to_csv(r\"D:\\DATA SCIENCE\\ASSIGNMENTS\\17 SVM\\SVM\\X_test.csv\", index=False)\n",
    "pd.DataFrame(y_train, columns=['class']).to_csv(r\"D:\\DATA SCIENCE\\ASSIGNMENTS\\17 SVM\\SVM\\y_train.csv\", index=False)\n",
    "pd.DataFrame(y_test, columns=['class']).to_csv(r\"D:\\DATA SCIENCE\\ASSIGNMENTS\\17 SVM\\SVM\\y_test.csv\", index=False)"
   ]
  },
  {
   "cell_type": "code",
   "execution_count": null,
   "id": "d94a3c21",
   "metadata": {},
   "outputs": [],
   "source": [
    "print(\"Preprocessing complete. Encoded and split data saved successfully.\")"
   ]
  }
 ],
 "metadata": {
  "jupytext": {
   "cell_metadata_filter": "-all",
   "main_language": "python",
   "notebook_metadata_filter": "-all"
  }
 },
 "nbformat": 4,
 "nbformat_minor": 5
}
