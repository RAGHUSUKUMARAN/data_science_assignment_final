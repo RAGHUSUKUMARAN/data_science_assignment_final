{
 "cells": [
  {
   "cell_type": "code",
   "execution_count": null,
   "id": "a2a053af",
   "metadata": {},
   "outputs": [],
   "source": [
    "import pandas as pd\n",
    "from sklearn.preprocessing import MultiLabelBinarizer, MinMaxScaler"
   ]
  },
  {
   "cell_type": "code",
   "execution_count": null,
   "id": "47289959",
   "metadata": {},
   "outputs": [],
   "source": [
    "# Load dataset from your local path\n",
    "file_path = r\"D:\\DATA SCIENCE\\ASSIGNMENTS\\11 recommendation system\\Recommendation System\\anime.csv\"\n",
    "anime = pd.read_csv(file_path)"
   ]
  },
  {
   "cell_type": "code",
   "execution_count": null,
   "id": "0bcee967",
   "metadata": {
    "lines_to_next_cell": 1
   },
   "outputs": [],
   "source": [
    "# --- Step 1 Cleaning ---\n",
    "anime['episodes'] = pd.to_numeric(anime['episodes'].replace(\"Unknown\", None), errors='coerce')\n",
    "anime['genre'] = anime['genre'].fillna(\"Unknown\")\n",
    "anime['type'] = anime['type'].fillna(\"Unknown\")\n",
    "anime['rating'] = anime['rating'].fillna(anime['rating'].mean())"
   ]
  },
  {
   "cell_type": "code",
   "execution_count": null,
   "id": "992b6580",
   "metadata": {
    "lines_to_next_cell": 1
   },
   "outputs": [],
   "source": [
    "# --- Step 2 Feature Extraction ---\n",
    "def split_genres(genres):\n",
    "    if not genres or genres == \"Unknown\":\n",
    "        return []\n",
    "    return [g.strip() for g in genres.split(',') if g.strip()]"
   ]
  },
  {
   "cell_type": "code",
   "execution_count": null,
   "id": "6597ca52",
   "metadata": {},
   "outputs": [],
   "source": [
    "anime['genre_list'] = anime['genre'].apply(split_genres)"
   ]
  },
  {
   "cell_type": "code",
   "execution_count": null,
   "id": "08ae9740",
   "metadata": {},
   "outputs": [],
   "source": [
    "# Multi-hot encode genres\n",
    "mlb = MultiLabelBinarizer(sparse_output=False)\n",
    "genre_matrix = mlb.fit_transform(anime['genre_list'])\n",
    "genre_cols = [f\"genre__{g}\" for g in mlb.classes_]\n",
    "genre_df = pd.DataFrame(genre_matrix, columns=genre_cols, index=anime.index)"
   ]
  },
  {
   "cell_type": "code",
   "execution_count": null,
   "id": "b8f2e3a7",
   "metadata": {},
   "outputs": [],
   "source": [
    "# Normalize rating and members\n",
    "scaler = MinMaxScaler()\n",
    "num_df = anime[['rating', 'members']].copy()\n",
    "num_df[['rating_norm', 'members_norm']] = scaler.fit_transform(num_df[['rating', 'members']])"
   ]
  },
  {
   "cell_type": "code",
   "execution_count": null,
   "id": "ed9b428a",
   "metadata": {},
   "outputs": [],
   "source": [
    "# Combine all features\n",
    "features_df = pd.concat([anime[['anime_id', 'name']], genre_df, num_df[['rating_norm', 'members_norm']]], axis=1)"
   ]
  },
  {
   "cell_type": "code",
   "execution_count": null,
   "id": "ddf88ad7",
   "metadata": {},
   "outputs": [],
   "source": [
    "# --- Save processed file to your folder ---\n",
    "out_path = r\"D:\\DATA SCIENCE\\ASSIGNMENTS\\11 recommendation system\\anime_features.csv\"\n",
    "features_df.to_csv(out_path, index=False)"
   ]
  },
  {
   "cell_type": "code",
   "execution_count": null,
   "id": "a3675b68",
   "metadata": {},
   "outputs": [],
   "source": [
    "print(\"✅ Feature extraction complete!\")\n",
    "print(f\"Shape of feature matrix: {features_df.shape}\")\n",
    "print(f\"File saved to: {out_path}\")"
   ]
  }
 ],
 "metadata": {
  "jupytext": {
   "cell_metadata_filter": "-all",
   "main_language": "python",
   "notebook_metadata_filter": "-all"
  }
 },
 "nbformat": 4,
 "nbformat_minor": 5
}
