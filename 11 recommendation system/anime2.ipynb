{
 "cells": [
  {
   "cell_type": "code",
   "execution_count": null,
   "id": "a0c8c5fb",
   "metadata": {},
   "outputs": [],
   "source": [
    "import pandas as pd"
   ]
  },
  {
   "cell_type": "code",
   "execution_count": null,
   "id": "da6bce13",
   "metadata": {},
   "outputs": [],
   "source": [
    "# Load dataset\n",
    "file_path = r\"D:\\DATA SCIENCE\\ASSIGNMENTS\\11 recommendation system\\Recommendation System\\anime.csv\"\n",
    "anime_df = pd.read_csv(file_path)"
   ]
  },
  {
   "cell_type": "code",
   "execution_count": null,
   "id": "317cbc35",
   "metadata": {},
   "outputs": [],
   "source": [
    "# Convert \"episodes\" to numeric and handle missing values\n",
    "anime_df['episodes'] = pd.to_numeric(anime_df['episodes'].replace(\"Unknown\", None), errors='coerce')\n",
    "anime_df['genre'] = anime_df['genre'].fillna(\"Unknown\")\n",
    "anime_df['type'] = anime_df['type'].fillna(\"Unknown\")\n",
    "anime_df['rating'] = anime_df['rating'].fillna(anime_df['rating'].mean())"
   ]
  }
 ],
 "metadata": {
  "jupytext": {
   "cell_metadata_filter": "-all",
   "main_language": "python",
   "notebook_metadata_filter": "-all"
  }
 },
 "nbformat": 4,
 "nbformat_minor": 5
}
