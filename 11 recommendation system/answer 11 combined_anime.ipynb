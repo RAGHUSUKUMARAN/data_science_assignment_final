{
 "cells": [
  {
   "cell_type": "code",
   "execution_count": null,
   "id": "f3d5e5d9",
   "metadata": {},
   "outputs": [],
   "source": [
    "import pandas as pd"
   ]
  },
  {
   "cell_type": "code",
   "execution_count": null,
   "id": "496174b3",
   "metadata": {},
   "outputs": [],
   "source": [
    "# Load the dataset\n",
    "file_path = '/mnt/data/anime.csv'\n",
    "anime_df = pd.read_csv(file_path)"
   ]
  },
  {
   "cell_type": "code",
   "execution_count": null,
   "id": "5a0fb02f",
   "metadata": {},
   "outputs": [],
   "source": [
    "# Display first few rows and dataset info\n",
    "anime_df.head(), anime_df.info()"
   ]
  },
  {
   "cell_type": "code",
   "execution_count": null,
   "id": "9b197e01",
   "metadata": {},
   "outputs": [],
   "source": [
    "\"\"\"\n",
    "anime_recommender.py\n",
    "Drop this file in the same environment where you have anime_features.csv\n",
    "\"\"\""
   ]
  },
  {
   "cell_type": "code",
   "execution_count": null,
   "id": "cb16446a",
   "metadata": {},
   "outputs": [],
   "source": [
    "import pandas as pd\n",
    "import numpy as np\n",
    "from sklearn.metrics.pairwise import cosine_similarity\n",
    "from difflib import get_close_matches\n",
    "from typing import Union, Optional"
   ]
  },
  {
   "cell_type": "code",
   "execution_count": null,
   "id": "e4f45824",
   "metadata": {},
   "outputs": [],
   "source": [
    "# --------- CONFIG: update if your path differs ----------\n",
    "FEATURES_PATH = r\"D:\\DATA SCIENCE\\ASSIGNMENTS\\11 recommendation system\\anime_features.csv\"\n",
    "# -------------------------------------------------------"
   ]
  },
  {
   "cell_type": "code",
   "execution_count": null,
   "id": "5f29cde7",
   "metadata": {
    "lines_to_next_cell": 1
   },
   "outputs": [],
   "source": [
    "class AnimeRecommender:\n",
    "    def __init__(self, features_path: str = FEATURES_PATH, compute_matrix: bool = True):\n",
    "        # Load precomputed features\n",
    "        self.df = pd.read_csv(features_path)\n",
    "        # Identify feature columns (everything except anime_id & name)\n",
    "        self.id_col = 'anime_id'\n",
    "        self.name_col = 'name'\n",
    "        self.feature_cols = [c for c in self.df.columns if c not in {self.id_col, self.name_col}]\n",
    "        # Feature matrix\n",
    "        self.features = self.df[self.feature_cols].values.astype(float)\n",
    "        # Precompute cosine similarity matrix if requested\n",
    "        self.sim_matrix = None\n",
    "        if compute_matrix:\n",
    "            self.sim_matrix = cosine_similarity(self.features)\n",
    "            # Keep numerical stability: clip tiny negatives to 0, and 1 on diagonal\n",
    "            np.fill_diagonal(self.sim_matrix, 1.0)\n",
    "\n",
    "    def _get_index_for_title(self, title: Union[int, str]) -> Optional[int]:\n",
    "        \"\"\"\n",
    "        Return dataframe index for a given anime name or anime_id.\n",
    "        If string given, tries exact match (case-insensitive), then fuzzy match.\n",
    "        \"\"\"\n",
    "        if isinstance(title, int) or (isinstance(title, str) and title.isdigit()):\n",
    "            # try anime_id\n",
    "            try:\n",
    "                anime_id = int(title)\n",
    "                matches = self.df[self.df[self.id_col] == anime_id]\n",
    "                if not matches.empty:\n",
    "                    return matches.index[0]\n",
    "            except ValueError:\n",
    "                pass\n",
    "\n",
    "        if isinstance(title, str):\n",
    "            # exact case-insensitive match\n",
    "            mask = self.df[self.name_col].str.lower() == title.lower()\n",
    "            if mask.any():\n",
    "                return mask.idxmax()\n",
    "\n",
    "            # partial substring match\n",
    "            substr_mask = self.df[self.name_col].str.lower().str.contains(title.lower())\n",
    "            if substr_mask.any():\n",
    "                return substr_mask[substr_mask].index[0]\n",
    "\n",
    "            # fuzzy match fallback\n",
    "            choices = self.df[self.name_col].tolist()\n",
    "            close = get_close_matches(title, choices, n=1, cutoff=0.6)\n",
    "            if close:\n",
    "                return self.df[self.name_col] == close[0].__str__() and self.df[self.name_col][self.df[self.name_col] == close[0]].index[0]\n",
    "        return None\n",
    "\n",
    "    def recommend_anime(self,\n",
    "                        target: Union[str, int],\n",
    "                        top_n: int = 10,\n",
    "                        threshold: Optional[float] = None,\n",
    "                        include_target: bool = False) -> pd.DataFrame:\n",
    "        \"\"\"\n",
    "        Recommend similar anime for a given target (title string or anime_id).\n",
    "        Parameters:\n",
    "            - target: anime title (str) or anime_id (int or numeric string)\n",
    "            - top_n: return up to top_n recommendations (ignored if threshold used and fewer results)\n",
    "            - threshold: float in [0,1]. If provided, returns all anime with similarity >= threshold.\n",
    "                         If None, returns top_n highest-similarity anime.\n",
    "            - include_target: whether to include the target anime itself in results (default False)\n",
    "        Returns:\n",
    "            pandas DataFrame with columns: anime_id, name, similarity\n",
    "        \"\"\"\n",
    "        idx = self._get_index_for_title(target)\n",
    "        if idx is None:\n",
    "            raise ValueError(f\"Target '{target}' not found (no close matches). Check spelling or use anime_id.\")\n",
    "\n",
    "        # compute similarity row if matrix isn't precomputed\n",
    "        if self.sim_matrix is not None:\n",
    "            sims = self.sim_matrix[idx]\n",
    "        else:\n",
    "            sims = cosine_similarity(self.features[idx:idx+1], self.features).flatten()\n",
    "\n",
    "        results = pd.DataFrame({\n",
    "            self.id_col: self.df[self.id_col],\n",
    "            self.name_col: self.df[self.name_col],\n",
    "            'similarity': sims\n",
    "        })\n",
    "\n",
    "        # Optionally drop target\n",
    "        if not include_target:\n",
    "            results = results[results[self.id_col] != self.df.loc[idx, self.id_col]]\n",
    "\n",
    "        # Apply threshold or top_n\n",
    "        if threshold is not None:\n",
    "            filtered = results[results['similarity'] >= float(threshold)].sort_values('similarity', ascending=False)\n",
    "            return filtered.reset_index(drop=True)\n",
    "        else:\n",
    "            top = results.sort_values('similarity', ascending=False).head(top_n).reset_index(drop=True)\n",
    "            return top"
   ]
  },
  {
   "cell_type": "code",
   "execution_count": null,
   "id": "1d52b454",
   "metadata": {},
   "outputs": [],
   "source": [
    "# ---------------- Example usage ----------------\n",
    "if __name__ == \"__main__\":\n",
    "    rec = AnimeRecommender(FEATURES_PATH)\n",
    "    # Example 1: by exact title\n",
    "    print(\"Top 8 similar to 'Fullmetal Alchemist: Brotherhood':\")\n",
    "    print(rec.recommend_anime(\"Fullmetal Alchemist: Brotherhood\", top_n=8))\n",
    "\n",
    "    # Example 2: fuzzy / partial ti"
   ]
  },
  {
   "cell_type": "code",
   "execution_count": null,
   "id": "a2a053af",
   "metadata": {},
   "outputs": [],
   "source": [
    "import pandas as pd\n",
    "from sklearn.preprocessing import MultiLabelBinarizer, MinMaxScaler"
   ]
  },
  {
   "cell_type": "code",
   "execution_count": null,
   "id": "47289959",
   "metadata": {},
   "outputs": [],
   "source": [
    "# Load dataset from your local path\n",
    "file_path = r\"D:\\DATA SCIENCE\\ASSIGNMENTS\\11 recommendation system\\Recommendation System\\anime.csv\"\n",
    "anime = pd.read_csv(file_path)"
   ]
  },
  {
   "cell_type": "code",
   "execution_count": null,
   "id": "0bcee967",
   "metadata": {
    "lines_to_next_cell": 1
   },
   "outputs": [],
   "source": [
    "# --- Step 1 Cleaning ---\n",
    "anime['episodes'] = pd.to_numeric(anime['episodes'].replace(\"Unknown\", None), errors='coerce')\n",
    "anime['genre'] = anime['genre'].fillna(\"Unknown\")\n",
    "anime['type'] = anime['type'].fillna(\"Unknown\")\n",
    "anime['rating'] = anime['rating'].fillna(anime['rating'].mean())"
   ]
  },
  {
   "cell_type": "code",
   "execution_count": null,
   "id": "992b6580",
   "metadata": {
    "lines_to_next_cell": 1
   },
   "outputs": [],
   "source": [
    "# --- Step 2 Feature Extraction ---\n",
    "def split_genres(genres):\n",
    "    if not genres or genres == \"Unknown\":\n",
    "        return []\n",
    "    return [g.strip() for g in genres.split(',') if g.strip()]"
   ]
  },
  {
   "cell_type": "code",
   "execution_count": null,
   "id": "6597ca52",
   "metadata": {},
   "outputs": [],
   "source": [
    "anime['genre_list'] = anime['genre'].apply(split_genres)"
   ]
  },
  {
   "cell_type": "code",
   "execution_count": null,
   "id": "08ae9740",
   "metadata": {},
   "outputs": [],
   "source": [
    "# Multi-hot encode genres\n",
    "mlb = MultiLabelBinarizer(sparse_output=False)\n",
    "genre_matrix = mlb.fit_transform(anime['genre_list'])\n",
    "genre_cols = [f\"genre__{g}\" for g in mlb.classes_]\n",
    "genre_df = pd.DataFrame(genre_matrix, columns=genre_cols, index=anime.index)"
   ]
  },
  {
   "cell_type": "code",
   "execution_count": null,
   "id": "b8f2e3a7",
   "metadata": {},
   "outputs": [],
   "source": [
    "# Normalize rating and members\n",
    "scaler = MinMaxScaler()\n",
    "num_df = anime[['rating', 'members']].copy()\n",
    "num_df[['rating_norm', 'members_norm']] = scaler.fit_transform(num_df[['rating', 'members']])"
   ]
  },
  {
   "cell_type": "code",
   "execution_count": null,
   "id": "ed9b428a",
   "metadata": {},
   "outputs": [],
   "source": [
    "# Combine all features\n",
    "features_df = pd.concat([anime[['anime_id', 'name']], genre_df, num_df[['rating_norm', 'members_norm']]], axis=1)"
   ]
  },
  {
   "cell_type": "code",
   "execution_count": null,
   "id": "ddf88ad7",
   "metadata": {},
   "outputs": [],
   "source": [
    "# --- Save processed file to your folder ---\n",
    "out_path = r\"D:\\DATA SCIENCE\\ASSIGNMENTS\\11 recommendation system\\anime_features.csv\"\n",
    "features_df.to_csv(out_path, index=False)"
   ]
  },
  {
   "cell_type": "code",
   "execution_count": null,
   "id": "a3675b68",
   "metadata": {},
   "outputs": [],
   "source": [
    "print(\"✅ Feature extraction complete!\")\n",
    "print(f\"Shape of feature matrix: {features_df.shape}\")\n",
    "print(f\"File saved to: {out_path}\")"
   ]
  },
  {
   "cell_type": "code",
   "execution_count": null,
   "id": "a0c8c5fb",
   "metadata": {},
   "outputs": [],
   "source": [
    "import pandas as pd"
   ]
  },
  {
   "cell_type": "code",
   "execution_count": null,
   "id": "da6bce13",
   "metadata": {},
   "outputs": [],
   "source": [
    "# Load dataset\n",
    "file_path = r\"D:\\DATA SCIENCE\\ASSIGNMENTS\\11 recommendation system\\Recommendation System\\anime.csv\"\n",
    "anime_df = pd.read_csv(file_path)"
   ]
  },
  {
   "cell_type": "code",
   "execution_count": null,
   "id": "317cbc35",
   "metadata": {},
   "outputs": [],
   "source": [
    "# Convert \"episodes\" to numeric and handle missing values\n",
    "anime_df['episodes'] = pd.to_numeric(anime_df['episodes'].replace(\"Unknown\", None), errors='coerce')\n",
    "anime_df['genre'] = anime_df['genre'].fillna(\"Unknown\")\n",
    "anime_df['type'] = anime_df['type'].fillna(\"Unknown\")\n",
    "anime_df['rating'] = anime_df['rating'].fillna(anime_df['rating'].mean())"
   ]
  }
 ],
 "metadata": {},
 "nbformat": 4,
 "nbformat_minor": 5
}
