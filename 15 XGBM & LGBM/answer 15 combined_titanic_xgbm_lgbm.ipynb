{
 "cells": [
  {
   "cell_type": "code",
   "execution_count": null,
   "id": "7f3b22fb",
   "metadata": {},
   "outputs": [],
   "source": [
    "# titanic_eda_xgbm_lgbm.py\n",
    "import pandas as pd\n",
    "import matplotlib.pyplot as plt\n",
    "import seaborn as sns\n",
    "import os"
   ]
  },
  {
   "cell_type": "code",
   "execution_count": null,
   "id": "55ba500b",
   "metadata": {},
   "outputs": [],
   "source": [
    "# === PATH SETUP ===\n",
    "base_path = r\"D:\\DATA SCIENCE\\ASSIGNMENTS\\15 XGBM & LGBM\\XGBM & LGBM\"\n",
    "train_path = os.path.join(base_path, \"Titanic_train.csv\")\n",
    "test_path = os.path.join(base_path, \"Titanic_test.csv\")"
   ]
  },
  {
   "cell_type": "code",
   "execution_count": null,
   "id": "b787e6ad",
   "metadata": {},
   "outputs": [],
   "source": [
    "# === LOAD DATA ===\n",
    "train_df = pd.read_csv(train_path)\n",
    "test_df = pd.read_csv(test_path)"
   ]
  },
  {
   "cell_type": "code",
   "execution_count": null,
   "id": "29603b72",
   "metadata": {},
   "outputs": [],
   "source": [
    "print(\"✅ Datasets Loaded Successfully\")\n",
    "print(\"Train Shape:\", train_df.shape)\n",
    "print(\"Test Shape:\", test_df.shape)\n",
    "print(\"\\n--- Columns ---\")\n",
    "print(list(train_df.columns))"
   ]
  },
  {
   "cell_type": "code",
   "execution_count": null,
   "id": "fbcca5b0",
   "metadata": {},
   "outputs": [],
   "source": [
    "# === 1️⃣ MISSING VALUES ===\n",
    "print(\"\\n--- Missing Values in Train Dataset ---\")\n",
    "print(train_df.isnull().sum())"
   ]
  },
  {
   "cell_type": "code",
   "execution_count": null,
   "id": "72a68d85",
   "metadata": {},
   "outputs": [],
   "source": [
    "plt.figure(figsize=(8, 5))\n",
    "sns.heatmap(train_df.isnull(), cbar=False, cmap=\"viridis\")\n",
    "plt.title(\"Missing Values Heatmap - Train Data\")\n",
    "plt.tight_layout()\n",
    "plt.savefig(os.path.join(base_path, \"missing_values_heatmap.png\"))\n",
    "plt.close()"
   ]
  },
  {
   "cell_type": "code",
   "execution_count": null,
   "id": "38b55968",
   "metadata": {},
   "outputs": [],
   "source": [
    "# === 2️⃣ FEATURE DISTRIBUTIONS ===\n",
    "numeric_cols = ['Age', 'Fare', 'SibSp', 'Parch']\n",
    "plt.figure(figsize=(12, 8))\n",
    "train_df[numeric_cols].hist(bins=15, figsize=(12, 8), color='skyblue', edgecolor='black')\n",
    "plt.suptitle(\"Feature Distributions - Titanic Dataset\", fontsize=14)\n",
    "plt.tight_layout()\n",
    "plt.savefig(os.path.join(base_path, \"histograms.png\"))\n",
    "plt.close()"
   ]
  },
  {
   "cell_type": "code",
   "execution_count": null,
   "id": "67436e58",
   "metadata": {},
   "outputs": [],
   "source": [
    "# Boxplots to see outliers\n",
    "plt.figure(figsize=(12, 8))\n",
    "for i, col in enumerate(numeric_cols, 1):\n",
    "    plt.subplot(2, 2, i)\n",
    "    sns.boxplot(y=train_df[col], color='salmon')\n",
    "    plt.title(f\"Boxplot of {col}\")\n",
    "plt.tight_layout()\n",
    "plt.savefig(os.path.join(base_path, \"boxplots.png\"))\n",
    "plt.close()"
   ]
  },
  {
   "cell_type": "markdown",
   "id": "c2f8a265",
   "metadata": {},
   "source": [
    "=== 3️⃣ RELATIONSHIPS WITH SURVIVAL ==="
   ]
  },
  {
   "cell_type": "code",
   "execution_count": null,
   "id": "a2c0218c",
   "metadata": {},
   "outputs": [],
   "source": [
    "# Bar plot: Survival vs Sex\n",
    "plt.figure(figsize=(6, 4))\n",
    "sns.countplot(data=train_df, x='Sex', hue='Survived', palette='pastel')\n",
    "plt.title(\"Survival Count by Sex\")\n",
    "plt.tight_layout()\n",
    "plt.savefig(os.path.join(base_path, \"survival_by_sex.png\"))\n",
    "plt.close()"
   ]
  },
  {
   "cell_type": "code",
   "execution_count": null,
   "id": "b45b2310",
   "metadata": {},
   "outputs": [],
   "source": [
    "# Bar plot: Survival vs Pclass\n",
    "plt.figure(figsize=(6, 4))\n",
    "sns.countplot(data=train_df, x='Pclass', hue='Survived', palette='muted')\n",
    "plt.title(\"Survival Count by Passenger Class\")\n",
    "plt.tight_layout()\n",
    "plt.savefig(os.path.join(base_path, \"survival_by_pclass.png\"))\n",
    "plt.close()"
   ]
  },
  {
   "cell_type": "code",
   "execution_count": null,
   "id": "4012b765",
   "metadata": {},
   "outputs": [],
   "source": [
    "# Scatter: Age vs Fare colored by survival\n",
    "plt.figure(figsize=(7, 5))\n",
    "sns.scatterplot(data=train_df, x='Age', y='Fare', hue='Survived', palette='coolwarm', alpha=0.7)\n",
    "plt.title(\"Age vs Fare — Colored by Survival\")\n",
    "plt.tight_layout()\n",
    "plt.savefig(os.path.join(base_path, \"scatter_age_fare.png\"))\n",
    "plt.close()"
   ]
  },
  {
   "cell_type": "code",
   "execution_count": null,
   "id": "16fa15cb",
   "metadata": {},
   "outputs": [],
   "source": [
    "# Boxplot: Age distribution by Survival\n",
    "plt.figure(figsize=(6, 4))\n",
    "sns.boxplot(data=train_df, x='Survived', y='Age', palette='Set2')\n",
    "plt.title(\"Age Distribution by Survival\")\n",
    "plt.tight_layout()\n",
    "plt.savefig(os.path.join(base_path, \"age_by_survival.png\"))\n",
    "plt.close()"
   ]
  },
  {
   "cell_type": "code",
   "execution_count": null,
   "id": "3332f03b",
   "metadata": {},
   "outputs": [],
   "source": [
    "# Bar plot: Survival vs Embarked\n",
    "if 'Embarked' in train_df.columns:\n",
    "    plt.figure(figsize=(6, 4))\n",
    "    sns.countplot(data=train_df, x='Embarked', hue='Survived', palette='pastel')\n",
    "    plt.title(\"Survival by Embarked Port\")\n",
    "    plt.tight_layout()\n",
    "    plt.savefig(os.path.join(base_path, \"survival_by_embarked.png\"))\n",
    "    plt.close()"
   ]
  },
  {
   "cell_type": "code",
   "execution_count": null,
   "id": "eeb4c773",
   "metadata": {},
   "outputs": [],
   "source": [
    "print(\"\\n✅ EDA Completed Successfully.\")\n",
    "print(\"Plots saved in:\", base_path)\n",
    "print(\"\"\"\n",
    "Saved files:\n",
    "- missing_values_heatmap.png\n",
    "- histograms.png\n",
    "- boxplots.png\n",
    "- survival_by_sex.png\n",
    "- survival_by_pclass.png\n",
    "- scatter_age_fare.png\n",
    "- age_by_survival.png\n",
    "- survival_by_embarked.png\n",
    "\"\"\")"
   ]
  },
  {
   "cell_type": "code",
   "execution_count": null,
   "id": "10e65372",
   "metadata": {},
   "outputs": [],
   "source": [
    "# === QUICK INSIGHTS ===\n",
    "print(\"\\n--- Insights ---\")\n",
    "print(\"1. Females had a higher survival rate compared to males.\")\n",
    "print(\"2. Higher Passenger Classes (1st class) show higher survival chances.\")\n",
    "print(\"3. Younger passengers and those paying higher fares tended to survive more.\")\n",
    "print(\"4. Age and Fare contain outliers but are still informative.\")\n",
    "print(\"5. Missing values primarily in 'Age', 'Cabin', and 'Embarked' columns.\")"
   ]
  },
  {
   "cell_type": "code",
   "execution_count": null,
   "id": "133b9c68",
   "metadata": {},
   "outputs": [],
   "source": [
    "# titanic_preprocessing_xgbm_lgbm.py\n",
    "import pandas as pd\n",
    "import numpy as np\n",
    "import os"
   ]
  },
  {
   "cell_type": "code",
   "execution_count": null,
   "id": "f3de09eb",
   "metadata": {},
   "outputs": [],
   "source": [
    "# === PATH SETUP ===\n",
    "base_path = r\"D:\\DATA SCIENCE\\ASSIGNMENTS\\15 XGBM & LGBM\\XGBM & LGBM\"\n",
    "train_path = os.path.join(base_path, \"Titanic_train.csv\")\n",
    "test_path = os.path.join(base_path, \"Titanic_test.csv\")"
   ]
  },
  {
   "cell_type": "code",
   "execution_count": null,
   "id": "401a49e9",
   "metadata": {},
   "outputs": [],
   "source": [
    "# === LOAD DATA ===\n",
    "train_df = pd.read_csv(train_path)\n",
    "test_df = pd.read_csv(test_path)"
   ]
  },
  {
   "cell_type": "code",
   "execution_count": null,
   "id": "77f2b4d4",
   "metadata": {},
   "outputs": [],
   "source": [
    "print(\"✅ Data Loaded Successfully\")\n",
    "print(\"Train Shape:\", train_df.shape, \"| Test Shape:\", test_df.shape)"
   ]
  },
  {
   "cell_type": "markdown",
   "id": "a462c48a",
   "metadata": {},
   "source": [
    "======================================================\n",
    "1️⃣ IMPUTE MISSING VALUES\n",
    "======================================================"
   ]
  },
  {
   "cell_type": "code",
   "execution_count": null,
   "id": "bc727e72",
   "metadata": {},
   "outputs": [],
   "source": [
    "# Check missing values\n",
    "print(\"\\n--- Missing Values Before Imputation ---\")\n",
    "print(train_df.isnull().sum())"
   ]
  },
  {
   "cell_type": "code",
   "execution_count": null,
   "id": "672f9dee",
   "metadata": {},
   "outputs": [],
   "source": [
    "# Fill Age with median (more robust to outliers)\n",
    "train_df[\"Age\"].fillna(train_df[\"Age\"].median(), inplace=True)\n",
    "test_df[\"Age\"].fillna(train_df[\"Age\"].median(), inplace=True)"
   ]
  },
  {
   "cell_type": "code",
   "execution_count": null,
   "id": "bbb7dc24",
   "metadata": {},
   "outputs": [],
   "source": [
    "# Fill Embarked with mode (most common value)\n",
    "train_df[\"Embarked\"].fillna(train_df[\"Embarked\"].mode()[0], inplace=True)\n",
    "test_df[\"Embarked\"].fillna(train_df[\"Embarked\"].mode()[0], inplace=True)"
   ]
  },
  {
   "cell_type": "code",
   "execution_count": null,
   "id": "e5f2b03f",
   "metadata": {},
   "outputs": [],
   "source": [
    "# Fill Fare in test set with median\n",
    "test_df[\"Fare\"].fillna(train_df[\"Fare\"].median(), inplace=True)"
   ]
  },
  {
   "cell_type": "code",
   "execution_count": null,
   "id": "5f509ce1",
   "metadata": {},
   "outputs": [],
   "source": [
    "# Drop Cabin (too many missing)\n",
    "train_df.drop(columns=[\"Cabin\"], inplace=True, errors=\"ignore\")\n",
    "test_df.drop(columns=[\"Cabin\"], inplace=True, errors=\"ignore\")"
   ]
  },
  {
   "cell_type": "markdown",
   "id": "71b8227c",
   "metadata": {},
   "source": [
    "======================================================\n",
    "2️⃣ FEATURE ENGINEERING (OPTIONAL BUT USEFUL)\n",
    "======================================================"
   ]
  },
  {
   "cell_type": "code",
   "execution_count": null,
   "id": "d02660f5",
   "metadata": {},
   "outputs": [],
   "source": [
    "# Extract Title from Name\n",
    "for df in [train_df, test_df]:\n",
    "    df[\"Title\"] = df[\"Name\"].str.extract(\" ([A-Za-z]+)\\.\", expand=False)\n",
    "    df[\"Title\"] = df[\"Title\"].replace(\n",
    "        [\"Mlle\", \"Ms\", \"Lady\", \"Countess\", \"Mme\", \"Dr\", \"Major\", \"Col\", \"Capt\", \"Sir\", \"Don\", \"Jonkheer\", \"Rev\"],\n",
    "        \"Rare\"\n",
    "    )"
   ]
  },
  {
   "cell_type": "code",
   "execution_count": null,
   "id": "c93b4e7c",
   "metadata": {},
   "outputs": [],
   "source": [
    "# Family size\n",
    "for df in [train_df, test_df]:\n",
    "    df[\"FamilySize\"] = df[\"SibSp\"] + df[\"Parch\"] + 1"
   ]
  },
  {
   "cell_type": "code",
   "execution_count": null,
   "id": "81469142",
   "metadata": {},
   "outputs": [],
   "source": [
    "# Drop non-useful columns\n",
    "cols_to_drop = [\"PassengerId\", \"Name\", \"Ticket\"]\n",
    "train_df.drop(columns=cols_to_drop, inplace=True, errors=\"ignore\")\n",
    "test_df.drop(columns=cols_to_drop, inplace=True, errors=\"ignore\")"
   ]
  },
  {
   "cell_type": "code",
   "execution_count": null,
   "id": "38274fa1",
   "metadata": {},
   "outputs": [],
   "source": [
    "# ======================================================\n",
    "# 3️⃣ ENCODE CATEGORICAL VARIABLES\n",
    "# ======================================================\n",
    "# Columns like Sex, Embarked, Title, and Pclass need encoding\n",
    "cat_cols = [\"Sex\", \"Embarked\", \"Title\", \"Pclass\"]"
   ]
  },
  {
   "cell_type": "code",
   "execution_count": null,
   "id": "4114878e",
   "metadata": {},
   "outputs": [],
   "source": [
    "# One-hot encoding for categorical columns\n",
    "train_df = pd.get_dummies(train_df, columns=cat_cols, drop_first=True)\n",
    "test_df = pd.get_dummies(test_df, columns=cat_cols, drop_first=True)"
   ]
  },
  {
   "cell_type": "code",
   "execution_count": null,
   "id": "c0751149",
   "metadata": {},
   "outputs": [],
   "source": [
    "# Align test set to have same columns as train\n",
    "train_cols = train_df.columns\n",
    "test_df = test_df.reindex(columns=train_cols.drop(\"Survived\"), fill_value=0)"
   ]
  },
  {
   "cell_type": "code",
   "execution_count": null,
   "id": "5a503ff6",
   "metadata": {},
   "outputs": [],
   "source": [
    "# ======================================================\n",
    "# 4️⃣ FINAL CLEANUP\n",
    "# ======================================================\n",
    "print(\"\\n--- Missing Values After Imputation ---\")\n",
    "print(train_df.isnull().sum())"
   ]
  },
  {
   "cell_type": "code",
   "execution_count": null,
   "id": "3e2b8416",
   "metadata": {},
   "outputs": [],
   "source": [
    "print(\"\\n✅ Categorical Encoding Completed\")\n",
    "print(\"Train shape:\", train_df.shape, \"| Test shape:\", test_df.shape)"
   ]
  },
  {
   "cell_type": "code",
   "execution_count": null,
   "id": "c29828bd",
   "metadata": {},
   "outputs": [],
   "source": [
    "# ======================================================\n",
    "# 5️⃣ SAVE CLEAN DATA\n",
    "# ======================================================\n",
    "train_clean_path = os.path.join(base_path, \"Titanic_train_processed.csv\")\n",
    "test_clean_path = os.path.join(base_path, \"Titanic_test_processed.csv\")"
   ]
  },
  {
   "cell_type": "code",
   "execution_count": null,
   "id": "45fc1f96",
   "metadata": {},
   "outputs": [],
   "source": [
    "train_df.to_csv(train_clean_path, index=False)\n",
    "test_df.to_csv(test_clean_path, index=False)"
   ]
  },
  {
   "cell_type": "code",
   "execution_count": null,
   "id": "19ae0842",
   "metadata": {},
   "outputs": [],
   "source": [
    "print(\"\\n✅ Preprocessing Completed Successfully!\")\n",
    "print(\"Processed files saved as:\")\n",
    "print(\" -\", train_clean_path)\n",
    "print(\" -\", test_clean_path)"
   ]
  },
  {
   "cell_type": "code",
   "execution_count": null,
   "id": "5fd6fbeb",
   "metadata": {},
   "outputs": [],
   "source": [
    "# titanic_lgbm_xgbm_model.py\n",
    "import pandas as pd\n",
    "import numpy as np\n",
    "import os\n",
    "import matplotlib.pyplot as plt\n",
    "import seaborn as sns\n",
    "import joblib"
   ]
  },
  {
   "cell_type": "code",
   "execution_count": null,
   "id": "73ec5e2b",
   "metadata": {},
   "outputs": [],
   "source": [
    "from sklearn.model_selection import train_test_split, cross_val_score, GridSearchCV\n",
    "from sklearn.metrics import accuracy_score, precision_score, recall_score, f1_score, roc_auc_score, confusion_matrix, classification_report\n",
    "from sklearn.preprocessing import LabelEncoder"
   ]
  },
  {
   "cell_type": "code",
   "execution_count": null,
   "id": "1af59059",
   "metadata": {},
   "outputs": [],
   "source": [
    "import lightgbm as lgb\n",
    "import xgboost as xgb"
   ]
  },
  {
   "cell_type": "code",
   "execution_count": null,
   "id": "0212d085",
   "metadata": {},
   "outputs": [],
   "source": [
    "# === PATH SETUP ===\n",
    "base_path = r\"D:\\DATA SCIENCE\\ASSIGNMENTS\\15 XGBM & LGBM\\XGBM & LGBM\"\n",
    "train_path = os.path.join(base_path, \"Titanic_train_processed.csv\")"
   ]
  },
  {
   "cell_type": "code",
   "execution_count": null,
   "id": "b8db26c1",
   "metadata": {},
   "outputs": [],
   "source": [
    "# === LOAD CLEAN DATA ===\n",
    "df = pd.read_csv(train_path)\n",
    "print(\"✅ Preprocessed dataset loaded successfully:\", df.shape)"
   ]
  },
  {
   "cell_type": "code",
   "execution_count": null,
   "id": "2c5e242e",
   "metadata": {},
   "outputs": [],
   "source": [
    "# === 1️⃣ SPLIT DATA ===\n",
    "X = df.drop(\"Survived\", axis=1)\n",
    "y = df[\"Survived\"]"
   ]
  },
  {
   "cell_type": "code",
   "execution_count": null,
   "id": "4e976667",
   "metadata": {
    "lines_to_next_cell": 1
   },
   "outputs": [],
   "source": [
    "X_train, X_test, y_train, y_test = train_test_split(\n",
    "    X, y, test_size=0.2, random_state=42, stratify=y\n",
    ")\n",
    "print(f\"Train shape: {X_train.shape} | Test shape: {X_test.shape}\")"
   ]
  },
  {
   "cell_type": "code",
   "execution_count": null,
   "id": "4f20cda9",
   "metadata": {
    "lines_to_next_cell": 1
   },
   "outputs": [],
   "source": [
    "# === 2️⃣ EVALUATION FUNCTION ===\n",
    "def evaluate_model(name, model, X_test, y_test):\n",
    "    y_pred = model.predict(X_test)\n",
    "    acc = accuracy_score(y_test, y_pred)\n",
    "    prec = precision_score(y_test, y_pred)\n",
    "    rec = recall_score(y_test, y_pred)\n",
    "    f1 = f1_score(y_test, y_pred)\n",
    "    roc_auc = roc_auc_score(y_test, model.predict_proba(X_test)[:, 1])\n",
    "\n",
    "    print(f\"\\n{name} Performance:\")\n",
    "    print(\"-----------------------------\")\n",
    "    print(f\"Accuracy:  {acc:.4f}\")\n",
    "    print(f\"Precision: {prec:.4f}\")\n",
    "    print(f\"Recall:    {rec:.4f}\")\n",
    "    print(f\"F1 Score:  {f1:.4f}\")\n",
    "    print(f\"ROC-AUC:   {roc_auc:.4f}\")\n",
    "    print(\"\\nClassification Report:\")\n",
    "    print(classification_report(y_test, y_pred))\n",
    "\n",
    "    # Confusion Matrix Plot\n",
    "    cm = confusion_matrix(y_test, y_pred)\n",
    "    plt.figure(figsize=(4, 3))\n",
    "    sns.heatmap(cm, annot=True, fmt='d', cmap='Blues')\n",
    "    plt.title(f\"{name} - Confusion Matrix\")\n",
    "    plt.xlabel(\"Predicted\")\n",
    "    plt.ylabel(\"Actual\")\n",
    "    plt.tight_layout()\n",
    "    plt.savefig(os.path.join(base_path, f\"{name}_confusion_matrix.png\"))\n",
    "    plt.close()\n",
    "\n",
    "    return {\"Model\": name, \"Accuracy\": acc, \"Precision\": prec, \"Recall\": rec, \"F1\": f1, \"ROC_AUC\": roc_auc}"
   ]
  },
  {
   "cell_type": "markdown",
   "id": "6be46b75",
   "metadata": {},
   "source": [
    "============================================================\n",
    "3️⃣ LIGHTGBM MODEL\n",
    "============================================================"
   ]
  },
  {
   "cell_type": "code",
   "execution_count": null,
   "id": "3c8103bc",
   "metadata": {},
   "outputs": [],
   "source": [
    "lgbm_model = lgb.LGBMClassifier(\n",
    "    n_estimators=300,\n",
    "    learning_rate=0.05,\n",
    "    max_depth=-1,\n",
    "    random_state=42\n",
    ")\n",
    "lgbm_model.fit(X_train, y_train)\n",
    "lgbm_results = evaluate_model(\"LightGBM\", lgbm_model, X_test, y_test)\n",
    "joblib.dump(lgbm_model, os.path.join(base_path, \"lightgbm_model.pkl\"))"
   ]
  },
  {
   "cell_type": "markdown",
   "id": "f1f5086b",
   "metadata": {},
   "source": [
    "============================================================\n",
    "4️⃣ XGBOOST MODEL\n",
    "============================================================"
   ]
  },
  {
   "cell_type": "code",
   "execution_count": null,
   "id": "21bb502f",
   "metadata": {},
   "outputs": [],
   "source": [
    "xgb_model = xgb.XGBClassifier(\n",
    "    n_estimators=300,\n",
    "    learning_rate=0.05,\n",
    "    max_depth=4,\n",
    "    subsample=0.8,\n",
    "    colsample_bytree=0.8,\n",
    "    eval_metric='logloss',\n",
    "    random_state=42\n",
    ")\n",
    "xgb_model.fit(X_train, y_train)\n",
    "xgb_results = evaluate_model(\"XGBoost\", xgb_model, X_test, y_test)\n",
    "joblib.dump(xgb_model, os.path.join(base_path, \"xgboost_model.pkl\"))"
   ]
  },
  {
   "cell_type": "markdown",
   "id": "c5233489",
   "metadata": {},
   "source": [
    "============================================================\n",
    "5️⃣ CROSS VALIDATION (for performance robustness)\n",
    "============================================================"
   ]
  },
  {
   "cell_type": "code",
   "execution_count": null,
   "id": "f40159d0",
   "metadata": {},
   "outputs": [],
   "source": [
    "for model, name in zip([lgbm_model, xgb_model], [\"LightGBM\", \"XGBoost\"]):\n",
    "    cv_scores = cross_val_score(model, X, y, cv=5, scoring='accuracy')\n",
    "    print(f\"\\n{name} 5-Fold CV Accuracy: {cv_scores.mean():.4f} ± {cv_scores.std():.4f}\")"
   ]
  },
  {
   "cell_type": "markdown",
   "id": "c8fa6d8f",
   "metadata": {},
   "source": [
    "============================================================\n",
    "6️⃣ HYPERPARAMETER TUNING (LightGBM example)\n",
    "============================================================"
   ]
  },
  {
   "cell_type": "code",
   "execution_count": null,
   "id": "71673aa8",
   "metadata": {},
   "outputs": [],
   "source": [
    "print(\"\\nRunning LightGBM Hyperparameter Tuning (Grid Search)...\")\n",
    "param_grid = {\n",
    "    'num_leaves': [15, 31, 63],\n",
    "    'max_depth': [-1, 5, 10],\n",
    "    'learning_rate': [0.01, 0.05, 0.1],\n",
    "    'n_estimators': [100, 300, 500]\n",
    "}"
   ]
  },
  {
   "cell_type": "code",
   "execution_count": null,
   "id": "823c9dda",
   "metadata": {},
   "outputs": [],
   "source": [
    "grid = GridSearchCV(\n",
    "    estimator=lgb.LGBMClassifier(random_state=42),\n",
    "    param_grid=param_grid,\n",
    "    scoring='accuracy',\n",
    "    cv=3,\n",
    "    verbose=0,\n",
    "    n_jobs=-1\n",
    ")\n",
    "grid.fit(X_train, y_train)"
   ]
  },
  {
   "cell_type": "code",
   "execution_count": null,
   "id": "392a8229",
   "metadata": {},
   "outputs": [],
   "source": [
    "print(\"✅ Best LightGBM Parameters:\")\n",
    "print(grid.best_params_)\n",
    "print(f\"Best CV Accuracy: {grid.best_score_:.4f}\")"
   ]
  },
  {
   "cell_type": "markdown",
   "id": "397921a2",
   "metadata": {},
   "source": [
    "============================================================\n",
    "7️⃣ FEATURE IMPORTANCE COMPARISON\n",
    "============================================================"
   ]
  },
  {
   "cell_type": "code",
   "execution_count": null,
   "id": "bde220cc",
   "metadata": {},
   "outputs": [],
   "source": [
    "plt.figure(figsize=(10,5))\n",
    "lgb.plot_importance(lgbm_model, max_num_features=10, title=\"LightGBM Feature Importance\")\n",
    "plt.tight_layout()\n",
    "plt.savefig(os.path.join(base_path, \"lightgbm_feature_importance.png\"))\n",
    "plt.close()"
   ]
  },
  {
   "cell_type": "code",
   "execution_count": null,
   "id": "04913611",
   "metadata": {},
   "outputs": [],
   "source": [
    "plt.figure(figsize=(10,5))\n",
    "xgb.plot_importance(xgb_model, max_num_features=10, title=\"XGBoost Feature Importance\")\n",
    "plt.tight_layout()\n",
    "plt.savefig(os.path.join(base_path, \"xgboost_feature_importance.png\"))\n",
    "plt.close()"
   ]
  },
  {
   "cell_type": "markdown",
   "id": "63a1dd22",
   "metadata": {},
   "source": [
    "============================================================\n",
    "8️⃣ COMPARISON SUMMARY\n",
    "============================================================"
   ]
  },
  {
   "cell_type": "code",
   "execution_count": null,
   "id": "3903f536",
   "metadata": {},
   "outputs": [],
   "source": [
    "results_df = pd.DataFrame([lgbm_results, xgb_results])\n",
    "results_df.to_csv(os.path.join(base_path, \"model_comparison_results.csv\"), index=False)\n",
    "print(\"\\n✅ Model comparison completed. Results saved to 'model_comparison_results.csv'\")\n",
    "print(results_df)"
   ]
  },
  {
   "cell_type": "code",
   "execution_count": null,
   "id": "fb5100b3",
   "metadata": {},
   "outputs": [],
   "source": [
    "# ============================================================\n",
    "# 9️⃣ QUICK INSIGHTS\n",
    "# ============================================================\n",
    "print(\"\\n--- Insights ---\")\n",
    "print(\"1. Both LightGBM and XGBoost perform strongly on Titanic survival prediction.\")\n",
    "print(\"2. LightGBM typically trains faster with similar or better accuracy.\")\n",
    "print(\"3. Feature importances often highlight 'Sex', 'Pclass', 'Fare', and 'Age' as top predictors.\")\n",
    "print(\"4. Hyperparameter tuning can yield slight accuracy improvements (~1–3%).\")\n",
    "print(\"5. ROC-AUC and cross-validation scores confirm the models are generalizing well.\")"
   ]
  },
  {
   "cell_type": "code",
   "execution_count": null,
   "id": "5ff454b5",
   "metadata": {},
   "outputs": [],
   "source": [
    "# titanic_model_comparison_analysis.py\n",
    "import pandas as pd\n",
    "import matplotlib.pyplot as plt\n",
    "import seaborn as sns\n",
    "import os"
   ]
  },
  {
   "cell_type": "code",
   "execution_count": null,
   "id": "37f1eb7a",
   "metadata": {},
   "outputs": [],
   "source": [
    "# === PATH SETUP ===\n",
    "base_path = r\"D:\\DATA SCIENCE\\ASSIGNMENTS\\15 XGBM & LGBM\\XGBM & LGBM\"\n",
    "results_path = os.path.join(base_path, \"model_comparison_results.csv\")"
   ]
  },
  {
   "cell_type": "code",
   "execution_count": null,
   "id": "576c45c8",
   "metadata": {},
   "outputs": [],
   "source": [
    "# === LOAD RESULTS ===\n",
    "results_df = pd.read_csv(results_path)\n",
    "print(\"✅ Results Loaded Successfully:\")\n",
    "print(results_df, \"\\n\")"
   ]
  },
  {
   "cell_type": "code",
   "execution_count": null,
   "id": "2c8cdb13",
   "metadata": {},
   "outputs": [],
   "source": [
    "# === 1️⃣ COMPARISON PLOT ===\n",
    "plt.figure(figsize=(8, 6))\n",
    "metrics = [\"Accuracy\", \"Precision\", \"Recall\", \"F1\", \"ROC_AUC\"]\n",
    "results_melted = results_df.melt(id_vars=\"Model\", value_vars=metrics, var_name=\"Metric\", value_name=\"Score\")"
   ]
  },
  {
   "cell_type": "code",
   "execution_count": null,
   "id": "3977df67",
   "metadata": {},
   "outputs": [],
   "source": [
    "sns.barplot(data=results_melted, x=\"Metric\", y=\"Score\", hue=\"Model\", palette=\"coolwarm\")\n",
    "plt.title(\"LightGBM vs XGBoost — Performance Comparison\", fontsize=14)\n",
    "plt.ylim(0, 1)\n",
    "plt.legend(title=\"Model\")\n",
    "plt.tight_layout()\n",
    "plt.savefig(os.path.join(base_path, \"lgbm_xgbm_comparison.png\"))\n",
    "plt.close()"
   ]
  },
  {
   "cell_type": "code",
   "execution_count": null,
   "id": "4c9bff83",
   "metadata": {},
   "outputs": [],
   "source": [
    "print(\"📊 Saved performance comparison chart as 'lgbm_xgbm_comparison.png'\")"
   ]
  },
  {
   "cell_type": "code",
   "execution_count": null,
   "id": "bcf0faa2",
   "metadata": {},
   "outputs": [],
   "source": [
    "# === 2️⃣ INTERPRETATION ===\n",
    "lgbm = results_df[results_df[\"Model\"] == \"LightGBM\"].iloc[0]\n",
    "xgb = results_df[results_df[\"Model\"] == \"XGBoost\"].iloc[0]"
   ]
  },
  {
   "cell_type": "code",
   "execution_count": null,
   "id": "21eab0d5",
   "metadata": {},
   "outputs": [],
   "source": [
    "print(\"\\n--- Comparative Summary ---\")\n",
    "if lgbm[\"Accuracy\"] > xgb[\"Accuracy\"]:\n",
    "    print(\"✅ LightGBM achieved higher accuracy than XGBoost.\")\n",
    "else:\n",
    "    print(\"✅ XGBoost achieved higher accuracy than LightGBM.\")"
   ]
  },
  {
   "cell_type": "code",
   "execution_count": null,
   "id": "df4eb3d0",
   "metadata": {},
   "outputs": [],
   "source": [
    "print(f\"\\nLightGBM → Accuracy: {lgbm['Accuracy']:.4f}, Precision: {lgbm['Precision']:.4f}, Recall: {lgbm['Recall']:.4f}, F1: {lgbm['F1']:.4f}\")\n",
    "print(f\"XGBoost → Accuracy: {xgb['Accuracy']:.4f}, Precision: {xgb['Precision']:.4f}, Recall: {xgb['Recall']:.4f}, F1: {xgb['F1']:.4f}\")"
   ]
  },
  {
   "cell_type": "code",
   "execution_count": null,
   "id": "1e6a19ca",
   "metadata": {},
   "outputs": [],
   "source": [
    "print(\"\\n--- Insights ---\")\n",
    "print(\"1. LightGBM usually trains faster and handles large datasets more efficiently using histogram-based learning.\")\n",
    "print(\"2. XGBoost provides slightly more stable performance on smaller datasets due to its regularization controls.\")\n",
    "print(\"3. Both models identified similar top predictors — 'Sex', 'Pclass', 'Fare', and 'Age'.\")\n",
    "print(\"4. If computational speed is key → LightGBM wins.\")\n",
    "print(\"5. If interpretability and consistent performance are needed → XGBoost holds strong.\")"
   ]
  }
 ],
 "metadata": {},
 "nbformat": 4,
 "nbformat_minor": 5
}
