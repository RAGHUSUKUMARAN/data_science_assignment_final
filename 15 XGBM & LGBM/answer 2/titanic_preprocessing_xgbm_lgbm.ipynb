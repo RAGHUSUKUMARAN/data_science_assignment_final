{
 "cells": [
  {
   "cell_type": "code",
   "execution_count": null,
   "id": "133b9c68",
   "metadata": {},
   "outputs": [],
   "source": [
    "# titanic_preprocessing_xgbm_lgbm.py\n",
    "import pandas as pd\n",
    "import numpy as np\n",
    "import os"
   ]
  },
  {
   "cell_type": "code",
   "execution_count": null,
   "id": "f3de09eb",
   "metadata": {},
   "outputs": [],
   "source": [
    "# === PATH SETUP ===\n",
    "base_path = r\"D:\\DATA SCIENCE\\ASSIGNMENTS\\15 XGBM & LGBM\\XGBM & LGBM\"\n",
    "train_path = os.path.join(base_path, \"Titanic_train.csv\")\n",
    "test_path = os.path.join(base_path, \"Titanic_test.csv\")"
   ]
  },
  {
   "cell_type": "code",
   "execution_count": null,
   "id": "401a49e9",
   "metadata": {},
   "outputs": [],
   "source": [
    "# === LOAD DATA ===\n",
    "train_df = pd.read_csv(train_path)\n",
    "test_df = pd.read_csv(test_path)"
   ]
  },
  {
   "cell_type": "code",
   "execution_count": null,
   "id": "77f2b4d4",
   "metadata": {},
   "outputs": [],
   "source": [
    "print(\"✅ Data Loaded Successfully\")\n",
    "print(\"Train Shape:\", train_df.shape, \"| Test Shape:\", test_df.shape)"
   ]
  },
  {
   "cell_type": "markdown",
   "id": "a462c48a",
   "metadata": {},
   "source": [
    "======================================================\n",
    "1️⃣ IMPUTE MISSING VALUES\n",
    "======================================================"
   ]
  },
  {
   "cell_type": "code",
   "execution_count": null,
   "id": "bc727e72",
   "metadata": {},
   "outputs": [],
   "source": [
    "# Check missing values\n",
    "print(\"\\n--- Missing Values Before Imputation ---\")\n",
    "print(train_df.isnull().sum())"
   ]
  },
  {
   "cell_type": "code",
   "execution_count": null,
   "id": "672f9dee",
   "metadata": {},
   "outputs": [],
   "source": [
    "# Fill Age with median (more robust to outliers)\n",
    "train_df[\"Age\"].fillna(train_df[\"Age\"].median(), inplace=True)\n",
    "test_df[\"Age\"].fillna(train_df[\"Age\"].median(), inplace=True)"
   ]
  },
  {
   "cell_type": "code",
   "execution_count": null,
   "id": "bbb7dc24",
   "metadata": {},
   "outputs": [],
   "source": [
    "# Fill Embarked with mode (most common value)\n",
    "train_df[\"Embarked\"].fillna(train_df[\"Embarked\"].mode()[0], inplace=True)\n",
    "test_df[\"Embarked\"].fillna(train_df[\"Embarked\"].mode()[0], inplace=True)"
   ]
  },
  {
   "cell_type": "code",
   "execution_count": null,
   "id": "e5f2b03f",
   "metadata": {},
   "outputs": [],
   "source": [
    "# Fill Fare in test set with median\n",
    "test_df[\"Fare\"].fillna(train_df[\"Fare\"].median(), inplace=True)"
   ]
  },
  {
   "cell_type": "code",
   "execution_count": null,
   "id": "5f509ce1",
   "metadata": {},
   "outputs": [],
   "source": [
    "# Drop Cabin (too many missing)\n",
    "train_df.drop(columns=[\"Cabin\"], inplace=True, errors=\"ignore\")\n",
    "test_df.drop(columns=[\"Cabin\"], inplace=True, errors=\"ignore\")"
   ]
  },
  {
   "cell_type": "markdown",
   "id": "71b8227c",
   "metadata": {},
   "source": [
    "======================================================\n",
    "2️⃣ FEATURE ENGINEERING (OPTIONAL BUT USEFUL)\n",
    "======================================================"
   ]
  },
  {
   "cell_type": "code",
   "execution_count": null,
   "id": "d02660f5",
   "metadata": {},
   "outputs": [],
   "source": [
    "# Extract Title from Name\n",
    "for df in [train_df, test_df]:\n",
    "    df[\"Title\"] = df[\"Name\"].str.extract(\" ([A-Za-z]+)\\.\", expand=False)\n",
    "    df[\"Title\"] = df[\"Title\"].replace(\n",
    "        [\"Mlle\", \"Ms\", \"Lady\", \"Countess\", \"Mme\", \"Dr\", \"Major\", \"Col\", \"Capt\", \"Sir\", \"Don\", \"Jonkheer\", \"Rev\"],\n",
    "        \"Rare\"\n",
    "    )"
   ]
  },
  {
   "cell_type": "code",
   "execution_count": null,
   "id": "c93b4e7c",
   "metadata": {},
   "outputs": [],
   "source": [
    "# Family size\n",
    "for df in [train_df, test_df]:\n",
    "    df[\"FamilySize\"] = df[\"SibSp\"] + df[\"Parch\"] + 1"
   ]
  },
  {
   "cell_type": "code",
   "execution_count": null,
   "id": "81469142",
   "metadata": {},
   "outputs": [],
   "source": [
    "# Drop non-useful columns\n",
    "cols_to_drop = [\"PassengerId\", \"Name\", \"Ticket\"]\n",
    "train_df.drop(columns=cols_to_drop, inplace=True, errors=\"ignore\")\n",
    "test_df.drop(columns=cols_to_drop, inplace=True, errors=\"ignore\")"
   ]
  },
  {
   "cell_type": "code",
   "execution_count": null,
   "id": "38274fa1",
   "metadata": {},
   "outputs": [],
   "source": [
    "# ======================================================\n",
    "# 3️⃣ ENCODE CATEGORICAL VARIABLES\n",
    "# ======================================================\n",
    "# Columns like Sex, Embarked, Title, and Pclass need encoding\n",
    "cat_cols = [\"Sex\", \"Embarked\", \"Title\", \"Pclass\"]"
   ]
  },
  {
   "cell_type": "code",
   "execution_count": null,
   "id": "4114878e",
   "metadata": {},
   "outputs": [],
   "source": [
    "# One-hot encoding for categorical columns\n",
    "train_df = pd.get_dummies(train_df, columns=cat_cols, drop_first=True)\n",
    "test_df = pd.get_dummies(test_df, columns=cat_cols, drop_first=True)"
   ]
  },
  {
   "cell_type": "code",
   "execution_count": null,
   "id": "c0751149",
   "metadata": {},
   "outputs": [],
   "source": [
    "# Align test set to have same columns as train\n",
    "train_cols = train_df.columns\n",
    "test_df = test_df.reindex(columns=train_cols.drop(\"Survived\"), fill_value=0)"
   ]
  },
  {
   "cell_type": "code",
   "execution_count": null,
   "id": "5a503ff6",
   "metadata": {},
   "outputs": [],
   "source": [
    "# ======================================================\n",
    "# 4️⃣ FINAL CLEANUP\n",
    "# ======================================================\n",
    "print(\"\\n--- Missing Values After Imputation ---\")\n",
    "print(train_df.isnull().sum())"
   ]
  },
  {
   "cell_type": "code",
   "execution_count": null,
   "id": "3e2b8416",
   "metadata": {},
   "outputs": [],
   "source": [
    "print(\"\\n✅ Categorical Encoding Completed\")\n",
    "print(\"Train shape:\", train_df.shape, \"| Test shape:\", test_df.shape)"
   ]
  },
  {
   "cell_type": "code",
   "execution_count": null,
   "id": "c29828bd",
   "metadata": {},
   "outputs": [],
   "source": [
    "# ======================================================\n",
    "# 5️⃣ SAVE CLEAN DATA\n",
    "# ======================================================\n",
    "train_clean_path = os.path.join(base_path, \"Titanic_train_processed.csv\")\n",
    "test_clean_path = os.path.join(base_path, \"Titanic_test_processed.csv\")"
   ]
  },
  {
   "cell_type": "code",
   "execution_count": null,
   "id": "45fc1f96",
   "metadata": {},
   "outputs": [],
   "source": [
    "train_df.to_csv(train_clean_path, index=False)\n",
    "test_df.to_csv(test_clean_path, index=False)"
   ]
  },
  {
   "cell_type": "code",
   "execution_count": null,
   "id": "19ae0842",
   "metadata": {},
   "outputs": [],
   "source": [
    "print(\"\\n✅ Preprocessing Completed Successfully!\")\n",
    "print(\"Processed files saved as:\")\n",
    "print(\" -\", train_clean_path)\n",
    "print(\" -\", test_clean_path)"
   ]
  }
 ],
 "metadata": {
  "jupytext": {
   "cell_metadata_filter": "-all",
   "main_language": "python",
   "notebook_metadata_filter": "-all"
  }
 },
 "nbformat": 4,
 "nbformat_minor": 5
}
