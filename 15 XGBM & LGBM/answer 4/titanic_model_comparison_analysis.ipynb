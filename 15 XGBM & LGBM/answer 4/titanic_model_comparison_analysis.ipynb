{
 "cells": [
  {
   "cell_type": "code",
   "execution_count": null,
   "id": "5ff454b5",
   "metadata": {},
   "outputs": [],
   "source": [
    "# titanic_model_comparison_analysis.py\n",
    "import pandas as pd\n",
    "import matplotlib.pyplot as plt\n",
    "import seaborn as sns\n",
    "import os"
   ]
  },
  {
   "cell_type": "code",
   "execution_count": null,
   "id": "37f1eb7a",
   "metadata": {},
   "outputs": [],
   "source": [
    "# === PATH SETUP ===\n",
    "base_path = r\"D:\\DATA SCIENCE\\ASSIGNMENTS\\15 XGBM & LGBM\\XGBM & LGBM\"\n",
    "results_path = os.path.join(base_path, \"model_comparison_results.csv\")"
   ]
  },
  {
   "cell_type": "code",
   "execution_count": null,
   "id": "576c45c8",
   "metadata": {},
   "outputs": [],
   "source": [
    "# === LOAD RESULTS ===\n",
    "results_df = pd.read_csv(results_path)\n",
    "print(\"✅ Results Loaded Successfully:\")\n",
    "print(results_df, \"\\n\")"
   ]
  },
  {
   "cell_type": "code",
   "execution_count": null,
   "id": "2c8cdb13",
   "metadata": {},
   "outputs": [],
   "source": [
    "# === 1️⃣ COMPARISON PLOT ===\n",
    "plt.figure(figsize=(8, 6))\n",
    "metrics = [\"Accuracy\", \"Precision\", \"Recall\", \"F1\", \"ROC_AUC\"]\n",
    "results_melted = results_df.melt(id_vars=\"Model\", value_vars=metrics, var_name=\"Metric\", value_name=\"Score\")"
   ]
  },
  {
   "cell_type": "code",
   "execution_count": null,
   "id": "3977df67",
   "metadata": {},
   "outputs": [],
   "source": [
    "sns.barplot(data=results_melted, x=\"Metric\", y=\"Score\", hue=\"Model\", palette=\"coolwarm\")\n",
    "plt.title(\"LightGBM vs XGBoost — Performance Comparison\", fontsize=14)\n",
    "plt.ylim(0, 1)\n",
    "plt.legend(title=\"Model\")\n",
    "plt.tight_layout()\n",
    "plt.savefig(os.path.join(base_path, \"lgbm_xgbm_comparison.png\"))\n",
    "plt.close()"
   ]
  },
  {
   "cell_type": "code",
   "execution_count": null,
   "id": "4c9bff83",
   "metadata": {},
   "outputs": [],
   "source": [
    "print(\"📊 Saved performance comparison chart as 'lgbm_xgbm_comparison.png'\")"
   ]
  },
  {
   "cell_type": "code",
   "execution_count": null,
   "id": "bcf0faa2",
   "metadata": {},
   "outputs": [],
   "source": [
    "# === 2️⃣ INTERPRETATION ===\n",
    "lgbm = results_df[results_df[\"Model\"] == \"LightGBM\"].iloc[0]\n",
    "xgb = results_df[results_df[\"Model\"] == \"XGBoost\"].iloc[0]"
   ]
  },
  {
   "cell_type": "code",
   "execution_count": null,
   "id": "21eab0d5",
   "metadata": {},
   "outputs": [],
   "source": [
    "print(\"\\n--- Comparative Summary ---\")\n",
    "if lgbm[\"Accuracy\"] > xgb[\"Accuracy\"]:\n",
    "    print(\"✅ LightGBM achieved higher accuracy than XGBoost.\")\n",
    "else:\n",
    "    print(\"✅ XGBoost achieved higher accuracy than LightGBM.\")"
   ]
  },
  {
   "cell_type": "code",
   "execution_count": null,
   "id": "df4eb3d0",
   "metadata": {},
   "outputs": [],
   "source": [
    "print(f\"\\nLightGBM → Accuracy: {lgbm['Accuracy']:.4f}, Precision: {lgbm['Precision']:.4f}, Recall: {lgbm['Recall']:.4f}, F1: {lgbm['F1']:.4f}\")\n",
    "print(f\"XGBoost → Accuracy: {xgb['Accuracy']:.4f}, Precision: {xgb['Precision']:.4f}, Recall: {xgb['Recall']:.4f}, F1: {xgb['F1']:.4f}\")"
   ]
  },
  {
   "cell_type": "code",
   "execution_count": null,
   "id": "1e6a19ca",
   "metadata": {},
   "outputs": [],
   "source": [
    "print(\"\\n--- Insights ---\")\n",
    "print(\"1. LightGBM usually trains faster and handles large datasets more efficiently using histogram-based learning.\")\n",
    "print(\"2. XGBoost provides slightly more stable performance on smaller datasets due to its regularization controls.\")\n",
    "print(\"3. Both models identified similar top predictors — 'Sex', 'Pclass', 'Fare', and 'Age'.\")\n",
    "print(\"4. If computational speed is key → LightGBM wins.\")\n",
    "print(\"5. If interpretability and consistent performance are needed → XGBoost holds strong.\")"
   ]
  }
 ],
 "metadata": {
  "jupytext": {
   "cell_metadata_filter": "-all",
   "main_language": "python",
   "notebook_metadata_filter": "-all"
  }
 },
 "nbformat": 4,
 "nbformat_minor": 5
}
