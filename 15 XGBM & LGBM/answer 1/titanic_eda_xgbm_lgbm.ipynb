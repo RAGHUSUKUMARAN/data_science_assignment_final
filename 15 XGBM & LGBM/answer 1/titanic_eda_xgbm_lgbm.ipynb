{
 "cells": [
  {
   "cell_type": "code",
   "execution_count": null,
   "id": "7f3b22fb",
   "metadata": {},
   "outputs": [],
   "source": [
    "# titanic_eda_xgbm_lgbm.py\n",
    "import pandas as pd\n",
    "import matplotlib.pyplot as plt\n",
    "import seaborn as sns\n",
    "import os"
   ]
  },
  {
   "cell_type": "code",
   "execution_count": null,
   "id": "55ba500b",
   "metadata": {},
   "outputs": [],
   "source": [
    "# === PATH SETUP ===\n",
    "base_path = r\"D:\\DATA SCIENCE\\ASSIGNMENTS\\15 XGBM & LGBM\\XGBM & LGBM\"\n",
    "train_path = os.path.join(base_path, \"Titanic_train.csv\")\n",
    "test_path = os.path.join(base_path, \"Titanic_test.csv\")"
   ]
  },
  {
   "cell_type": "code",
   "execution_count": null,
   "id": "b787e6ad",
   "metadata": {},
   "outputs": [],
   "source": [
    "# === LOAD DATA ===\n",
    "train_df = pd.read_csv(train_path)\n",
    "test_df = pd.read_csv(test_path)"
   ]
  },
  {
   "cell_type": "code",
   "execution_count": null,
   "id": "29603b72",
   "metadata": {},
   "outputs": [],
   "source": [
    "print(\"✅ Datasets Loaded Successfully\")\n",
    "print(\"Train Shape:\", train_df.shape)\n",
    "print(\"Test Shape:\", test_df.shape)\n",
    "print(\"\\n--- Columns ---\")\n",
    "print(list(train_df.columns))"
   ]
  },
  {
   "cell_type": "code",
   "execution_count": null,
   "id": "fbcca5b0",
   "metadata": {},
   "outputs": [],
   "source": [
    "# === 1️⃣ MISSING VALUES ===\n",
    "print(\"\\n--- Missing Values in Train Dataset ---\")\n",
    "print(train_df.isnull().sum())"
   ]
  },
  {
   "cell_type": "code",
   "execution_count": null,
   "id": "72a68d85",
   "metadata": {},
   "outputs": [],
   "source": [
    "plt.figure(figsize=(8, 5))\n",
    "sns.heatmap(train_df.isnull(), cbar=False, cmap=\"viridis\")\n",
    "plt.title(\"Missing Values Heatmap - Train Data\")\n",
    "plt.tight_layout()\n",
    "plt.savefig(os.path.join(base_path, \"missing_values_heatmap.png\"))\n",
    "plt.close()"
   ]
  },
  {
   "cell_type": "code",
   "execution_count": null,
   "id": "38b55968",
   "metadata": {},
   "outputs": [],
   "source": [
    "# === 2️⃣ FEATURE DISTRIBUTIONS ===\n",
    "numeric_cols = ['Age', 'Fare', 'SibSp', 'Parch']\n",
    "plt.figure(figsize=(12, 8))\n",
    "train_df[numeric_cols].hist(bins=15, figsize=(12, 8), color='skyblue', edgecolor='black')\n",
    "plt.suptitle(\"Feature Distributions - Titanic Dataset\", fontsize=14)\n",
    "plt.tight_layout()\n",
    "plt.savefig(os.path.join(base_path, \"histograms.png\"))\n",
    "plt.close()"
   ]
  },
  {
   "cell_type": "code",
   "execution_count": null,
   "id": "67436e58",
   "metadata": {},
   "outputs": [],
   "source": [
    "# Boxplots to see outliers\n",
    "plt.figure(figsize=(12, 8))\n",
    "for i, col in enumerate(numeric_cols, 1):\n",
    "    plt.subplot(2, 2, i)\n",
    "    sns.boxplot(y=train_df[col], color='salmon')\n",
    "    plt.title(f\"Boxplot of {col}\")\n",
    "plt.tight_layout()\n",
    "plt.savefig(os.path.join(base_path, \"boxplots.png\"))\n",
    "plt.close()"
   ]
  },
  {
   "cell_type": "markdown",
   "id": "c2f8a265",
   "metadata": {},
   "source": [
    "=== 3️⃣ RELATIONSHIPS WITH SURVIVAL ==="
   ]
  },
  {
   "cell_type": "code",
   "execution_count": null,
   "id": "a2c0218c",
   "metadata": {},
   "outputs": [],
   "source": [
    "# Bar plot: Survival vs Sex\n",
    "plt.figure(figsize=(6, 4))\n",
    "sns.countplot(data=train_df, x='Sex', hue='Survived', palette='pastel')\n",
    "plt.title(\"Survival Count by Sex\")\n",
    "plt.tight_layout()\n",
    "plt.savefig(os.path.join(base_path, \"survival_by_sex.png\"))\n",
    "plt.close()"
   ]
  },
  {
   "cell_type": "code",
   "execution_count": null,
   "id": "b45b2310",
   "metadata": {},
   "outputs": [],
   "source": [
    "# Bar plot: Survival vs Pclass\n",
    "plt.figure(figsize=(6, 4))\n",
    "sns.countplot(data=train_df, x='Pclass', hue='Survived', palette='muted')\n",
    "plt.title(\"Survival Count by Passenger Class\")\n",
    "plt.tight_layout()\n",
    "plt.savefig(os.path.join(base_path, \"survival_by_pclass.png\"))\n",
    "plt.close()"
   ]
  },
  {
   "cell_type": "code",
   "execution_count": null,
   "id": "4012b765",
   "metadata": {},
   "outputs": [],
   "source": [
    "# Scatter: Age vs Fare colored by survival\n",
    "plt.figure(figsize=(7, 5))\n",
    "sns.scatterplot(data=train_df, x='Age', y='Fare', hue='Survived', palette='coolwarm', alpha=0.7)\n",
    "plt.title(\"Age vs Fare — Colored by Survival\")\n",
    "plt.tight_layout()\n",
    "plt.savefig(os.path.join(base_path, \"scatter_age_fare.png\"))\n",
    "plt.close()"
   ]
  },
  {
   "cell_type": "code",
   "execution_count": null,
   "id": "16fa15cb",
   "metadata": {},
   "outputs": [],
   "source": [
    "# Boxplot: Age distribution by Survival\n",
    "plt.figure(figsize=(6, 4))\n",
    "sns.boxplot(data=train_df, x='Survived', y='Age', palette='Set2')\n",
    "plt.title(\"Age Distribution by Survival\")\n",
    "plt.tight_layout()\n",
    "plt.savefig(os.path.join(base_path, \"age_by_survival.png\"))\n",
    "plt.close()"
   ]
  },
  {
   "cell_type": "code",
   "execution_count": null,
   "id": "3332f03b",
   "metadata": {},
   "outputs": [],
   "source": [
    "# Bar plot: Survival vs Embarked\n",
    "if 'Embarked' in train_df.columns:\n",
    "    plt.figure(figsize=(6, 4))\n",
    "    sns.countplot(data=train_df, x='Embarked', hue='Survived', palette='pastel')\n",
    "    plt.title(\"Survival by Embarked Port\")\n",
    "    plt.tight_layout()\n",
    "    plt.savefig(os.path.join(base_path, \"survival_by_embarked.png\"))\n",
    "    plt.close()"
   ]
  },
  {
   "cell_type": "code",
   "execution_count": null,
   "id": "eeb4c773",
   "metadata": {},
   "outputs": [],
   "source": [
    "print(\"\\n✅ EDA Completed Successfully.\")\n",
    "print(\"Plots saved in:\", base_path)\n",
    "print(\"\"\"\n",
    "Saved files:\n",
    "- missing_values_heatmap.png\n",
    "- histograms.png\n",
    "- boxplots.png\n",
    "- survival_by_sex.png\n",
    "- survival_by_pclass.png\n",
    "- scatter_age_fare.png\n",
    "- age_by_survival.png\n",
    "- survival_by_embarked.png\n",
    "\"\"\")"
   ]
  },
  {
   "cell_type": "code",
   "execution_count": null,
   "id": "10e65372",
   "metadata": {},
   "outputs": [],
   "source": [
    "# === QUICK INSIGHTS ===\n",
    "print(\"\\n--- Insights ---\")\n",
    "print(\"1. Females had a higher survival rate compared to males.\")\n",
    "print(\"2. Higher Passenger Classes (1st class) show higher survival chances.\")\n",
    "print(\"3. Younger passengers and those paying higher fares tended to survive more.\")\n",
    "print(\"4. Age and Fare contain outliers but are still informative.\")\n",
    "print(\"5. Missing values primarily in 'Age', 'Cabin', and 'Embarked' columns.\")"
   ]
  }
 ],
 "metadata": {
  "jupytext": {
   "cell_metadata_filter": "-all",
   "main_language": "python",
   "notebook_metadata_filter": "-all"
  }
 },
 "nbformat": 4,
 "nbformat_minor": 5
}
