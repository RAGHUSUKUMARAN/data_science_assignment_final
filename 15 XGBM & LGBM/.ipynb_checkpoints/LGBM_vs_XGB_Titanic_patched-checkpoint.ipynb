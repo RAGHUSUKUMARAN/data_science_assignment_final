{
 "cells": [
  {
   "cell_type": "markdown",
   "id": "3863ad80",
   "metadata": {},
   "source": [
    "# Titanic: LightGBM vs XGBoost — Patched Notebook\n",
    "\n",
    "This patched notebook includes fixes for warnings, robust pipeline usage, cross-validation, ROC plots, and optional SMOTE. Save to your working directory and run locally."
   ]
  },
  {
   "cell_type": "code",
   "execution_count": 3,
   "id": "e4ac3147",
   "metadata": {},
   "outputs": [
    {
     "name": "stdout",
     "output_type": "stream",
     "text": [
      "Train path: D:\\DATA-SCIENCE\\ASSIGNMENTS\\15 XGBM & LGBM\\Titanic_train.csv\n",
      "Test path: D:\\DATA-SCIENCE\\ASSIGNMENTS\\15 XGBM & LGBM\\Titanic_test.csv\n",
      "Train shape: (891, 12)\n",
      "Test shape: (418, 11)\n"
     ]
    },
    {
     "data": {
      "text/html": [
       "<div>\n",
       "<style scoped>\n",
       "    .dataframe tbody tr th:only-of-type {\n",
       "        vertical-align: middle;\n",
       "    }\n",
       "\n",
       "    .dataframe tbody tr th {\n",
       "        vertical-align: top;\n",
       "    }\n",
       "\n",
       "    .dataframe thead th {\n",
       "        text-align: right;\n",
       "    }\n",
       "</style>\n",
       "<table border=\"1\" class=\"dataframe\">\n",
       "  <thead>\n",
       "    <tr style=\"text-align: right;\">\n",
       "      <th></th>\n",
       "      <th>PassengerId</th>\n",
       "      <th>Survived</th>\n",
       "      <th>Pclass</th>\n",
       "      <th>Name</th>\n",
       "      <th>Sex</th>\n",
       "      <th>Age</th>\n",
       "      <th>SibSp</th>\n",
       "      <th>Parch</th>\n",
       "      <th>Ticket</th>\n",
       "      <th>Fare</th>\n",
       "      <th>Cabin</th>\n",
       "      <th>Embarked</th>\n",
       "    </tr>\n",
       "  </thead>\n",
       "  <tbody>\n",
       "    <tr>\n",
       "      <th>0</th>\n",
       "      <td>1</td>\n",
       "      <td>0</td>\n",
       "      <td>3</td>\n",
       "      <td>Braund, Mr. Owen Harris</td>\n",
       "      <td>male</td>\n",
       "      <td>22.0</td>\n",
       "      <td>1</td>\n",
       "      <td>0</td>\n",
       "      <td>A/5 21171</td>\n",
       "      <td>7.2500</td>\n",
       "      <td>NaN</td>\n",
       "      <td>S</td>\n",
       "    </tr>\n",
       "    <tr>\n",
       "      <th>1</th>\n",
       "      <td>2</td>\n",
       "      <td>1</td>\n",
       "      <td>1</td>\n",
       "      <td>Cumings, Mrs. John Bradley (Florence Briggs Th...</td>\n",
       "      <td>female</td>\n",
       "      <td>38.0</td>\n",
       "      <td>1</td>\n",
       "      <td>0</td>\n",
       "      <td>PC 17599</td>\n",
       "      <td>71.2833</td>\n",
       "      <td>C85</td>\n",
       "      <td>C</td>\n",
       "    </tr>\n",
       "    <tr>\n",
       "      <th>2</th>\n",
       "      <td>3</td>\n",
       "      <td>1</td>\n",
       "      <td>3</td>\n",
       "      <td>Heikkinen, Miss. Laina</td>\n",
       "      <td>female</td>\n",
       "      <td>26.0</td>\n",
       "      <td>0</td>\n",
       "      <td>0</td>\n",
       "      <td>STON/O2. 3101282</td>\n",
       "      <td>7.9250</td>\n",
       "      <td>NaN</td>\n",
       "      <td>S</td>\n",
       "    </tr>\n",
       "    <tr>\n",
       "      <th>3</th>\n",
       "      <td>4</td>\n",
       "      <td>1</td>\n",
       "      <td>1</td>\n",
       "      <td>Futrelle, Mrs. Jacques Heath (Lily May Peel)</td>\n",
       "      <td>female</td>\n",
       "      <td>35.0</td>\n",
       "      <td>1</td>\n",
       "      <td>0</td>\n",
       "      <td>113803</td>\n",
       "      <td>53.1000</td>\n",
       "      <td>C123</td>\n",
       "      <td>S</td>\n",
       "    </tr>\n",
       "    <tr>\n",
       "      <th>4</th>\n",
       "      <td>5</td>\n",
       "      <td>0</td>\n",
       "      <td>3</td>\n",
       "      <td>Allen, Mr. William Henry</td>\n",
       "      <td>male</td>\n",
       "      <td>35.0</td>\n",
       "      <td>0</td>\n",
       "      <td>0</td>\n",
       "      <td>373450</td>\n",
       "      <td>8.0500</td>\n",
       "      <td>NaN</td>\n",
       "      <td>S</td>\n",
       "    </tr>\n",
       "  </tbody>\n",
       "</table>\n",
       "</div>"
      ],
      "text/plain": [
       "   PassengerId  Survived  Pclass  \\\n",
       "0            1         0       3   \n",
       "1            2         1       1   \n",
       "2            3         1       3   \n",
       "3            4         1       1   \n",
       "4            5         0       3   \n",
       "\n",
       "                                                Name     Sex   Age  SibSp  \\\n",
       "0                            Braund, Mr. Owen Harris    male  22.0      1   \n",
       "1  Cumings, Mrs. John Bradley (Florence Briggs Th...  female  38.0      1   \n",
       "2                             Heikkinen, Miss. Laina  female  26.0      0   \n",
       "3       Futrelle, Mrs. Jacques Heath (Lily May Peel)  female  35.0      1   \n",
       "4                           Allen, Mr. William Henry    male  35.0      0   \n",
       "\n",
       "   Parch            Ticket     Fare Cabin Embarked  \n",
       "0      0         A/5 21171   7.2500   NaN        S  \n",
       "1      0          PC 17599  71.2833   C85        C  \n",
       "2      0  STON/O2. 3101282   7.9250   NaN        S  \n",
       "3      0            113803  53.1000  C123        S  \n",
       "4      0            373450   8.0500   NaN        S  "
      ]
     },
     "metadata": {},
     "output_type": "display_data"
    }
   ],
   "source": [
    "# Data loading\n",
    "import os, pandas as pd, numpy as np\n",
    "DATA_DIR = r\"D:\\DATA-SCIENCE\\ASSIGNMENTS\\15 XGBM & LGBM\"\n",
    "train_path = os.path.join(DATA_DIR, \"Titanic_train.csv\")\n",
    "test_path = os.path.join(DATA_DIR, \"Titanic_test.csv\")\n",
    "\n",
    "if not os.path.exists(train_path):\n",
    "    train_path = \"/mnt/data/Titanic_train.csv\"\n",
    "if not os.path.exists(test_path):\n",
    "    test_path = \"/mnt/data/Titanic_test.csv\"\n",
    "\n",
    "print(\"Train path:\", train_path)\n",
    "print(\"Test path:\", test_path)\n",
    "\n",
    "df_train = pd.read_csv(train_path)\n",
    "df_test = pd.read_csv(test_path)\n",
    "print(\"Train shape:\", df_train.shape)\n",
    "print(\"Test shape:\", df_test.shape)\n",
    "display(df_train.head())"
   ]
  },
  {
   "cell_type": "code",
   "execution_count": 4,
   "id": "7a935df0",
   "metadata": {},
   "outputs": [
    {
     "name": "stdout",
     "output_type": "stream",
     "text": [
      "Numeric cols: ['PassengerId', 'Pclass', 'Age', 'SibSp', 'Parch', 'Fare', 'FamilySize', 'IsAlone']\n",
      "Categorical cols: ['Sex', 'Embarked', 'Title']\n",
      "Preprocessor ready.\n"
     ]
    }
   ],
   "source": [
    "# Preprocessing & feature engineering (patched)\n",
    "from sklearn.impute import SimpleImputer\n",
    "from sklearn.preprocessing import OneHotEncoder, LabelEncoder\n",
    "from sklearn.pipeline import Pipeline\n",
    "from sklearn.compose import ColumnTransformer\n",
    "\n",
    "df = df_train.copy()\n",
    "\n",
    "def extract_title(name):\n",
    "    try:\n",
    "        return name.split(',')[1].split('.')[0].strip()\n",
    "    except Exception:\n",
    "        return \"None\"\n",
    "\n",
    "if 'Name' in df.columns:\n",
    "    df['Title'] = df['Name'].apply(extract_title)\n",
    "    title_counts = df['Title'].value_counts()\n",
    "    rare_titles = title_counts[title_counts < 10].index.tolist()\n",
    "    df['Title'] = df['Title'].replace(rare_titles, 'Rare')\n",
    "\n",
    "if set(['SibSp','Parch']).issubset(df.columns):\n",
    "    df['FamilySize'] = df['SibSp'] + df['Parch'] + 1\n",
    "    df['IsAlone'] = (df['FamilySize'] == 1).astype(int)\n",
    "\n",
    "drop_cols = [c for c in ['Ticket','Cabin','Name'] if c in df.columns]\n",
    "df = df.drop(columns=drop_cols, errors='ignore')\n",
    "\n",
    "target_col = 'Survived'\n",
    "y = df[target_col]\n",
    "X = df.drop(columns=[target_col])\n",
    "\n",
    "# Numeric and categorical detection\n",
    "num_cols = X.select_dtypes(include=['int64','float64']).columns.tolist()\n",
    "cat_cols = X.select_dtypes(include=['object','category']).columns.tolist()\n",
    "\n",
    "# Ensure OneHotEncoder uses correct kwarg for sklearn version\n",
    "import sklearn\n",
    "from sklearn.preprocessing import OneHotEncoder as OHE\n",
    "if sklearn.__version__ >= \"1.6\":\n",
    "    ohe = OHE(handle_unknown='ignore', sparse_output=False)\n",
    "else:\n",
    "    ohe = OHE(handle_unknown='ignore', sparse=False)\n",
    "\n",
    "num_imputer = SimpleImputer(strategy='median')\n",
    "cat_imputer = SimpleImputer(strategy='most_frequent')\n",
    "\n",
    "preprocessor = ColumnTransformer(transformers=[\n",
    "    ('num', num_imputer, num_cols),\n",
    "    ('cat', Pipeline(steps=[('impute', cat_imputer), ('ohe', ohe)]), cat_cols)\n",
    "], remainder='drop')\n",
    "\n",
    "print('Numeric cols:', num_cols)\n",
    "print('Categorical cols:', cat_cols)\n",
    "print('Preprocessor ready.')"
   ]
  },
  {
   "cell_type": "code",
   "execution_count": 5,
   "id": "fbdf9529",
   "metadata": {},
   "outputs": [
    {
     "name": "stdout",
     "output_type": "stream",
     "text": [
      "Shapes: (712, 11) (179, 11) (712,) (179,)\n"
     ]
    }
   ],
   "source": [
    "# Train/validation split\n",
    "from sklearn.model_selection import train_test_split\n",
    "X_train, X_val, y_train, y_val = train_test_split(X, y, test_size=0.2, random_state=42, stratify=y)\n",
    "print('Shapes:', X_train.shape, X_val.shape, y_train.shape, y_val.shape)"
   ]
  },
  {
   "cell_type": "code",
   "execution_count": 6,
   "id": "f4f852b7",
   "metadata": {},
   "outputs": [
    {
     "name": "stdout",
     "output_type": "stream",
     "text": [
      "Pipeline builders ready.\n"
     ]
    }
   ],
   "source": [
    "# Pipelines and models (quiet options)\n",
    "from sklearn.pipeline import Pipeline\n",
    "from sklearn.metrics import accuracy_score, precision_score, recall_score, f1_score\n",
    "\n",
    "# Try import with user-friendly messages\n",
    "lgb_installed = True\n",
    "xgb_installed = True\n",
    "try:\n",
    "    from lightgbm import LGBMClassifier\n",
    "except Exception as e:\n",
    "    lgb_installed = False\n",
    "    print(\"LightGBM not installed. Install with: pip install lightgbm\")\n",
    "\n",
    "try:\n",
    "    from xgboost import XGBClassifier\n",
    "except Exception as e:\n",
    "    xgb_installed = False\n",
    "    print(\"XGBoost not installed. Install with: pip install xgboost\")\n",
    "\n",
    "def build_pipeline(estimator):\n",
    "    return Pipeline(steps=[('pre', preprocessor), ('clf', estimator)])\n",
    "\n",
    "if lgb_installed:\n",
    "    lgb_default = LGBMClassifier(random_state=42, verbosity=-1)\n",
    "else:\n",
    "    lgb_default = None\n",
    "\n",
    "if xgb_installed:\n",
    "    # newer xgboost warns about use_label_encoder; we avoid passing it\n",
    "    xgb_default = XGBClassifier(random_state=42, verbosity=0, eval_metric='logloss')\n",
    "else:\n",
    "    xgb_default = None\n",
    "\n",
    "print('Pipeline builders ready.')"
   ]
  },
  {
   "cell_type": "code",
   "execution_count": 8,
   "id": "b518a679",
   "metadata": {},
   "outputs": [
    {
     "name": "stdout",
     "output_type": "stream",
     "text": [
      "LGBM baseline metrics: {'accuracy': 0.7932960893854749, 'precision': 0.7580645161290323, 'recall': 0.6811594202898551, 'f1': 0.7175572519083969}\n",
      "XGB baseline metrics: {'accuracy': 0.7877094972067039, 'precision': 0.7384615384615385, 'recall': 0.6956521739130435, 'f1': 0.7164179104477612}\n"
     ]
    },
    {
     "data": {
      "text/plain": [
       "{'LGBM': {'accuracy': 0.7932960893854749,\n",
       "  'precision': 0.7580645161290323,\n",
       "  'recall': 0.6811594202898551,\n",
       "  'f1': 0.7175572519083969},\n",
       " 'XGB': {'accuracy': 0.7877094972067039,\n",
       "  'precision': 0.7384615384615385,\n",
       "  'recall': 0.6956521739130435,\n",
       "  'f1': 0.7164179104477612}}"
      ]
     },
     "metadata": {},
     "output_type": "display_data"
    }
   ],
   "source": [
    "# Train baseline models using pipelines\n",
    "from sklearn import set_config\n",
    "set_config(transform_output=\"pandas\")\n",
    "\n",
    "results = {}\n",
    "if lgb_default is not None:\n",
    "    pipe_lgb = build_pipeline(lgb_default)\n",
    "    pipe_lgb.fit(X_train, y_train)\n",
    "    y_pred_lgb = pipe_lgb.predict(X_val)\n",
    "    results['LGBM'] = {\n",
    "        'accuracy': accuracy_score(y_val, y_pred_lgb),\n",
    "        'precision': precision_score(y_val, y_pred_lgb, zero_division=0),\n",
    "        'recall': recall_score(y_val, y_pred_lgb, zero_division=0),\n",
    "        'f1': f1_score(y_val, y_pred_lgb, zero_division=0)\n",
    "    }\n",
    "    print('LGBM baseline metrics:', results['LGBM'])\n",
    "\n",
    "if xgb_default is not None:\n",
    "    pipe_xgb = build_pipeline(xgb_default)\n",
    "    pipe_xgb.fit(X_train, y_train)\n",
    "    y_pred_xgb = pipe_xgb.predict(X_val)\n",
    "    results['XGB'] = {\n",
    "        'accuracy': accuracy_score(y_val, y_pred_xgb),\n",
    "        'precision': precision_score(y_val, y_pred_xgb, zero_division=0),\n",
    "        'recall': recall_score(y_val, y_pred_xgb, zero_division=0),\n",
    "        'f1': f1_score(y_val, y_pred_xgb, zero_division=0)\n",
    "    }\n",
    "    print('XGB baseline metrics:', results['XGB'])\n",
    "\n",
    "display(results)"
   ]
  },
  {
   "cell_type": "code",
   "execution_count": 9,
   "id": "f1d4e301",
   "metadata": {},
   "outputs": [
    {
     "name": "stdout",
     "output_type": "stream",
     "text": [
      "LGBM CV scores (mean):\n"
     ]
    },
    {
     "data": {
      "text/plain": [
       "fit_time          6.793053\n",
       "score_time        0.037293\n",
       "test_accuracy     0.797764\n",
       "test_precision    0.750454\n",
       "test_recall       0.710774\n",
       "test_f1           0.729595\n",
       "dtype: float64"
      ]
     },
     "metadata": {},
     "output_type": "display_data"
    },
    {
     "name": "stdout",
     "output_type": "stream",
     "text": [
      "XGB CV scores (mean):\n"
     ]
    },
    {
     "data": {
      "text/plain": [
       "fit_time          0.077461\n",
       "score_time        0.024461\n",
       "test_accuracy     0.799143\n",
       "test_precision    0.753035\n",
       "test_recall       0.710909\n",
       "test_f1           0.730195\n",
       "dtype: float64"
      ]
     },
     "metadata": {},
     "output_type": "display_data"
    }
   ],
   "source": [
    "# Cross-validation (StratifiedKFold)\n",
    "from sklearn.model_selection import cross_validate, StratifiedKFold\n",
    "cv = StratifiedKFold(n_splits=5, shuffle=True, random_state=42)\n",
    "scoring = ['accuracy','precision','recall','f1']\n",
    "\n",
    "if lgb_default is not None:\n",
    "    pipe = build_pipeline(lgb_default)\n",
    "    cv_res = cross_validate(pipe, X_train, y_train, cv=cv, scoring=scoring, n_jobs=-1)\n",
    "    import pandas as pd\n",
    "    print('LGBM CV scores (mean):')\n",
    "    display(pd.Series({k: v.mean() for k,v in cv_res.items()}))\n",
    "\n",
    "if xgb_default is not None:\n",
    "    pipe = build_pipeline(xgb_default)\n",
    "    cv_res = cross_validate(pipe, X_train, y_train, cv=cv, scoring=scoring, n_jobs=-1)\n",
    "    print('XGB CV scores (mean):')\n",
    "    display(pd.Series({k: v.mean() for k,v in cv_res.items()}))"
   ]
  },
  {
   "cell_type": "code",
   "execution_count": 10,
   "id": "ebf5eb54",
   "metadata": {},
   "outputs": [
    {
     "name": "stdout",
     "output_type": "stream",
     "text": [
      "Fitting 3 folds for each of 12 candidates, totalling 36 fits\n",
      "LGBM best params: {'clf__num_leaves': 63, 'clf__n_estimators': 400, 'clf__max_depth': None, 'clf__learning_rate': 0.01}\n",
      "Fitting 3 folds for each of 12 candidates, totalling 36 fits\n",
      "XGB best params: {'clf__subsample': 0.6, 'clf__n_estimators': 200, 'clf__max_depth': 9, 'clf__learning_rate': 0.01}\n"
     ]
    },
    {
     "data": {
      "text/plain": [
       "{'LGBM': {'clf__num_leaves': 63,\n",
       "  'clf__n_estimators': 400,\n",
       "  'clf__max_depth': None,\n",
       "  'clf__learning_rate': 0.01},\n",
       " 'XGB': {'clf__subsample': 0.6,\n",
       "  'clf__n_estimators': 200,\n",
       "  'clf__max_depth': 9,\n",
       "  'clf__learning_rate': 0.01}}"
      ]
     },
     "metadata": {},
     "output_type": "display_data"
    }
   ],
   "source": [
    "# RandomizedSearchCV tuning (short runs)\n",
    "from sklearn.model_selection import RandomizedSearchCV\n",
    "import scipy.stats as st\n",
    "\n",
    "tuned_results = {}\n",
    "if lgb_default is not None:\n",
    "    lgb_pipe = build_pipeline(LGBMClassifier(random_state=42, verbosity=-1))\n",
    "    param_dist_lgb = {\n",
    "        'clf__n_estimators': [100,200,400],\n",
    "        'clf__num_leaves': [15,31,63],\n",
    "        'clf__learning_rate': [0.01,0.05,0.1],\n",
    "        'clf__max_depth': [3,5,7,9,None]\n",
    "    }\n",
    "    rsearch_lgb = RandomizedSearchCV(lgb_pipe, param_dist_lgb, n_iter=12, scoring='f1', cv=3, random_state=42, n_jobs=-1, verbose=1)\n",
    "    rsearch_lgb.fit(X_train, y_train)\n",
    "    tuned_results['LGBM'] = rsearch_lgb.best_params_\n",
    "    best_lgb = rsearch_lgb.best_estimator_\n",
    "    print('LGBM best params:', tuned_results['LGBM'])\n",
    "\n",
    "if xgb_default is not None:\n",
    "    xgb_pipe = build_pipeline(XGBClassifier(random_state=42, verbosity=0, eval_metric='logloss'))\n",
    "    param_dist_xgb = {\n",
    "        'clf__n_estimators': [100,200,400],\n",
    "        'clf__max_depth': [3,5,7,9],\n",
    "        'clf__learning_rate': [0.01,0.05,0.1],\n",
    "        'clf__subsample': [0.6,0.8,1.0]\n",
    "    }\n",
    "    rsearch_xgb = RandomizedSearchCV(xgb_pipe, param_dist_xgb, n_iter=12, scoring='f1', cv=3, random_state=42, n_jobs=-1, verbose=1)\n",
    "    rsearch_xgb.fit(X_train, y_train)\n",
    "    tuned_results['XGB'] = rsearch_xgb.best_params_\n",
    "    best_xgb = rsearch_xgb.best_estimator_\n",
    "    print('XGB best params:', tuned_results['XGB'])\n",
    "\n",
    "display(tuned_results)"
   ]
  },
  {
   "cell_type": "code",
   "execution_count": 11,
   "id": "1087635f",
   "metadata": {},
   "outputs": [
    {
     "name": "stdout",
     "output_type": "stream",
     "text": [
      "\n",
      "LGBM classification report:\n",
      "               precision    recall  f1-score   support\n",
      "\n",
      "           0       0.81      0.87      0.84       110\n",
      "           1       0.77      0.68      0.72        69\n",
      "\n",
      "    accuracy                           0.80       179\n",
      "   macro avg       0.79      0.78      0.78       179\n",
      "weighted avg       0.80      0.80      0.80       179\n",
      "\n"
     ]
    },
    {
     "data": {
      "image/png": "[encoded data removed]",
      "text/plain": [
       "<Figure size 640x480 with 2 Axes>"
      ]
     },
     "metadata": {},
     "output_type": "display_data"
    },
    {
     "name": "stdout",
     "output_type": "stream",
     "text": [
      "\n",
      "XGB classification report:\n",
      "               precision    recall  f1-score   support\n",
      "\n",
      "           0       0.82      0.91      0.86       110\n",
      "           1       0.82      0.68      0.75        69\n",
      "\n",
      "    accuracy                           0.82       179\n",
      "   macro avg       0.82      0.80      0.80       179\n",
      "weighted avg       0.82      0.82      0.82       179\n",
      "\n"
     ]
    },
    {
     "data": {
      "image/png": "[encoded data removed]",
      "text/plain": [
       "<Figure size 640x480 with 1 Axes>"
      ]
     },
     "metadata": {},
     "output_type": "display_data"
    },
    {
     "data": {
      "image/png": "[encoded data removed]",
      "text/plain": [
       "<Figure size 640x480 with 2 Axes>"
      ]
     },
     "metadata": {},
     "output_type": "display_data"
    },
    {
     "data": {
      "image/png": "[encoded data removed]",
      "text/plain": [
       "<Figure size 640x480 with 1 Axes>"
      ]
     },
     "metadata": {},
     "output_type": "display_data"
    },
    {
     "data": {
      "text/plain": [
       "{'LGBM': {'accuracy': 0.7988826815642458, 'f1': 0.7230769230769231},\n",
       " 'XGB': {'accuracy': 0.8212290502793296, 'f1': 0.746031746031746}}"
      ]
     },
     "metadata": {},
     "output_type": "display_data"
    }
   ],
   "source": [
    "# Evaluate tuned models on validation set with confusion matrix and ROC\n",
    "from sklearn.metrics import classification_report, ConfusionMatrixDisplay, roc_auc_score, roc_curve\n",
    "import matplotlib.pyplot as plt\n",
    "\n",
    "eval_table = {}\n",
    "if 'best_lgb' in globals():\n",
    "    y_pred = best_lgb.predict(X_val)\n",
    "    y_proba = best_lgb.predict_proba(X_val)[:,1] if hasattr(best_lgb, 'predict_proba') else None\n",
    "    eval_table['LGBM'] = {'accuracy': accuracy_score(y_val, y_pred), 'f1': f1_score(y_val,y_pred)}\n",
    "    print('\\nLGBM classification report:\\n', classification_report(y_val, y_pred, zero_division=0))\n",
    "    ConfusionMatrixDisplay.from_predictions(y_val, y_pred); plt.title('LGBM Confusion Matrix'); plt.show()\n",
    "    if y_proba is not None:\n",
    "        fpr, tpr, _ = roc_curve(y_val, y_proba)\n",
    "        plt.plot(fpr, tpr, label=f'LGBM AUC={roc_auc_score(y_val,y_proba):.3f}')\n",
    "if 'best_xgb' in globals():\n",
    "    y_pred = best_xgb.predict(X_val)\n",
    "    y_proba = best_xgb.predict_proba(X_val)[:,1] if hasattr(best_xgb, 'predict_proba') else None\n",
    "    eval_table['XGB'] = {'accuracy': accuracy_score(y_val, y_pred), 'f1': f1_score(y_val,y_pred)}\n",
    "    print('\\nXGB classification report:\\n', classification_report(y_val, y_pred, zero_division=0))\n",
    "    ConfusionMatrixDisplay.from_predictions(y_val, y_pred); plt.title('XGB Confusion Matrix'); plt.show()\n",
    "    if y_proba is not None:\n",
    "        fpr, tpr, _ = roc_curve(y_val, y_proba)\n",
    "        plt.plot(fpr, tpr, label=f'XGB AUC={roc_auc_score(y_val,y_proba):.3f}')\n",
    "\n",
    "if 'best_lgb' in globals() or 'best_xgb' in globals():\n",
    "    plt.plot([0,1],[0,1],'k--'); plt.xlabel('FPR'); plt.ylabel('TPR'); plt.title('ROC Curves'); plt.legend(); plt.show()\n",
    "display(eval_table)"
   ]
  },
  {
   "cell_type": "code",
   "execution_count": 12,
   "id": "ec28a6a1",
   "metadata": {},
   "outputs": [
    {
     "name": "stdout",
     "output_type": "stream",
     "text": [
      "Original distribution: {0: 439, 1: 273}\n",
      "SMOTE not available or failed: could not convert string to float: 'male'\n"
     ]
    }
   ],
   "source": [
    "# Optional: SMOTE on training data (install imbalanced-learn if needed)\n",
    "try:\n",
    "    from imblearn.over_sampling import SMOTE\n",
    "    print('Original distribution:', y_train.value_counts().to_dict())\n",
    "    sm = SMOTE(random_state=42)\n",
    "    X_res, y_res = sm.fit_resample(X_train, y_train)\n",
    "    print('Resampled distribution:', pd.Series(y_res).value_counts().to_dict())\n",
    "    # train a quick LGBM on resampled\n",
    "    if lgb_default is not None:\n",
    "        pipe = build_pipeline(LGBMClassifier(random_state=42, verbosity=-1))\n",
    "        pipe.fit(X_res, y_res)\n",
    "        print('SMOTE-trained LGBM validation report:')\n",
    "        print(classification_report(y_val, pipe.predict(X_val), zero_division=0))\n",
    "except Exception as e:\n",
    "    print('SMOTE not available or failed:', e)"
   ]
  },
  {
   "cell_type": "code",
   "execution_count": 13,
   "id": "7e5e08b0",
   "metadata": {},
   "outputs": [
    {
     "name": "stdout",
     "output_type": "stream",
     "text": [
      "Saved best models (if available) to D:\\DATA-SCIENCE\\ASSIGNMENTS\\15 XGBM & LGBM\n"
     ]
    }
   ],
   "source": [
    "# Save best pipelines and predictions\n",
    "import joblib, os\n",
    "os.makedirs(r\"D:\\DATA-SCIENCE\\ASSIGNMENTS\\15 XGBM & LGBM\", exist_ok=True)\n",
    "if 'best_lgb' in globals():\n",
    "    joblib.dump(best_lgb, os.path.join(r\"D:\\DATA-SCIENCE\\ASSIGNMENTS\\15 XGBM & LGBM\", 'best_lgbm_titanic.joblib'))\n",
    "if 'best_xgb' in globals():\n",
    "    joblib.dump(best_xgb, os.path.join(r\"D:\\DATA-SCIENCE\\ASSIGNMENTS\\15 XGBM & LGBM\", 'best_xgb_titanic.joblib'))\n",
    "print('Saved best models (if available) to', r\"D:\\DATA-SCIENCE\\ASSIGNMENTS\\15 XGBM & LGBM\")"
   ]
  },
  {
   "cell_type": "markdown",
   "id": "70617044",
   "metadata": {},
   "source": [
    "Notebook patched: quieted boosters, ensured pipeline predict usage, added CV, ROC, confusion matrices, SMOTE optional, and model saving."
   ]
  }
 ],
 "metadata": {
  "kernelspec": {
   "display_name": "Python 3 (ipykernel)",
   "language": "python",
   "name": "python3"
  },
  "language_info": {
   "codemirror_mode": {
    "name": "ipython",
    "version": 3
   },
   "file_extension": ".py",
   "mimetype": "text/x-python",
   "name": "python",
   "nbconvert_exporter": "python",
   "pygments_lexer": "ipython3",
   "version": "3.11.13"
  }
 },
 "nbformat": 4,
 "nbformat_minor": 5
}
