{
 "cells": [
  {
   "cell_type": "code",
   "execution_count": null,
   "id": "c5a300ca",
   "metadata": {},
   "outputs": [],
   "source": [
    "\"\"\"\n",
    "ANN for Alphabets classification (basic implementation)\n",
    "\n",
    "- Expects Alphabets_data.csv available at input_path (change if needed)\n",
    "- Saves outputs (model, metrics, plots, preds) to output_folder\n",
    "- Uses TensorFlow / Keras\n",
    "\n",
    "Requirements:\n",
    "    pip install numpy pandas scikit-learn matplotlib tensorflow\n",
    "\"\"\""
   ]
  },
  {
   "cell_type": "code",
   "execution_count": null,
   "id": "7c837ece",
   "metadata": {},
   "outputs": [],
   "source": [
    "import os\n",
    "import numpy as np\n",
    "import pandas as pd\n",
    "import matplotlib.pyplot as plt\n",
    "from sklearn.preprocessing import LabelEncoder, StandardScaler\n",
    "from sklearn.model_selection import train_test_split\n",
    "from sklearn.metrics import classification_report, confusion_matrix, accuracy_score\n",
    "import tensorflow as tf\n",
    "from tensorflow.keras.models import Sequential\n",
    "from tensorflow.keras.layers import Dense, Dropout\n",
    "from tensorflow.keras.callbacks import EarlyStopping, ModelCheckpoint"
   ]
  },
  {
   "cell_type": "code",
   "execution_count": null,
   "id": "89772e9b",
   "metadata": {},
   "outputs": [],
   "source": [
    "# -----------------------\n",
    "# Paths - change if needed\n",
    "# -----------------------\n",
    "# Input CSV\n",
    "input_path = r\"D:\\DATA SCIENCE\\ASSIGNMENTS\\18 neural networks\\Neural networks\\Alphabets_data.csv\""
   ]
  },
  {
   "cell_type": "code",
   "execution_count": null,
   "id": "b688b2d7",
   "metadata": {},
   "outputs": [],
   "source": [
    "# Output folder\n",
    "output_folder = r\"D:\\DATA SCIENCE\\ASSIGNMENTS\\18 neural networks\\Neural networks\"\n",
    "os.makedirs(output_folder, exist_ok=True)"
   ]
  },
  {
   "cell_type": "code",
   "execution_count": null,
   "id": "36623e42",
   "metadata": {},
   "outputs": [],
   "source": [
    "# -----------------------\n",
    "# Load dataset\n",
    "# -----------------------\n",
    "df = pd.read_csv(input_path)\n",
    "print(f\"Loaded data: {df.shape[0]} rows, {df.shape[1]} columns\")"
   ]
  },
  {
   "cell_type": "code",
   "execution_count": null,
   "id": "5030f5fe",
   "metadata": {},
   "outputs": [],
   "source": [
    "# -----------------------\n",
    "# Preprocessing\n",
    "# -----------------------\n",
    "target_col = \"letter\"\n",
    "if target_col not in df.columns:\n",
    "    raise ValueError(f\"Target column '{target_col}' not found in CSV.\")"
   ]
  },
  {
   "cell_type": "code",
   "execution_count": null,
   "id": "d585196b",
   "metadata": {},
   "outputs": [],
   "source": [
    "X = df.drop(columns=[target_col])\n",
    "y = df[target_col]"
   ]
  },
  {
   "cell_type": "code",
   "execution_count": null,
   "id": "becfb4d6",
   "metadata": {},
   "outputs": [],
   "source": [
    "# Label encode target\n",
    "from sklearn.preprocessing import LabelEncoder\n",
    "le = LabelEncoder()\n",
    "y_int = le.fit_transform(y)\n",
    "num_classes = len(le.classes_)\n",
    "y_cat = tf.keras.utils.to_categorical(y_int, num_classes=num_classes)\n",
    "print(f\"Detected {num_classes} classes: {list(le.classes_)}\")"
   ]
  },
  {
   "cell_type": "code",
   "execution_count": null,
   "id": "a16e7d31",
   "metadata": {},
   "outputs": [],
   "source": [
    "# Scale features\n",
    "scaler = StandardScaler()\n",
    "X_scaled = scaler.fit_transform(X)"
   ]
  },
  {
   "cell_type": "code",
   "execution_count": null,
   "id": "676cfe31",
   "metadata": {},
   "outputs": [],
   "source": [
    "# Train-test split\n",
    "from sklearn.model_selection import train_test_split\n",
    "X_train, X_test, y_train, y_test = train_test_split(\n",
    "    X_scaled, y_cat, test_size=0.2, random_state=42, stratify=y_int\n",
    ")\n",
    "print(\"Train shape:\", X_train.shape, \"Test shape:\", X_test.shape)"
   ]
  },
  {
   "cell_type": "code",
   "execution_count": null,
   "id": "2abf4908",
   "metadata": {},
   "outputs": [],
   "source": [
    "# Save preprocessing objects\n",
    "import joblib\n",
    "joblib.dump(scaler, os.path.join(output_folder, \"scaler.joblib\"))\n",
    "joblib.dump(le, os.path.join(output_folder, \"label_encoder.joblib\"))"
   ]
  },
  {
   "cell_type": "code",
   "execution_count": null,
   "id": "d51f4d00",
   "metadata": {
    "lines_to_next_cell": 1
   },
   "outputs": [],
   "source": [
    "# -----------------------\n",
    "# Build ANN model\n",
    "# -----------------------\n",
    "input_dim = X_train.shape[1]\n",
    "hidden_units = 128\n",
    "dropout_rate = 0.2"
   ]
  },
  {
   "cell_type": "code",
   "execution_count": null,
   "id": "263e2590",
   "metadata": {
    "lines_to_next_cell": 1
   },
   "outputs": [],
   "source": [
    "def build_basic_ann(input_dim, hidden_units=128, dropout_rate=0.2, num_classes=26):\n",
    "    model = Sequential([\n",
    "        Dense(hidden_units, input_dim=input_dim, activation=\"relu\"),\n",
    "        Dropout(dropout_rate),\n",
    "        Dense(num_classes, activation=\"softmax\")\n",
    "    ])\n",
    "    return model"
   ]
  },
  {
   "cell_type": "code",
   "execution_count": null,
   "id": "d32feec7",
   "metadata": {},
   "outputs": [],
   "source": [
    "model = build_basic_ann(input_dim, hidden_units, dropout_rate, num_classes)\n",
    "model.summary()"
   ]
  },
  {
   "cell_type": "code",
   "execution_count": null,
   "id": "864b60b7",
   "metadata": {},
   "outputs": [],
   "source": [
    "# -----------------------\n",
    "# Compile model\n",
    "# -----------------------\n",
    "learning_rate = 0.001\n",
    "model.compile(\n",
    "    optimizer=tf.keras.optimizers.Adam(learning_rate=learning_rate),\n",
    "    loss=\"categorical_crossentropy\",\n",
    "    metrics=[\"accuracy\"]\n",
    ")"
   ]
  },
  {
   "cell_type": "code",
   "execution_count": null,
   "id": "bbf9278a",
   "metadata": {},
   "outputs": [],
   "source": [
    "checkpoint_path = os.path.join(output_folder, \"best_ann_model.h5\")\n",
    "callbacks = [\n",
    "    EarlyStopping(monitor=\"val_loss\", patience=8, restore_best_weights=True, verbose=1),\n",
    "    ModelCheckpoint(filepath=checkpoint_path, monitor=\"val_loss\", save_best_only=True, verbose=1)\n",
    "]"
   ]
  },
  {
   "cell_type": "code",
   "execution_count": null,
   "id": "644c6682",
   "metadata": {},
   "outputs": [],
   "source": [
    "# -----------------------\n",
    "# Train\n",
    "# -----------------------\n",
    "batch_size = 64\n",
    "epochs = 80"
   ]
  },
  {
   "cell_type": "code",
   "execution_count": null,
   "id": "c05e324c",
   "metadata": {},
   "outputs": [],
   "source": [
    "history = model.fit(\n",
    "    X_train, y_train,\n",
    "    validation_split=0.15,\n",
    "    epochs=epochs,\n",
    "    batch_size=batch_size,\n",
    "    callbacks=callbacks,\n",
    "    verbose=2\n",
    ")"
   ]
  },
  {
   "cell_type": "code",
   "execution_count": null,
   "id": "b242ac58",
   "metadata": {},
   "outputs": [],
   "source": [
    "final_model_path = os.path.join(output_folder, \"final_ann_model.h5\")\n",
    "model.save(final_model_path)\n",
    "print(f\"Saved model to: {final_model_path} (best checkpoint at {checkpoint_path})\")"
   ]
  },
  {
   "cell_type": "code",
   "execution_count": null,
   "id": "e5e2722f",
   "metadata": {},
   "outputs": [],
   "source": [
    "# -----------------------\n",
    "# Plot training history\n",
    "# -----------------------\n",
    "plt.figure(figsize=(10,4))\n",
    "plt.subplot(1,2,1)\n",
    "plt.plot(history.history[\"loss\"], label=\"train_loss\")\n",
    "plt.plot(history.history[\"val_loss\"], label=\"val_loss\")\n",
    "plt.xlabel(\"epoch\"); plt.title(\"Loss\"); plt.legend()"
   ]
  },
  {
   "cell_type": "code",
   "execution_count": null,
   "id": "0b8f1f41",
   "metadata": {},
   "outputs": [],
   "source": [
    "plt.subplot(1,2,2)\n",
    "plt.plot(history.history[\"accuracy\"], label=\"train_acc\")\n",
    "plt.plot(history.history[\"val_accuracy\"], label=\"val_acc\")\n",
    "plt.xlabel(\"epoch\"); plt.title(\"Accuracy\"); plt.legend()"
   ]
  },
  {
   "cell_type": "code",
   "execution_count": null,
   "id": "83eea763",
   "metadata": {},
   "outputs": [],
   "source": [
    "plt.tight_layout()\n",
    "plt.savefig(os.path.join(output_folder, \"training_history.png\"))\n",
    "plt.close()\n",
    "print(\"Saved training history plot to training_history.png\")"
   ]
  },
  {
   "cell_type": "code",
   "execution_count": null,
   "id": "730c9e7a",
   "metadata": {},
   "outputs": [],
   "source": [
    "# -----------------------\n",
    "# Evaluate\n",
    "# -----------------------\n",
    "y_pred_prob = model.predict(X_test)\n",
    "y_pred_int = np.argmax(y_pred_prob, axis=1)\n",
    "y_true_int = np.argmax(y_test, axis=1)"
   ]
  },
  {
   "cell_type": "code",
   "execution_count": null,
   "id": "8e151ba8",
   "metadata": {},
   "outputs": [],
   "source": [
    "acc = accuracy_score(y_true_int, y_pred_int)\n",
    "print(f\"\\nTest accuracy: {acc:.4f}\")"
   ]
  },
  {
   "cell_type": "code",
   "execution_count": null,
   "id": "9ba485f9",
   "metadata": {},
   "outputs": [],
   "source": [
    "report = classification_report(y_true_int, y_pred_int, target_names=le.classes_, digits=4)\n",
    "print(\"\\nClassification Report:\\n\", report)"
   ]
  },
  {
   "cell_type": "code",
   "execution_count": null,
   "id": "0baa056f",
   "metadata": {},
   "outputs": [],
   "source": [
    "with open(os.path.join(output_folder, \"classification_report.txt\"), \"w\") as f:\n",
    "    f.write(f\"Test accuracy: {acc:.4f}\\n\\n\")\n",
    "    f.write(report)"
   ]
  },
  {
   "cell_type": "code",
   "execution_count": null,
   "id": "8f2c58f5",
   "metadata": {},
   "outputs": [],
   "source": [
    "cm = confusion_matrix(y_true_int, y_pred_int)\n",
    "cm_df = pd.DataFrame(cm, index=le.classes_, columns=le.classes_)\n",
    "cm_df.to_csv(os.path.join(output_folder, \"confusion_matrix.csv\"))"
   ]
  },
  {
   "cell_type": "code",
   "execution_count": null,
   "id": "369ec777",
   "metadata": {},
   "outputs": [],
   "source": [
    "plt.figure(figsize=(12,10))\n",
    "plt.imshow(cm, interpolation=\"nearest\")\n",
    "plt.title(\"Confusion matrix\")\n",
    "plt.colorbar()\n",
    "plt.xlabel(\"Predicted\")\n",
    "plt.ylabel(\"True\")\n",
    "plt.xticks(range(len(le.classes_)), le.classes_, rotation=90)\n",
    "plt.yticks(range(len(le.classes_)), le.classes_)\n",
    "plt.tight_layout()\n",
    "plt.savefig(os.path.join(output_folder, \"confusion_matrix.png\"))\n",
    "plt.close()\n",
    "print(\"Saved confusion matrix files\")"
   ]
  },
  {
   "cell_type": "code",
   "execution_count": null,
   "id": "47eb0c72",
   "metadata": {},
   "outputs": [],
   "source": [
    "# -----------------------\n",
    "# Save predictions\n",
    "# -----------------------\n",
    "pred_df = pd.DataFrame({\n",
    "    \"true_label\": le.inverse_transform(y_true_int),\n",
    "    \"pred_label\": le.inverse_transform(y_pred_int),\n",
    "    \"pred_confidence\": np.max(y_pred_prob, axis=1)\n",
    "})\n",
    "pred_df.to_csv(os.path.join(output_folder, \"test_predictions.csv\"), index=False)\n",
    "print(\"Saved test predictions to test_predictions.csv\")"
   ]
  },
  {
   "cell_type": "code",
   "execution_count": null,
   "id": "7acc6fc2",
   "metadata": {},
   "outputs": [],
   "source": [
    "print(\"\\n✅ All outputs saved in:\", output_folder)"
   ]
  }
 ],
 "metadata": {
  "jupytext": {
   "cell_metadata_filter": "-all",
   "main_language": "python",
   "notebook_metadata_filter": "-all"
  }
 },
 "nbformat": 4,
 "nbformat_minor": 5
}
