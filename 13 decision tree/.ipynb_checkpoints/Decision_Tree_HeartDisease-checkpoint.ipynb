{
 "cells": [
  {
   "cell_type": "markdown",
   "id": "594736dd",
   "metadata": {},
   "source": [
    "# Decision Tree Classification — Heart Disease Dataset\n",
    "\n",
    "Notebook generated for the Decision Tree assignment. Save to your working directory and run locally."
   ]
  },
  {
   "cell_type": "code",
   "execution_count": null,
   "id": "10b869ae",
   "metadata": {},
   "outputs": [],
   "source": [
    "# Data loading example\n",
    "import os, pandas as pd\n",
    "DATA_DIR = r\"D:\\DATA-SCIENCE\\ASSIGNMENTS\"\n",
    "path = os.path.join(DATA_DIR, 'heart_disease.xlsx')\n",
    "if not os.path.exists(path):\n",
    "    path = '/mnt/data/heart_disease.xlsx'\n",
    "print('Loading from:', path)\n",
    "df = pd.read_excel(path)\n",
    "display(df.head())"
   ]
  },
  {
   "cell_type": "markdown",
   "id": "8ed6d05f",
   "metadata": {},
   "source": [
    "## Sections\n",
    "1. EDA\n",
    "2. Preprocessing\n",
    "3. Model training\n",
    "4. Hyperparameter tuning\n",
    "5. Interpretation\n",
    "\n",
    "Full notebook with detailed code was previously created; this file is a fresh copy for download."
   ]
  }
 ],
 "metadata": {},
 "nbformat": 4,
 "nbformat_minor": 5
}
