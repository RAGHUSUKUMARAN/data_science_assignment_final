{
 "cells": [
  {
   "cell_type": "markdown",
   "id": "61a38f93",
   "metadata": {},
   "source": [
    "# Decision Tree Classification — Heart Disease Dataset\n",
    "\n",
    "**Note:** This notebook assumes the dataset is located at:\n",
    "\n",
    "`D:\\DATA-SCIENCE\\ASSIGNMENTS\\13 decision tree\\heart_disease.xlsx`\n",
    "\n",
    "If you run locally, the notebook will load from that path. If not found, it will try the sandbox `/mnt/data` fallback."
   ]
  },
  {
   "cell_type": "code",
   "execution_count": null,
   "id": "f00a6648",
   "metadata": {},
   "outputs": [],
   "source": [
    "# 1) Data loading\n",
    "import os, pandas as pd\n",
    "DATA_DIR = r\"D:\\DATA-SCIENCE\\ASSIGNMENTS\\13 decision tree\"\n",
    "excel_path = os.path.join(DATA_DIR, \"heart_disease.xlsx\")\n",
    "\n",
    "if os.path.exists(excel_path):\n",
    "    path = excel_path\n",
    "else:\n",
    "    path = \"/mnt/data/heart_disease.xlsx\"\n",
    "\n",
    "print(\"Loading dataset from:\", path)\n",
    "df = pd.read_excel(path)\n",
    "print(\"Shape:\", df.shape)\n",
    "display(df.head())"
   ]
  },
  {
   "cell_type": "markdown",
   "id": "5b7ec5cd",
   "metadata": {},
   "source": [
    "## 2) EDA\n",
    "Run the following cells to perform EDA, preprocessing, model training and saving. The notebook is configured to save outputs to the same folder when run locally."
   ]
  },
  {
   "cell_type": "code",
   "execution_count": null,
   "id": "f23f1c13",
   "metadata": {},
   "outputs": [],
   "source": [
    "# Placeholder: Basic EDA (run locally to see outputs)\n",
    "print(df.info())\n",
    "print('\\nMissing values:')\n",
    "display(df.isnull().sum())\n",
    "print('\\nNumeric describe:')\n",
    "display(df.describe())"
   ]
  },
  {
   "cell_type": "code",
   "execution_count": null,
   "id": "213925c7",
   "metadata": {},
   "outputs": [],
   "source": [
    "# Placeholder: Preprocessing & Model (run full notebook locally)\n",
    "# When you run the full notebook locally, it'll create processed CSVs and model joblib in the same folder.\n",
    "print(\"This is a lightweight notebook for download. Run the full version locally if you need the complete pipeline.\")"
   ]
  }
 ],
 "metadata": {},
 "nbformat": 4,
 "nbformat_minor": 5
}
