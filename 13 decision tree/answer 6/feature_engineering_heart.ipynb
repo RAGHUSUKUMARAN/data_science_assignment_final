{
 "cells": [
  {
   "cell_type": "code",
   "execution_count": null,
   "id": "2ed597f6",
   "metadata": {},
   "outputs": [],
   "source": [
    "# feature_engineering_heart.py\n",
    "import pandas as pd\n",
    "import numpy as np\n",
    "import os"
   ]
  },
  {
   "cell_type": "code",
   "execution_count": null,
   "id": "479f953f",
   "metadata": {},
   "outputs": [],
   "source": [
    "# === PATHS ===\n",
    "base_path = r\"D:\\DATA SCIENCE\\ASSIGNMENTS\\13 decision tree\\Decision Tree\"\n",
    "file_path = os.path.join(base_path, \"heart_disease.xlsx\")"
   ]
  },
  {
   "cell_type": "code",
   "execution_count": null,
   "id": "cf4c25c3",
   "metadata": {},
   "outputs": [],
   "source": [
    "# === LOAD DATA ===\n",
    "df = pd.read_excel(file_path, sheet_name=\"Heart_disease\")"
   ]
  },
  {
   "cell_type": "code",
   "execution_count": null,
   "id": "fae3cfc1",
   "metadata": {},
   "outputs": [],
   "source": [
    "# === HANDLE MISSING VALUES ===\n",
    "# Replace missing oldpeak values with median\n",
    "df['oldpeak'] = df['oldpeak'].fillna(df['oldpeak'].median())"
   ]
  },
  {
   "cell_type": "code",
   "execution_count": null,
   "id": "c0004bdb",
   "metadata": {},
   "outputs": [],
   "source": [
    "# === FIX ANOMALIES ===\n",
    "# Replace 0 in trestbps and chol with median (clinically impossible values)\n",
    "for col in ['trestbps', 'chol']:\n",
    "    df[col] = df[col].replace(0, np.nan)\n",
    "    df[col] = df[col].fillna(df[col].median())"
   ]
  },
  {
   "cell_type": "code",
   "execution_count": null,
   "id": "b9b73f16",
   "metadata": {},
   "outputs": [],
   "source": [
    "# === CONVERT CATEGORICALS ===\n",
    "# Sex → binary\n",
    "df['sex'] = df['sex'].map({'Male':1, 'Female':0})"
   ]
  },
  {
   "cell_type": "code",
   "execution_count": null,
   "id": "0c59c3d5",
   "metadata": {},
   "outputs": [],
   "source": [
    "# Boolean columns (fbs, exang) → integers\n",
    "for col in ['fbs','exang']:\n",
    "    if df[col].dtype == bool:\n",
    "        df[col] = df[col].astype(int)\n",
    "    elif df[col].dtype == object:   # handle weird cases like 'TURE', 'FALSE'\n",
    "        df[col] = df[col].map({'True':1, 'TURE':1, 'False':0, 'FALSE':0}).fillna(0).astype(int)"
   ]
  },
  {
   "cell_type": "code",
   "execution_count": null,
   "id": "eab648cb",
   "metadata": {},
   "outputs": [],
   "source": [
    "# Target → binary (disease present or not)\n",
    "df['target'] = df['num'].apply(lambda x: 1 if x > 0 else 0)"
   ]
  },
  {
   "cell_type": "code",
   "execution_count": null,
   "id": "59bf513a",
   "metadata": {},
   "outputs": [],
   "source": [
    "# One-hot encode categorical features\n",
    "categorical_cols = ['cp', 'restecg', 'slope', 'thal']\n",
    "df_processed = pd.get_dummies(df, columns=categorical_cols, drop_first=True)"
   ]
  },
  {
   "cell_type": "code",
   "execution_count": null,
   "id": "13d0faa0",
   "metadata": {},
   "outputs": [],
   "source": [
    "# Drop original \"num\"\n",
    "df_processed = df_processed.drop(columns=['num'])"
   ]
  },
  {
   "cell_type": "code",
   "execution_count": null,
   "id": "1b8fdbec",
   "metadata": {},
   "outputs": [],
   "source": [
    "# === SAVE PROCESSED DATASET ===\n",
    "processed_path = os.path.join(base_path, \"heart_processed.csv\")\n",
    "df_processed.to_csv(processed_path, index=False)"
   ]
  },
  {
   "cell_type": "code",
   "execution_count": null,
   "id": "12452793",
   "metadata": {},
   "outputs": [],
   "source": [
    "print(\"Feature Engineering completed.\")\n",
    "print(\"Processed dataset saved to:\", processed_path)\n",
    "print(\"Final shape:\", df_processed.shape)\n",
    "print(\"Columns:\", df_processed.columns.tolist()[:10], \"...\")  # preview"
   ]
  }
 ],
 "metadata": {
  "jupytext": {
   "cell_metadata_filter": "-all",
   "main_language": "python",
   "notebook_metadata_filter": "-all"
  }
 },
 "nbformat": 4,
 "nbformat_minor": 5
}
