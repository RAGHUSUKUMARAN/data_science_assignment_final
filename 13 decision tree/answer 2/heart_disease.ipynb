{
 "cells": [
  {
   "cell_type": "code",
   "execution_count": null,
   "id": "3a921160",
   "metadata": {},
   "outputs": [],
   "source": [
    "# decision_tree_assignment.py\n",
    "import pandas as pd\n",
    "import numpy as np\n",
    "import matplotlib.pyplot as plt\n",
    "import seaborn as sns\n",
    "import joblib\n",
    "import os"
   ]
  },
  {
   "cell_type": "code",
   "execution_count": null,
   "id": "d2331a88",
   "metadata": {},
   "outputs": [],
   "source": [
    "from sklearn.model_selection import train_test_split, GridSearchCV\n",
    "from sklearn.tree import DecisionTreeClassifier, plot_tree, export_text\n",
    "from sklearn.metrics import accuracy_score, precision_score, recall_score, f1_score, roc_auc_score, confusion_matrix, classification_report"
   ]
  },
  {
   "cell_type": "code",
   "execution_count": null,
   "id": "5772e462",
   "metadata": {},
   "outputs": [],
   "source": [
    "# === PATHS ===\n",
    "base_path = r\"D:\\DATA SCIENCE\\ASSIGNMENTS\\13 decision tree\\Decision Tree\"\n",
    "file_path = os.path.join(base_path, \"heart_disease.xlsx\")"
   ]
  },
  {
   "cell_type": "code",
   "execution_count": null,
   "id": "0a516906",
   "metadata": {},
   "outputs": [],
   "source": [
    "# === LOAD DATA ===\n",
    "df = pd.read_excel(file_path, sheet_name=\"Heart_disease\")"
   ]
  },
  {
   "cell_type": "code",
   "execution_count": null,
   "id": "79d35552",
   "metadata": {},
   "outputs": [],
   "source": [
    "# === CLEANING ===\n",
    "# Convert boolean to int\n",
    "for col in ['fbs', 'exang']:\n",
    "    if df[col].dtype == bool:\n",
    "        df[col] = df[col].astype(int)\n",
    "    elif df[col].dtype == object:\n",
    "        df[col] = df[col].map({'True':1, 'TURE':1, 'FALSE':0, 'False':0})  # fix odd strings"
   ]
  },
  {
   "cell_type": "code",
   "execution_count": null,
   "id": "21fbd498",
   "metadata": {},
   "outputs": [],
   "source": [
    "# Sex mapping\n",
    "df['sex'] = df['sex'].map({'Male':1, 'Female':0})"
   ]
  },
  {
   "cell_type": "code",
   "execution_count": null,
   "id": "648274ed",
   "metadata": {},
   "outputs": [],
   "source": [
    "# Target binary (num>0 → 1)\n",
    "df['target'] = df['num'].apply(lambda x: 1 if x > 0 else 0)"
   ]
  },
  {
   "cell_type": "code",
   "execution_count": null,
   "id": "0f0a2ee6",
   "metadata": {},
   "outputs": [],
   "source": [
    "# One-hot encode categorical vars\n",
    "ohe_cols = ['cp','restecg','slope','thal']\n",
    "df_processed = pd.get_dummies(df, columns=ohe_cols, drop_first=True)"
   ]
  },
  {
   "cell_type": "code",
   "execution_count": null,
   "id": "9d7e194d",
   "metadata": {},
   "outputs": [],
   "source": [
    "# Drop original num column\n",
    "df_processed = df_processed.drop(columns=['num'])"
   ]
  },
  {
   "cell_type": "code",
   "execution_count": null,
   "id": "9cb0f163",
   "metadata": {},
   "outputs": [],
   "source": [
    "# === TRAIN/TEST SPLIT ===\n",
    "X = df_processed.drop(columns=['target'])\n",
    "y = df_processed['target']"
   ]
  },
  {
   "cell_type": "code",
   "execution_count": null,
   "id": "152b46bc",
   "metadata": {},
   "outputs": [],
   "source": [
    "X_train, X_test, y_train, y_test = train_test_split(\n",
    "    X, y, test_size=0.2, stratify=y, random_state=42\n",
    ")"
   ]
  },
  {
   "cell_type": "code",
   "execution_count": null,
   "id": "224229cd",
   "metadata": {},
   "outputs": [],
   "source": [
    "# === BASELINE MODEL ===\n",
    "clf = DecisionTreeClassifier(random_state=42)\n",
    "clf.fit(X_train, y_train)"
   ]
  },
  {
   "cell_type": "code",
   "execution_count": null,
   "id": "601718e3",
   "metadata": {},
   "outputs": [],
   "source": [
    "y_pred = clf.predict(X_test)\n",
    "y_proba = clf.predict_proba(X_test)[:,1]"
   ]
  },
  {
   "cell_type": "code",
   "execution_count": null,
   "id": "bef00d32",
   "metadata": {},
   "outputs": [],
   "source": [
    "# === EVALUATION ===\n",
    "metrics = {\n",
    "    \"Accuracy\": accuracy_score(y_test, y_pred),\n",
    "    \"Precision\": precision_score(y_test, y_pred),\n",
    "    \"Recall\": recall_score(y_test, y_pred),\n",
    "    \"F1-score\": f1_score(y_test, y_pred),\n",
    "    \"ROC-AUC\": roc_auc_score(y_test, y_proba)\n",
    "}"
   ]
  },
  {
   "cell_type": "code",
   "execution_count": null,
   "id": "c6960d74",
   "metadata": {},
   "outputs": [],
   "source": [
    "# Confusion Matrix\n",
    "cm = confusion_matrix(y_test, y_pred)"
   ]
  },
  {
   "cell_type": "code",
   "execution_count": null,
   "id": "29b877e5",
   "metadata": {},
   "outputs": [],
   "source": [
    "# === SAVE RESULTS ===\n",
    "# Processed dataset\n",
    "processed_path = os.path.join(base_path, \"heart_processed.csv\")\n",
    "df_processed.to_csv(processed_path, index=False)"
   ]
  },
  {
   "cell_type": "code",
   "execution_count": null,
   "id": "77c0283e",
   "metadata": {},
   "outputs": [],
   "source": [
    "# Model\n",
    "model_path = os.path.join(base_path, \"decision_tree_model.pkl\")\n",
    "joblib.dump(clf, model_path)"
   ]
  },
  {
   "cell_type": "code",
   "execution_count": null,
   "id": "83b02b86",
   "metadata": {},
   "outputs": [],
   "source": [
    "# Metrics report\n",
    "report_path = os.path.join(base_path, \"decision_tree_report.txt\")\n",
    "with open(report_path, \"w\") as f:\n",
    "    f.write(\"=== Decision Tree Evaluation ===\\n\")\n",
    "    for k,v in metrics.items():\n",
    "        f.write(f\"{k}: {v:.4f}\\n\")\n",
    "    f.write(\"\\nClassification Report:\\n\")\n",
    "    f.write(classification_report(y_test, y_pred))"
   ]
  },
  {
   "cell_type": "code",
   "execution_count": null,
   "id": "cbd647b1",
   "metadata": {},
   "outputs": [],
   "source": [
    "# Confusion matrix plot\n",
    "plt.figure(figsize=(5,4))\n",
    "sns.heatmap(cm, annot=True, fmt='d', cmap='Blues')\n",
    "plt.xlabel(\"Predicted\")\n",
    "plt.ylabel(\"Actual\")\n",
    "plt.title(\"Confusion Matrix\")\n",
    "cm_path = os.path.join(base_path, \"confusion_matrix.png\")\n",
    "plt.savefig(cm_path)\n",
    "plt.close()"
   ]
  },
  {
   "cell_type": "code",
   "execution_count": null,
   "id": "f034dadf",
   "metadata": {},
   "outputs": [],
   "source": [
    "# Decision Tree visualization\n",
    "plt.figure(figsize=(20,10))\n",
    "plot_tree(clf, feature_names=X.columns, class_names=[\"No Disease\",\"Disease\"],\n",
    "          filled=True, rounded=True, fontsize=8)\n",
    "tree_path = os.path.join(base_path, \"decision_tree.png\")\n",
    "plt.savefig(tree_path)\n",
    "plt.close()"
   ]
  },
  {
   "cell_type": "code",
   "execution_count": null,
   "id": "026ad754",
   "metadata": {},
   "outputs": [],
   "source": [
    "print(\"All done! Files saved in:\", base_path)\n",
    "print(\"Processed CSV:\", processed_path)\n",
    "print(\"Model:\", model_path)\n",
    "print(\"Report:\", report_path)\n",
    "print(\"Plots:\", cm_path, \"and\", tree_path)"
   ]
  }
 ],
 "metadata": {
  "jupytext": {
   "cell_metadata_filter": "-all",
   "main_language": "python",
   "notebook_metadata_filter": "-all"
  }
 },
 "nbformat": 4,
 "nbformat_minor": 5
}
