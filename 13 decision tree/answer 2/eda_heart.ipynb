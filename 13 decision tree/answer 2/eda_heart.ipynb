{
 "cells": [
  {
   "cell_type": "code",
   "execution_count": null,
   "id": "4e174efe",
   "metadata": {},
   "outputs": [],
   "source": [
    "# eda_heart_disease.py\n",
    "import pandas as pd\n",
    "import matplotlib.pyplot as plt\n",
    "import seaborn as sns\n",
    "import os"
   ]
  },
  {
   "cell_type": "code",
   "execution_count": null,
   "id": "099da487",
   "metadata": {},
   "outputs": [],
   "source": [
    "# === PATHS ===\n",
    "base_path = r\"D:\\DATA SCIENCE\\ASSIGNMENTS\\13 decision tree\\Decision Tree\"\n",
    "file_path = os.path.join(base_path, \"heart_disease.xlsx\")"
   ]
  },
  {
   "cell_type": "code",
   "execution_count": null,
   "id": "ab58aaf0",
   "metadata": {},
   "outputs": [],
   "source": [
    "# === LOAD DATA ===\n",
    "df = pd.read_excel(file_path, sheet_name=\"Heart_disease\")"
   ]
  },
  {
   "cell_type": "code",
   "execution_count": null,
   "id": "121c2e4e",
   "metadata": {},
   "outputs": [],
   "source": [
    "# === BASIC INFO ===\n",
    "print(\"Shape:\", df.shape)\n",
    "print(\"\\n--- Info ---\")\n",
    "print(df.info())\n",
    "print(\"\\nMissing values per column:\\n\", df.isnull().sum())\n",
    "print(\"\\nDuplicate rows:\", df.duplicated().sum())\n",
    "print(\"\\nDescriptive statistics:\\n\", df.describe().T)"
   ]
  },
  {
   "cell_type": "code",
   "execution_count": null,
   "id": "6be3c32c",
   "metadata": {},
   "outputs": [],
   "source": [
    "# === TARGET DISTRIBUTION ===\n",
    "print(\"\\nTarget distribution:\\n\", df['num'].value_counts())"
   ]
  },
  {
   "cell_type": "code",
   "execution_count": null,
   "id": "6648185d",
   "metadata": {},
   "outputs": [],
   "source": [
    "# === HISTOGRAMS ===\n",
    "numeric_cols = ['age','trestbps','chol','thalch','oldpeak']\n",
    "df[numeric_cols].hist(bins=20, figsize=(12,8))\n",
    "plt.suptitle(\"Histograms of Numeric Features\")\n",
    "plt.savefig(os.path.join(base_path, \"histograms.png\"))\n",
    "plt.close()"
   ]
  },
  {
   "cell_type": "code",
   "execution_count": null,
   "id": "105377fc",
   "metadata": {},
   "outputs": [],
   "source": [
    "# === BOXPLOTS ===\n",
    "plt.figure(figsize=(12,8))\n",
    "for i, col in enumerate(numeric_cols, 1):\n",
    "    plt.subplot(2,3,i)\n",
    "    sns.boxplot(y=df[col])\n",
    "    plt.title(f\"Boxplot of {col}\")\n",
    "plt.tight_layout()\n",
    "plt.savefig(os.path.join(base_path, \"boxplots.png\"))\n",
    "plt.close()"
   ]
  },
  {
   "cell_type": "code",
   "execution_count": null,
   "id": "1374958e",
   "metadata": {},
   "outputs": [],
   "source": [
    "# === CORRELATION MATRIX ===\n",
    "corr = df[numeric_cols + ['num']].corr()\n",
    "plt.figure(figsize=(8,6))\n",
    "sns.heatmap(corr, annot=True, cmap='coolwarm', center=0)\n",
    "plt.title(\"Correlation Matrix\")\n",
    "plt.savefig(os.path.join(base_path, \"correlation_matrix.png\"))\n",
    "plt.close()"
   ]
  },
  {
   "cell_type": "code",
   "execution_count": null,
   "id": "9df73c6f",
   "metadata": {},
   "outputs": [],
   "source": [
    "print(\"\\nEDA completed. Plots saved in:\", base_path)\n",
    "print(\"- histograms.png\")\n",
    "print(\"- boxplots.png\")\n",
    "print(\"- correlation_matrix.png\")"
   ]
  }
 ],
 "metadata": {
  "jupytext": {
   "cell_metadata_filter": "-all",
   "main_language": "python",
   "notebook_metadata_filter": "-all"
  }
 },
 "nbformat": 4,
 "nbformat_minor": 5
}
