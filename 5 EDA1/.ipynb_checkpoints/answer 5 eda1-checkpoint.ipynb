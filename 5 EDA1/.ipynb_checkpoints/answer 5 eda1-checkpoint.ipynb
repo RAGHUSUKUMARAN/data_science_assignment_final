{
 "cells": [
  {
   "cell_type": "markdown",
   "id": "4e0ac6cc",
   "metadata": {},
   "source": [
    "EDA1: Cardiotocographic Dataset\n",
    "Author: Maddy\n",
    "Directory: D:\\DATA SCIENCE\\ASSIGNMENTS\\5 EDA1\\EDA1\\files"
   ]
  },
  {
   "cell_type": "code",
   "execution_count": null,
   "id": "89357dc0",
   "metadata": {},
   "outputs": [],
   "source": [
    "import os\n",
    "import numpy as np\n",
    "import pandas as pd\n",
    "import matplotlib.pyplot as plt\n",
    "import seaborn as sns\n",
    "from scipy import stats\n",
    "from sklearn.preprocessing import StandardScaler\n",
    "from sklearn.decomposition import PCA"
   ]
  },
  {
   "cell_type": "code",
   "execution_count": null,
   "id": "fea47492",
   "metadata": {},
   "outputs": [],
   "source": [
    "# ---------- 1) Path setup ----------\n",
    "base_path = r\"D:\\DATA SCIENCE\\ASSIGNMENTS\\5 EDA1\\EDA1\\files\""
   ]
  },
  {
   "cell_type": "code",
   "execution_count": null,
   "id": "17e702e0",
   "metadata": {},
   "outputs": [],
   "source": [
    "# Try to find your data file in that folder\n",
    "candidates = [\n",
    "    \"Cardiotocographic.csv\",\n",
    "    \"Cardiotocographic_cleaned.csv\",\n",
    "    \"cardiotocographic.csv\"\n",
    "]"
   ]
  },
  {
   "cell_type": "code",
   "execution_count": null,
   "id": "264900e8",
   "metadata": {},
   "outputs": [],
   "source": [
    "for filename in candidates:\n",
    "    full_path = os.path.join(base_path, filename)\n",
    "    if os.path.exists(full_path):\n",
    "        df = pd.read_csv(full_path)\n",
    "        print(f\"Loaded dataset: {filename}\")\n",
    "        break\n",
    "else:\n",
    "    raise FileNotFoundError(\"No CSV file found in the folder. Please check the filename.\")"
   ]
  },
  {
   "cell_type": "code",
   "execution_count": null,
   "id": "cb98adb0",
   "metadata": {},
   "outputs": [],
   "source": [
    "# ---------- 2) Basic overview ----------\n",
    "print(\"\\n--- Dataset Overview ---\")\n",
    "print(f\"Shape: {df.shape}\")\n",
    "print(\"\\nColumns:\", list(df.columns))\n",
    "print(\"\\nData types:\\n\", df.dtypes)\n",
    "print(\"\\nMissing values:\\n\", df.isna().sum())"
   ]
  },
  {
   "cell_type": "code",
   "execution_count": null,
   "id": "e0987324",
   "metadata": {},
   "outputs": [],
   "source": [
    "# ---------- 3) Cleaning ----------\n",
    "df.columns = df.columns.str.strip()\n",
    "df = df.drop_duplicates()"
   ]
  },
  {
   "cell_type": "code",
   "execution_count": null,
   "id": "ec32c4d6",
   "metadata": {},
   "outputs": [],
   "source": [
    "numeric_cols = df.select_dtypes(include=[np.number]).columns.tolist()"
   ]
  },
  {
   "cell_type": "code",
   "execution_count": null,
   "id": "988aa945",
   "metadata": {},
   "outputs": [],
   "source": [
    "# Fill missing numeric columns with median\n",
    "for col in numeric_cols:\n",
    "    if df[col].isna().sum() > 0:\n",
    "        df[col].fillna(df[col].median(), inplace=True)\n",
    "        print(f\"Filled missing values in {col} with median.\")"
   ]
  },
  {
   "cell_type": "code",
   "execution_count": null,
   "id": "cf745d5b",
   "metadata": {},
   "outputs": [],
   "source": [
    "# ---------- 4) Summary statistics ----------\n",
    "print(\"\\n--- Descriptive Statistics ---\")\n",
    "print(df.describe().T)"
   ]
  },
  {
   "cell_type": "code",
   "execution_count": null,
   "id": "0e1dadfe",
   "metadata": {},
   "outputs": [],
   "source": [
    "# ---------- 5) Distribution plots ----------\n",
    "sns.set(style=\"whitegrid\")\n",
    "plt.figure(figsize=(15, 10))\n",
    "df[numeric_cols].hist(bins=25, figsize=(15, 10))\n",
    "plt.suptitle(\"Feature Distributions\", fontsize=16)\n",
    "plt.tight_layout()\n",
    "plt.show()"
   ]
  },
  {
   "cell_type": "code",
   "execution_count": null,
   "id": "0f8e1984",
   "metadata": {
    "lines_to_next_cell": 1
   },
   "outputs": [],
   "source": [
    "# ---------- 6) Correlation analysis ----------\n",
    "plt.figure(figsize=(12, 8))\n",
    "sns.heatmap(df[numeric_cols].corr(), cmap=\"coolwarm\", annot=True, fmt=\".2f\")\n",
    "plt.title(\"Correlation Heatmap\", fontsize=14)\n",
    "plt.show()"
   ]
  },
  {
   "cell_type": "code",
   "execution_count": null,
   "id": "90461a8c",
   "metadata": {
    "lines_to_next_cell": 1
   },
   "outputs": [],
   "source": [
    "# ---------- 7) Outlier detection using IQR ----------\n",
    "def iqr_outliers(data, column):\n",
    "    Q1 = data[column].quantile(0.25)\n",
    "    Q3 = data[column].quantile(0.75)\n",
    "    IQR = Q3 - Q1\n",
    "    lower, upper = Q1 - 1.5 * IQR, Q3 + 1.5 * IQR\n",
    "    return ((data[column] < lower) | (data[column] > upper)).sum()"
   ]
  },
  {
   "cell_type": "code",
   "execution_count": null,
   "id": "39b56d08",
   "metadata": {},
   "outputs": [],
   "source": [
    "print(\"\\n--- Outlier Counts (per numeric column) ---\")\n",
    "for col in numeric_cols:\n",
    "    outliers = iqr_outliers(df, col)\n",
    "    print(f\"{col}: {outliers} outliers\")"
   ]
  },
  {
   "cell_type": "code",
   "execution_count": null,
   "id": "3cf95f02",
   "metadata": {},
   "outputs": [],
   "source": [
    "# ---------- 8) PCA for dimensionality inspection ----------\n",
    "scaler = StandardScaler()\n",
    "scaled_data = scaler.fit_transform(df[numeric_cols])"
   ]
  },
  {
   "cell_type": "code",
   "execution_count": null,
   "id": "f8f48913",
   "metadata": {},
   "outputs": [],
   "source": [
    "pca = PCA(n_components=2)\n",
    "pcs = pca.fit_transform(scaled_data)\n",
    "print(\"\\nExplained variance ratio:\", pca.explained_variance_ratio_)"
   ]
  },
  {
   "cell_type": "code",
   "execution_count": null,
   "id": "1e7a8ae5",
   "metadata": {},
   "outputs": [],
   "source": [
    "plt.figure(figsize=(8,6))\n",
    "plt.scatter(pcs[:,0], pcs[:,1], alpha=0.7, c='blue')\n",
    "plt.xlabel(\"Principal Component 1\")\n",
    "plt.ylabel(\"Principal Component 2\")\n",
    "plt.title(\"PCA - Data Distribution\")\n",
    "plt.show()"
   ]
  },
  {
   "cell_type": "code",
   "execution_count": null,
   "id": "d5f50600",
   "metadata": {},
   "outputs": [],
   "source": [
    "# ---------- 9) Save cleaned dataset ----------\n",
    "cleaned_path = os.path.join(base_path, \"Cardiotocographic_cleaned_final.csv\")\n",
    "df.to_csv(cleaned_path, index=False)\n",
    "print(f\"\\nCleaned dataset saved to: {cleaned_path}\")"
   ]
  },
  {
   "cell_type": "code",
   "execution_count": null,
   "id": "c09d3302",
   "metadata": {},
   "outputs": [],
   "source": [
    "print(\"\\n--- EDA1 COMPLETED SUCCESSFULLY ---\")"
   ]
  }
 ],
 "metadata": {
  "jupytext": {
   "cell_metadata_filter": "-all",
   "main_language": "python",
   "notebook_metadata_filter": "-all"
  }
 },
 "nbformat": 4,
 "nbformat_minor": 5
}
