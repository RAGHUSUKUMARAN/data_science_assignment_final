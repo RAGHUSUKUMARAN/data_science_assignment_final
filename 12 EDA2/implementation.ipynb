{
 "cells": [
  {
   "cell_type": "code",
   "execution_count": null,
   "id": "6205d972",
   "metadata": {},
   "outputs": [],
   "source": [
    "import pandas as pd\n",
    "from sklearn.preprocessing import LabelEncoder"
   ]
  },
  {
   "cell_type": "code",
   "execution_count": null,
   "id": "d9591e16",
   "metadata": {},
   "outputs": [],
   "source": [
    "# Load dataset\n",
    "file_path = r\"D:\\DATA SCIENCE\\ASSIGNMENTS\\12 EDA2\\EDA2\\adult_with_headers.csv\"\n",
    "adult_df = pd.read_csv(file_path)"
   ]
  },
  {
   "cell_type": "code",
   "execution_count": null,
   "id": "460f7811",
   "metadata": {},
   "outputs": [],
   "source": [
    "# Replace '?' with NaN for consistency\n",
    "adult_df = adult_df.replace(\"?\", None)"
   ]
  },
  {
   "cell_type": "code",
   "execution_count": null,
   "id": "4ef9b5da",
   "metadata": {},
   "outputs": [],
   "source": [
    "# One-Hot Encoding for features with < 5 categories\n",
    "adult_df = pd.get_dummies(adult_df, columns=[\"sex\", \"race\"], drop_first=True)"
   ]
  },
  {
   "cell_type": "code",
   "execution_count": null,
   "id": "160ad24f",
   "metadata": {},
   "outputs": [],
   "source": [
    "# Label Encoding for features with > 5 categories\n",
    "label_enc = LabelEncoder()\n",
    "for col in [\"workclass\", \"education\", \"marital_status\", \"occupation\", \"relationship\", \"native_country\"]:\n",
    "    adult_df[col] = label_enc.fit_transform(adult_df[col].astype(str))"
   ]
  },
  {
   "cell_type": "code",
   "execution_count": null,
   "id": "a5eff023",
   "metadata": {},
   "outputs": [],
   "source": [
    "# Encode target (income: <=50K=0, >50K=1)\n",
    "adult_df[\"income\"] = adult_df[\"income\"].map({\"<=50K\": 0, \">50K\": 1})"
   ]
  },
  {
   "cell_type": "code",
   "execution_count": null,
   "id": "c5a90626",
   "metadata": {},
   "outputs": [],
   "source": [
    "# Save encoded dataset\n",
    "out_path = r\"D:\\DATA SCIENCE\\ASSIGNMENTS\\12 EDA2\\EDA2\\adult_encoded.csv\"\n",
    "adult_df.to_csv(out_path, index=False)"
   ]
  },
  {
   "cell_type": "code",
   "execution_count": null,
   "id": "ee6f390c",
   "metadata": {},
   "outputs": [],
   "source": [
    "print(\"✅ Encoding complete. Encoded dataset saved to:\", out_path)"
   ]
  }
 ],
 "metadata": {
  "jupytext": {
   "cell_metadata_filter": "-all",
   "main_language": "python",
   "notebook_metadata_filter": "-all"
  }
 },
 "nbformat": 4,
 "nbformat_minor": 5
}
