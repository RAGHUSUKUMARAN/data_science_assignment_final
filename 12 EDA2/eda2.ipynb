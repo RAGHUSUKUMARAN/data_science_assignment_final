{
 "cells": [
  {
   "cell_type": "code",
   "execution_count": null,
   "id": "d7d5a17c",
   "metadata": {},
   "outputs": [],
   "source": [
    "import pandas as pd"
   ]
  },
  {
   "cell_type": "code",
   "execution_count": null,
   "id": "2aa2acc5",
   "metadata": {},
   "outputs": [],
   "source": [
    "# Load dataset\n",
    "file_path = r\"D:\\DATA SCIENCE\\ASSIGNMENTS\\12 EDA2\\EDA2\\adult_with_headers.csv\"\n",
    "adult_df = pd.read_csv(file_path)"
   ]
  },
  {
   "cell_type": "code",
   "execution_count": null,
   "id": "0d33dbc0",
   "metadata": {},
   "outputs": [],
   "source": [
    "# Collect exploration results\n",
    "output_lines = []\n",
    "output_lines.append(f\"Dataset shape: {adult_df.shape}\\n\")\n",
    "output_lines.append(\"\\nData types:\\n\")\n",
    "output_lines.append(str(adult_df.dtypes))\n",
    "output_lines.append(\"\\n\\nFirst 5 rows:\\n\")\n",
    "output_lines.append(str(adult_df.head()))\n",
    "output_lines.append(\"\\n\\nMissing values:\\n\")\n",
    "output_lines.append(str(adult_df.isnull().sum()))"
   ]
  },
  {
   "cell_type": "code",
   "execution_count": null,
   "id": "04d38e9a",
   "metadata": {},
   "outputs": [],
   "source": [
    "# Check '?' as missing placeholders\n",
    "output_lines.append(\"\\n\\nUnique values in workclass:\\n\")\n",
    "output_lines.append(str(adult_df['workclass'].unique()))\n",
    "output_lines.append(\"\\nUnique values in occupation:\\n\")\n",
    "output_lines.append(str(adult_df['occupation'].unique()))\n",
    "output_lines.append(\"\\nUnique values in native_country:\\n\")\n",
    "output_lines.append(str(adult_df['native_country'].unique()))"
   ]
  },
  {
   "cell_type": "code",
   "execution_count": null,
   "id": "31f756f7",
   "metadata": {},
   "outputs": [],
   "source": [
    "# Save results to text file in same folder\n",
    "out_path = r\"D:\\DATA SCIENCE\\ASSIGNMENTS\\12 EDA2\\EDA2\\eda_summary.txt\"\n",
    "with open(out_path, \"w\", encoding=\"utf-8\") as f:\n",
    "    for line in output_lines:\n",
    "        f.write(line + \"\\n\")"
   ]
  },
  {
   "cell_type": "code",
   "execution_count": null,
   "id": "df9b35a6",
   "metadata": {},
   "outputs": [],
   "source": [
    "print(\"✅ Exploration summary saved to:\", out_path)"
   ]
  }
 ],
 "metadata": {
  "jupytext": {
   "cell_metadata_filter": "-all",
   "main_language": "python",
   "notebook_metadata_filter": "-all"
  }
 },
 "nbformat": 4,
 "nbformat_minor": 5
}
